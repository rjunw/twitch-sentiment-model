{
  "cells": [
    {
      "cell_type": "markdown",
      "metadata": {
        "id": "00GDvCJucnpv"
      },
      "source": [
        "# Install HuggingFace Transformers package with the pretrained BERT models\n",
        "\n"
      ]
    },
    {
      "cell_type": "code",
      "execution_count": null,
      "metadata": {
        "colab": {
          "base_uri": "https://localhost:8080/"
        },
        "id": "7AIe26NRcuYZ",
        "outputId": "ad7c6814-7f0e-408e-abaa-92b372e3b413"
      },
      "outputs": [],
      "source": [
        "!pip install --upgrade transformers emoji datasets gensim\n",
        "!pip install wget"
      ]
    },
    {
      "cell_type": "markdown",
      "metadata": {
        "id": "Ntdi6Jep44G2"
      },
      "source": [
        "# Import necessary packages"
      ]
    },
    {
      "cell_type": "code",
      "execution_count": null,
      "metadata": {
        "id": "D3rE2WMH5-oB"
      },
      "outputs": [],
      "source": [
        "import sys\n",
        "import os\n",
        "import pandas as pd\n",
        "import numpy as np\n",
        "import random\n",
        "import torch \n",
        "import torch.nn as nn\n",
        "from transformers import AutoTokenizer, BertModel"
      ]
    },
    {
      "cell_type": "markdown",
      "metadata": {
        "id": "4PFUHtDp6FMu"
      },
      "source": [
        "# Runtime environment setup"
      ]
    },
    {
      "cell_type": "code",
      "execution_count": null,
      "metadata": {
        "colab": {
          "base_uri": "https://localhost:8080/"
        },
        "id": "bkGc79g2c3DL",
        "outputId": "f6e52aa0-7bc1-4aa8-efd5-9f6db8a6f6c0"
      },
      "outputs": [
        {
          "name": "stdout",
          "output_type": "stream",
          "text": [
            "cuda\n"
          ]
        }
      ],
      "source": [
        "SEED = 42\n",
        "\n",
        "torch.manual_seed(SEED)\n",
        "torch.cuda.manual_seed_all(SEED)\n",
        "torch.backends.cudnn.deterministic = True\n",
        "torch.backends.cudnn.benchmark = False\n",
        "np.random.seed(SEED)\n",
        "random.seed(SEED)\n",
        "os.environ['PYTHONHASHSEED'] = str(SEED)\n",
        "\n",
        "device = torch.device(\"cuda\" if torch.cuda.is_available() else \"cpu\")\n",
        "print(device)"
      ]
    },
    {
      "cell_type": "markdown",
      "metadata": {
        "id": "McMxFa1MQi_Y"
      },
      "source": [
        "# Utility functions"
      ]
    },
    {
      "cell_type": "markdown",
      "metadata": {
        "id": "uowKTzkr6pkj"
      },
      "source": [
        "# Loading Twitch dataset"
      ]
    },
    {
      "cell_type": "code",
      "execution_count": null,
      "metadata": {
        "id": "dlO6Ywyf28l1"
      },
      "outputs": [],
      "source": [
        "from sklearn.model_selection import train_test_split\n",
        "import torch\n",
        "from torch.utils.data import TensorDataset, DataLoader, RandomSampler, SequentialSampler\n",
        "from gensim.models import Word2Vec\n",
        "\n",
        "def augment_split_ud(df, labeled_emotes, labels, bert_tokenizer, ud_embed, batch_size = 32):\n",
        "    \"\"\"\n",
        "    input_data is a pd.DataFrame\n",
        "    labeled_emotes is a pd.DataFrame\n",
        "    \"\"\"\n",
        "    train_df, validation_df = train_test_split(df, test_size = 0.2, stratify = labels)\n",
        "\n",
        "    # Augment training set\n",
        "    has_emote = has_emote_idx(train_df, labeled_emotes)\n",
        "    has_emote_msgs = train_df.loc[has_emote, ['sentiment', 'message']]\n",
        "    no_emote_msgs = train_df.loc[~has_emote, ['sentiment_relevel', 'message']]\n",
        "    \n",
        "\n",
        "    emote_aug_data = replace_emotes(has_emote_msgs, labeled_emotes)\n",
        "    emote_aug_data[\"sentiment_relevel\"] = (emote_aug_data['sentiment'] + 1).astype('category')\n",
        "    print(emote_aug_data[['sentiment_relevel', 'message']])\n",
        "\n",
        "    train_df = pd.concat([no_emote_msgs, emote_aug_data[['sentiment_relevel', 'message']]], ignore_index = True)\n",
        "    validation_df = validation_df[['sentiment_relevel', 'message']]\n",
        "\n",
        "    train_df['message_uncased'] = train_df.message.str.lower()\n",
        "    validation_df['message_uncased'] = validation_df.message.str.lower()\n",
        "    train_ud = torch.Tensor(\n",
        "        [ud_embed.get_sentence_vector(i) for i in train_df.message_uncased.tolist()]\n",
        "    )\n",
        "    validation_ud = torch.Tensor(\n",
        "        [ud_embed.get_sentence_vector(i) for i in validation_df.message_uncased.tolist()]\n",
        "    )\n",
        "\n",
        "\n",
        "    # W2V\n",
        "    #messages = [message.split(' ') for message in pd.concat([train_df, validation_df]).message]\n",
        "    #w2v_model = Word2Vec(sentences = messages, min_count = 1, vector_size = 768, workers = 4, window = 5, sg = 1, seed = SEED) # train further when adding new prediction data\n",
        "    #w2v_model.build_vocab(messages, update = True)\n",
        "    #w2v_model.save(\"w2v_labeled.model\")\n",
        "    #w2v_model = Word2Vec.load(\"w2v_labeled.model\")\n",
        "    #train_w2v = torch.Tensor([w2v_model.wv[message.split(' ')].sum(axis = 0) for message in train_df.message])\n",
        "    #validation_w2v = torch.Tensor([w2v_model.wv[message.split(' ')].sum(axis = 0) for message in validation_df.message])\n",
        "\n",
        "    # set up DataLoader\n",
        "    train_labels = torch.tensor(train_df.sentiment_relevel.values)\n",
        "    validation_labels = torch.tensor(validation_df.sentiment_relevel.values)\n",
        "\n",
        "    # tokenizer\n",
        "    MAX_LEN = max([len(bert_tokenizer(datapoint)['input_ids']) for datapoint in (pd.concat([train_df, validation_df]).message.values)])\n",
        "    ## TRAIN\n",
        "    train_messages = train_df.message.values\n",
        "    train_tokenized_inputs = bert_tokenizer(\n",
        "        train_messages.tolist(),          # Input text\n",
        "        add_special_tokens=True,  # add '[CLS]' and '[SEP]'\n",
        "        padding='max_length',     # pad to a length specified by the max_length\n",
        "        max_length=MAX_LEN,       # truncate all sentences longer than max_length\n",
        "        return_tensors='pt',      # return everything we need as PyTorch tensors\n",
        "    )\n",
        "    train_inputs = train_tokenized_inputs['input_ids']\n",
        "    train_masks = train_tokenized_inputs['attention_mask']\n",
        "    ## VALIDATION\n",
        "    validation_messages = validation_df.message.values\n",
        "    validation_tokenized_inputs = bert_tokenizer(\n",
        "        validation_messages.tolist(),          # Input text\n",
        "        add_special_tokens=True,  # add '[CLS]' and '[SEP]'\n",
        "        padding='max_length',     # pad to a length specified by the max_length\n",
        "        max_length=MAX_LEN,       # truncate all sentences longer than max_length\n",
        "        return_tensors='pt',      # return everything we need as PyTorch tensors\n",
        "    )\n",
        "    validation_inputs = validation_tokenized_inputs['input_ids']\n",
        "    validation_masks = validation_tokenized_inputs['attention_mask']\n",
        "\n",
        "    # Create the DataLoader for our training set.\n",
        "    train_data = TensorDataset(train_inputs, train_ud, train_masks, train_labels)\n",
        "    train_dataloader = DataLoader(train_data, shuffle=True, batch_size=batch_size)\n",
        "\n",
        "    # Create the DataLoader for our validation set.\n",
        "    validation_data = TensorDataset(validation_inputs, validation_ud, validation_masks, validation_labels)\n",
        "    validation_dataloader = DataLoader(validation_data, shuffle=False, batch_size=batch_size)\n",
        "\n",
        "    return train_dataloader, validation_dataloader\n",
        "\n",
        "\n",
        "def train_valid_split_w2v(input_ids, input_w2v, attention_masks, labels, batch_size=32):\n",
        "    \"\"\"\n",
        "    Create DataLoader objects for downstream training\n",
        "    \"\"\"\n",
        "    # Use 80% for training and 20% for validation.\n",
        "    train_inputs, validation_inputs, train_w2v, validation_w2v, train_masks, validation_masks, train_labels, validation_labels = train_test_split(\n",
        "        input_ids, input_w2v, attention_masks, labels, random_state=SEED, test_size=0.2, stratify=labels\n",
        "    )\n",
        "\n",
        "    print('example train_input:    ', train_inputs[0])\n",
        "    print('example attention_mask: ', train_masks[0])\n",
        "\n",
        "    train_labels = torch.tensor(train_labels)\n",
        "    validation_labels = torch.tensor(validation_labels)\n",
        "\n",
        "    # Create the DataLoader for our training set.\n",
        "    train_data = TensorDataset(train_inputs, train_w2v, train_masks, train_labels)\n",
        "\n",
        "    train_dataloader = DataLoader(train_data, shuffle=True, batch_size=batch_size)\n",
        "\n",
        "    # Create the DataLoader for our validation set.\n",
        "    validation_data = TensorDataset(validation_inputs, validation_w2v, validation_masks, validation_labels)\n",
        "    validation_dataloader = DataLoader(validation_data, shuffle = False, batch_size=batch_size)\n",
        "\n",
        "    return train_dataloader, validation_dataloader\n",
        "\n",
        "\n",
        "def train_valid_split_w2v_mlp(input_w2v, labels, batch_size=64):\n",
        "    \"\"\"\n",
        "    Create DataLoader objects for MLP baseline\n",
        "    \"\"\"\n",
        "    # Use 80% for training and 20% for validation.\n",
        "    train_w2v, validation_w2v, train_labels, validation_labels = train_test_split(\n",
        "        input_w2v, labels, random_state=SEED, test_size=0.2, stratify=labels\n",
        "    )\n",
        "\n",
        "    print('example train w2v input:    ', train_w2v[0])\n",
        "    print('example label: ', train_labels[0])\n",
        "\n",
        "    train_labels = torch.tensor(train_labels)\n",
        "    validation_labels = torch.tensor(validation_labels)\n",
        "\n",
        "    # Create the DataLoader for our training set.\n",
        "    train_data = TensorDataset(train_w2v, train_labels)\n",
        "\n",
        "    train_dataloader = DataLoader(train_data, shuffle = True, batch_size=batch_size)\n",
        "\n",
        "    # Create the DataLoader for our validation set.\n",
        "    validation_data = TensorDataset(validation_w2v, validation_labels)\n",
        "    validation_dataloader = DataLoader(validation_data, shuffle = False, batch_size=batch_size)\n",
        "\n",
        "    return train_dataloader, validation_dataloader\n",
        "\n",
        "\n",
        "def train_valid_split_w2v_ext(input_ids, input_w2v, ext_w2v, attention_masks, labels, batch_size=32):\n",
        "    \"\"\"\n",
        "    Create DataLoader objects for downstream training\n",
        "    \"\"\"\n",
        "    # Use 80% for training and 20% for validation.\n",
        "    train_inputs, validation_inputs, train_w2v, validation_w2v, train_ext, validation_ext, train_masks, validation_masks, train_labels, validation_labels = train_test_split(\n",
        "        input_ids, input_w2v, ext_w2v, attention_masks, labels, random_state=SEED, test_size=0.2, stratify=labels\n",
        "    )\n",
        "\n",
        "    print('example train_input:    ', train_inputs[0])\n",
        "    print('example attention_mask: ', train_masks[0])\n",
        "\n",
        "    train_labels = torch.tensor(train_labels)\n",
        "    validation_labels = torch.tensor(validation_labels)\n",
        "\n",
        "    # Create the DataLoader for our training set.\n",
        "    train_data = TensorDataset(train_inputs, train_w2v, train_ext, train_masks, train_labels)\n",
        "\n",
        "    train_dataloader = DataLoader(train_data, shuffle=True, batch_size=batch_size)\n",
        "\n",
        "    # Create the DataLoader for our validation set.\n",
        "    validation_data = TensorDataset(validation_inputs, validation_w2v, validation_ext, validation_masks, validation_labels)\n",
        "    validation_dataloader = DataLoader(validation_data, shuffle=False, batch_size=batch_size)\n",
        "\n",
        "    return train_dataloader, validation_dataloader\n",
        "\n",
        "def train_valid_split_ext(input_ids, input_ext, attention_masks, labels, seed, batch_size=32):\n",
        "    \"\"\"\n",
        "    Create DataLoader objects for downstream training\n",
        "    input_ext: any additional embeddings\n",
        "    \"\"\"\n",
        "    # Use 80% for training and 20% for validation.\n",
        "    train_inputs, validation_inputs, train_ext, validation_ext, train_masks, validation_masks, train_labels, validation_labels = train_test_split(\n",
        "        input_ids, input_ext, attention_masks, labels, random_state=seed, test_size=0.2, stratify=labels\n",
        "    )\n",
        "\n",
        "    print('example train_input:    ', train_inputs[0])\n",
        "    print('example attention_mask: ', train_masks[0])\n",
        "\n",
        "    train_labels = torch.tensor(train_labels)\n",
        "    validation_labels = torch.tensor(validation_labels)\n",
        "\n",
        "    # Create the DataLoader for our training set.\n",
        "    train_data = TensorDataset(train_inputs, train_ext, train_masks, train_labels)\n",
        "\n",
        "    train_dataloader = DataLoader(train_data, shuffle=True, batch_size=batch_size)\n",
        "\n",
        "    # Create the DataLoader for our validation set.\n",
        "    validation_data = TensorDataset(validation_inputs, validation_ext, validation_masks, validation_labels)\n",
        "    validation_dataloader = DataLoader(validation_data, shuffle=False, batch_size=batch_size)\n",
        "\n",
        "    return train_dataloader, validation_dataloader\n",
        "\n",
        "\n",
        "def train_valid_split(input_ids, attention_masks, labels, batch_size=32):\n",
        "    # Use 80% for training and 20% for validation.\n",
        "    train_inputs, validation_inputs,  train_masks, validation_masks, train_labels, validation_labels = train_test_split(\n",
        "        input_ids, attention_masks, labels, random_state=SEED, test_size=0.2, stratify=labels\n",
        "    )\n",
        "\n",
        "    print('example train_input:    ', train_inputs[0])\n",
        "    print('example attention_mask: ', train_masks[0])\n",
        "\n",
        "    train_labels = torch.tensor(train_labels)\n",
        "    validation_labels = torch.tensor(validation_labels)\n",
        "\n",
        "    # Create the DataLoader for our training set.\n",
        "    train_data = TensorDataset(train_inputs, train_masks, train_labels)\n",
        "    train_dataloader = DataLoader(train_data, shuffle=True, batch_size=batch_size)\n",
        "\n",
        "    # Create the DataLoader for our validation set.\n",
        "    validation_data = TensorDataset(validation_inputs, validation_masks, validation_labels)\n",
        "    validation_dataloader = DataLoader(validation_data, shuffle=False, batch_size=batch_size)\n",
        "\n",
        "    return train_dataloader, validation_dataloader"
      ]
    },
    {
      "cell_type": "markdown",
      "metadata": {
        "id": "TOWWv7C7Jo0H"
      },
      "source": [
        "# Training functions"
      ]
    },
    {
      "cell_type": "code",
      "execution_count": null,
      "metadata": {
        "id": "QEe1oy0AJdKC"
      },
      "outputs": [],
      "source": [
        "from torch.optim import AdamW\n",
        "import time\n",
        "import datetime\n",
        "from transformers import get_linear_schedule_with_warmup\n",
        "from tqdm import tqdm\n",
        "from sklearn.metrics import f1_score, recall_score\n",
        "\n",
        "def collect_flat_outputs(preds, labels):\n",
        "    pred_flat = np.argmax(preds, axis=1).flatten()\n",
        "    labels_flat = labels.flatten()\n",
        "    return pred_flat, labels_flat\n",
        "    \n",
        "def flat_accuracy(preds, labels):\n",
        "    pred_flat, labels_flat = collect_flat_outputs(preds, labels)\n",
        "    return np.sum(pred_flat == labels_flat) / len(labels_flat)\n",
        "\n",
        "def format_time(elapsed):\n",
        "    elapsed_rounded = int(round((elapsed)))\n",
        "    return str(datetime.timedelta(seconds=elapsed_rounded))\n",
        "\n",
        "def get_optimizer_and_scheduler(model, total_steps, lr=2e-5, weight_decay=0.01):\n",
        "    # Apply weight decay to all parameters beside the biases or LayerNorm weights\n",
        "    no_decay = ['bias', 'LayerNorm.weight']\n",
        "    optimizer_grouped_parameters = [\n",
        "        {\n",
        "            'params': [p for n, p in model.named_parameters() if not any(nd in n for nd in no_decay)],\n",
        "            'weight_decay': weight_decay},\n",
        "        {\n",
        "            'params': [p for n, p in model.named_parameters() if any(nd in n for nd in no_decay)],\n",
        "            'weight_decay': 0.0\n",
        "        }\n",
        "    ]\n",
        "    optimizer = AdamW(model.parameters(), lr=lr)\n",
        "    scheduler = get_linear_schedule_with_warmup(\n",
        "        optimizer,\n",
        "        # Warmup learning rate for first 10% of training steps\n",
        "        num_warmup_steps=int(0.10 * total_steps), \n",
        "        num_training_steps=total_steps,\n",
        "    )\n",
        "    return optimizer, scheduler\n",
        "\n",
        "def train_model(model, epochs, train_dataloader, validation_dataloader):\n",
        "    # Use GPU, if available\n",
        "    #device = torch.device(\"cuda\" if torch.cuda.is_available() else \"cpu\")\n",
        "    model = model.to(device) # TPU right now\n",
        "\n",
        "    # Setup optimizer and LR scheduler \n",
        "    total_steps = len(train_dataloader) * epochs\n",
        "    optimizer, scheduler = get_optimizer_and_scheduler(\n",
        "        model, total_steps, lr = 2e-5, weight_decay = 0.1\n",
        "    )\n",
        "\n",
        "    eval_metrics = {\n",
        "            'train_loss': [],\n",
        "            'valid_loss': [],\n",
        "            'valid_accs': [],\n",
        "            'f1': [],\n",
        "            'recall': [],\n",
        "            'curr_max' : 0\n",
        "        }\n",
        "\n",
        "    #loss_values = []\n",
        "    #eval_accs = []\n",
        "    curr_max = 0 # current max eval acc\n",
        "\n",
        "    for epoch in range(0, epochs):\n",
        "        t0 = time.time()\n",
        "\n",
        "        total_train_loss = 0\n",
        "        model.train()\n",
        "\n",
        "        # ================== ONE EPOCH TRAINING STARTS =========================\n",
        "        with tqdm(train_dataloader, unit=\"batch\") as train_pbar:\n",
        "            for batch in train_pbar:\n",
        "                train_pbar.set_description(f\"Training (epoch {epoch + 1})\")\n",
        "                b_input_ids  = batch[0].to(device)\n",
        "                b_input_mask = batch[-2].to(device)\n",
        "                b_labels     = batch[-1].to(device)\n",
        "\n",
        "                model.zero_grad()        \n",
        "\n",
        "                # Perform a forward pass (evaluate the model on this training batch).\n",
        "                # This will return the loss because we have provided the `labels`.\n",
        "                if model.ext_embed_mode == 'add':\n",
        "                    b_input_add_embed = batch[1].to(device)\n",
        "                    outputs = model(\n",
        "                        input_ids      = b_input_ids, \n",
        "                        attention_mask = b_input_mask, \n",
        "                        labels         = b_labels,\n",
        "                        ext_embed_add  = b_input_add_embed\n",
        "                    )\n",
        "                elif model.ext_embed_mode == 'concat':\n",
        "                    b_input_cat_embed = batch[1].to(device)\n",
        "                    outputs = model(\n",
        "                        input_ids        = b_input_ids, \n",
        "                        attention_mask   = b_input_mask, \n",
        "                        labels           = b_labels,\n",
        "                        ext_embed_concat = b_input_cat_embed\n",
        "                    )\n",
        "                elif model.ext_embed_mode == 'both':\n",
        "                    b_input_add_embed = batch[1].to(device)\n",
        "                    b_input_cat_embed = batch[2].to(device)\n",
        "                    outputs = model(\n",
        "                        input_ids        = b_input_ids, \n",
        "                        attention_mask   = b_input_mask, \n",
        "                        labels           = b_labels,\n",
        "                        ext_embed_add    = b_input_add_embed,\n",
        "                        ext_embed_concat = b_input_cat_embed\n",
        "                    )\n",
        "                else:\n",
        "                    ## No external embedding blending in\n",
        "                    outputs = model(\n",
        "                        input_ids      = b_input_ids, \n",
        "                        attention_mask = b_input_mask, \n",
        "                        labels         = b_labels\n",
        "                    )\n",
        "                \n",
        "                # The call to `model` always returns a tuple, so we need to pull the \n",
        "                # loss value out of the tuple.\n",
        "                _, loss = outputs\n",
        "\n",
        "                # Accumulate the training loss over all of the batches so that we can\n",
        "                # calculate the average loss at the end. `loss` is a Tensor containing a\n",
        "                # single value; the `.item()` function just returns the Python value \n",
        "                # from the tensor.\n",
        "                total_train_loss += loss.item()\n",
        "\n",
        "                # Perform a backward pass to calculate the gradients.\n",
        "                loss.backward()\n",
        "\n",
        "                # Clip the norm of the gradients to 1.0.\n",
        "                # This is to help prevent the \"exploding gradients\" problem.\n",
        "                torch.nn.utils.clip_grad_norm_(model.parameters(), 1.0)\n",
        "\n",
        "                # Update parameters and take a step using the computed gradient.\n",
        "                # The optimizer dictates the \"update rule\"--how the parameters are\n",
        "                # modified based on their gradients, the learning rate, etc.\n",
        "                optimizer.step()\n",
        "\n",
        "                # Update the learning rate.\n",
        "                scheduler.step()\n",
        "        # =================== ONE EPOCH TRAINING ENDS ==========================\n",
        "\n",
        "        # Calculate the average loss over the training data.\n",
        "        avg_train_loss = total_train_loss / len(train_dataloader)            \n",
        "        \n",
        "        # Store the loss value for plotting the learning curve.\n",
        "        eval_metrics[\"train_loss\"].append(avg_train_loss)\n",
        "\n",
        "        print(\"  * Average training loss: {0:.2f}\".format(avg_train_loss))\n",
        "        print(\"  * Training epoch took: {:}\".format(format_time(time.time() - t0)))\n",
        "            \n",
        "        print(\"Running Validation...\")\n",
        "\n",
        "        t0 = time.time()\n",
        "        model.eval()\n",
        "\n",
        "        eval_loss, eval_accuracy = 0, 0\n",
        "        nb_eval_steps, nb_eval_examples = 0, 0\n",
        "        f1 = 0\n",
        "        epoch_preds, epoch_labels = [], []\n",
        "\n",
        "        # Evaluate data for one epoch\n",
        "        # ================== ONE EPOCH VALIDATING STARTS =======================\n",
        "        for batch in validation_dataloader:\n",
        "            batch = tuple(t.to(device) for t in batch)\n",
        "            b_input_ids  = batch[0]\n",
        "            b_input_mask = batch[-2]\n",
        "            b_labels     = batch[-1]\n",
        "            \n",
        "            with torch.no_grad():        \n",
        "                # Forward pass, calculate logit predictions.\n",
        "                # Perform a forward pass (evaluate the model on this training batch).\n",
        "                # This will return the loss because we have provided the `labels`.\n",
        "                if model.ext_embed_mode == 'add':\n",
        "                    b_input_add_embed = batch[1]\n",
        "                    outputs = model(\n",
        "                        input_ids      = b_input_ids, \n",
        "                        attention_mask = b_input_mask, \n",
        "                        labels         = b_labels,\n",
        "                        ext_embed_add  = b_input_add_embed\n",
        "                    )\n",
        "                elif model.ext_embed_mode == 'concat':\n",
        "                    b_input_cat_embed = batch[1]\n",
        "                    outputs = model(\n",
        "                        input_ids        = b_input_ids, \n",
        "                        attention_mask   = b_input_mask, \n",
        "                        labels           = b_labels,\n",
        "                        ext_embed_concat = b_input_cat_embed\n",
        "                    )\n",
        "                elif model.ext_embed_mode == 'both':\n",
        "                    b_input_add_embed = batch[1]\n",
        "                    b_input_cat_embed = batch[2]\n",
        "                    outputs = model(\n",
        "                        input_ids        = b_input_ids, \n",
        "                        attention_mask   = b_input_mask, \n",
        "                        labels           = b_labels,\n",
        "                        ext_embed_add    = b_input_add_embed,\n",
        "                        ext_embed_concat = b_input_cat_embed\n",
        "                    )\n",
        "                else:\n",
        "                    ## No external embedding blending in\n",
        "                    outputs = model(\n",
        "                        input_ids      = b_input_ids, \n",
        "                        attention_mask = b_input_mask, \n",
        "                        labels         = b_labels\n",
        "                    )\n",
        "            \n",
        "            # Get the \"logits\" output by the model. The \"logits\" are the output\n",
        "            # values prior to applying an activation function like the softmax.\n",
        "            logits, loss = outputs\n",
        "            # Move logits and labels to CPU\n",
        "            logits = logits.detach().cpu().numpy()\n",
        "            label_ids = b_labels.to('cpu').numpy()\n",
        "            # Calculate the accuracy for this batch of test sentences.\n",
        "            tmp_eval_accuracy = flat_accuracy(logits, label_ids)\n",
        "            # Collect predictions and labels from each validation batch\n",
        "            batch_preds, batch_labels = collect_flat_outputs(logits, label_ids)\n",
        "            epoch_preds.append(batch_preds)\n",
        "            epoch_labels.append(batch_labels)\n",
        "            # Accumulate the total accuracy.\n",
        "            eval_accuracy += tmp_eval_accuracy\n",
        "            # Accumulate the total loss.\n",
        "            eval_loss += loss.item()\n",
        "            # Track the number of batches\n",
        "            nb_eval_steps += 1\n",
        "        # =================== ONE EPOCH VALIDATING ENDS ========================\n",
        "        epoch_preds  = np.concatenate(epoch_preds)\n",
        "        epoch_labels = np.concatenate(epoch_labels)\n",
        "        f1 = f1_score(epoch_preds, epoch_labels, average = 'macro')\n",
        "        recall = recall_score(epoch_preds, epoch_labels, average = 'macro')\n",
        "        avg_eval_acc  = eval_accuracy / nb_eval_steps\n",
        "        avg_eval_loss = eval_loss / nb_eval_steps ## average valid. loss over batches\n",
        "        print(\"  * Accuracy: {0:.2f}\".format(avg_eval_acc))\n",
        "        print(\"  * Averaged validation loss: {0:.2f}\".format(avg_eval_loss))\n",
        "        print(\"  * F1 score: {0:.2f}\".format(f1))\n",
        "        print(\"  * Validation took: {:}\".format(format_time(time.time() - t0)))\n",
        "        eval_metrics[\"valid_accs\"].append(avg_eval_acc)\n",
        "        eval_metrics[\"valid_loss\"].append(avg_eval_loss)\n",
        "        eval_metrics['f1'].append(f1)\n",
        "\n",
        "        print(f\"PREVIOUS BEST EVAL:{curr_max}\")\n",
        "        # save max eval model\n",
        "        if max(avg_eval_acc, curr_max) == avg_eval_acc:\n",
        "          curr_max = avg_eval_acc\n",
        "          eval_metrics[\"curr_max\"] = curr_max\n",
        "          try:\n",
        "            os.makedirs(\"./weights/\")\n",
        "          except:\n",
        "            print(\"dir exists\")\n",
        "          print(\"Saving Weights...\")\n",
        "          model.save_pretrained(\"./weights/curr\")\n",
        "\n",
        "    print(\"Training complete!\")\n",
        "    return eval_metrics"
      ]
    },
    {
      "cell_type": "markdown",
      "metadata": {
        "id": "a_-x6PsL8SZt"
      },
      "source": [
        "## Download Twitch data"
      ]
    },
    {
      "cell_type": "code",
      "execution_count": null,
      "metadata": {
        "colab": {
          "base_uri": "https://localhost:8080/"
        },
        "id": "43pTspoR6tPJ",
        "outputId": "272129ec-37da-4bc3-e102-d5e684009540"
      },
      "outputs": [
        {
          "name": "stdout",
          "output_type": "stream",
          "text": [
            "Requirement already satisfied: gitpython in /usr/local/lib/python3.7/dist-packages (3.1.27)\n",
            "Requirement already satisfied: typing-extensions>=3.7.4.3 in /usr/local/lib/python3.7/dist-packages (from gitpython) (4.1.1)\n",
            "Requirement already satisfied: gitdb<5,>=4.0.1 in /usr/local/lib/python3.7/dist-packages (from gitpython) (4.0.9)\n",
            "Requirement already satisfied: smmap<6,>=3.0.1 in /usr/local/lib/python3.7/dist-packages (from gitdb<5,>=4.0.1->gitpython) (5.0.0)\n"
          ]
        }
      ],
      "source": [
        "!pip install gitpython\n",
        "import git"
      ]
    },
    {
      "cell_type": "code",
      "execution_count": null,
      "metadata": {
        "colab": {
          "base_uri": "https://localhost:8080/"
        },
        "id": "uN77phG-f3DY",
        "outputId": "8add2ead-95cf-4baf-89a3-ae0b278099a7"
      },
      "outputs": [
        {
          "name": "stdout",
          "output_type": "stream",
          "text": [
            "Already downloaded training data\n"
          ]
        }
      ],
      "source": [
        "# The URL for data Github repo.\n",
        "url = 'https://github.com/konstantinkobs/emote-controlled.git'\n",
        "\n",
        "# Download the file (if we haven't already)\n",
        "if os.path.exists('./emote-controlled'):\n",
        "    print('Already downloaded training data')\n",
        "else:\n",
        "    git.Git(\"./\").clone(url)\n",
        "    print('Done downloading training data')\n"
      ]
    },
    {
      "cell_type": "markdown",
      "metadata": {
        "id": "oc-bxjzI-81h"
      },
      "source": [
        "## Load labeled Twitch messages"
      ]
    },
    {
      "cell_type": "code",
      "execution_count": null,
      "metadata": {
        "colab": {
          "base_uri": "https://localhost:8080/",
          "height": 381
        },
        "id": "ovSDN8kBf_zF",
        "outputId": "4861c3b1-7c30-42da-d732-83d77596845b"
      },
      "outputs": [
        {
          "name": "stdout",
          "output_type": "stream",
          "text": [
            "Number of labeled messages:  1922\n"
          ]
        },
        {
          "data": {
            "text/html": [
              "\n",
              "  <div id=\"df-81adb8be-32ee-4876-af59-effea893d020\">\n",
              "    <div class=\"colab-df-container\">\n",
              "      <div>\n",
              "<style scoped>\n",
              "    .dataframe tbody tr th:only-of-type {\n",
              "        vertical-align: middle;\n",
              "    }\n",
              "\n",
              "    .dataframe tbody tr th {\n",
              "        vertical-align: top;\n",
              "    }\n",
              "\n",
              "    .dataframe thead th {\n",
              "        text-align: right;\n",
              "    }\n",
              "</style>\n",
              "<table border=\"1\" class=\"dataframe\">\n",
              "  <thead>\n",
              "    <tr style=\"text-align: right;\">\n",
              "      <th></th>\n",
              "      <th>sentiment</th>\n",
              "      <th>date</th>\n",
              "      <th>channel</th>\n",
              "      <th>game</th>\n",
              "      <th>user</th>\n",
              "      <th>mod</th>\n",
              "      <th>subscriber</th>\n",
              "      <th>message</th>\n",
              "      <th>sentiment_relevel</th>\n",
              "      <th>message_uncased</th>\n",
              "    </tr>\n",
              "  </thead>\n",
              "  <tbody>\n",
              "    <tr>\n",
              "      <th>1259</th>\n",
              "      <td>0</td>\n",
              "      <td>2018-05-22T03:21:17.481Z</td>\n",
              "      <td>xqcow</td>\n",
              "      <td>Overwatch</td>\n",
              "      <td>2475329</td>\n",
              "      <td>False</td>\n",
              "      <td>False</td>\n",
              "      <td>POG</td>\n",
              "      <td>1</td>\n",
              "      <td>pog</td>\n",
              "    </tr>\n",
              "    <tr>\n",
              "      <th>1623</th>\n",
              "      <td>1</td>\n",
              "      <td>2018-05-16T19:32:55.000Z</td>\n",
              "      <td>forsen</td>\n",
              "      <td>The Council</td>\n",
              "      <td>2342940</td>\n",
              "      <td>False</td>\n",
              "      <td>True</td>\n",
              "      <td>ALLO ZULUL</td>\n",
              "      <td>2</td>\n",
              "      <td>allo zulul</td>\n",
              "    </tr>\n",
              "    <tr>\n",
              "      <th>611</th>\n",
              "      <td>-1</td>\n",
              "      <td>2018-05-17T16:56:40.391Z</td>\n",
              "      <td>moonmoon_ow</td>\n",
              "      <td>Dark Souls III</td>\n",
              "      <td>226947</td>\n",
              "      <td>False</td>\n",
              "      <td>True</td>\n",
              "      <td>I WAS DANCING TO THAT DansGame</td>\n",
              "      <td>0</td>\n",
              "      <td>i was dancing to that dansgame</td>\n",
              "    </tr>\n",
              "    <tr>\n",
              "      <th>514</th>\n",
              "      <td>1</td>\n",
              "      <td>2018-05-03T16:36:44.324Z</td>\n",
              "      <td>forsen</td>\n",
              "      <td>IRL</td>\n",
              "      <td>9000</td>\n",
              "      <td>False</td>\n",
              "      <td>True</td>\n",
              "      <td>gachiBASS Clap gachiBASS Clap gachiBASS Clap g...</td>\n",
              "      <td>2</td>\n",
              "      <td>gachibass clap gachibass clap gachibass clap g...</td>\n",
              "    </tr>\n",
              "    <tr>\n",
              "      <th>413</th>\n",
              "      <td>1</td>\n",
              "      <td>2018-05-09T04:59:17.521Z</td>\n",
              "      <td>xqcow</td>\n",
              "      <td>Fortnite</td>\n",
              "      <td>295331</td>\n",
              "      <td>False</td>\n",
              "      <td>False</td>\n",
              "      <td>gachiBASS</td>\n",
              "      <td>2</td>\n",
              "      <td>gachibass</td>\n",
              "    </tr>\n",
              "    <tr>\n",
              "      <th>1075</th>\n",
              "      <td>1</td>\n",
              "      <td>2018-05-28T19:40:05.478Z</td>\n",
              "      <td>sodapoppin</td>\n",
              "      <td>Bless Online</td>\n",
              "      <td>322720</td>\n",
              "      <td>False</td>\n",
              "      <td>True</td>\n",
              "      <td>\"Premium Membership (180 Days)\" gives 8 in-gam...</td>\n",
              "      <td>2</td>\n",
              "      <td>\"premium membership (180 days)\" gives 8 in-gam...</td>\n",
              "    </tr>\n",
              "    <tr>\n",
              "      <th>538</th>\n",
              "      <td>1</td>\n",
              "      <td>2018-05-23T21:40:22.218Z</td>\n",
              "      <td>forsen</td>\n",
              "      <td>Raft</td>\n",
              "      <td>304456</td>\n",
              "      <td>False</td>\n",
              "      <td>True</td>\n",
              "      <td>forsen1</td>\n",
              "      <td>2</td>\n",
              "      <td>forsen1</td>\n",
              "    </tr>\n",
              "    <tr>\n",
              "      <th>482</th>\n",
              "      <td>1</td>\n",
              "      <td>2018-05-30T19:02:31.082Z</td>\n",
              "      <td>forsen</td>\n",
              "      <td>Dark Souls</td>\n",
              "      <td>971480</td>\n",
              "      <td>False</td>\n",
              "      <td>False</td>\n",
              "      <td>CURSED OMEGALUL CURSED OMEGALUL CURSED OMEGALUL</td>\n",
              "      <td>2</td>\n",
              "      <td>cursed omegalul cursed omegalul cursed omegalul</td>\n",
              "    </tr>\n",
              "    <tr>\n",
              "      <th>398</th>\n",
              "      <td>-1</td>\n",
              "      <td>2018-05-21T16:26:58.802Z</td>\n",
              "      <td>moonmoon_ow</td>\n",
              "      <td>Dark Souls III</td>\n",
              "      <td>381748</td>\n",
              "      <td>False</td>\n",
              "      <td>True</td>\n",
              "      <td>kill moon moon2N</td>\n",
              "      <td>0</td>\n",
              "      <td>kill moon moon2n</td>\n",
              "    </tr>\n",
              "    <tr>\n",
              "      <th>677</th>\n",
              "      <td>0</td>\n",
              "      <td>2018-05-23T21:23:01.103Z</td>\n",
              "      <td>forsen</td>\n",
              "      <td>Raft</td>\n",
              "      <td>261172</td>\n",
              "      <td>False</td>\n",
              "      <td>False</td>\n",
              "      <td>2$ TOP DONATOR OF THE DAY OMEGALUL 2$ TOP DONA...</td>\n",
              "      <td>1</td>\n",
              "      <td>2$ top donator of the day omegalul 2$ top dona...</td>\n",
              "    </tr>\n",
              "  </tbody>\n",
              "</table>\n",
              "</div>\n",
              "      <button class=\"colab-df-convert\" onclick=\"convertToInteractive('df-81adb8be-32ee-4876-af59-effea893d020')\"\n",
              "              title=\"Convert this dataframe to an interactive table.\"\n",
              "              style=\"display:none;\">\n",
              "        \n",
              "  <svg xmlns=\"http://www.w3.org/2000/svg\" height=\"24px\"viewBox=\"0 0 24 24\"\n",
              "       width=\"24px\">\n",
              "    <path d=\"M0 0h24v24H0V0z\" fill=\"none\"/>\n",
              "    <path d=\"M18.56 5.44l.94 2.06.94-2.06 2.06-.94-2.06-.94-.94-2.06-.94 2.06-2.06.94zm-11 1L8.5 8.5l.94-2.06 2.06-.94-2.06-.94L8.5 2.5l-.94 2.06-2.06.94zm10 10l.94 2.06.94-2.06 2.06-.94-2.06-.94-.94-2.06-.94 2.06-2.06.94z\"/><path d=\"M17.41 7.96l-1.37-1.37c-.4-.4-.92-.59-1.43-.59-.52 0-1.04.2-1.43.59L10.3 9.45l-7.72 7.72c-.78.78-.78 2.05 0 2.83L4 21.41c.39.39.9.59 1.41.59.51 0 1.02-.2 1.41-.59l7.78-7.78 2.81-2.81c.8-.78.8-2.07 0-2.86zM5.41 20L4 18.59l7.72-7.72 1.47 1.35L5.41 20z\"/>\n",
              "  </svg>\n",
              "      </button>\n",
              "      \n",
              "  <style>\n",
              "    .colab-df-container {\n",
              "      display:flex;\n",
              "      flex-wrap:wrap;\n",
              "      gap: 12px;\n",
              "    }\n",
              "\n",
              "    .colab-df-convert {\n",
              "      background-color: #E8F0FE;\n",
              "      border: none;\n",
              "      border-radius: 50%;\n",
              "      cursor: pointer;\n",
              "      display: none;\n",
              "      fill: #1967D2;\n",
              "      height: 32px;\n",
              "      padding: 0 0 0 0;\n",
              "      width: 32px;\n",
              "    }\n",
              "\n",
              "    .colab-df-convert:hover {\n",
              "      background-color: #E2EBFA;\n",
              "      box-shadow: 0px 1px 2px rgba(60, 64, 67, 0.3), 0px 1px 3px 1px rgba(60, 64, 67, 0.15);\n",
              "      fill: #174EA6;\n",
              "    }\n",
              "\n",
              "    [theme=dark] .colab-df-convert {\n",
              "      background-color: #3B4455;\n",
              "      fill: #D2E3FC;\n",
              "    }\n",
              "\n",
              "    [theme=dark] .colab-df-convert:hover {\n",
              "      background-color: #434B5C;\n",
              "      box-shadow: 0px 1px 3px 1px rgba(0, 0, 0, 0.15);\n",
              "      filter: drop-shadow(0px 1px 2px rgba(0, 0, 0, 0.3));\n",
              "      fill: #FFFFFF;\n",
              "    }\n",
              "  </style>\n",
              "\n",
              "      <script>\n",
              "        const buttonEl =\n",
              "          document.querySelector('#df-81adb8be-32ee-4876-af59-effea893d020 button.colab-df-convert');\n",
              "        buttonEl.style.display =\n",
              "          google.colab.kernel.accessAllowed ? 'block' : 'none';\n",
              "\n",
              "        async function convertToInteractive(key) {\n",
              "          const element = document.querySelector('#df-81adb8be-32ee-4876-af59-effea893d020');\n",
              "          const dataTable =\n",
              "            await google.colab.kernel.invokeFunction('convertToInteractive',\n",
              "                                                     [key], {});\n",
              "          if (!dataTable) return;\n",
              "\n",
              "          const docLinkHtml = 'Like what you see? Visit the ' +\n",
              "            '<a target=\"_blank\" href=https://colab.research.google.com/notebooks/data_table.ipynb>data table notebook</a>'\n",
              "            + ' to learn more about interactive tables.';\n",
              "          element.innerHTML = '';\n",
              "          dataTable['output_type'] = 'display_data';\n",
              "          await google.colab.output.renderOutput(dataTable, element);\n",
              "          const docLink = document.createElement('div');\n",
              "          docLink.innerHTML = docLinkHtml;\n",
              "          element.appendChild(docLink);\n",
              "        }\n",
              "      </script>\n",
              "    </div>\n",
              "  </div>\n",
              "  "
            ],
            "text/plain": [
              "      sentiment                      date      channel            game  \\\n",
              "1259          0  2018-05-22T03:21:17.481Z        xqcow       Overwatch   \n",
              "1623          1  2018-05-16T19:32:55.000Z       forsen     The Council   \n",
              "611          -1  2018-05-17T16:56:40.391Z  moonmoon_ow  Dark Souls III   \n",
              "514           1  2018-05-03T16:36:44.324Z       forsen             IRL   \n",
              "413           1  2018-05-09T04:59:17.521Z        xqcow        Fortnite   \n",
              "1075          1  2018-05-28T19:40:05.478Z   sodapoppin    Bless Online   \n",
              "538           1  2018-05-23T21:40:22.218Z       forsen            Raft   \n",
              "482           1  2018-05-30T19:02:31.082Z       forsen      Dark Souls   \n",
              "398          -1  2018-05-21T16:26:58.802Z  moonmoon_ow  Dark Souls III   \n",
              "677           0  2018-05-23T21:23:01.103Z       forsen            Raft   \n",
              "\n",
              "         user    mod  subscriber  \\\n",
              "1259  2475329  False       False   \n",
              "1623  2342940  False        True   \n",
              "611    226947  False        True   \n",
              "514      9000  False        True   \n",
              "413    295331  False       False   \n",
              "1075   322720  False        True   \n",
              "538    304456  False        True   \n",
              "482    971480  False       False   \n",
              "398    381748  False        True   \n",
              "677    261172  False       False   \n",
              "\n",
              "                                                message sentiment_relevel  \\\n",
              "1259                                                POG                 1   \n",
              "1623                                         ALLO ZULUL                 2   \n",
              "611                      I WAS DANCING TO THAT DansGame                 0   \n",
              "514   gachiBASS Clap gachiBASS Clap gachiBASS Clap g...                 2   \n",
              "413                                           gachiBASS                 2   \n",
              "1075  \"Premium Membership (180 Days)\" gives 8 in-gam...                 2   \n",
              "538                                             forsen1                 2   \n",
              "482     CURSED OMEGALUL CURSED OMEGALUL CURSED OMEGALUL                 2   \n",
              "398                                    kill moon moon2N                 0   \n",
              "677   2$ TOP DONATOR OF THE DAY OMEGALUL 2$ TOP DONA...                 1   \n",
              "\n",
              "                                        message_uncased  \n",
              "1259                                                pog  \n",
              "1623                                         allo zulul  \n",
              "611                      i was dancing to that dansgame  \n",
              "514   gachibass clap gachibass clap gachibass clap g...  \n",
              "413                                           gachibass  \n",
              "1075  \"premium membership (180 days)\" gives 8 in-gam...  \n",
              "538                                             forsen1  \n",
              "482     cursed omegalul cursed omegalul cursed omegalul  \n",
              "398                                    kill moon moon2n  \n",
              "677   2$ top donator of the day omegalul 2$ top dona...  "
            ]
          },
          "execution_count": 8,
          "metadata": {},
          "output_type": "execute_result"
        }
      ],
      "source": [
        "labeled_msgs = pd.read_csv(\"./emote-controlled/data/labeled_dataset.csv\",\n",
        "                           header = 0,\n",
        "                           names  = [\"sentiment\",\n",
        "                                     \"date\",\n",
        "                                     \"channel\",\n",
        "                                     \"game\",\n",
        "                                     \"user\",\n",
        "                                     \"mod\", \t\n",
        "                                     \"subscriber\",\n",
        "                                     \"message\"])\n",
        "labeled_msgs['sentiment_relevel'] = (labeled_msgs['sentiment'] + 1).astype('category')\n",
        "labeled_msgs['message_uncased'] = labeled_msgs.message.str.lower()\n",
        "print(\"Number of labeled messages: \", labeled_msgs.shape[0])\n",
        "# Display 5 random rows from the data.\n",
        "labeled_msgs.sample(10)"
      ]
    },
    {
      "cell_type": "markdown",
      "metadata": {
        "id": "BNj2M39oDOQT"
      },
      "source": [
        "# Load labeled Twitch emotes"
      ]
    },
    {
      "cell_type": "code",
      "execution_count": null,
      "metadata": {
        "colab": {
          "base_uri": "https://localhost:8080/",
          "height": 381
        },
        "id": "DuTi6hufDUnW",
        "outputId": "6d4e5df5-2860-435c-9c9e-44139785cad7"
      },
      "outputs": [
        {
          "name": "stdout",
          "output_type": "stream",
          "text": [
            "Number of labeled emotes:  100\n"
          ]
        },
        {
          "data": {
            "text/html": [
              "\n",
              "  <div id=\"df-0e386e70-ff40-45d0-bb22-0b7ef87dcffa\">\n",
              "    <div class=\"colab-df-container\">\n",
              "      <div>\n",
              "<style scoped>\n",
              "    .dataframe tbody tr th:only-of-type {\n",
              "        vertical-align: middle;\n",
              "    }\n",
              "\n",
              "    .dataframe tbody tr th {\n",
              "        vertical-align: top;\n",
              "    }\n",
              "\n",
              "    .dataframe thead th {\n",
              "        text-align: right;\n",
              "    }\n",
              "</style>\n",
              "<table border=\"1\" class=\"dataframe\">\n",
              "  <thead>\n",
              "    <tr style=\"text-align: right;\">\n",
              "      <th></th>\n",
              "      <th>word</th>\n",
              "      <th>sentiment</th>\n",
              "      <th>word_uncased</th>\n",
              "    </tr>\n",
              "  </thead>\n",
              "  <tbody>\n",
              "    <tr>\n",
              "      <th>91</th>\n",
              "      <td>gachiBASS</td>\n",
              "      <td>0.38</td>\n",
              "      <td>gachibass</td>\n",
              "    </tr>\n",
              "    <tr>\n",
              "      <th>54</th>\n",
              "      <td>OMEGALUL</td>\n",
              "      <td>0.43</td>\n",
              "      <td>omegalul</td>\n",
              "    </tr>\n",
              "    <tr>\n",
              "      <th>58</th>\n",
              "      <td>POGGERS</td>\n",
              "      <td>0.80</td>\n",
              "      <td>poggers</td>\n",
              "    </tr>\n",
              "    <tr>\n",
              "      <th>6</th>\n",
              "      <td>:o</td>\n",
              "      <td>0.06</td>\n",
              "      <td>:o</td>\n",
              "    </tr>\n",
              "    <tr>\n",
              "      <th>82</th>\n",
              "      <td>TwitchUnity</td>\n",
              "      <td>0.60</td>\n",
              "      <td>twitchunity</td>\n",
              "    </tr>\n",
              "    <tr>\n",
              "      <th>53</th>\n",
              "      <td>NotLikeThis</td>\n",
              "      <td>-0.49</td>\n",
              "      <td>notlikethis</td>\n",
              "    </tr>\n",
              "    <tr>\n",
              "      <th>23</th>\n",
              "      <td>DoritosChip</td>\n",
              "      <td>0.01</td>\n",
              "      <td>doritoschip</td>\n",
              "    </tr>\n",
              "    <tr>\n",
              "      <th>24</th>\n",
              "      <td>EZ</td>\n",
              "      <td>0.58</td>\n",
              "      <td>ez</td>\n",
              "    </tr>\n",
              "    <tr>\n",
              "      <th>3</th>\n",
              "      <td>:D</td>\n",
              "      <td>0.87</td>\n",
              "      <td>:d</td>\n",
              "    </tr>\n",
              "    <tr>\n",
              "      <th>45</th>\n",
              "      <td>Kreygasm</td>\n",
              "      <td>0.81</td>\n",
              "      <td>kreygasm</td>\n",
              "    </tr>\n",
              "  </tbody>\n",
              "</table>\n",
              "</div>\n",
              "      <button class=\"colab-df-convert\" onclick=\"convertToInteractive('df-0e386e70-ff40-45d0-bb22-0b7ef87dcffa')\"\n",
              "              title=\"Convert this dataframe to an interactive table.\"\n",
              "              style=\"display:none;\">\n",
              "        \n",
              "  <svg xmlns=\"http://www.w3.org/2000/svg\" height=\"24px\"viewBox=\"0 0 24 24\"\n",
              "       width=\"24px\">\n",
              "    <path d=\"M0 0h24v24H0V0z\" fill=\"none\"/>\n",
              "    <path d=\"M18.56 5.44l.94 2.06.94-2.06 2.06-.94-2.06-.94-.94-2.06-.94 2.06-2.06.94zm-11 1L8.5 8.5l.94-2.06 2.06-.94-2.06-.94L8.5 2.5l-.94 2.06-2.06.94zm10 10l.94 2.06.94-2.06 2.06-.94-2.06-.94-.94-2.06-.94 2.06-2.06.94z\"/><path d=\"M17.41 7.96l-1.37-1.37c-.4-.4-.92-.59-1.43-.59-.52 0-1.04.2-1.43.59L10.3 9.45l-7.72 7.72c-.78.78-.78 2.05 0 2.83L4 21.41c.39.39.9.59 1.41.59.51 0 1.02-.2 1.41-.59l7.78-7.78 2.81-2.81c.8-.78.8-2.07 0-2.86zM5.41 20L4 18.59l7.72-7.72 1.47 1.35L5.41 20z\"/>\n",
              "  </svg>\n",
              "      </button>\n",
              "      \n",
              "  <style>\n",
              "    .colab-df-container {\n",
              "      display:flex;\n",
              "      flex-wrap:wrap;\n",
              "      gap: 12px;\n",
              "    }\n",
              "\n",
              "    .colab-df-convert {\n",
              "      background-color: #E8F0FE;\n",
              "      border: none;\n",
              "      border-radius: 50%;\n",
              "      cursor: pointer;\n",
              "      display: none;\n",
              "      fill: #1967D2;\n",
              "      height: 32px;\n",
              "      padding: 0 0 0 0;\n",
              "      width: 32px;\n",
              "    }\n",
              "\n",
              "    .colab-df-convert:hover {\n",
              "      background-color: #E2EBFA;\n",
              "      box-shadow: 0px 1px 2px rgba(60, 64, 67, 0.3), 0px 1px 3px 1px rgba(60, 64, 67, 0.15);\n",
              "      fill: #174EA6;\n",
              "    }\n",
              "\n",
              "    [theme=dark] .colab-df-convert {\n",
              "      background-color: #3B4455;\n",
              "      fill: #D2E3FC;\n",
              "    }\n",
              "\n",
              "    [theme=dark] .colab-df-convert:hover {\n",
              "      background-color: #434B5C;\n",
              "      box-shadow: 0px 1px 3px 1px rgba(0, 0, 0, 0.15);\n",
              "      filter: drop-shadow(0px 1px 2px rgba(0, 0, 0, 0.3));\n",
              "      fill: #FFFFFF;\n",
              "    }\n",
              "  </style>\n",
              "\n",
              "      <script>\n",
              "        const buttonEl =\n",
              "          document.querySelector('#df-0e386e70-ff40-45d0-bb22-0b7ef87dcffa button.colab-df-convert');\n",
              "        buttonEl.style.display =\n",
              "          google.colab.kernel.accessAllowed ? 'block' : 'none';\n",
              "\n",
              "        async function convertToInteractive(key) {\n",
              "          const element = document.querySelector('#df-0e386e70-ff40-45d0-bb22-0b7ef87dcffa');\n",
              "          const dataTable =\n",
              "            await google.colab.kernel.invokeFunction('convertToInteractive',\n",
              "                                                     [key], {});\n",
              "          if (!dataTable) return;\n",
              "\n",
              "          const docLinkHtml = 'Like what you see? Visit the ' +\n",
              "            '<a target=\"_blank\" href=https://colab.research.google.com/notebooks/data_table.ipynb>data table notebook</a>'\n",
              "            + ' to learn more about interactive tables.';\n",
              "          element.innerHTML = '';\n",
              "          dataTable['output_type'] = 'display_data';\n",
              "          await google.colab.output.renderOutput(dataTable, element);\n",
              "          const docLink = document.createElement('div');\n",
              "          docLink.innerHTML = docLinkHtml;\n",
              "          element.appendChild(docLink);\n",
              "        }\n",
              "      </script>\n",
              "    </div>\n",
              "  </div>\n",
              "  "
            ],
            "text/plain": [
              "           word  sentiment word_uncased\n",
              "91    gachiBASS       0.38    gachibass\n",
              "54     OMEGALUL       0.43     omegalul\n",
              "58      POGGERS       0.80      poggers\n",
              "6            :o       0.06           :o\n",
              "82  TwitchUnity       0.60  twitchunity\n",
              "53  NotLikeThis      -0.49  notlikethis\n",
              "23  DoritosChip       0.01  doritoschip\n",
              "24           EZ       0.58           ez\n",
              "3            :D       0.87           :d\n",
              "45     Kreygasm       0.81     kreygasm"
            ]
          },
          "execution_count": 9,
          "metadata": {},
          "output_type": "execute_result"
        }
      ],
      "source": [
        "labeled_emotes = pd.read_csv(\"./emote-controlled/lexica/emote_average.tsv\",\n",
        "                             sep    = '\\t',\n",
        "                             header = 0,\n",
        "                             names  = [\"word\", \"sentiment\"])\n",
        "\n",
        "labeled_emotes[\"word_uncased\"] = labeled_emotes.word.str.lower()\n",
        "print(\"Number of labeled emotes: \", labeled_emotes.shape[0])\n",
        "# Display 10 random rows from the data.\n",
        "labeled_emotes.sample(10)"
      ]
    },
    {
      "cell_type": "markdown",
      "metadata": {
        "id": "PIBJKdV_PnJP"
      },
      "source": [
        "# BERT Classifier"
      ]
    },
    {
      "cell_type": "code",
      "execution_count": null,
      "metadata": {
        "id": "9ThwZA2628l3"
      },
      "outputs": [],
      "source": [
        "from transformers import BertModel\n",
        "import torch.nn as nn\n",
        "\n",
        "class BertForSentenceClassification(BertModel):\n",
        "    def __init__(self, config,\n",
        "                 use_dropout = True,\n",
        "                 ext_embed_mode = None,\n",
        "                 concat_embed_size = 0,\n",
        "                 dropout = 0.5):\n",
        "        '''\n",
        "        ext_embed_mode: ['concat', 'add', 'both', None]\n",
        "        '''\n",
        "        super().__init__(config)\n",
        "        \n",
        "        self.ext_embed_mode = ext_embed_mode\n",
        "\n",
        "        self.dropout = nn.Dropout(p = dropout)\n",
        "\n",
        "        if ext_embed_mode == \"add\" or ext_embed_mode == \"both\":\n",
        "            self.add_dense = nn.Sequential(\n",
        "                nn.Linear(in_features = 768, out_features = 768),\n",
        "                nn.LayerNorm(768),\n",
        "                nn.GELU()\n",
        "            )\n",
        "        if ext_embed_mode == \"concat\" or ext_embed_mode == \"both\":\n",
        "            self.concat_dense = nn.Sequential(\n",
        "                nn.Linear(in_features  = concat_embed_size,\n",
        "                          out_features = concat_embed_size),\n",
        "                nn.LayerNorm(concat_embed_size),\n",
        "                nn.GELU()\n",
        "            )\n",
        "\n",
        "        self.l1 = nn.Linear(config.hidden_size + concat_embed_size, 256)\n",
        "\n",
        "        self.layer_norm1 = nn.LayerNorm(256)\n",
        "\n",
        "        self.a1 = nn.SiLU() ## nn.GELU() ##nn.ReLU()\n",
        "        self.l2 = nn.Linear(256, 128)\n",
        "\n",
        "        self.layer_norm2 = nn.LayerNorm(128)\n",
        "\n",
        "        self.a2 = nn.SiLU() #nn.GELU() ##nn.ReLU()\n",
        "        self.l3 = nn.Linear(128, config.num_labels)\n",
        "\n",
        "        self.loss = torch.nn.CrossEntropyLoss()\n",
        "        self.use_dropout = use_dropout\n",
        "\n",
        "    def forward(self,\n",
        "                labels = None,\n",
        "                ext_embed_add = None,\n",
        "                ext_embed_concat = None,\n",
        "                **kwargs):\n",
        "        '''\n",
        "        ext_embed_add: embeddings add to pooler outputs\n",
        "        ext_embed_concat: embeddings concantenated to pooler outputs\n",
        "        '''\n",
        "        outputs = super().forward(**kwargs)\n",
        "\n",
        "        cls_token_repr = outputs.pooler_output\n",
        "\n",
        "        if self.ext_embed_mode is not None:\n",
        "            if self.ext_embed_mode == \"concat\":\n",
        "                out_concat = self.concat_dense(ext_embed_concat)\n",
        "                cls_token_repr = torch.cat(\n",
        "                    (cls_token_repr, out_concat),\n",
        "                    dim = -1)\n",
        "            elif self.ext_embed_mode == \"add\":\n",
        "                out_add = self.add_dense(ext_embed_add)\n",
        "                cls_token_repr = (cls_token_repr +\n",
        "                                  out_add)\n",
        "            elif self.ext_embed_mode == \"both\":\n",
        "                out_add = self.add_dense(ext_embed_add)\n",
        "                cls_token_repr = (cls_token_repr +\n",
        "                                  out_add)\n",
        "                out_concat = self.concat_dense(ext_embed_concat)\n",
        "                cls_token_repr = torch.cat(\n",
        "                    (cls_token_repr, out_concat),\n",
        "                    dim = -1)\n",
        "\n",
        "        # apply dropout\n",
        "        if self.use_dropout:\n",
        "          dropouts = self.dropout(cls_token_repr)\n",
        "        else:\n",
        "          dropouts = cls_token_repr\n",
        "\n",
        "        linear     = self.layer_norm1(self.l1(dropouts))\n",
        "        activation = self.a1(linear)\n",
        "        linear     = self.layer_norm2(self.l2(activation))\n",
        "        activation = self.a2(linear)\n",
        "        logits     = self.l2(activation)\n",
        "        if labels is not None:\n",
        "            outputs = (logits, self.loss(logits, labels))\n",
        "        else:\n",
        "            outputs = (logits,)\n",
        "        return outputs"
      ]
    },
    {
      "cell_type": "markdown",
      "metadata": {
        "id": "rKMbmbGKB17K"
      },
      "source": [
        "# BERTweet Tokenisation"
      ]
    },
    {
      "cell_type": "markdown",
      "metadata": {
        "id": "WLO9dJCqUjBX"
      },
      "source": [
        "BERTweets has its own tokenizer, so we have to repeat the data loading process"
      ]
    },
    {
      "cell_type": "code",
      "execution_count": null,
      "metadata": {
        "id": "jfjh0LgQB5pb"
      },
      "outputs": [],
      "source": [
        "from transformers import AutoTokenizer\n",
        "pretrained = \"bert-base-cased\"\n",
        "bert_tokenizer = AutoTokenizer.from_pretrained(pretrained)"
      ]
    },
    {
      "cell_type": "markdown",
      "metadata": {
        "id": "5nU4XTDFUGT4"
      },
      "source": [
        "## Without emote augmentation"
      ]
    },
    {
      "cell_type": "markdown",
      "metadata": {
        "id": "qn9H7kxho3dI"
      },
      "source": [
        "## Prepare inputs"
      ]
    },
    {
      "cell_type": "code",
      "execution_count": null,
      "metadata": {
        "colab": {
          "base_uri": "https://localhost:8080/"
        },
        "id": "rcZFS1IeUFX3",
        "outputId": "e548ec22-6ad7-474c-f79f-93d11ada7346"
      },
      "outputs": [],
      "source": [
        "inputs = labeled_msgs.message.values.tolist()\n",
        "MAX_LEN = max([len(bert_tokenizer(datapoint)['input_ids']) for datapoint in inputs])\n",
        "\n",
        "print(inputs)\n",
        "print(len(inputs))\n",
        "\n",
        "labels = labeled_msgs.sentiment_relevel.values\n",
        "\n",
        "tokenized_inputs = bert_tokenizer(\n",
        "    inputs,\n",
        "    add_special_tokens = True,\n",
        "    padding = 'max_length',\n",
        "    max_length = MAX_LEN,\n",
        "    return_tensors = 'pt',\n",
        ")\n",
        "\n",
        "input_ids = tokenized_inputs['input_ids']\n",
        "attention_masks = tokenized_inputs['attention_mask']\n",
        "\n",
        "messages = [message.split(' ') for message in labeled_msgs.message]\n",
        "w2vmodel = Word2Vec(sentences = messages,\n",
        "                    min_count = 1,\n",
        "                    vector_size = 768,\n",
        "                    workers = 4,\n",
        "                    window = 5,\n",
        "                    sg = 1,\n",
        "                    seed = SEED) # train further when adding new prediction data\n",
        "input_w2v = torch.Tensor(\n",
        "    [w2vmodel.wv[message].sum(axis = 0) for message in messages]\n",
        "    )\n"
      ]
    },
    {
      "cell_type": "markdown",
      "metadata": {
        "id": "CHhOVofjo9b-"
      },
      "source": [
        "## Split dataset"
      ]
    },
    {
      "cell_type": "code",
      "execution_count": null,
      "metadata": {
        "colab": {
          "base_uri": "https://localhost:8080/"
        },
        "id": "WOvIJzaqo7To",
        "outputId": "15d2aac7-e812-4051-bc49-97e5824bad83"
      },
      "outputs": [],
      "source": [
        "bert_train_dataloader, bert_validation_dataloader = train_valid_split_w2v(\n",
        "    input_ids       = tokenized_inputs['input_ids'],\n",
        "    input_w2v       = input_w2v,\n",
        "    attention_masks = tokenized_inputs['attention_mask'],\n",
        "    labels          = labels,\n",
        "    batch_size      = 64\n",
        ")"
      ]
    },
    {
      "cell_type": "markdown",
      "metadata": {
        "id": "bzQYs5rbEf8G"
      },
      "source": [
        "# Load BERT-base"
      ]
    },
    {
      "cell_type": "code",
      "execution_count": null,
      "metadata": {
        "colab": {
          "base_uri": "https://localhost:8080/"
        },
        "id": "x8NXxIPF6364",
        "outputId": "af37cadf-d391-4522-df94-aad79169912b"
      },
      "outputs": [
        {
          "name": "stderr",
          "output_type": "stream",
          "text": [
            "Some weights of the model checkpoint at bert-base-cased were not used when initializing BertForSentenceClassification: ['cls.seq_relationship.bias', 'cls.predictions.transform.dense.bias', 'cls.predictions.transform.LayerNorm.bias', 'cls.predictions.bias', 'cls.predictions.transform.dense.weight', 'cls.seq_relationship.weight', 'cls.predictions.transform.LayerNorm.weight', 'cls.predictions.decoder.weight']\n",
            "- This IS expected if you are initializing BertForSentenceClassification from the checkpoint of a model trained on another task or with another architecture (e.g. initializing a BertForSequenceClassification model from a BertForPreTraining model).\n",
            "- This IS NOT expected if you are initializing BertForSentenceClassification from the checkpoint of a model that you expect to be exactly identical (initializing a BertForSequenceClassification model from a BertForSequenceClassification model).\n",
            "Some weights of BertForSentenceClassification were not initialized from the model checkpoint at bert-base-cased and are newly initialized: ['bert.layer_norm.weight', 'bert.add_dense.0.bias', 'bert.l2.weight', 'bert.add_dense.1.bias', 'bert.l2.bias', 'bert.add_dense.0.weight', 'bert.add_dense.1.weight', 'bert.l1.weight', 'bert.l1.bias', 'bert.layer_norm.bias']\n",
            "You should probably TRAIN this model on a down-stream task to be able to use it for predictions and inference.\n"
          ]
        }
      ],
      "source": [
        "model = BertForSentenceClassification.from_pretrained(\n",
        "    pretrained,\n",
        "    num_labels = 3,\n",
        "    use_dropout = True,\n",
        "    ext_embed_mode = \"add\"\n",
        ")"
      ]
    },
    {
      "cell_type": "code",
      "execution_count": null,
      "metadata": {
        "colab": {
          "base_uri": "https://localhost:8080/"
        },
        "id": "TkrVxHa428l5",
        "outputId": "b432ac2f-7a5e-4c27-9e7f-c7685a071b9b"
      },
      "outputs": [
        {
          "name": "stdout",
          "output_type": "stream",
          "text": [
            "The BERT model has 209 different named parameters.\n",
            "\n",
            "==== Embedding Layer ====\n",
            "\n",
            "embeddings.word_embeddings.weight                       (28996, 768)\n",
            "embeddings.position_embeddings.weight                     (512, 768)\n",
            "embeddings.token_type_embeddings.weight                     (2, 768)\n",
            "embeddings.LayerNorm.weight                                   (768,)\n",
            "embeddings.LayerNorm.bias                                     (768,)\n",
            "\n",
            "==== First Transformer Layer ====\n",
            "\n",
            "encoder.layer.0.attention.self.query.weight               (768, 768)\n",
            "encoder.layer.0.attention.self.query.bias                     (768,)\n",
            "encoder.layer.0.attention.self.key.weight                 (768, 768)\n",
            "encoder.layer.0.attention.self.key.bias                       (768,)\n",
            "encoder.layer.0.attention.self.value.weight               (768, 768)\n",
            "encoder.layer.0.attention.self.value.bias                     (768,)\n",
            "encoder.layer.0.attention.output.dense.weight             (768, 768)\n",
            "encoder.layer.0.attention.output.dense.bias                   (768,)\n",
            "encoder.layer.0.attention.output.LayerNorm.weight             (768,)\n",
            "encoder.layer.0.attention.output.LayerNorm.bias               (768,)\n",
            "encoder.layer.0.intermediate.dense.weight                (3072, 768)\n",
            "encoder.layer.0.intermediate.dense.bias                      (3072,)\n",
            "encoder.layer.0.output.dense.weight                      (768, 3072)\n",
            "encoder.layer.0.output.dense.bias                             (768,)\n",
            "encoder.layer.0.output.LayerNorm.weight                       (768,)\n",
            "encoder.layer.0.output.LayerNorm.bias                         (768,)\n",
            "\n",
            "==== Output Layer ====\n",
            "\n",
            "l1.weight                                                 (128, 768)\n",
            "l1.bias                                                       (128,)\n",
            "layer_norm.weight                                             (128,)\n",
            "layer_norm.bias                                               (128,)\n",
            "l2.weight                                                   (3, 128)\n",
            "l2.bias                                                         (3,)\n"
          ]
        }
      ],
      "source": [
        "# Model parameters visualization\n",
        "params = list(model.named_parameters())\n",
        "\n",
        "print('The BERT model has {:} different named parameters.\\n'.format(len(params)))\n",
        "\n",
        "print('==== Embedding Layer ====\\n')\n",
        "\n",
        "for p in params[0:5]:\n",
        "    print(\"{:<55} {:>12}\".format(p[0], str(tuple(p[1].size()))))\n",
        "\n",
        "print('\\n==== First Transformer Layer ====\\n')\n",
        "\n",
        "for p in params[5:21]:\n",
        "    print(\"{:<55} {:>12}\".format(p[0], str(tuple(p[1].size()))))\n",
        "\n",
        "print('\\n==== Output Layer ====\\n')\n",
        "\n",
        "if model.ext_embed_mode == \"both\" or model.ext_embed_mode == \"concat\":\n",
        "    for p in params[-14:]:\n",
        "        print(\"{:<55} {:>12}\".format(p[0], str(tuple(p[1].size()))))\n",
        "elif model.ext_embed_mode == \"add\":\n",
        "    for p in params[-6:]:\n",
        "        print(\"{:<55} {:>12}\".format(p[0], str(tuple(p[1].size()))))\n",
        "else:\n",
        "    for p in params[-4:]:\n",
        "        print(\"{:<55} {:>12}\".format(p[0], str(tuple(p[1].size()))))"
      ]
    },
    {
      "cell_type": "markdown",
      "metadata": {
        "id": "yY-mBq95RhWu"
      },
      "source": [
        "# Freeze Layers"
      ]
    },
    {
      "cell_type": "code",
      "execution_count": null,
      "metadata": {
        "id": "P4vWsnyvRs9y"
      },
      "outputs": [],
      "source": [
        "freeze_layers = [model.embeddings, *model.encoder.layer[:5]] # freeze first 4 transformer layers\n",
        "for layer in freeze_layers:\n",
        "    for param in layer.parameters():\n",
        "        param.requires_grad = False\n",
        "## Check if layers have been frozen\n",
        "#for param in model.embeddings.parameters():\n",
        "#    print(param.requires_grad)\n",
        "#for layer in model.encoder.layer[:5]:\n",
        "#    for param in layer.parameters():\n",
        "#        print(param.requires_grad)\n",
        "#for layer in model.encoder.layer[5:]:\n",
        "#    for param in layer.parameters():\n",
        "#        print(param.requires_grad)\n",
        "#print(list(model.encoder.named_children()))"
      ]
    },
    {
      "cell_type": "markdown",
      "metadata": {
        "id": "2pH5FpjRRlFf"
      },
      "source": [
        "# Reinitialise Layers"
      ]
    },
    {
      "cell_type": "code",
      "execution_count": null,
      "metadata": {
        "colab": {
          "base_uri": "https://localhost:8080/"
        },
        "id": "GTj-UFeqRvko",
        "outputId": "cc2cef91-0dec-45cf-bb57-b2c88719180d"
      },
      "outputs": [
        {
          "data": {
            "text/plain": [
              "ModuleList(\n",
              "  (0): BertLayer(\n",
              "    (attention): BertAttention(\n",
              "      (self): BertSelfAttention(\n",
              "        (query): Linear(in_features=768, out_features=768, bias=True)\n",
              "        (key): Linear(in_features=768, out_features=768, bias=True)\n",
              "        (value): Linear(in_features=768, out_features=768, bias=True)\n",
              "        (dropout): Dropout(p=0.1, inplace=False)\n",
              "      )\n",
              "      (output): BertSelfOutput(\n",
              "        (dense): Linear(in_features=768, out_features=768, bias=True)\n",
              "        (LayerNorm): LayerNorm((768,), eps=1e-12, elementwise_affine=True)\n",
              "        (dropout): Dropout(p=0.1, inplace=False)\n",
              "      )\n",
              "    )\n",
              "    (intermediate): BertIntermediate(\n",
              "      (dense): Linear(in_features=768, out_features=3072, bias=True)\n",
              "      (intermediate_act_fn): GELUActivation()\n",
              "    )\n",
              "    (output): BertOutput(\n",
              "      (dense): Linear(in_features=3072, out_features=768, bias=True)\n",
              "      (LayerNorm): LayerNorm((768,), eps=1e-12, elementwise_affine=True)\n",
              "      (dropout): Dropout(p=0.1, inplace=False)\n",
              "    )\n",
              "  )\n",
              "  (1): BertLayer(\n",
              "    (attention): BertAttention(\n",
              "      (self): BertSelfAttention(\n",
              "        (query): Linear(in_features=768, out_features=768, bias=True)\n",
              "        (key): Linear(in_features=768, out_features=768, bias=True)\n",
              "        (value): Linear(in_features=768, out_features=768, bias=True)\n",
              "        (dropout): Dropout(p=0.1, inplace=False)\n",
              "      )\n",
              "      (output): BertSelfOutput(\n",
              "        (dense): Linear(in_features=768, out_features=768, bias=True)\n",
              "        (LayerNorm): LayerNorm((768,), eps=1e-12, elementwise_affine=True)\n",
              "        (dropout): Dropout(p=0.1, inplace=False)\n",
              "      )\n",
              "    )\n",
              "    (intermediate): BertIntermediate(\n",
              "      (dense): Linear(in_features=768, out_features=3072, bias=True)\n",
              "      (intermediate_act_fn): GELUActivation()\n",
              "    )\n",
              "    (output): BertOutput(\n",
              "      (dense): Linear(in_features=3072, out_features=768, bias=True)\n",
              "      (LayerNorm): LayerNorm((768,), eps=1e-12, elementwise_affine=True)\n",
              "      (dropout): Dropout(p=0.1, inplace=False)\n",
              "    )\n",
              "  )\n",
              "  (2): BertLayer(\n",
              "    (attention): BertAttention(\n",
              "      (self): BertSelfAttention(\n",
              "        (query): Linear(in_features=768, out_features=768, bias=True)\n",
              "        (key): Linear(in_features=768, out_features=768, bias=True)\n",
              "        (value): Linear(in_features=768, out_features=768, bias=True)\n",
              "        (dropout): Dropout(p=0.1, inplace=False)\n",
              "      )\n",
              "      (output): BertSelfOutput(\n",
              "        (dense): Linear(in_features=768, out_features=768, bias=True)\n",
              "        (LayerNorm): LayerNorm((768,), eps=1e-12, elementwise_affine=True)\n",
              "        (dropout): Dropout(p=0.1, inplace=False)\n",
              "      )\n",
              "    )\n",
              "    (intermediate): BertIntermediate(\n",
              "      (dense): Linear(in_features=768, out_features=3072, bias=True)\n",
              "      (intermediate_act_fn): GELUActivation()\n",
              "    )\n",
              "    (output): BertOutput(\n",
              "      (dense): Linear(in_features=3072, out_features=768, bias=True)\n",
              "      (LayerNorm): LayerNorm((768,), eps=1e-12, elementwise_affine=True)\n",
              "      (dropout): Dropout(p=0.1, inplace=False)\n",
              "    )\n",
              "  )\n",
              "  (3): BertLayer(\n",
              "    (attention): BertAttention(\n",
              "      (self): BertSelfAttention(\n",
              "        (query): Linear(in_features=768, out_features=768, bias=True)\n",
              "        (key): Linear(in_features=768, out_features=768, bias=True)\n",
              "        (value): Linear(in_features=768, out_features=768, bias=True)\n",
              "        (dropout): Dropout(p=0.1, inplace=False)\n",
              "      )\n",
              "      (output): BertSelfOutput(\n",
              "        (dense): Linear(in_features=768, out_features=768, bias=True)\n",
              "        (LayerNorm): LayerNorm((768,), eps=1e-12, elementwise_affine=True)\n",
              "        (dropout): Dropout(p=0.1, inplace=False)\n",
              "      )\n",
              "    )\n",
              "    (intermediate): BertIntermediate(\n",
              "      (dense): Linear(in_features=768, out_features=3072, bias=True)\n",
              "      (intermediate_act_fn): GELUActivation()\n",
              "    )\n",
              "    (output): BertOutput(\n",
              "      (dense): Linear(in_features=3072, out_features=768, bias=True)\n",
              "      (LayerNorm): LayerNorm((768,), eps=1e-12, elementwise_affine=True)\n",
              "      (dropout): Dropout(p=0.1, inplace=False)\n",
              "    )\n",
              "  )\n",
              "  (4): BertLayer(\n",
              "    (attention): BertAttention(\n",
              "      (self): BertSelfAttention(\n",
              "        (query): Linear(in_features=768, out_features=768, bias=True)\n",
              "        (key): Linear(in_features=768, out_features=768, bias=True)\n",
              "        (value): Linear(in_features=768, out_features=768, bias=True)\n",
              "        (dropout): Dropout(p=0.1, inplace=False)\n",
              "      )\n",
              "      (output): BertSelfOutput(\n",
              "        (dense): Linear(in_features=768, out_features=768, bias=True)\n",
              "        (LayerNorm): LayerNorm((768,), eps=1e-12, elementwise_affine=True)\n",
              "        (dropout): Dropout(p=0.1, inplace=False)\n",
              "      )\n",
              "    )\n",
              "    (intermediate): BertIntermediate(\n",
              "      (dense): Linear(in_features=768, out_features=3072, bias=True)\n",
              "      (intermediate_act_fn): GELUActivation()\n",
              "    )\n",
              "    (output): BertOutput(\n",
              "      (dense): Linear(in_features=3072, out_features=768, bias=True)\n",
              "      (LayerNorm): LayerNorm((768,), eps=1e-12, elementwise_affine=True)\n",
              "      (dropout): Dropout(p=0.1, inplace=False)\n",
              "    )\n",
              "  )\n",
              "  (5): BertLayer(\n",
              "    (attention): BertAttention(\n",
              "      (self): BertSelfAttention(\n",
              "        (query): Linear(in_features=768, out_features=768, bias=True)\n",
              "        (key): Linear(in_features=768, out_features=768, bias=True)\n",
              "        (value): Linear(in_features=768, out_features=768, bias=True)\n",
              "        (dropout): Dropout(p=0.1, inplace=False)\n",
              "      )\n",
              "      (output): BertSelfOutput(\n",
              "        (dense): Linear(in_features=768, out_features=768, bias=True)\n",
              "        (LayerNorm): LayerNorm((768,), eps=1e-12, elementwise_affine=True)\n",
              "        (dropout): Dropout(p=0.1, inplace=False)\n",
              "      )\n",
              "    )\n",
              "    (intermediate): BertIntermediate(\n",
              "      (dense): Linear(in_features=768, out_features=3072, bias=True)\n",
              "      (intermediate_act_fn): GELUActivation()\n",
              "    )\n",
              "    (output): BertOutput(\n",
              "      (dense): Linear(in_features=3072, out_features=768, bias=True)\n",
              "      (LayerNorm): LayerNorm((768,), eps=1e-12, elementwise_affine=True)\n",
              "      (dropout): Dropout(p=0.1, inplace=False)\n",
              "    )\n",
              "  )\n",
              ")"
            ]
          },
          "execution_count": 41,
          "metadata": {},
          "output_type": "execute_result"
        }
      ],
      "source": [
        "## Reinitialise last layer\n",
        "model.encoder.layer[-6:].apply(model._init_weights)"
      ]
    },
    {
      "cell_type": "markdown",
      "metadata": {
        "id": "OzTZp9neEkDh"
      },
      "source": [
        "# Training"
      ]
    },
    {
      "cell_type": "code",
      "execution_count": null,
      "metadata": {
        "colab": {
          "base_uri": "https://localhost:8080/"
        },
        "id": "-8yMCazi28l7",
        "outputId": "b1eca875-ae5c-4712-c647-388189f6bb98"
      },
      "outputs": [
        {
          "name": "stderr",
          "output_type": "stream",
          "text": [
            "Training (epoch 1): 100%|██████████| 49/49 [00:20<00:00,  2.34batch/s]\n"
          ]
        },
        {
          "name": "stdout",
          "output_type": "stream",
          "text": [
            "  * Average training loss: 1.09\n",
            "  * Training epoch took: 0:00:21\n",
            "Running Validation...\n"
          ]
        },
        {
          "name": "stderr",
          "output_type": "stream",
          "text": [
            "/usr/local/lib/python3.7/dist-packages/sklearn/metrics/_classification.py:1318: UndefinedMetricWarning: Recall is ill-defined and being set to 0.0 in labels with no true samples. Use `zero_division` parameter to control this behavior.\n",
            "  _warn_prf(average, modifier, msg_start, len(result))\n"
          ]
        },
        {
          "name": "stdout",
          "output_type": "stream",
          "text": [
            "  * Accuracy: 0.44\n",
            "  * Averaged validation loss: 1.07\n",
            "  * F1 score: 0.34\n",
            "  * Validation took: 0:00:02\n",
            "PREVIOUS BEST EVAL:0\n",
            "dir exists\n",
            "Saving Weights...\n"
          ]
        },
        {
          "name": "stderr",
          "output_type": "stream",
          "text": [
            "Training (epoch 2): 100%|██████████| 49/49 [00:20<00:00,  2.34batch/s]\n"
          ]
        },
        {
          "name": "stdout",
          "output_type": "stream",
          "text": [
            "  * Average training loss: 1.07\n",
            "  * Training epoch took: 0:00:21\n",
            "Running Validation...\n"
          ]
        },
        {
          "name": "stderr",
          "output_type": "stream",
          "text": [
            "/usr/local/lib/python3.7/dist-packages/sklearn/metrics/_classification.py:1318: UndefinedMetricWarning: Recall is ill-defined and being set to 0.0 in labels with no true samples. Use `zero_division` parameter to control this behavior.\n",
            "  _warn_prf(average, modifier, msg_start, len(result))\n"
          ]
        },
        {
          "name": "stdout",
          "output_type": "stream",
          "text": [
            "  * Accuracy: 0.48\n",
            "  * Averaged validation loss: 1.04\n",
            "  * F1 score: 0.38\n",
            "  * Validation took: 0:00:02\n",
            "PREVIOUS BEST EVAL:0.4423076923076923\n",
            "dir exists\n",
            "Saving Weights...\n"
          ]
        },
        {
          "name": "stderr",
          "output_type": "stream",
          "text": [
            "Training (epoch 3): 100%|██████████| 49/49 [00:20<00:00,  2.34batch/s]\n"
          ]
        },
        {
          "name": "stdout",
          "output_type": "stream",
          "text": [
            "  * Average training loss: 1.03\n",
            "  * Training epoch took: 0:00:21\n",
            "Running Validation...\n"
          ]
        },
        {
          "name": "stderr",
          "output_type": "stream",
          "text": [
            "/usr/local/lib/python3.7/dist-packages/sklearn/metrics/_classification.py:1318: UndefinedMetricWarning: Recall is ill-defined and being set to 0.0 in labels with no true samples. Use `zero_division` parameter to control this behavior.\n",
            "  _warn_prf(average, modifier, msg_start, len(result))\n"
          ]
        },
        {
          "name": "stdout",
          "output_type": "stream",
          "text": [
            "  * Accuracy: 0.57\n",
            "  * Averaged validation loss: 0.99\n",
            "  * F1 score: 0.40\n",
            "  * Validation took: 0:00:02\n",
            "PREVIOUS BEST EVAL:0.4831730769230769\n",
            "dir exists\n",
            "Saving Weights...\n"
          ]
        },
        {
          "name": "stderr",
          "output_type": "stream",
          "text": [
            "Training (epoch 4): 100%|██████████| 49/49 [00:20<00:00,  2.35batch/s]\n"
          ]
        },
        {
          "name": "stdout",
          "output_type": "stream",
          "text": [
            "  * Average training loss: 0.97\n",
            "  * Training epoch took: 0:00:21\n",
            "Running Validation...\n",
            "  * Accuracy: 0.61\n",
            "  * Averaged validation loss: 0.92\n",
            "  * F1 score: 0.44\n",
            "  * Validation took: 0:00:02\n",
            "PREVIOUS BEST EVAL:0.5745192307692307\n",
            "dir exists\n",
            "Saving Weights...\n"
          ]
        },
        {
          "name": "stderr",
          "output_type": "stream",
          "text": [
            "Training (epoch 5): 100%|██████████| 49/49 [00:20<00:00,  2.34batch/s]\n"
          ]
        },
        {
          "name": "stdout",
          "output_type": "stream",
          "text": [
            "  * Average training loss: 0.90\n",
            "  * Training epoch took: 0:00:21\n",
            "Running Validation...\n",
            "  * Accuracy: 0.64\n",
            "  * Averaged validation loss: 0.83\n",
            "  * F1 score: 0.53\n",
            "  * Validation took: 0:00:02\n",
            "PREVIOUS BEST EVAL:0.6057692307692307\n",
            "dir exists\n",
            "Saving Weights...\n"
          ]
        },
        {
          "name": "stderr",
          "output_type": "stream",
          "text": [
            "Training (epoch 6): 100%|██████████| 49/49 [00:20<00:00,  2.34batch/s]\n"
          ]
        },
        {
          "name": "stdout",
          "output_type": "stream",
          "text": [
            "  * Average training loss: 0.79\n",
            "  * Training epoch took: 0:00:21\n",
            "Running Validation...\n",
            "  * Accuracy: 0.69\n",
            "  * Averaged validation loss: 0.77\n",
            "  * F1 score: 0.60\n",
            "  * Validation took: 0:00:02\n",
            "PREVIOUS BEST EVAL:0.6370192307692307\n",
            "dir exists\n",
            "Saving Weights...\n"
          ]
        },
        {
          "name": "stderr",
          "output_type": "stream",
          "text": [
            "Training (epoch 7): 100%|██████████| 49/49 [00:20<00:00,  2.35batch/s]\n"
          ]
        },
        {
          "name": "stdout",
          "output_type": "stream",
          "text": [
            "  * Average training loss: 0.72\n",
            "  * Training epoch took: 0:00:21\n",
            "Running Validation...\n",
            "  * Accuracy: 0.68\n",
            "  * Averaged validation loss: 0.79\n",
            "  * F1 score: 0.62\n",
            "  * Validation took: 0:00:02\n",
            "PREVIOUS BEST EVAL:0.6850961538461539\n"
          ]
        },
        {
          "name": "stderr",
          "output_type": "stream",
          "text": [
            "Training (epoch 8): 100%|██████████| 49/49 [00:20<00:00,  2.34batch/s]\n"
          ]
        },
        {
          "name": "stdout",
          "output_type": "stream",
          "text": [
            "  * Average training loss: 0.63\n",
            "  * Training epoch took: 0:00:21\n",
            "Running Validation...\n",
            "  * Accuracy: 0.68\n",
            "  * Averaged validation loss: 0.77\n",
            "  * F1 score: 0.63\n",
            "  * Validation took: 0:00:02\n",
            "PREVIOUS BEST EVAL:0.6850961538461539\n"
          ]
        },
        {
          "name": "stderr",
          "output_type": "stream",
          "text": [
            "Training (epoch 9): 100%|██████████| 49/49 [00:20<00:00,  2.35batch/s]\n"
          ]
        },
        {
          "name": "stdout",
          "output_type": "stream",
          "text": [
            "  * Average training loss: 0.58\n",
            "  * Training epoch took: 0:00:21\n",
            "Running Validation...\n",
            "  * Accuracy: 0.70\n",
            "  * Averaged validation loss: 0.76\n",
            "  * F1 score: 0.65\n",
            "  * Validation took: 0:00:02\n",
            "PREVIOUS BEST EVAL:0.6850961538461539\n",
            "dir exists\n",
            "Saving Weights...\n"
          ]
        },
        {
          "name": "stderr",
          "output_type": "stream",
          "text": [
            "Training (epoch 10): 100%|██████████| 49/49 [00:20<00:00,  2.34batch/s]\n"
          ]
        },
        {
          "name": "stdout",
          "output_type": "stream",
          "text": [
            "  * Average training loss: 0.58\n",
            "  * Training epoch took: 0:00:21\n",
            "Running Validation...\n",
            "  * Accuracy: 0.66\n",
            "  * Averaged validation loss: 0.82\n",
            "  * F1 score: 0.61\n",
            "  * Validation took: 0:00:02\n",
            "PREVIOUS BEST EVAL:0.6971153846153846\n"
          ]
        },
        {
          "name": "stderr",
          "output_type": "stream",
          "text": [
            "Training (epoch 11): 100%|██████████| 49/49 [00:20<00:00,  2.34batch/s]\n"
          ]
        },
        {
          "name": "stdout",
          "output_type": "stream",
          "text": [
            "  * Average training loss: 0.56\n",
            "  * Training epoch took: 0:00:21\n",
            "Running Validation...\n",
            "  * Accuracy: 0.68\n",
            "  * Averaged validation loss: 0.80\n",
            "  * F1 score: 0.64\n",
            "  * Validation took: 0:00:02\n",
            "PREVIOUS BEST EVAL:0.6971153846153846\n"
          ]
        },
        {
          "name": "stderr",
          "output_type": "stream",
          "text": [
            "Training (epoch 12): 100%|██████████| 49/49 [00:20<00:00,  2.34batch/s]\n"
          ]
        },
        {
          "name": "stdout",
          "output_type": "stream",
          "text": [
            "  * Average training loss: 0.47\n",
            "  * Training epoch took: 0:00:21\n",
            "Running Validation...\n",
            "  * Accuracy: 0.67\n",
            "  * Averaged validation loss: 0.81\n",
            "  * F1 score: 0.63\n",
            "  * Validation took: 0:00:02\n",
            "PREVIOUS BEST EVAL:0.6971153846153846\n"
          ]
        },
        {
          "name": "stderr",
          "output_type": "stream",
          "text": [
            "Training (epoch 13): 100%|██████████| 49/49 [00:20<00:00,  2.34batch/s]\n"
          ]
        },
        {
          "name": "stdout",
          "output_type": "stream",
          "text": [
            "  * Average training loss: 0.45\n",
            "  * Training epoch took: 0:00:21\n",
            "Running Validation...\n",
            "  * Accuracy: 0.69\n",
            "  * Averaged validation loss: 0.86\n",
            "  * F1 score: 0.63\n",
            "  * Validation took: 0:00:02\n",
            "PREVIOUS BEST EVAL:0.6971153846153846\n"
          ]
        },
        {
          "name": "stderr",
          "output_type": "stream",
          "text": [
            "Training (epoch 14): 100%|██████████| 49/49 [00:20<00:00,  2.34batch/s]\n"
          ]
        },
        {
          "name": "stdout",
          "output_type": "stream",
          "text": [
            "  * Average training loss: 0.42\n",
            "  * Training epoch took: 0:00:21\n",
            "Running Validation...\n",
            "  * Accuracy: 0.71\n",
            "  * Averaged validation loss: 0.84\n",
            "  * F1 score: 0.66\n",
            "  * Validation took: 0:00:02\n",
            "PREVIOUS BEST EVAL:0.6971153846153846\n",
            "dir exists\n",
            "Saving Weights...\n"
          ]
        },
        {
          "name": "stderr",
          "output_type": "stream",
          "text": [
            "Training (epoch 15): 100%|██████████| 49/49 [00:20<00:00,  2.34batch/s]\n"
          ]
        },
        {
          "name": "stdout",
          "output_type": "stream",
          "text": [
            "  * Average training loss: 0.38\n",
            "  * Training epoch took: 0:00:21\n",
            "Running Validation...\n",
            "  * Accuracy: 0.67\n",
            "  * Averaged validation loss: 0.91\n",
            "  * F1 score: 0.63\n",
            "  * Validation took: 0:00:02\n",
            "PREVIOUS BEST EVAL:0.7091346153846154\n"
          ]
        },
        {
          "name": "stderr",
          "output_type": "stream",
          "text": [
            "Training (epoch 16): 100%|██████████| 49/49 [00:20<00:00,  2.34batch/s]\n"
          ]
        },
        {
          "name": "stdout",
          "output_type": "stream",
          "text": [
            "  * Average training loss: 0.43\n",
            "  * Training epoch took: 0:00:21\n",
            "Running Validation...\n",
            "  * Accuracy: 0.69\n",
            "  * Averaged validation loss: 0.95\n",
            "  * F1 score: 0.65\n",
            "  * Validation took: 0:00:02\n",
            "PREVIOUS BEST EVAL:0.7091346153846154\n"
          ]
        },
        {
          "name": "stderr",
          "output_type": "stream",
          "text": [
            "Training (epoch 17): 100%|██████████| 49/49 [00:20<00:00,  2.34batch/s]\n"
          ]
        },
        {
          "name": "stdout",
          "output_type": "stream",
          "text": [
            "  * Average training loss: 0.34\n",
            "  * Training epoch took: 0:00:21\n",
            "Running Validation...\n",
            "  * Accuracy: 0.68\n",
            "  * Averaged validation loss: 0.95\n",
            "  * F1 score: 0.64\n",
            "  * Validation took: 0:00:02\n",
            "PREVIOUS BEST EVAL:0.7091346153846154\n"
          ]
        },
        {
          "name": "stderr",
          "output_type": "stream",
          "text": [
            "Training (epoch 18): 100%|██████████| 49/49 [00:20<00:00,  2.35batch/s]\n"
          ]
        },
        {
          "name": "stdout",
          "output_type": "stream",
          "text": [
            "  * Average training loss: 0.33\n",
            "  * Training epoch took: 0:00:21\n",
            "Running Validation...\n",
            "  * Accuracy: 0.68\n",
            "  * Averaged validation loss: 0.97\n",
            "  * F1 score: 0.64\n",
            "  * Validation took: 0:00:02\n",
            "PREVIOUS BEST EVAL:0.7091346153846154\n"
          ]
        },
        {
          "name": "stderr",
          "output_type": "stream",
          "text": [
            "Training (epoch 19): 100%|██████████| 49/49 [00:20<00:00,  2.35batch/s]\n"
          ]
        },
        {
          "name": "stdout",
          "output_type": "stream",
          "text": [
            "  * Average training loss: 0.32\n",
            "  * Training epoch took: 0:00:21\n",
            "Running Validation...\n",
            "  * Accuracy: 0.69\n",
            "  * Averaged validation loss: 0.97\n",
            "  * F1 score: 0.65\n",
            "  * Validation took: 0:00:02\n",
            "PREVIOUS BEST EVAL:0.7091346153846154\n"
          ]
        },
        {
          "name": "stderr",
          "output_type": "stream",
          "text": [
            "Training (epoch 20): 100%|██████████| 49/49 [00:20<00:00,  2.34batch/s]\n"
          ]
        },
        {
          "name": "stdout",
          "output_type": "stream",
          "text": [
            "  * Average training loss: 0.30\n",
            "  * Training epoch took: 0:00:21\n",
            "Running Validation...\n",
            "  * Accuracy: 0.68\n",
            "  * Averaged validation loss: 1.02\n",
            "  * F1 score: 0.64\n",
            "  * Validation took: 0:00:02\n",
            "PREVIOUS BEST EVAL:0.7091346153846154\n"
          ]
        },
        {
          "name": "stderr",
          "output_type": "stream",
          "text": [
            "Training (epoch 21): 100%|██████████| 49/49 [00:20<00:00,  2.34batch/s]\n"
          ]
        },
        {
          "name": "stdout",
          "output_type": "stream",
          "text": [
            "  * Average training loss: 0.28\n",
            "  * Training epoch took: 0:00:21\n",
            "Running Validation...\n",
            "  * Accuracy: 0.66\n",
            "  * Averaged validation loss: 1.02\n",
            "  * F1 score: 0.62\n",
            "  * Validation took: 0:00:02\n",
            "PREVIOUS BEST EVAL:0.7091346153846154\n"
          ]
        },
        {
          "name": "stderr",
          "output_type": "stream",
          "text": [
            "Training (epoch 22): 100%|██████████| 49/49 [00:20<00:00,  2.34batch/s]\n"
          ]
        },
        {
          "name": "stdout",
          "output_type": "stream",
          "text": [
            "  * Average training loss: 0.29\n",
            "  * Training epoch took: 0:00:21\n",
            "Running Validation...\n",
            "  * Accuracy: 0.68\n",
            "  * Averaged validation loss: 1.07\n",
            "  * F1 score: 0.64\n",
            "  * Validation took: 0:00:02\n",
            "PREVIOUS BEST EVAL:0.7091346153846154\n"
          ]
        },
        {
          "name": "stderr",
          "output_type": "stream",
          "text": [
            "Training (epoch 23): 100%|██████████| 49/49 [00:20<00:00,  2.34batch/s]\n"
          ]
        },
        {
          "name": "stdout",
          "output_type": "stream",
          "text": [
            "  * Average training loss: 0.25\n",
            "  * Training epoch took: 0:00:21\n",
            "Running Validation...\n",
            "  * Accuracy: 0.70\n",
            "  * Averaged validation loss: 1.06\n",
            "  * F1 score: 0.65\n",
            "  * Validation took: 0:00:02\n",
            "PREVIOUS BEST EVAL:0.7091346153846154\n"
          ]
        },
        {
          "name": "stderr",
          "output_type": "stream",
          "text": [
            "Training (epoch 24): 100%|██████████| 49/49 [00:20<00:00,  2.35batch/s]\n"
          ]
        },
        {
          "name": "stdout",
          "output_type": "stream",
          "text": [
            "  * Average training loss: 0.26\n",
            "  * Training epoch took: 0:00:21\n",
            "Running Validation...\n",
            "  * Accuracy: 0.69\n",
            "  * Averaged validation loss: 1.07\n",
            "  * F1 score: 0.65\n",
            "  * Validation took: 0:00:02\n",
            "PREVIOUS BEST EVAL:0.7091346153846154\n"
          ]
        },
        {
          "name": "stderr",
          "output_type": "stream",
          "text": [
            "Training (epoch 25): 100%|██████████| 49/49 [00:20<00:00,  2.34batch/s]\n"
          ]
        },
        {
          "name": "stdout",
          "output_type": "stream",
          "text": [
            "  * Average training loss: 0.24\n",
            "  * Training epoch took: 0:00:21\n",
            "Running Validation...\n",
            "  * Accuracy: 0.69\n",
            "  * Averaged validation loss: 1.07\n",
            "  * F1 score: 0.64\n",
            "  * Validation took: 0:00:02\n",
            "PREVIOUS BEST EVAL:0.7091346153846154\n"
          ]
        },
        {
          "name": "stderr",
          "output_type": "stream",
          "text": [
            "Training (epoch 26): 100%|██████████| 49/49 [00:20<00:00,  2.34batch/s]\n"
          ]
        },
        {
          "name": "stdout",
          "output_type": "stream",
          "text": [
            "  * Average training loss: 0.24\n",
            "  * Training epoch took: 0:00:21\n",
            "Running Validation...\n",
            "  * Accuracy: 0.69\n",
            "  * Averaged validation loss: 1.10\n",
            "  * F1 score: 0.64\n",
            "  * Validation took: 0:00:02\n",
            "PREVIOUS BEST EVAL:0.7091346153846154\n"
          ]
        },
        {
          "name": "stderr",
          "output_type": "stream",
          "text": [
            "Training (epoch 27): 100%|██████████| 49/49 [00:20<00:00,  2.34batch/s]\n"
          ]
        },
        {
          "name": "stdout",
          "output_type": "stream",
          "text": [
            "  * Average training loss: 0.23\n",
            "  * Training epoch took: 0:00:21\n",
            "Running Validation...\n",
            "  * Accuracy: 0.67\n",
            "  * Averaged validation loss: 1.15\n",
            "  * F1 score: 0.63\n",
            "  * Validation took: 0:00:02\n",
            "PREVIOUS BEST EVAL:0.7091346153846154\n"
          ]
        },
        {
          "name": "stderr",
          "output_type": "stream",
          "text": [
            "Training (epoch 28): 100%|██████████| 49/49 [00:20<00:00,  2.34batch/s]\n"
          ]
        },
        {
          "name": "stdout",
          "output_type": "stream",
          "text": [
            "  * Average training loss: 0.22\n",
            "  * Training epoch took: 0:00:21\n",
            "Running Validation...\n",
            "  * Accuracy: 0.66\n",
            "  * Averaged validation loss: 1.15\n",
            "  * F1 score: 0.61\n",
            "  * Validation took: 0:00:02\n",
            "PREVIOUS BEST EVAL:0.7091346153846154\n"
          ]
        },
        {
          "name": "stderr",
          "output_type": "stream",
          "text": [
            "Training (epoch 29): 100%|██████████| 49/49 [00:20<00:00,  2.34batch/s]\n"
          ]
        },
        {
          "name": "stdout",
          "output_type": "stream",
          "text": [
            "  * Average training loss: 0.22\n",
            "  * Training epoch took: 0:00:21\n",
            "Running Validation...\n",
            "  * Accuracy: 0.68\n",
            "  * Averaged validation loss: 1.13\n",
            "  * F1 score: 0.64\n",
            "  * Validation took: 0:00:02\n",
            "PREVIOUS BEST EVAL:0.7091346153846154\n"
          ]
        },
        {
          "name": "stderr",
          "output_type": "stream",
          "text": [
            "Training (epoch 30): 100%|██████████| 49/49 [00:20<00:00,  2.34batch/s]\n"
          ]
        },
        {
          "name": "stdout",
          "output_type": "stream",
          "text": [
            "  * Average training loss: 0.22\n",
            "  * Training epoch took: 0:00:21\n",
            "Running Validation...\n",
            "  * Accuracy: 0.68\n",
            "  * Averaged validation loss: 1.14\n",
            "  * F1 score: 0.63\n",
            "  * Validation took: 0:00:02\n",
            "PREVIOUS BEST EVAL:0.7091346153846154\n"
          ]
        },
        {
          "name": "stderr",
          "output_type": "stream",
          "text": [
            "Training (epoch 31): 100%|██████████| 49/49 [00:20<00:00,  2.34batch/s]\n"
          ]
        },
        {
          "name": "stdout",
          "output_type": "stream",
          "text": [
            "  * Average training loss: 0.21\n",
            "  * Training epoch took: 0:00:21\n",
            "Running Validation...\n",
            "  * Accuracy: 0.67\n",
            "  * Averaged validation loss: 1.16\n",
            "  * F1 score: 0.62\n",
            "  * Validation took: 0:00:02\n",
            "PREVIOUS BEST EVAL:0.7091346153846154\n"
          ]
        },
        {
          "name": "stderr",
          "output_type": "stream",
          "text": [
            "Training (epoch 32): 100%|██████████| 49/49 [00:20<00:00,  2.34batch/s]\n"
          ]
        },
        {
          "name": "stdout",
          "output_type": "stream",
          "text": [
            "  * Average training loss: 0.21\n",
            "  * Training epoch took: 0:00:21\n",
            "Running Validation...\n",
            "  * Accuracy: 0.67\n",
            "  * Averaged validation loss: 1.18\n",
            "  * F1 score: 0.63\n",
            "  * Validation took: 0:00:02\n",
            "PREVIOUS BEST EVAL:0.7091346153846154\n"
          ]
        },
        {
          "name": "stderr",
          "output_type": "stream",
          "text": [
            "Training (epoch 33): 100%|██████████| 49/49 [00:20<00:00,  2.34batch/s]\n"
          ]
        },
        {
          "name": "stdout",
          "output_type": "stream",
          "text": [
            "  * Average training loss: 0.21\n",
            "  * Training epoch took: 0:00:21\n",
            "Running Validation...\n",
            "  * Accuracy: 0.70\n",
            "  * Averaged validation loss: 1.13\n",
            "  * F1 score: 0.65\n",
            "  * Validation took: 0:00:02\n",
            "PREVIOUS BEST EVAL:0.7091346153846154\n"
          ]
        },
        {
          "name": "stderr",
          "output_type": "stream",
          "text": [
            "Training (epoch 34): 100%|██████████| 49/49 [00:20<00:00,  2.34batch/s]\n"
          ]
        },
        {
          "name": "stdout",
          "output_type": "stream",
          "text": [
            "  * Average training loss: 0.20\n",
            "  * Training epoch took: 0:00:21\n",
            "Running Validation...\n",
            "  * Accuracy: 0.70\n",
            "  * Averaged validation loss: 1.15\n",
            "  * F1 score: 0.65\n",
            "  * Validation took: 0:00:02\n",
            "PREVIOUS BEST EVAL:0.7091346153846154\n"
          ]
        },
        {
          "name": "stderr",
          "output_type": "stream",
          "text": [
            "Training (epoch 35): 100%|██████████| 49/49 [00:20<00:00,  2.34batch/s]\n"
          ]
        },
        {
          "name": "stdout",
          "output_type": "stream",
          "text": [
            "  * Average training loss: 0.18\n",
            "  * Training epoch took: 0:00:21\n",
            "Running Validation...\n",
            "  * Accuracy: 0.69\n",
            "  * Averaged validation loss: 1.18\n",
            "  * F1 score: 0.64\n",
            "  * Validation took: 0:00:02\n",
            "PREVIOUS BEST EVAL:0.7091346153846154\n"
          ]
        },
        {
          "name": "stderr",
          "output_type": "stream",
          "text": [
            "Training (epoch 36): 100%|██████████| 49/49 [00:20<00:00,  2.34batch/s]\n"
          ]
        },
        {
          "name": "stdout",
          "output_type": "stream",
          "text": [
            "  * Average training loss: 0.18\n",
            "  * Training epoch took: 0:00:21\n",
            "Running Validation...\n",
            "  * Accuracy: 0.68\n",
            "  * Averaged validation loss: 1.20\n",
            "  * F1 score: 0.64\n",
            "  * Validation took: 0:00:02\n",
            "PREVIOUS BEST EVAL:0.7091346153846154\n"
          ]
        },
        {
          "name": "stderr",
          "output_type": "stream",
          "text": [
            "Training (epoch 37): 100%|██████████| 49/49 [00:20<00:00,  2.34batch/s]\n"
          ]
        },
        {
          "name": "stdout",
          "output_type": "stream",
          "text": [
            "  * Average training loss: 0.18\n",
            "  * Training epoch took: 0:00:21\n",
            "Running Validation...\n",
            "  * Accuracy: 0.70\n",
            "  * Averaged validation loss: 1.18\n",
            "  * F1 score: 0.66\n",
            "  * Validation took: 0:00:02\n",
            "PREVIOUS BEST EVAL:0.7091346153846154\n"
          ]
        },
        {
          "name": "stderr",
          "output_type": "stream",
          "text": [
            "Training (epoch 38): 100%|██████████| 49/49 [00:20<00:00,  2.34batch/s]\n"
          ]
        },
        {
          "name": "stdout",
          "output_type": "stream",
          "text": [
            "  * Average training loss: 0.19\n",
            "  * Training epoch took: 0:00:21\n",
            "Running Validation...\n",
            "  * Accuracy: 0.69\n",
            "  * Averaged validation loss: 1.18\n",
            "  * F1 score: 0.64\n",
            "  * Validation took: 0:00:02\n",
            "PREVIOUS BEST EVAL:0.7091346153846154\n"
          ]
        },
        {
          "name": "stderr",
          "output_type": "stream",
          "text": [
            "Training (epoch 39): 100%|██████████| 49/49 [00:20<00:00,  2.34batch/s]\n"
          ]
        },
        {
          "name": "stdout",
          "output_type": "stream",
          "text": [
            "  * Average training loss: 0.17\n",
            "  * Training epoch took: 0:00:21\n",
            "Running Validation...\n",
            "  * Accuracy: 0.69\n",
            "  * Averaged validation loss: 1.21\n",
            "  * F1 score: 0.64\n",
            "  * Validation took: 0:00:02\n",
            "PREVIOUS BEST EVAL:0.7091346153846154\n"
          ]
        },
        {
          "name": "stderr",
          "output_type": "stream",
          "text": [
            "Training (epoch 40): 100%|██████████| 49/49 [00:20<00:00,  2.34batch/s]\n"
          ]
        },
        {
          "name": "stdout",
          "output_type": "stream",
          "text": [
            "  * Average training loss: 0.16\n",
            "  * Training epoch took: 0:00:21\n",
            "Running Validation...\n",
            "  * Accuracy: 0.69\n",
            "  * Averaged validation loss: 1.20\n",
            "  * F1 score: 0.65\n",
            "  * Validation took: 0:00:02\n",
            "PREVIOUS BEST EVAL:0.7091346153846154\n"
          ]
        },
        {
          "name": "stderr",
          "output_type": "stream",
          "text": [
            "Training (epoch 41): 100%|██████████| 49/49 [00:20<00:00,  2.34batch/s]\n"
          ]
        },
        {
          "name": "stdout",
          "output_type": "stream",
          "text": [
            "  * Average training loss: 0.16\n",
            "  * Training epoch took: 0:00:21\n",
            "Running Validation...\n",
            "  * Accuracy: 0.69\n",
            "  * Averaged validation loss: 1.21\n",
            "  * F1 score: 0.65\n",
            "  * Validation took: 0:00:02\n",
            "PREVIOUS BEST EVAL:0.7091346153846154\n"
          ]
        },
        {
          "name": "stderr",
          "output_type": "stream",
          "text": [
            "Training (epoch 42): 100%|██████████| 49/49 [00:20<00:00,  2.34batch/s]\n"
          ]
        },
        {
          "name": "stdout",
          "output_type": "stream",
          "text": [
            "  * Average training loss: 0.16\n",
            "  * Training epoch took: 0:00:21\n",
            "Running Validation...\n",
            "  * Accuracy: 0.69\n",
            "  * Averaged validation loss: 1.24\n",
            "  * F1 score: 0.65\n",
            "  * Validation took: 0:00:02\n",
            "PREVIOUS BEST EVAL:0.7091346153846154\n"
          ]
        },
        {
          "name": "stderr",
          "output_type": "stream",
          "text": [
            "Training (epoch 43): 100%|██████████| 49/49 [00:20<00:00,  2.34batch/s]\n"
          ]
        },
        {
          "name": "stdout",
          "output_type": "stream",
          "text": [
            "  * Average training loss: 0.17\n",
            "  * Training epoch took: 0:00:21\n",
            "Running Validation...\n",
            "  * Accuracy: 0.69\n",
            "  * Averaged validation loss: 1.23\n",
            "  * F1 score: 0.65\n",
            "  * Validation took: 0:00:02\n",
            "PREVIOUS BEST EVAL:0.7091346153846154\n"
          ]
        },
        {
          "name": "stderr",
          "output_type": "stream",
          "text": [
            "Training (epoch 44): 100%|██████████| 49/49 [00:20<00:00,  2.34batch/s]\n"
          ]
        },
        {
          "name": "stdout",
          "output_type": "stream",
          "text": [
            "  * Average training loss: 0.16\n",
            "  * Training epoch took: 0:00:21\n",
            "Running Validation...\n",
            "  * Accuracy: 0.69\n",
            "  * Averaged validation loss: 1.24\n",
            "  * F1 score: 0.65\n",
            "  * Validation took: 0:00:02\n",
            "PREVIOUS BEST EVAL:0.7091346153846154\n"
          ]
        },
        {
          "name": "stderr",
          "output_type": "stream",
          "text": [
            "Training (epoch 45): 100%|██████████| 49/49 [00:20<00:00,  2.34batch/s]\n"
          ]
        },
        {
          "name": "stdout",
          "output_type": "stream",
          "text": [
            "  * Average training loss: 0.16\n",
            "  * Training epoch took: 0:00:21\n",
            "Running Validation...\n",
            "  * Accuracy: 0.70\n",
            "  * Averaged validation loss: 1.22\n",
            "  * F1 score: 0.65\n",
            "  * Validation took: 0:00:02\n",
            "PREVIOUS BEST EVAL:0.7091346153846154\n"
          ]
        },
        {
          "name": "stderr",
          "output_type": "stream",
          "text": [
            "Training (epoch 46): 100%|██████████| 49/49 [00:20<00:00,  2.34batch/s]\n"
          ]
        },
        {
          "name": "stdout",
          "output_type": "stream",
          "text": [
            "  * Average training loss: 0.15\n",
            "  * Training epoch took: 0:00:21\n",
            "Running Validation...\n",
            "  * Accuracy: 0.69\n",
            "  * Averaged validation loss: 1.24\n",
            "  * F1 score: 0.65\n",
            "  * Validation took: 0:00:02\n",
            "PREVIOUS BEST EVAL:0.7091346153846154\n"
          ]
        },
        {
          "name": "stderr",
          "output_type": "stream",
          "text": [
            "Training (epoch 47): 100%|██████████| 49/49 [00:20<00:00,  2.34batch/s]\n"
          ]
        },
        {
          "name": "stdout",
          "output_type": "stream",
          "text": [
            "  * Average training loss: 0.15\n",
            "  * Training epoch took: 0:00:21\n",
            "Running Validation...\n",
            "  * Accuracy: 0.70\n",
            "  * Averaged validation loss: 1.23\n",
            "  * F1 score: 0.66\n",
            "  * Validation took: 0:00:02\n",
            "PREVIOUS BEST EVAL:0.7091346153846154\n"
          ]
        },
        {
          "name": "stderr",
          "output_type": "stream",
          "text": [
            "Training (epoch 48): 100%|██████████| 49/49 [00:20<00:00,  2.34batch/s]\n"
          ]
        },
        {
          "name": "stdout",
          "output_type": "stream",
          "text": [
            "  * Average training loss: 0.15\n",
            "  * Training epoch took: 0:00:21\n",
            "Running Validation...\n",
            "  * Accuracy: 0.70\n",
            "  * Averaged validation loss: 1.23\n",
            "  * F1 score: 0.65\n",
            "  * Validation took: 0:00:02\n",
            "PREVIOUS BEST EVAL:0.7091346153846154\n"
          ]
        },
        {
          "name": "stderr",
          "output_type": "stream",
          "text": [
            "Training (epoch 49): 100%|██████████| 49/49 [00:20<00:00,  2.34batch/s]\n"
          ]
        },
        {
          "name": "stdout",
          "output_type": "stream",
          "text": [
            "  * Average training loss: 0.15\n",
            "  * Training epoch took: 0:00:21\n",
            "Running Validation...\n",
            "  * Accuracy: 0.69\n",
            "  * Averaged validation loss: 1.23\n",
            "  * F1 score: 0.65\n",
            "  * Validation took: 0:00:02\n",
            "PREVIOUS BEST EVAL:0.7091346153846154\n"
          ]
        },
        {
          "name": "stderr",
          "output_type": "stream",
          "text": [
            "Training (epoch 50): 100%|██████████| 49/49 [00:20<00:00,  2.34batch/s]\n"
          ]
        },
        {
          "name": "stdout",
          "output_type": "stream",
          "text": [
            "  * Average training loss: 0.16\n",
            "  * Training epoch took: 0:00:21\n",
            "Running Validation...\n",
            "  * Accuracy: 0.69\n",
            "  * Averaged validation loss: 1.23\n",
            "  * F1 score: 0.65\n",
            "  * Validation took: 0:00:02\n",
            "PREVIOUS BEST EVAL:0.7091346153846154\n",
            "Training complete!\n"
          ]
        }
      ],
      "source": [
        "# About 2-3 seconds per epoch using GPU\n",
        "model_eval = train_model(\n",
        "    model  = model,\n",
        "    epochs = 50,\n",
        "    train_dataloader = bert_train_dataloader,\n",
        "    validation_dataloader = bert_validation_dataloader\n",
        ")"
      ]
    },
    {
      "cell_type": "code",
      "execution_count": null,
      "metadata": {
        "id": "WbVeyragOqWD"
      },
      "outputs": [],
      "source": [
        "import json\n",
        "with open('w2v_mlp_GELU_only_freeze4_reinit6_epoch50_lr2e-5_wd01.json', 'w') as f:\n",
        "  json.dump(model_eval, f)"
      ]
    },
    {
      "cell_type": "code",
      "execution_count": null,
      "metadata": {
        "colab": {
          "base_uri": "https://localhost:8080/"
        },
        "id": "idb5Qh7SwWlC",
        "outputId": "b7d241b8-606d-42ff-dc8e-08e22983899e"
      },
      "outputs": [
        {
          "name": "stdout",
          "output_type": "stream",
          "text": [
            "Drive already mounted at /content/drive; to attempt to forcibly remount, call drive.mount(\"/content/drive\", force_remount=True).\n"
          ]
        }
      ],
      "source": [
        "from google.colab import drive\n",
        "drive.mount('/content/drive')"
      ]
    },
    {
      "cell_type": "code",
      "execution_count": null,
      "metadata": {
        "id": "KKplJWwkwbzI"
      },
      "outputs": [],
      "source": [
        "!mv w2v_mlp_GELU_only_freeze4_reinit6_epoch50_lr2e-5_wd01.pkl /content/drive/MyDrive/CSC413_project_data/"
      ]
    },
    {
      "cell_type": "code",
      "execution_count": null,
      "metadata": {
        "colab": {
          "base_uri": "https://localhost:8080/"
        },
        "id": "8CYALXjB-Kan",
        "outputId": "d9dc80f0-9a1b-4018-c978-d7e14fc40b4c"
      },
      "outputs": [
        {
          "name": "stdout",
          "output_type": "stream",
          "text": [
            "dir exists\n"
          ]
        }
      ],
      "source": [
        "try:\n",
        "  os.makedirs(\"./weights/\")\n",
        "except:\n",
        "  print(\"dir exists\")\n",
        "\n",
        "model.save_pretrained(\"./weights/curr\")"
      ]
    },
    {
      "cell_type": "code",
      "execution_count": null,
      "metadata": {
        "id": "j-zghlV928l8"
      },
      "outputs": [],
      "source": [
        "%matplotlib inline\n",
        "import matplotlib.pyplot as plt\n",
        "import seaborn as sns\n",
        "\n",
        "def plot_loss_and_acc(loss_vals, eval_accs):\n",
        "    sns.set(style='darkgrid')\n",
        "    sns.set(font_scale=1.5)\n",
        "    plt.rcParams[\"figure.figsize\"] = (12,6)\n",
        "    fig, ax1 = plt.subplots(1,1)\n",
        "    ax1.plot(loss_vals, 'b-o', label = 'training loss')\n",
        "    ax2 = ax1.twinx()\n",
        "    ax2.plot(eval_accs, 'y-o', label = 'validation accuracy')\n",
        "    ax2.set_title(\"Training loss and validation accuracy\")\n",
        "    ax2.set_xlabel(\"Epoch\")\n",
        "    ax1.set_ylabel(\"Loss\", color='b')\n",
        "    ax2.set_ylabel(\"Accuracy\", color='y')\n",
        "    ax1.tick_params(axis='y', rotation=0, labelcolor='b' )\n",
        "    ax2.tick_params(axis='y', rotation=0, labelcolor='y' )\n",
        "    plt.show()\n",
        "\n",
        "def plot_loss(train_loss, valid_loss):\n",
        "    # Use plot styling from seaborn.\n",
        "    sns.set(style='darkgrid')\n",
        "    sns.set(font_scale=1.5)\n",
        "    plt.rcParams[\"figure.figsize\"] = (12,6)\n",
        "    plt.plot(train_loss, 'b-o', label=\"Training\")\n",
        "    plt.plot(valid_loss, 'g-o', label=\"Validation\")\n",
        "    plt.title(\"Training & Validation Loss\")\n",
        "    plt.xlabel(\"Epoch\")\n",
        "    plt.ylabel(\"Loss\")\n",
        "    plt.legend()\n",
        "    plt.show()\n",
        "\n",
        "def plot_acc_and_f1(eval_accs, f1):\n",
        "    sns.set(style='darkgrid')\n",
        "    sns.set(font_scale=1.5)\n",
        "    plt.rcParams[\"figure.figsize\"] = (12,6)\n",
        "    fig, ax1 = plt.subplots(1,1)\n",
        "    ax1.plot(f1, 'g-o', label = 'training loss')\n",
        "    ax2 = ax1.twinx()\n",
        "    ax2.plot(eval_accs, 'k-o', label = 'validation accuracy')\n",
        "    ax2.set_title(\"F1 score and Validation accuracy\")\n",
        "    ax2.set_xlabel(\"Epoch\")\n",
        "    ax1.set_ylabel(\"F1 score\", color='g')\n",
        "    ax2.set_ylabel(\"Accuracy\", color='k')\n",
        "    ax1.tick_params(axis='y', rotation=0, labelcolor='g' )\n",
        "    ax2.tick_params(axis='y', rotation=0, labelcolor='k' )\n",
        "    plt.show()\n"
      ]
    },
    {
      "cell_type": "code",
      "execution_count": null,
      "metadata": {
        "colab": {
          "base_uri": "https://localhost:8080/",
          "height": 405
        },
        "id": "vSZOHRrb28l8",
        "outputId": "d6aa2a52-88de-4428-8d43-2e9c7a63cdb7"
      },
      "outputs": [
        {
          "data": {
            "image/png": "[encoded data removed]",
            "text/plain": [
              "<Figure size 864x432 with 2 Axes>"
            ]
          },
          "metadata": {},
          "output_type": "display_data"
        }
      ],
      "source": [
        "plot_loss_and_acc(model_eval[\"train_loss\"], model_eval[\"valid_accs\"])"
      ]
    },
    {
      "cell_type": "code",
      "execution_count": null,
      "metadata": {
        "colab": {
          "base_uri": "https://localhost:8080/",
          "height": 427
        },
        "id": "uH9jruByECWM",
        "outputId": "971b072d-9b48-4e3e-cd3d-a38f0bbe4b51"
      },
      "outputs": [
        {
          "data": {
            "image/png": "[encoded data removed]",
            "text/plain": [
              "<Figure size 864x432 with 1 Axes>"
            ]
          },
          "metadata": {},
          "output_type": "display_data"
        }
      ],
      "source": [
        "plot_loss(model_eval[\"train_loss\"], model_eval[\"valid_loss\"])"
      ]
    },
    {
      "cell_type": "code",
      "execution_count": null,
      "metadata": {
        "colab": {
          "base_uri": "https://localhost:8080/",
          "height": 405
        },
        "id": "C1sp5dv1EEOg",
        "outputId": "4f334f67-ae6d-400b-d701-a34df64b280c"
      },
      "outputs": [
        {
          "data": {
            "image/png": "[encoded data removed]",
            "text/plain": [
              "<Figure size 864x432 with 2 Axes>"
            ]
          },
          "metadata": {},
          "output_type": "display_data"
        }
      ],
      "source": [
        "plot_acc_and_f1(model_eval[\"valid_accs\"], model_eval[\"f1\"])"
      ]
    },
    {
      "cell_type": "code",
      "execution_count": null,
      "metadata": {
        "id": "dliLwY3L28l9"
      },
      "outputs": [],
      "source": [
        "def predict(inputs, tokenizer, model):\n",
        "  with torch.no_grad():\n",
        "    max_len = max([len(tokenizer(datapoint)['input_ids']) for datapoint in inputs])\n",
        "    tokenized_inputs = tokenizer(\n",
        "      inputs.tolist(),          # Input text\n",
        "      add_special_tokens=True,  # add '[CLS]' and '[SEP]'\n",
        "      padding='max_length',     # pad to a length specified by the max_length\n",
        "      max_length=max_len,       # truncate all sentences longer than max_length\n",
        "      return_tensors='pt',      # return everything we need as PyTorch tensors\n",
        "    )\n",
        "    output = model(input_ids = tokenized_inputs['input_ids'])\n",
        "    output = nn.functional.softmax(output[0]).detach().numpy()\n",
        "    output = output.argmax(axis = 1)\n",
        "  return output\n"
      ]
    }
  ],
  "metadata": {
    "accelerator": "GPU",
    "colab": {
      "collapsed_sections": [],
      "machine_shape": "hm",
      "name": "413_project_Freeze+control.ipynb",
      "provenance": []
    },
    "kernelspec": {
      "display_name": "Python 3",
      "name": "python3"
    },
    "language_info": {
      "name": "python"
    }
  },
  "nbformat": 4,
  "nbformat_minor": 0
}
