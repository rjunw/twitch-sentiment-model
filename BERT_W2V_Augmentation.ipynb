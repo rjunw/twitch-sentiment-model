{
  "cells": [
    {
      "cell_type": "markdown",
      "source": [
        "# **Twitch Sentiment Classification with BERT and Word2Vec**\n",
        "**Authors: Ryan Jun Wang, Feifei Li, Victor Trinh**\n",
        "\n",
        "\n",
        "[*Notebook based on CSC413's 2022 iteration assignment 3*](https://colab.research.google.com/github/uoft-csc413/2022/blob/master/assets/assignments/bert.ipynb)"
      ],
      "metadata": {
        "id": "zgViIwSWog4G"
      }
    },
    {
      "cell_type": "markdown",
      "source": [
        "## Pre-reqs"
      ],
      "metadata": {
        "id": "ZLiBRjrQoWd7"
      }
    },
    {
      "cell_type": "code",
      "source": [
        "!nvidia-smi"
      ],
      "metadata": {
        "colab": {
          "base_uri": "https://localhost:8080/"
        },
        "id": "1FVGNcwsowF-",
        "outputId": "ad5b1a39-bef3-4f46-bf6e-a724ad4bc502"
      },
      "execution_count": 1,
      "outputs": [
        {
          "output_type": "stream",
          "name": "stdout",
          "text": [
            "Sat Apr 16 20:59:22 2022       \n",
            "+-----------------------------------------------------------------------------+\n",
            "| NVIDIA-SMI 460.32.03    Driver Version: 460.32.03    CUDA Version: 11.2     |\n",
            "|-------------------------------+----------------------+----------------------+\n",
            "| GPU  Name        Persistence-M| Bus-Id        Disp.A | Volatile Uncorr. ECC |\n",
            "| Fan  Temp  Perf  Pwr:Usage/Cap|         Memory-Usage | GPU-Util  Compute M. |\n",
            "|                               |                      |               MIG M. |\n",
            "|===============================+======================+======================|\n",
            "|   0  Tesla P100-PCIE...  Off  | 00000000:00:04.0 Off |                    0 |\n",
            "| N/A   36C    P0    34W / 250W |      0MiB / 16280MiB |      0%      Default |\n",
            "|                               |                      |                  N/A |\n",
            "+-------------------------------+----------------------+----------------------+\n",
            "                                                                               \n",
            "+-----------------------------------------------------------------------------+\n",
            "| Processes:                                                                  |\n",
            "|  GPU   GI   CI        PID   Type   Process name                  GPU Memory |\n",
            "|        ID   ID                                                   Usage      |\n",
            "|=============================================================================|\n",
            "|  No running processes found                                                 |\n",
            "+-----------------------------------------------------------------------------+\n"
          ]
        }
      ]
    },
    {
      "cell_type": "code",
      "execution_count": 2,
      "metadata": {
        "colab": {
          "base_uri": "https://localhost:8080/"
        },
        "id": "n4TPVpBZ28ll",
        "outputId": "57787fce-c46d-47cc-cd68-bbbc26ba4773",
        "scrolled": true
      },
      "outputs": [
        {
          "output_type": "stream",
          "name": "stdout",
          "text": [
            "Collecting transformers\n",
            "  Downloading transformers-4.18.0-py3-none-any.whl (4.0 MB)\n",
            "\u001b[K     |████████████████████████████████| 4.0 MB 8.9 MB/s \n",
            "\u001b[?25hCollecting emoji\n",
            "  Downloading emoji-1.7.0.tar.gz (175 kB)\n",
            "\u001b[K     |████████████████████████████████| 175 kB 13.9 MB/s \n",
            "\u001b[?25hCollecting datasets\n",
            "  Downloading datasets-2.1.0-py3-none-any.whl (325 kB)\n",
            "\u001b[K     |████████████████████████████████| 325 kB 30.8 MB/s \n",
            "\u001b[?25hRequirement already satisfied: gensim in /usr/local/lib/python3.7/dist-packages (3.6.0)\n",
            "Collecting gensim\n",
            "  Downloading gensim-4.1.2-cp37-cp37m-manylinux_2_12_x86_64.manylinux2010_x86_64.whl (24.1 MB)\n",
            "\u001b[K     |████████████████████████████████| 24.1 MB 59.1 MB/s \n",
            "\u001b[?25hRequirement already satisfied: importlib-metadata in /usr/local/lib/python3.7/dist-packages (from transformers) (4.11.3)\n",
            "Requirement already satisfied: tqdm>=4.27 in /usr/local/lib/python3.7/dist-packages (from transformers) (4.64.0)\n",
            "Requirement already satisfied: numpy>=1.17 in /usr/local/lib/python3.7/dist-packages (from transformers) (1.21.5)\n",
            "Collecting pyyaml>=5.1\n",
            "  Downloading PyYAML-6.0-cp37-cp37m-manylinux_2_5_x86_64.manylinux1_x86_64.manylinux_2_12_x86_64.manylinux2010_x86_64.whl (596 kB)\n",
            "\u001b[K     |████████████████████████████████| 596 kB 49.5 MB/s \n",
            "\u001b[?25hCollecting huggingface-hub<1.0,>=0.1.0\n",
            "  Downloading huggingface_hub-0.5.1-py3-none-any.whl (77 kB)\n",
            "\u001b[K     |████████████████████████████████| 77 kB 6.6 MB/s \n",
            "\u001b[?25hCollecting sacremoses\n",
            "  Downloading sacremoses-0.0.49-py3-none-any.whl (895 kB)\n",
            "\u001b[K     |████████████████████████████████| 895 kB 54.3 MB/s \n",
            "\u001b[?25hCollecting tokenizers!=0.11.3,<0.13,>=0.11.1\n",
            "  Downloading tokenizers-0.12.1-cp37-cp37m-manylinux_2_12_x86_64.manylinux2010_x86_64.whl (6.6 MB)\n",
            "\u001b[K     |████████████████████████████████| 6.6 MB 23.9 MB/s \n",
            "\u001b[?25hRequirement already satisfied: packaging>=20.0 in /usr/local/lib/python3.7/dist-packages (from transformers) (21.3)\n",
            "Requirement already satisfied: regex!=2019.12.17 in /usr/local/lib/python3.7/dist-packages (from transformers) (2019.12.20)\n",
            "Requirement already satisfied: requests in /usr/local/lib/python3.7/dist-packages (from transformers) (2.23.0)\n",
            "Requirement already satisfied: filelock in /usr/local/lib/python3.7/dist-packages (from transformers) (3.6.0)\n",
            "Requirement already satisfied: typing-extensions>=3.7.4.3 in /usr/local/lib/python3.7/dist-packages (from huggingface-hub<1.0,>=0.1.0->transformers) (4.1.1)\n",
            "Requirement already satisfied: pyparsing!=3.0.5,>=2.0.2 in /usr/local/lib/python3.7/dist-packages (from packaging>=20.0->transformers) (3.0.8)\n",
            "Requirement already satisfied: multiprocess in /usr/local/lib/python3.7/dist-packages (from datasets) (0.70.12.2)\n",
            "Collecting responses<0.19\n",
            "  Downloading responses-0.18.0-py3-none-any.whl (38 kB)\n",
            "Requirement already satisfied: pandas in /usr/local/lib/python3.7/dist-packages (from datasets) (1.3.5)\n",
            "Collecting fsspec[http]>=2021.05.0\n",
            "  Downloading fsspec-2022.3.0-py3-none-any.whl (136 kB)\n",
            "\u001b[K     |████████████████████████████████| 136 kB 52.5 MB/s \n",
            "\u001b[?25hRequirement already satisfied: pyarrow>=5.0.0 in /usr/local/lib/python3.7/dist-packages (from datasets) (6.0.1)\n",
            "Collecting aiohttp\n",
            "  Downloading aiohttp-3.8.1-cp37-cp37m-manylinux_2_5_x86_64.manylinux1_x86_64.manylinux_2_12_x86_64.manylinux2010_x86_64.whl (1.1 MB)\n",
            "\u001b[K     |████████████████████████████████| 1.1 MB 45.2 MB/s \n",
            "\u001b[?25hRequirement already satisfied: dill in /usr/local/lib/python3.7/dist-packages (from datasets) (0.3.4)\n",
            "Collecting xxhash\n",
            "  Downloading xxhash-3.0.0-cp37-cp37m-manylinux_2_17_x86_64.manylinux2014_x86_64.whl (212 kB)\n",
            "\u001b[K     |████████████████████████████████| 212 kB 21.1 MB/s \n",
            "\u001b[?25hRequirement already satisfied: certifi>=2017.4.17 in /usr/local/lib/python3.7/dist-packages (from requests->transformers) (2021.10.8)\n",
            "Requirement already satisfied: chardet<4,>=3.0.2 in /usr/local/lib/python3.7/dist-packages (from requests->transformers) (3.0.4)\n",
            "Requirement already satisfied: urllib3!=1.25.0,!=1.25.1,<1.26,>=1.21.1 in /usr/local/lib/python3.7/dist-packages (from requests->transformers) (1.24.3)\n",
            "Requirement already satisfied: idna<3,>=2.5 in /usr/local/lib/python3.7/dist-packages (from requests->transformers) (2.10)\n",
            "Collecting urllib3!=1.25.0,!=1.25.1,<1.26,>=1.21.1\n",
            "  Downloading urllib3-1.25.11-py2.py3-none-any.whl (127 kB)\n",
            "\u001b[K     |████████████████████████████████| 127 kB 57.5 MB/s \n",
            "\u001b[?25hRequirement already satisfied: smart-open>=1.8.1 in /usr/local/lib/python3.7/dist-packages (from gensim) (5.2.1)\n",
            "Requirement already satisfied: scipy>=0.18.1 in /usr/local/lib/python3.7/dist-packages (from gensim) (1.4.1)\n",
            "Collecting async-timeout<5.0,>=4.0.0a3\n",
            "  Downloading async_timeout-4.0.2-py3-none-any.whl (5.8 kB)\n",
            "Requirement already satisfied: attrs>=17.3.0 in /usr/local/lib/python3.7/dist-packages (from aiohttp->datasets) (21.4.0)\n",
            "Collecting yarl<2.0,>=1.0\n",
            "  Downloading yarl-1.7.2-cp37-cp37m-manylinux_2_5_x86_64.manylinux1_x86_64.manylinux_2_12_x86_64.manylinux2010_x86_64.whl (271 kB)\n",
            "\u001b[K     |████████████████████████████████| 271 kB 55.2 MB/s \n",
            "\u001b[?25hCollecting multidict<7.0,>=4.5\n",
            "  Downloading multidict-6.0.2-cp37-cp37m-manylinux_2_17_x86_64.manylinux2014_x86_64.whl (94 kB)\n",
            "\u001b[K     |████████████████████████████████| 94 kB 131 kB/s \n",
            "\u001b[?25hRequirement already satisfied: charset-normalizer<3.0,>=2.0 in /usr/local/lib/python3.7/dist-packages (from aiohttp->datasets) (2.0.12)\n",
            "Collecting frozenlist>=1.1.1\n",
            "  Downloading frozenlist-1.3.0-cp37-cp37m-manylinux_2_5_x86_64.manylinux1_x86_64.manylinux_2_17_x86_64.manylinux2014_x86_64.whl (144 kB)\n",
            "\u001b[K     |████████████████████████████████| 144 kB 40.7 MB/s \n",
            "\u001b[?25hCollecting aiosignal>=1.1.2\n",
            "  Downloading aiosignal-1.2.0-py3-none-any.whl (8.2 kB)\n",
            "Collecting asynctest==0.13.0\n",
            "  Downloading asynctest-0.13.0-py3-none-any.whl (26 kB)\n",
            "Requirement already satisfied: zipp>=0.5 in /usr/local/lib/python3.7/dist-packages (from importlib-metadata->transformers) (3.8.0)\n",
            "Requirement already satisfied: pytz>=2017.3 in /usr/local/lib/python3.7/dist-packages (from pandas->datasets) (2018.9)\n",
            "Requirement already satisfied: python-dateutil>=2.7.3 in /usr/local/lib/python3.7/dist-packages (from pandas->datasets) (2.8.2)\n",
            "Requirement already satisfied: six>=1.5 in /usr/local/lib/python3.7/dist-packages (from python-dateutil>=2.7.3->pandas->datasets) (1.15.0)\n",
            "Requirement already satisfied: click in /usr/local/lib/python3.7/dist-packages (from sacremoses->transformers) (7.1.2)\n",
            "Requirement already satisfied: joblib in /usr/local/lib/python3.7/dist-packages (from sacremoses->transformers) (1.1.0)\n",
            "Building wheels for collected packages: emoji\n",
            "  Building wheel for emoji (setup.py) ... \u001b[?25l\u001b[?25hdone\n",
            "  Created wheel for emoji: filename=emoji-1.7.0-py3-none-any.whl size=171046 sha256=f25827cb90e7e19b1c3995a70c68f85376774eb46fd63e07cc9279e30f97af9d\n",
            "  Stored in directory: /root/.cache/pip/wheels/8a/4e/b6/57b01db010d17ef6ea9b40300af725ef3e210cb1acfb7ac8b6\n",
            "Successfully built emoji\n",
            "Installing collected packages: multidict, frozenlist, yarl, urllib3, asynctest, async-timeout, aiosignal, pyyaml, fsspec, aiohttp, xxhash, tokenizers, sacremoses, responses, huggingface-hub, transformers, gensim, emoji, datasets\n",
            "  Attempting uninstall: urllib3\n",
            "    Found existing installation: urllib3 1.24.3\n",
            "    Uninstalling urllib3-1.24.3:\n",
            "      Successfully uninstalled urllib3-1.24.3\n",
            "  Attempting uninstall: pyyaml\n",
            "    Found existing installation: PyYAML 3.13\n",
            "    Uninstalling PyYAML-3.13:\n",
            "      Successfully uninstalled PyYAML-3.13\n",
            "  Attempting uninstall: gensim\n",
            "    Found existing installation: gensim 3.6.0\n",
            "    Uninstalling gensim-3.6.0:\n",
            "      Successfully uninstalled gensim-3.6.0\n",
            "\u001b[31mERROR: pip's dependency resolver does not currently take into account all the packages that are installed. This behaviour is the source of the following dependency conflicts.\n",
            "datascience 0.10.6 requires folium==0.2.1, but you have folium 0.8.3 which is incompatible.\u001b[0m\n",
            "Successfully installed aiohttp-3.8.1 aiosignal-1.2.0 async-timeout-4.0.2 asynctest-0.13.0 datasets-2.1.0 emoji-1.7.0 frozenlist-1.3.0 fsspec-2022.3.0 gensim-4.1.2 huggingface-hub-0.5.1 multidict-6.0.2 pyyaml-6.0 responses-0.18.0 sacremoses-0.0.49 tokenizers-0.12.1 transformers-4.18.0 urllib3-1.25.11 xxhash-3.0.0 yarl-1.7.2\n"
          ]
        }
      ],
      "source": [
        "!pip install --upgrade transformers emoji datasets gensim\n",
        "# https://huggingface.co/docs/transformers/training and BERT PA3 \n",
        "#!pip install cloud-tpu-client==0.10 torch==1.11.0 https://storage.googleapis.com/tpu-pytorch/wheels/colab/torch_xla-1.11-cp37-cp37m-linux_x86_64.whl"
      ]
    },
    {
      "cell_type": "code",
      "execution_count": 3,
      "metadata": {
        "id": "K18w_NJQ28ls",
        "colab": {
          "base_uri": "https://localhost:8080/"
        },
        "outputId": "866ac7c8-a37a-4c73-dd33-bad600f166c0"
      },
      "outputs": [
        {
          "output_type": "stream",
          "name": "stdout",
          "text": [
            "cuda\n"
          ]
        }
      ],
      "source": [
        "import os\n",
        "import random\n",
        "\n",
        "import numpy as np\n",
        "import torch\n",
        "import pandas as pd\n",
        "\n",
        "# imports the torch_xla package\n",
        "# import torch_xla\n",
        "# import torch_xla.core.xla_model as xm\n",
        "# device = xm.xla_device()\n",
        "device = torch.device(\"cuda\" if torch.cuda.is_available() else \"cpu\")\n",
        "print(device)\n",
        "\n",
        "SEED = 42\n",
        "\n",
        "torch.manual_seed(SEED)\n",
        "torch.cuda.manual_seed_all(SEED)\n",
        "torch.backends.cudnn.deterministic = True\n",
        "torch.backends.cudnn.benchmark = False\n",
        "np.random.seed(SEED)\n",
        "random.seed(SEED)\n",
        "os.environ['PYTHONHASHSEED'] = str(SEED)"
      ]
    },
    {
      "cell_type": "markdown",
      "source": [
        "## Data Setup"
      ],
      "metadata": {
        "id": "ucgjD0ynobc3"
      }
    },
    {
      "cell_type": "markdown",
      "source": [
        "### Data Loading"
      ],
      "metadata": {
        "id": "theChbVuozv6"
      }
    },
    {
      "cell_type": "code",
      "execution_count": 4,
      "metadata": {
        "colab": {
          "base_uri": "https://localhost:8080/",
          "height": 0
        },
        "id": "_U9vY1eh28lu",
        "outputId": "ddb5326b-f303-429b-b988-88a3c5a2c148"
      },
      "outputs": [
        {
          "output_type": "stream",
          "name": "stdout",
          "text": [
            "1922 labelled samples\n"
          ]
        },
        {
          "output_type": "execute_result",
          "data": {
            "text/plain": [
              "      sentiment                      date      channel            game  \\\n",
              "1259          0  2018-05-22T03:21:17.481Z        xqcow       Overwatch   \n",
              "1623          1  2018-05-16T19:32:55.000Z       forsen     The Council   \n",
              "611          -1  2018-05-17T16:56:40.391Z  moonmoon_ow  Dark Souls III   \n",
              "514           1  2018-05-03T16:36:44.324Z       forsen             IRL   \n",
              "413           1  2018-05-09T04:59:17.521Z        xqcow        Fortnite   \n",
              "1075          1  2018-05-28T19:40:05.478Z   sodapoppin    Bless Online   \n",
              "538           1  2018-05-23T21:40:22.218Z       forsen            Raft   \n",
              "482           1  2018-05-30T19:02:31.082Z       forsen      Dark Souls   \n",
              "398          -1  2018-05-21T16:26:58.802Z  moonmoon_ow  Dark Souls III   \n",
              "677           0  2018-05-23T21:23:01.103Z       forsen            Raft   \n",
              "\n",
              "         user    mod  subscriber  \\\n",
              "1259  2475329  False       False   \n",
              "1623  2342940  False        True   \n",
              "611    226947  False        True   \n",
              "514      9000  False        True   \n",
              "413    295331  False       False   \n",
              "1075   322720  False        True   \n",
              "538    304456  False        True   \n",
              "482    971480  False       False   \n",
              "398    381748  False        True   \n",
              "677    261172  False       False   \n",
              "\n",
              "                                                message sentiment_relevel  \n",
              "1259                                                POG                 1  \n",
              "1623                                         ALLO ZULUL                 2  \n",
              "611                      I WAS DANCING TO THAT DansGame                 0  \n",
              "514   gachiBASS Clap gachiBASS Clap gachiBASS Clap g...                 2  \n",
              "413                                           gachiBASS                 2  \n",
              "1075  \"Premium Membership (180 Days)\" gives 8 in-gam...                 2  \n",
              "538                                             forsen1                 2  \n",
              "482     CURSED OMEGALUL CURSED OMEGALUL CURSED OMEGALUL                 2  \n",
              "398                                    kill moon moon2N                 0  \n",
              "677   2$ TOP DONATOR OF THE DAY OMEGALUL 2$ TOP DONA...                 1  "
            ],
            "text/html": [
              "\n",
              "  <div id=\"df-384a338f-2aab-4442-9d01-091d8816724e\">\n",
              "    <div class=\"colab-df-container\">\n",
              "      <div>\n",
              "<style scoped>\n",
              "    .dataframe tbody tr th:only-of-type {\n",
              "        vertical-align: middle;\n",
              "    }\n",
              "\n",
              "    .dataframe tbody tr th {\n",
              "        vertical-align: top;\n",
              "    }\n",
              "\n",
              "    .dataframe thead th {\n",
              "        text-align: right;\n",
              "    }\n",
              "</style>\n",
              "<table border=\"1\" class=\"dataframe\">\n",
              "  <thead>\n",
              "    <tr style=\"text-align: right;\">\n",
              "      <th></th>\n",
              "      <th>sentiment</th>\n",
              "      <th>date</th>\n",
              "      <th>channel</th>\n",
              "      <th>game</th>\n",
              "      <th>user</th>\n",
              "      <th>mod</th>\n",
              "      <th>subscriber</th>\n",
              "      <th>message</th>\n",
              "      <th>sentiment_relevel</th>\n",
              "    </tr>\n",
              "  </thead>\n",
              "  <tbody>\n",
              "    <tr>\n",
              "      <th>1259</th>\n",
              "      <td>0</td>\n",
              "      <td>2018-05-22T03:21:17.481Z</td>\n",
              "      <td>xqcow</td>\n",
              "      <td>Overwatch</td>\n",
              "      <td>2475329</td>\n",
              "      <td>False</td>\n",
              "      <td>False</td>\n",
              "      <td>POG</td>\n",
              "      <td>1</td>\n",
              "    </tr>\n",
              "    <tr>\n",
              "      <th>1623</th>\n",
              "      <td>1</td>\n",
              "      <td>2018-05-16T19:32:55.000Z</td>\n",
              "      <td>forsen</td>\n",
              "      <td>The Council</td>\n",
              "      <td>2342940</td>\n",
              "      <td>False</td>\n",
              "      <td>True</td>\n",
              "      <td>ALLO ZULUL</td>\n",
              "      <td>2</td>\n",
              "    </tr>\n",
              "    <tr>\n",
              "      <th>611</th>\n",
              "      <td>-1</td>\n",
              "      <td>2018-05-17T16:56:40.391Z</td>\n",
              "      <td>moonmoon_ow</td>\n",
              "      <td>Dark Souls III</td>\n",
              "      <td>226947</td>\n",
              "      <td>False</td>\n",
              "      <td>True</td>\n",
              "      <td>I WAS DANCING TO THAT DansGame</td>\n",
              "      <td>0</td>\n",
              "    </tr>\n",
              "    <tr>\n",
              "      <th>514</th>\n",
              "      <td>1</td>\n",
              "      <td>2018-05-03T16:36:44.324Z</td>\n",
              "      <td>forsen</td>\n",
              "      <td>IRL</td>\n",
              "      <td>9000</td>\n",
              "      <td>False</td>\n",
              "      <td>True</td>\n",
              "      <td>gachiBASS Clap gachiBASS Clap gachiBASS Clap g...</td>\n",
              "      <td>2</td>\n",
              "    </tr>\n",
              "    <tr>\n",
              "      <th>413</th>\n",
              "      <td>1</td>\n",
              "      <td>2018-05-09T04:59:17.521Z</td>\n",
              "      <td>xqcow</td>\n",
              "      <td>Fortnite</td>\n",
              "      <td>295331</td>\n",
              "      <td>False</td>\n",
              "      <td>False</td>\n",
              "      <td>gachiBASS</td>\n",
              "      <td>2</td>\n",
              "    </tr>\n",
              "    <tr>\n",
              "      <th>1075</th>\n",
              "      <td>1</td>\n",
              "      <td>2018-05-28T19:40:05.478Z</td>\n",
              "      <td>sodapoppin</td>\n",
              "      <td>Bless Online</td>\n",
              "      <td>322720</td>\n",
              "      <td>False</td>\n",
              "      <td>True</td>\n",
              "      <td>\"Premium Membership (180 Days)\" gives 8 in-gam...</td>\n",
              "      <td>2</td>\n",
              "    </tr>\n",
              "    <tr>\n",
              "      <th>538</th>\n",
              "      <td>1</td>\n",
              "      <td>2018-05-23T21:40:22.218Z</td>\n",
              "      <td>forsen</td>\n",
              "      <td>Raft</td>\n",
              "      <td>304456</td>\n",
              "      <td>False</td>\n",
              "      <td>True</td>\n",
              "      <td>forsen1</td>\n",
              "      <td>2</td>\n",
              "    </tr>\n",
              "    <tr>\n",
              "      <th>482</th>\n",
              "      <td>1</td>\n",
              "      <td>2018-05-30T19:02:31.082Z</td>\n",
              "      <td>forsen</td>\n",
              "      <td>Dark Souls</td>\n",
              "      <td>971480</td>\n",
              "      <td>False</td>\n",
              "      <td>False</td>\n",
              "      <td>CURSED OMEGALUL CURSED OMEGALUL CURSED OMEGALUL</td>\n",
              "      <td>2</td>\n",
              "    </tr>\n",
              "    <tr>\n",
              "      <th>398</th>\n",
              "      <td>-1</td>\n",
              "      <td>2018-05-21T16:26:58.802Z</td>\n",
              "      <td>moonmoon_ow</td>\n",
              "      <td>Dark Souls III</td>\n",
              "      <td>381748</td>\n",
              "      <td>False</td>\n",
              "      <td>True</td>\n",
              "      <td>kill moon moon2N</td>\n",
              "      <td>0</td>\n",
              "    </tr>\n",
              "    <tr>\n",
              "      <th>677</th>\n",
              "      <td>0</td>\n",
              "      <td>2018-05-23T21:23:01.103Z</td>\n",
              "      <td>forsen</td>\n",
              "      <td>Raft</td>\n",
              "      <td>261172</td>\n",
              "      <td>False</td>\n",
              "      <td>False</td>\n",
              "      <td>2$ TOP DONATOR OF THE DAY OMEGALUL 2$ TOP DONA...</td>\n",
              "      <td>1</td>\n",
              "    </tr>\n",
              "  </tbody>\n",
              "</table>\n",
              "</div>\n",
              "      <button class=\"colab-df-convert\" onclick=\"convertToInteractive('df-384a338f-2aab-4442-9d01-091d8816724e')\"\n",
              "              title=\"Convert this dataframe to an interactive table.\"\n",
              "              style=\"display:none;\">\n",
              "        \n",
              "  <svg xmlns=\"http://www.w3.org/2000/svg\" height=\"24px\"viewBox=\"0 0 24 24\"\n",
              "       width=\"24px\">\n",
              "    <path d=\"M0 0h24v24H0V0z\" fill=\"none\"/>\n",
              "    <path d=\"M18.56 5.44l.94 2.06.94-2.06 2.06-.94-2.06-.94-.94-2.06-.94 2.06-2.06.94zm-11 1L8.5 8.5l.94-2.06 2.06-.94-2.06-.94L8.5 2.5l-.94 2.06-2.06.94zm10 10l.94 2.06.94-2.06 2.06-.94-2.06-.94-.94-2.06-.94 2.06-2.06.94z\"/><path d=\"M17.41 7.96l-1.37-1.37c-.4-.4-.92-.59-1.43-.59-.52 0-1.04.2-1.43.59L10.3 9.45l-7.72 7.72c-.78.78-.78 2.05 0 2.83L4 21.41c.39.39.9.59 1.41.59.51 0 1.02-.2 1.41-.59l7.78-7.78 2.81-2.81c.8-.78.8-2.07 0-2.86zM5.41 20L4 18.59l7.72-7.72 1.47 1.35L5.41 20z\"/>\n",
              "  </svg>\n",
              "      </button>\n",
              "      \n",
              "  <style>\n",
              "    .colab-df-container {\n",
              "      display:flex;\n",
              "      flex-wrap:wrap;\n",
              "      gap: 12px;\n",
              "    }\n",
              "\n",
              "    .colab-df-convert {\n",
              "      background-color: #E8F0FE;\n",
              "      border: none;\n",
              "      border-radius: 50%;\n",
              "      cursor: pointer;\n",
              "      display: none;\n",
              "      fill: #1967D2;\n",
              "      height: 32px;\n",
              "      padding: 0 0 0 0;\n",
              "      width: 32px;\n",
              "    }\n",
              "\n",
              "    .colab-df-convert:hover {\n",
              "      background-color: #E2EBFA;\n",
              "      box-shadow: 0px 1px 2px rgba(60, 64, 67, 0.3), 0px 1px 3px 1px rgba(60, 64, 67, 0.15);\n",
              "      fill: #174EA6;\n",
              "    }\n",
              "\n",
              "    [theme=dark] .colab-df-convert {\n",
              "      background-color: #3B4455;\n",
              "      fill: #D2E3FC;\n",
              "    }\n",
              "\n",
              "    [theme=dark] .colab-df-convert:hover {\n",
              "      background-color: #434B5C;\n",
              "      box-shadow: 0px 1px 3px 1px rgba(0, 0, 0, 0.15);\n",
              "      filter: drop-shadow(0px 1px 2px rgba(0, 0, 0, 0.3));\n",
              "      fill: #FFFFFF;\n",
              "    }\n",
              "  </style>\n",
              "\n",
              "      <script>\n",
              "        const buttonEl =\n",
              "          document.querySelector('#df-384a338f-2aab-4442-9d01-091d8816724e button.colab-df-convert');\n",
              "        buttonEl.style.display =\n",
              "          google.colab.kernel.accessAllowed ? 'block' : 'none';\n",
              "\n",
              "        async function convertToInteractive(key) {\n",
              "          const element = document.querySelector('#df-384a338f-2aab-4442-9d01-091d8816724e');\n",
              "          const dataTable =\n",
              "            await google.colab.kernel.invokeFunction('convertToInteractive',\n",
              "                                                     [key], {});\n",
              "          if (!dataTable) return;\n",
              "\n",
              "          const docLinkHtml = 'Like what you see? Visit the ' +\n",
              "            '<a target=\"_blank\" href=https://colab.research.google.com/notebooks/data_table.ipynb>data table notebook</a>'\n",
              "            + ' to learn more about interactive tables.';\n",
              "          element.innerHTML = '';\n",
              "          dataTable['output_type'] = 'display_data';\n",
              "          await google.colab.output.renderOutput(dataTable, element);\n",
              "          const docLink = document.createElement('div');\n",
              "          docLink.innerHTML = docLinkHtml;\n",
              "          element.appendChild(docLink);\n",
              "        }\n",
              "      </script>\n",
              "    </div>\n",
              "  </div>\n",
              "  "
            ]
          },
          "metadata": {},
          "execution_count": 4
        }
      ],
      "source": [
        "df = pd.read_csv(\"./data/labeled_dataset.csv\")\n",
        "print(f\"{df.shape[0]} labelled samples\")\n",
        "df['sentiment_relevel'] = df['sentiment'].astype('category')\n",
        "df['sentiment_relevel'] = df['sentiment_relevel'].cat.rename_categories({-1:0, 0:1, 1:2})\n",
        "df.sample(10)"
      ]
    },
    {
      "cell_type": "code",
      "source": [
        "# if twitch emotes are provided\n",
        "labeled_emotes = pd.read_csv(\"./data/emote_average.tsv\",\n",
        "                             sep    = '\\t',\n",
        "                             header = 0,\n",
        "                             names  = [\"word\", \"sentiment\"])"
      ],
      "metadata": {
        "id": "wSMEUTI7rmxH"
      },
      "execution_count": 5,
      "outputs": []
    },
    {
      "cell_type": "markdown",
      "source": [
        "### Tokenizer"
      ],
      "metadata": {
        "id": "FMcqdeeBo6KA"
      }
    },
    {
      "cell_type": "code",
      "execution_count": 6,
      "metadata": {
        "id": "FyPXW7uh28lw",
        "colab": {
          "base_uri": "https://localhost:8080/",
          "height": 0,
          "referenced_widgets": [
            "f2b3aa08a8854ee09db450e223e496fd",
            "4b20bb80b5224c7dbe02f0c1cf725329",
            "4041a143b7b444e69b2a5bfdc47435f1",
            "d062820eb4264d0184e12b95eeeac220",
            "0520d39644764481832b996242b6a1ef",
            "60c184b577884d50906051ea8cbf3275",
            "13b38c493b634367b850bacfb7ed6a11",
            "ad5d99db8c064393a05455641fb0a134",
            "b2870ada0a5042cd9b78871a78d17aa2",
            "e5cf06c5a88c400da0acf1808f8da9f0",
            "19009de493204054b8d4c3bac0a6c183",
            "11bc5901eeb0447297d4bd1a61befcbd",
            "1e257d0d93cc4670a2d2619ec55788d8",
            "ac695347125c4adfb9b3397a07a7ed99",
            "66021f4497c04f3daa8e02f4b56a8ff3",
            "d3c9ea5d023d4683a7a61164dd777ffd",
            "07c935dfd1c347789ad76246ec3f475f",
            "8cf6b694bc9e454fabb7ecb87395e6ab",
            "1204f053ac3540ea8bc7176a582cd270",
            "3c816a0251d94d7c9d0e2497e5c95584",
            "0506c96f4cfe49bcadc79d71ecf079cc",
            "1e915ff9ad144fde85c574712094e97d",
            "4dc4d7da30d04820a0e63d3ee52bf132",
            "60e0d778ff3c498a9a6819ae5ae970ef",
            "8d4feb02976146da980d2fdd4de9d3e0",
            "d60de88097ba46b58528f7f4ab5fcc59",
            "d6a25534ab824887beca7d292e7e5c59",
            "8aad0ec5cf2e4d43b906b35915c66a1a",
            "b9c88884b7b143bfa777cb405c520575",
            "ea092b3c74e047ac97ea4cc12afb7b61",
            "ae3bfe6c8a1e4239ae91b535d74dda4c",
            "1c985b06f74040778e55e51eff77955e",
            "f81985161af94789ba65fb61e1e748ec",
            "486e614278c3434ea1ef6683af642d57",
            "f41ee17e9cac4826a8e0574cc65a18ef",
            "079bf6cb07944892bb0c4219b8c840af",
            "28eee8b15ee640e19581b047753e3a41",
            "c52e5069d3044c599137863b02ca4559",
            "a1376e9a3c8e40469b08c92bb689bc8c",
            "7f188d733199469a8c739d89274adebd",
            "9c6240ecbbf343c3a4ce9a7f3a391c82",
            "9617ed8d9f554cd8b669b7f50a452c7d",
            "da99735276c7469ba88c70b1290b994b",
            "09659d31f6734164aba1506b66aa8d1e"
          ]
        },
        "outputId": "229299e6-2d7f-4a2d-a2ee-bad7ef000e7d"
      },
      "outputs": [
        {
          "output_type": "display_data",
          "data": {
            "text/plain": [
              "Downloading:   0%|          | 0.00/29.0 [00:00<?, ?B/s]"
            ],
            "application/vnd.jupyter.widget-view+json": {
              "version_major": 2,
              "version_minor": 0,
              "model_id": "f2b3aa08a8854ee09db450e223e496fd"
            }
          },
          "metadata": {}
        },
        {
          "output_type": "display_data",
          "data": {
            "text/plain": [
              "Downloading:   0%|          | 0.00/570 [00:00<?, ?B/s]"
            ],
            "application/vnd.jupyter.widget-view+json": {
              "version_major": 2,
              "version_minor": 0,
              "model_id": "11bc5901eeb0447297d4bd1a61befcbd"
            }
          },
          "metadata": {}
        },
        {
          "output_type": "display_data",
          "data": {
            "text/plain": [
              "Downloading:   0%|          | 0.00/208k [00:00<?, ?B/s]"
            ],
            "application/vnd.jupyter.widget-view+json": {
              "version_major": 2,
              "version_minor": 0,
              "model_id": "4dc4d7da30d04820a0e63d3ee52bf132"
            }
          },
          "metadata": {}
        },
        {
          "output_type": "display_data",
          "data": {
            "text/plain": [
              "Downloading:   0%|          | 0.00/426k [00:00<?, ?B/s]"
            ],
            "application/vnd.jupyter.widget-view+json": {
              "version_major": 2,
              "version_minor": 0,
              "model_id": "486e614278c3434ea1ef6683af642d57"
            }
          },
          "metadata": {}
        }
      ],
      "source": [
        "from transformers import AutoTokenizer\n",
        "pretrained = \"bert-base-cased\"\n",
        "bert_tokenizer = AutoTokenizer.from_pretrained(pretrained)"
      ]
    },
    {
      "cell_type": "code",
      "execution_count": 7,
      "metadata": {
        "id": "K0cQdMUI28lx",
        "scrolled": true
      },
      "outputs": [],
      "source": [
        "# inputs = df.message.values\n",
        "# print(inputs)\n",
        "labels = df.sentiment_relevel.values\n",
        "# sample = inputs[0]\n",
        "\n",
        "# print(\"Train data size \", len(inputs))\n",
        "# print('* Original:  ', sample)\n",
        "# # Print the sentence split into tokens.\n",
        "# print('* Tokenized: ', bert_tokenizer.tokenize(sample))\n",
        "# # Print the sentence mapped to token ids.\n",
        "# print('* Token IDs: ', bert_tokenizer.convert_tokens_to_ids(bert_tokenizer.tokenize(sample)))"
      ]
    },
    {
      "cell_type": "code",
      "execution_count": 8,
      "metadata": {
        "id": "k-rcvj_Z28lz"
      },
      "outputs": [],
      "source": [
        "# # Set the maximum sequence length.\n",
        "# MAX_LEN = max([len(bert_tokenizer(datapoint)['input_ids']) for datapoint in inputs])\n",
        "# print(f\"Max length sequence: {MAX_LEN}\")\n",
        "\n",
        "# # Print BERTs special PAD token and its index in the vocabulary\n",
        "# print(f'Padding token: \"{bert_tokenizer.pad_token}\", ID: {bert_tokenizer.pad_token_id}')"
      ]
    },
    {
      "cell_type": "code",
      "execution_count": 9,
      "metadata": {
        "id": "KEfbC0DO28lz"
      },
      "outputs": [],
      "source": [
        "# tokenized_inputs = bert_tokenizer(\n",
        "#     inputs.tolist(),          # Input text\n",
        "#     add_special_tokens=True,  # add '[CLS]' and '[SEP]'\n",
        "#     padding='max_length',     # pad to a length specified by the max_length\n",
        "#     max_length=MAX_LEN,       # truncate all sentences longer than max_length\n",
        "#     return_tensors='pt',      # return everything we need as PyTorch tensors\n",
        "# )\n",
        "\n",
        "# input_ids = tokenized_inputs['input_ids']\n",
        "# attention_masks = tokenized_inputs['attention_mask']\n",
        "\n",
        "# # Print sentence 0, now as a list of IDs.\n",
        "# print('Original: ', tokenized_inputs['input_ids'][0])\n",
        "# print('Original Content: ', df.message[0])\n",
        "# print(bert_tokenizer.convert_tokens_to_ids(bert_tokenizer.tokenize(df.message[0])))\n",
        "# print('* Token IDs:', tokenized_inputs['attention_mask'][0])\n",
        "# print('* Tokenized:', bert_tokenizer.decode(tokenized_inputs['input_ids'][0]))\n",
        "# print('* Attention_mask', tokenized_inputs['attention_mask'][0])"
      ]
    },
    {
      "cell_type": "markdown",
      "source": [
        "### Word2Vec Embeddings"
      ],
      "metadata": {
        "id": "5ltDAQqrpFuZ"
      }
    },
    {
      "cell_type": "code",
      "source": [
        "# # get w2v\n",
        "# !pip install --upgrade gensim\n",
        "# from gensim.models import Word2Vec\n",
        "\n",
        "# messages = [message.split(' ') for message in df.message]\n",
        "# w2v_model = Word2Vec(sentences = messages, min_count = 1, vector_size = 768, workers = 4, window = 5, sg = 1, seed = SEED) # train further when adding new prediction data\n",
        "# w2v_model.save(\"w2v_labeled.model\")\n",
        "# w2v_model = Word2Vec.load(\"w2v_labeled.model\")"
      ],
      "metadata": {
        "id": "yjRihiSXAczi"
      },
      "execution_count": 10,
      "outputs": []
    },
    {
      "cell_type": "code",
      "source": [
        "# w2v_model.wv[messages[5]].sum(axis = 0)"
      ],
      "metadata": {
        "id": "glIVBaC0Kng2"
      },
      "execution_count": 11,
      "outputs": []
    },
    {
      "cell_type": "code",
      "source": [
        "# print(input_ids)\n",
        "# input_w2v = torch.Tensor([w2v_model.wv[message].sum(axis = 0) for message in messages])\n",
        "# print(input_w2v.shape)"
      ],
      "metadata": {
        "id": "PMMh8eHuBnkl"
      },
      "execution_count": 12,
      "outputs": []
    },
    {
      "cell_type": "markdown",
      "source": [
        "## Helper Functions"
      ],
      "metadata": {
        "id": "q4gPqdTmpLNN"
      }
    },
    {
      "cell_type": "markdown",
      "source": [
        "### Augmentation Functions"
      ],
      "metadata": {
        "id": "YWq-FLlfqC_L"
      }
    },
    {
      "cell_type": "code",
      "source": [
        "import re\n",
        "\n",
        "def has_emote_idx(msg_df, emote_df):\n",
        "    '''\n",
        "    Usage:\n",
        "    To get labeled messages that has labeled emotes:\n",
        "    msg_df.loc[has_emote_idx(msg_df, emote_df), ['sentiment', 'message']]\n",
        "    To get labeled messages that does not have labeled emotes:\n",
        "    msg_df.loc[~has_emote_idx(msg_df, emote_df), ['sentiment', 'message']]\n",
        "    '''\n",
        "    emotes = list(emote_df.word)\n",
        "    emotes_reg = r'\\b(?:{})\\b'.format('|'.join(map(re.escape, emotes))) ## regex for searching emote expression\n",
        "    has_emote = msg_df.message.str.contains(emotes_reg) ## indices of messages that has emotes\n",
        "    return has_emote"
      ],
      "metadata": {
        "id": "xhuaOtxGsVO6"
      },
      "execution_count": 13,
      "outputs": []
    },
    {
      "cell_type": "code",
      "source": [
        "def sample_by_sentiment(df, ratio = 0.3):\n",
        "    '''\n",
        "    Sample messages with some ratio of initial training data\n",
        "    from the distribution for sentiments\n",
        "    '''\n",
        "    N = df.index.max() + 1\n",
        "    s_freq = df.sentiment.value_counts(normalize = True)\n",
        "    pos_s_freq = s_freq[1]\n",
        "    neu_s_freq = s_freq[0]\n",
        "    neg_s_freq = s_freq[-1]\n",
        "    pos_idx = df.index[df.sentiment == 1].tolist()\n",
        "    neu_idx = df.index[df.sentiment == 0].tolist()\n",
        "    neg_idx = df.index[df.sentiment == -1].tolist()\n",
        "    ## sample from sentiment distribution\n",
        "    pos_sample_size = round(N * ratio * pos_s_freq)\n",
        "    neu_sample_size = round(N * ratio * neu_s_freq)\n",
        "    neg_sample_size = round(N * ratio * neg_s_freq)\n",
        "    ## uniformally sample within sentiment\n",
        "    samples = list(np.random.choice(pos_idx, size = pos_sample_size, replace = False)) + \\\n",
        "              list(np.random.choice(neu_idx, size = neu_sample_size, replace = False)) + \\\n",
        "              list(np.random.choice(neg_idx, size = neg_sample_size, replace = False))\n",
        "\n",
        "    return samples\n",
        "\n",
        "## simple random emote replacement\n",
        "## generate emote-augmented messages with the same ratio of sentiment\n",
        "## Things to consider:\n",
        "## 1. ratio of total training data\n",
        "## 2. balancing ratio of sentiment category\n",
        "\n",
        "def multiple_replace(string, rep_dict):\n",
        "    '''\n",
        "    too lazy to write one myself\n",
        "    source: https://stackoverflow.com/a/15448887/12461512\n",
        "    '''\n",
        "    pattern = re.compile(\"|\".join([re.escape(k) for k in sorted(rep_dict,key=len,reverse=True)]), flags=re.DOTALL)\n",
        "    return pattern.sub(lambda x: rep_dict[x.group(0)], string)\n",
        "\n",
        "\n",
        "def replace_emotes(msg_df, emote_df, ratio = 0.3):\n",
        "    '''\n",
        "    Replace all emotes in a given message with uniformally sampled emotes\n",
        "    and assign a new sentiment value to the augmented message.\n",
        "    '''\n",
        "    sampled_msgs_idx = sample_by_sentiment(msg_df, ratio)\n",
        "    sampled_data = msg_df.loc[sampled_msgs_idx].to_dict()\n",
        "    sampled_msgs = sampled_data[\"message\"]\n",
        "    sampled_sentiment = sampled_data[\"sentiment\"]\n",
        "    emotes = list(emote_df.word)\n",
        "    emotes_reg = r'\\b(?:{})\\b'.format('|'.join(map(re.escape, emotes)))\n",
        "    emotes_row_indices = emote_df.index.tolist() ## used for sampling emotes...\n",
        "    aug_data = []\n",
        "    for k in sampled_msgs:\n",
        "        msg = sampled_msgs[k]\n",
        "        sentiment = sampled_sentiment[k]\n",
        "        emote_to_replace = list(set(re.findall(emotes_reg, msg))) # could have more than one emotes\n",
        "        regex = r'\\b(?:{})\\b'.format('|'.join(map(re.escape, emote_to_replace)))\n",
        "        emote_idx = emote_df.index[emote_df.word.str.contains(regex)].tolist()\n",
        "        temp = list(set(emotes_row_indices) - set(emote_idx)) ## exclude emotes being replaced from sampling\n",
        "        replacement_idx = np.random.choice(temp, size = len(emote_idx), replace = False)\n",
        "        replacing_emotes = emote_df.loc[replacement_idx, \"word\"].to_list()\n",
        "        sentiment_change = sum(emote_df.loc[replacement_idx, \"sentiment\"].to_list())\n",
        "        replace_dict = dict(zip(emote_to_replace, replacing_emotes))\n",
        "        aug_msg = multiple_replace(msg, replace_dict)\n",
        "        ## sentiment relabeling rule:\n",
        "        if (len(re.findall(r'\\w+', msg))) == 1:\n",
        "            ## message that consists of a single emote\n",
        "            new_sentiment = np.sign(round(sentiment_change))\n",
        "        elif (len(re.findall(r'\\w+', msg)) == len(re.findall(regex, msg))):\n",
        "            ## message that consists of only emotes\n",
        "            new_sentiment = np.mean(sentiment_change)\n",
        "        else:\n",
        "            new_sentiment = sentiment + sentiment_change\n",
        "        new_data = {\"message\": aug_msg, \"sentiment\": new_sentiment}\n",
        "        aug_data.append(new_data)\n",
        "    \n",
        "    aug_data = pd.DataFrame(aug_data)\n",
        "    \n",
        "    ## sentiment rounding rule:\n",
        "    aug_data.sentiment = (round(np.tanh(aug_data.sentiment))).astype('int')\n",
        "\n",
        "    return pd.DataFrame(aug_data)\n",
        "        "
      ],
      "metadata": {
        "id": "5kNTVk2FpTEk"
      },
      "execution_count": 14,
      "outputs": []
    },
    {
      "cell_type": "markdown",
      "source": [
        "### Train Test Split"
      ],
      "metadata": {
        "id": "9JMOUnEtqGa8"
      }
    },
    {
      "cell_type": "code",
      "execution_count": 15,
      "metadata": {
        "id": "dlO6Ywyf28l1"
      },
      "outputs": [],
      "source": [
        "from sklearn.model_selection import train_test_split\n",
        "import torch\n",
        "from torch.utils.data import TensorDataset, DataLoader, RandomSampler, SequentialSampler\n",
        "from gensim.models import Word2Vec\n",
        "\n",
        "def augment_split(df, labeled_emotes, labels, bert_tokenizer, batch_size = 32):\n",
        "    \"\"\"\n",
        "    input_data is a pd.DataFrame\n",
        "    labeled_emotes is a pd.DataFrame\n",
        "    \"\"\"\n",
        "    train_df, validation_df = train_test_split(df, test_size = 0.2, stratify = labels)\n",
        "\n",
        "    # Augment training set\n",
        "    has_emote = has_emote_idx(train_df, labeled_emotes)\n",
        "    has_emote_msgs = train_df.loc[has_emote, ['sentiment', 'message']]\n",
        "    no_emote_msgs = train_df.loc[~has_emote, ['sentiment_relevel', 'message']]\n",
        "\n",
        "    emote_aug_data = replace_emotes(has_emote_msgs, labeled_emotes)\n",
        "    emote_aug_data[\"sentiment_relevel\"] = (emote_aug_data['sentiment'] + 1).astype('category')\n",
        "    print(emote_aug_data[['sentiment_relevel', 'message']])\n",
        "\n",
        "    train_df = pd.concat([no_emote_msgs, emote_aug_data[['sentiment_relevel', 'message']]], ignore_index = True)\n",
        "    validation_df = validation_df[['sentiment_relevel', 'message']]\n",
        "\n",
        "\n",
        "    # W2V\n",
        "    messages = [message.split(' ') for message in pd.concat([train_df, validation_df]).message]\n",
        "    w2v_model = Word2Vec(sentences = messages, min_count = 1, vector_size = 768, workers = 4, window = 5, sg = 1, seed = SEED) # train further when adding new prediction data\n",
        "    w2v_model.build_vocab(messages, update = True)\n",
        "    w2v_model.save(\"w2v_labeled.model\")\n",
        "    w2v_model = Word2Vec.load(\"w2v_labeled.model\")\n",
        "    train_w2v = torch.Tensor([w2v_model.wv[message.split(' ')].sum(axis = 0) for message in train_df.message])\n",
        "    validation_w2v = torch.Tensor([w2v_model.wv[message.split(' ')].sum(axis = 0) for message in validation_df.message])\n",
        "\n",
        "    # set up DataLoader\n",
        "    train_labels = torch.tensor(train_df.sentiment_relevel.values)\n",
        "    validation_labels = torch.tensor(validation_df.sentiment_relevel.values)\n",
        "\n",
        "    # tokenizer\n",
        "    MAX_LEN = max([len(bert_tokenizer(datapoint)['input_ids']) for datapoint in (pd.concat([train_df, validation_df]).message.values)])\n",
        "    ## TRAIN\n",
        "    train_messages = train_df.message.values\n",
        "    train_tokenized_inputs = bert_tokenizer(\n",
        "        train_messages.tolist(),          # Input text\n",
        "        add_special_tokens=True,  # add '[CLS]' and '[SEP]'\n",
        "        padding='max_length',     # pad to a length specified by the max_length\n",
        "        max_length=MAX_LEN,       # truncate all sentences longer than max_length\n",
        "        return_tensors='pt',      # return everything we need as PyTorch tensors\n",
        "    )\n",
        "    train_inputs = train_tokenized_inputs['input_ids']\n",
        "    train_masks = train_tokenized_inputs['attention_mask']\n",
        "    ## VALIDATION\n",
        "    validation_messages = validation_df.message.values\n",
        "    validation_tokenized_inputs = bert_tokenizer(\n",
        "        validation_messages.tolist(),          # Input text\n",
        "        add_special_tokens=True,  # add '[CLS]' and '[SEP]'\n",
        "        padding='max_length',     # pad to a length specified by the max_length\n",
        "        max_length=MAX_LEN,       # truncate all sentences longer than max_length\n",
        "        return_tensors='pt',      # return everything we need as PyTorch tensors\n",
        "    )\n",
        "    validation_inputs = validation_tokenized_inputs['input_ids']\n",
        "    validation_masks = validation_tokenized_inputs['attention_mask']\n",
        "\n",
        "    # Create the DataLoader for our training set.\n",
        "    train_data = TensorDataset(train_inputs, train_w2v, train_masks, train_labels)\n",
        "    train_dataloader = DataLoader(train_data, shuffle=True, batch_size=batch_size)\n",
        "\n",
        "    # Create the DataLoader for our validation set.\n",
        "    validation_data = TensorDataset(validation_inputs, validation_w2v, validation_masks, validation_labels)\n",
        "    validation_dataloader = DataLoader(validation_data, shuffle=False, batch_size=batch_size)\n",
        "\n",
        "    return train_dataloader, validation_dataloader, w2v_model\n",
        "\n",
        "def train_valid_split(input_ids, input_w2v, attention_masks, labels, batch_size=32):\n",
        "    \"\"\"\n",
        "    Create DataLoader objects for downstream training\n",
        "    \"\"\"\n",
        "    # Use 80% for training and 20% for validation.\n",
        "    train_inputs, validation_inputs, train_w2v, validation_w2v, train_masks, validation_masks, train_labels, validation_labels = train_test_split(\n",
        "        input_ids, input_w2v, attention_masks, labels, random_state=SEED, test_size=0.2, stratify=labels\n",
        "    )\n",
        "\n",
        "    print('example train_input:    ', train_inputs[0])\n",
        "    print('example attention_mask: ', train_masks[0])\n",
        "\n",
        "    train_labels = torch.tensor(train_labels)\n",
        "    validation_labels = torch.tensor(validation_labels)\n",
        "\n",
        "    # Create the DataLoader for our training set.\n",
        "    train_data = TensorDataset(train_inputs, train_w2v, train_masks, train_labels)\n",
        "\n",
        "    train_dataloader = DataLoader(train_data, shuffle=True, batch_size=batch_size)\n",
        "\n",
        "    # Create the DataLoader for our validation set.\n",
        "    validation_data = TensorDataset(validation_inputs, validation_w2v, validation_masks, validation_labels)\n",
        "    validation_dataloader = DataLoader(validation_data, shuffle=False, batch_size=batch_size)\n",
        "\n",
        "    return train_dataloader, validation_dataloader"
      ]
    },
    {
      "cell_type": "code",
      "execution_count": 16,
      "metadata": {
        "colab": {
          "base_uri": "https://localhost:8080/"
        },
        "id": "SeRJTqjG28l2",
        "outputId": "fded0505-0088-4aed-9820-ce216f0bb321"
      },
      "outputs": [
        {
          "output_type": "stream",
          "name": "stdout",
          "text": [
            "    sentiment_relevel                                            message\n",
            "0                   2                                    Squid4 Kreygasm\n",
            "1                   2  ——————————————————————— forsenCD . o 0 ( 🐬:cd:...\n",
            "2                   2                                            GivePLZ\n",
            "3                   1                                       SeriousSloth\n",
            "4                   1                                                 D:\n",
            "..                ...                                                ...\n",
            "570                 1                                       PogChamp WTF\n",
            "571                 1          Streamer bullied by twitch chat SeemsGood\n",
            "572                 1  @quote_me_if_xqc_on_cocain they still searched...\n",
            "573                 1                                         MercyWing1\n",
            "574                 0                                  haHAA never scary\n",
            "\n",
            "[575 rows x 2 columns]\n"
          ]
        },
        {
          "output_type": "stream",
          "name": "stderr",
          "text": [
            "/usr/local/lib/python3.7/dist-packages/ipykernel_launcher.py:32: UserWarning: Creating a tensor from a list of numpy.ndarrays is extremely slow. Please consider converting the list to a single numpy.ndarray with numpy.array() before converting to a tensor. (Triggered internally at  ../torch/csrc/utils/tensor_new.cpp:201.)\n"
          ]
        }
      ],
      "source": [
        "# bert_train_dataloader, bert_validation_dataloader = train_valid_split(\n",
        "#     input_ids=input_ids,\n",
        "#     attention_masks=attention_masks,\n",
        "#     input_w2v=input_w2v,\n",
        "#     labels=labels,\n",
        "#     batch_size=64\n",
        "# )\n",
        "\n",
        "## AUGMENTATION\n",
        "bert_train_dataloader, bert_validation_dataloader, w2v_model = augment_split(\n",
        "    df=df,\n",
        "    labeled_emotes = labeled_emotes,\n",
        "    labels = labels,\n",
        "    bert_tokenizer = bert_tokenizer,\n",
        "    batch_size=32\n",
        ")"
      ]
    },
    {
      "cell_type": "markdown",
      "source": [
        "## BERT + W2V Model"
      ],
      "metadata": {
        "id": "dIVLflIvqNZL"
      }
    },
    {
      "cell_type": "code",
      "execution_count": 17,
      "metadata": {
        "id": "9ThwZA2628l3"
      },
      "outputs": [],
      "source": [
        "from transformers import BertModel\n",
        "import torch.nn as nn\n",
        "\n",
        "class BertForSentenceClassification(BertModel):\n",
        "    def __init__(self, config, use_dropout, embed_size, dropout = 0.5):\n",
        "        super().__init__(config)\n",
        "        \n",
        "        self.dropout = nn.Dropout(p = dropout)\n",
        "        self.l1 = nn.Linear(config.hidden_size, 128) #nn.Linear(config.hidden_size + embed_size, 128)\n",
        "        self.a = nn.SiLU()\n",
        "        self.l2 = nn.Linear(128, config.num_labels)\n",
        "\n",
        "        self.loss = torch.nn.CrossEntropyLoss()\n",
        "        self.use_dropout = use_dropout\n",
        "\n",
        "    def forward(self, labels=None, w2v_embeds = None, **kwargs):\n",
        "        outputs = super().forward(**kwargs)\n",
        "\n",
        "        cls_token_repr = outputs.pooler_output\n",
        "        if w2v_embeds is not None:\n",
        "          cls_token_repr = nn.functional.normalize(cls_token_repr) + nn.functional.normalize(w2v_embeds) #torch.cat((cls_token_repr, w2v_embeds), dim = -1)\n",
        "\n",
        "        # apply dropout\n",
        "        if self.use_dropout:\n",
        "          dropouts = self.dropout(cls_token_repr)\n",
        "        else:\n",
        "          dropouts = cls_token_repr\n",
        "\n",
        "        linear = self.l1(dropouts)\n",
        "        activation = self.a(linear)\n",
        "        logits = self.l2(activation)\n",
        "        if labels is not None:\n",
        "            outputs = (logits, self.loss(logits, labels))\n",
        "        else:\n",
        "            outputs = (logits,)\n",
        "        return outputs\n"
      ]
    },
    {
      "cell_type": "code",
      "execution_count": 18,
      "metadata": {
        "colab": {
          "base_uri": "https://localhost:8080/",
          "height": 156,
          "referenced_widgets": [
            "c758d0b0abb5493bb849581e11c5e451",
            "9d4144b51e2d411090c4d679a8ad6f89",
            "4ea3d2ad811342ef83d304f39421fa45",
            "6116a9ba59a84a6482506464bbc92ee9",
            "5e15ed7230d14e548584b403230eda24",
            "d1264545f1534cb5bba3527126e1c2ef",
            "5b21aa34bda54cc9b6590ca3cac6848d",
            "8b7c046d35ee48cebe2979f6c32119b8",
            "ef3605d73aff4c5ebc807c041c2ef595",
            "5c420dd86826436fa81664e413f6b7da",
            "74a8fb50b02343f9b55b3796fb649726"
          ]
        },
        "id": "B4gdwWc328l5",
        "outputId": "c2795f48-a394-4fed-d51b-4d2b8a4ef3ed"
      },
      "outputs": [
        {
          "output_type": "display_data",
          "data": {
            "text/plain": [
              "Downloading:   0%|          | 0.00/416M [00:00<?, ?B/s]"
            ],
            "application/vnd.jupyter.widget-view+json": {
              "version_major": 2,
              "version_minor": 0,
              "model_id": "c758d0b0abb5493bb849581e11c5e451"
            }
          },
          "metadata": {}
        },
        {
          "output_type": "stream",
          "name": "stderr",
          "text": [
            "Some weights of the model checkpoint at bert-base-cased were not used when initializing BertForSentenceClassification: ['cls.predictions.transform.LayerNorm.weight', 'cls.predictions.transform.LayerNorm.bias', 'cls.predictions.transform.dense.bias', 'cls.seq_relationship.weight', 'cls.predictions.decoder.weight', 'cls.seq_relationship.bias', 'cls.predictions.transform.dense.weight', 'cls.predictions.bias']\n",
            "- This IS expected if you are initializing BertForSentenceClassification from the checkpoint of a model trained on another task or with another architecture (e.g. initializing a BertForSequenceClassification model from a BertForPreTraining model).\n",
            "- This IS NOT expected if you are initializing BertForSentenceClassification from the checkpoint of a model that you expect to be exactly identical (initializing a BertForSequenceClassification model from a BertForSequenceClassification model).\n",
            "Some weights of BertForSentenceClassification were not initialized from the model checkpoint at bert-base-cased and are newly initialized: ['bert.l1.bias', 'bert.l2.weight', 'bert.l1.weight', 'bert.l2.bias']\n",
            "You should probably TRAIN this model on a down-stream task to be able to use it for predictions and inference.\n"
          ]
        }
      ],
      "source": [
        "model = BertForSentenceClassification.from_pretrained(\n",
        "    pretrained,\n",
        "    num_labels = 3,\n",
        "    use_dropout = True,\n",
        "    embed_size = 768\n",
        ")"
      ]
    },
    {
      "cell_type": "code",
      "execution_count": 19,
      "metadata": {
        "colab": {
          "base_uri": "https://localhost:8080/"
        },
        "id": "TkrVxHa428l5",
        "outputId": "1bfbacfa-f19a-43ed-d24b-82dc1e1508c9"
      },
      "outputs": [
        {
          "output_type": "stream",
          "name": "stdout",
          "text": [
            "The BERT model has 203 different named parameters.\n",
            "\n",
            "==== Embedding Layer ====\n",
            "\n",
            "embeddings.word_embeddings.weight                       (28996, 768)\n",
            "embeddings.position_embeddings.weight                     (512, 768)\n",
            "embeddings.token_type_embeddings.weight                     (2, 768)\n",
            "embeddings.LayerNorm.weight                                   (768,)\n",
            "embeddings.LayerNorm.bias                                     (768,)\n",
            "\n",
            "==== First Transformer Layer ====\n",
            "\n",
            "encoder.layer.0.attention.self.query.weight               (768, 768)\n",
            "encoder.layer.0.attention.self.query.bias                     (768,)\n",
            "encoder.layer.0.attention.self.key.weight                 (768, 768)\n",
            "encoder.layer.0.attention.self.key.bias                       (768,)\n",
            "encoder.layer.0.attention.self.value.weight               (768, 768)\n",
            "encoder.layer.0.attention.self.value.bias                     (768,)\n",
            "encoder.layer.0.attention.output.dense.weight             (768, 768)\n",
            "encoder.layer.0.attention.output.dense.bias                   (768,)\n",
            "encoder.layer.0.attention.output.LayerNorm.weight             (768,)\n",
            "encoder.layer.0.attention.output.LayerNorm.bias               (768,)\n",
            "encoder.layer.0.intermediate.dense.weight                (3072, 768)\n",
            "encoder.layer.0.intermediate.dense.bias                      (3072,)\n",
            "encoder.layer.0.output.dense.weight                      (768, 3072)\n",
            "encoder.layer.0.output.dense.bias                             (768,)\n",
            "encoder.layer.0.output.LayerNorm.weight                       (768,)\n",
            "encoder.layer.0.output.LayerNorm.bias                         (768,)\n",
            "\n",
            "==== Output Layer ====\n",
            "\n",
            "l1.weight                                                 (128, 768)\n",
            "l1.bias                                                       (128,)\n",
            "l2.weight                                                   (3, 128)\n",
            "l2.bias                                                         (3,)\n"
          ]
        }
      ],
      "source": [
        "# Model parameters visualization\n",
        "params = list(model.named_parameters())\n",
        "\n",
        "print('The BERT model has {:} different named parameters.\\n'.format(len(params)))\n",
        "\n",
        "print('==== Embedding Layer ====\\n')\n",
        "\n",
        "for p in params[0:5]:\n",
        "    print(\"{:<55} {:>12}\".format(p[0], str(tuple(p[1].size()))))\n",
        "\n",
        "print('\\n==== First Transformer Layer ====\\n')\n",
        "\n",
        "for p in params[5:21]:\n",
        "    print(\"{:<55} {:>12}\".format(p[0], str(tuple(p[1].size()))))\n",
        "\n",
        "print('\\n==== Output Layer ====\\n')\n",
        "\n",
        "for p in params[-4:]:\n",
        "    print(\"{:<55} {:>12}\".format(p[0], str(tuple(p[1].size()))))"
      ]
    },
    {
      "cell_type": "markdown",
      "source": [
        "### Training Loop"
      ],
      "metadata": {
        "id": "ipzTqhkZqR0I"
      }
    },
    {
      "cell_type": "code",
      "execution_count": 20,
      "metadata": {
        "id": "zPMt8pTt28l6"
      },
      "outputs": [],
      "source": [
        "from torch.optim import AdamW\n",
        "import time\n",
        "import datetime\n",
        "from transformers import get_linear_schedule_with_warmup\n",
        "from tqdm import tqdm\n",
        "\n",
        "def flat_accuracy(preds, labels):\n",
        "    pred_flat = np.argmax(preds, axis=1).flatten()\n",
        "    labels_flat = labels.flatten()\n",
        "    return np.sum(pred_flat == labels_flat) / len(labels_flat)\n",
        "\n",
        "def format_time(elapsed):\n",
        "    elapsed_rounded = int(round((elapsed)))\n",
        "    return str(datetime.timedelta(seconds=elapsed_rounded))\n",
        "\n",
        "def get_optimizer_and_scheduler(model, total_steps, lr=2e-5, weight_decay=0.01):\n",
        "    # Apply weight decay to all parameters beside the biases or LayerNorm weights\n",
        "    no_decay = ['bias', 'LayerNorm.weight']\n",
        "    optimizer_grouped_parameters = [\n",
        "        {\n",
        "            'params': [p for n, p in model.named_parameters() if not any(nd in n for nd in no_decay)],\n",
        "            'weight_decay': weight_decay},\n",
        "        {\n",
        "            'params': [p for n, p in model.named_parameters() if any(nd in n for nd in no_decay)],\n",
        "            'weight_decay': 0.0\n",
        "        }\n",
        "    ]\n",
        "    optimizer = AdamW(model.parameters(), lr=lr)\n",
        "    scheduler = get_linear_schedule_with_warmup(\n",
        "        optimizer,\n",
        "        # Warmup learning rate for first 10% of training steps\n",
        "        num_warmup_steps=int(0.10 * total_steps), \n",
        "        num_training_steps=total_steps,\n",
        "    )\n",
        "    return optimizer, scheduler\n",
        "\n",
        "def train_model(model, epochs, train_dataloader, validation_dataloader):\n",
        "    # Use GPU, if available\n",
        "    #device = torch.device(\"cuda\" if torch.cuda.is_available() else \"cpu\")\n",
        "    model = model.to(device) # TPU right now\n",
        "\n",
        "    # Setup optimizer and LR scheduler \n",
        "    total_steps = len(train_dataloader) * epochs\n",
        "    optimizer, scheduler = get_optimizer_and_scheduler(\n",
        "        model, total_steps, lr=5e-5, weight_decay=0.01 # lr was 5e-5 for non-augmented 64 batch size\n",
        "    )\n",
        "\n",
        "    loss_values = []\n",
        "    eval_accs = []\n",
        "    curr_max = 0 # current max eval acc\n",
        "\n",
        "    for epoch in range(0, epochs):\n",
        "        t0 = time.time()\n",
        "\n",
        "        total_loss = 0\n",
        "        model.train()\n",
        "\n",
        "        with tqdm(train_dataloader, unit=\"batch\") as train_pbar:\n",
        "            for batch in train_pbar:\n",
        "                train_pbar.set_description(f\"Training (epoch {epoch + 1})\")\n",
        "                b_input_ids = batch[0].to(device)\n",
        "                b_input_w2v = batch[1].to(device)\n",
        "                b_input_mask = batch[2].to(device)\n",
        "                b_labels = batch[3].to(device)\n",
        "\n",
        "                model.zero_grad()        \n",
        "\n",
        "                # Perform a forward pass (evaluate the model on this training batch).\n",
        "                # This will return the loss because we have provided the `labels`.\n",
        "                outputs = model(\n",
        "                    input_ids=b_input_ids, \n",
        "                    w2v_embeds = b_input_w2v,\n",
        "                    attention_mask=b_input_mask, \n",
        "                    labels=b_labels\n",
        "                )\n",
        "                \n",
        "                # The call to `model` always returns a tuple, so we need to pull the \n",
        "                # loss value out of the tuple.\n",
        "                _, loss = outputs\n",
        "\n",
        "                # Accumulate the training loss over all of the batches so that we can\n",
        "                # calculate the average loss at the end. `loss` is a Tensor containing a\n",
        "                # single value; the `.item()` function just returns the Python value \n",
        "                # from the tensor.\n",
        "                total_loss += loss.item()\n",
        "\n",
        "                # Perform a backward pass to calculate the gradients.\n",
        "                loss.backward()\n",
        "\n",
        "                # Clip the norm of the gradients to 1.0.\n",
        "                # This is to help prevent the \"exploding gradients\" problem.\n",
        "                torch.nn.utils.clip_grad_norm_(model.parameters(), 1.0)\n",
        "\n",
        "                # Update parameters and take a step using the computed gradient.\n",
        "                # The optimizer dictates the \"update rule\"--how the parameters are\n",
        "                # modified based on their gradients, the learning rate, etc.\n",
        "                optimizer.step()\n",
        "\n",
        "                # Update the learning rate.\n",
        "                scheduler.step()\n",
        "\n",
        "        # Calculate the average loss over the training data.\n",
        "        avg_train_loss = total_loss / len(train_dataloader)            \n",
        "        \n",
        "        # Store the loss value for plotting the learning curve.\n",
        "        loss_values.append(avg_train_loss)\n",
        "\n",
        "        print(\"  * Average training loss: {0:.2f}\".format(avg_train_loss))\n",
        "        print(\"  * Training epoch took: {:}\".format(format_time(time.time() - t0)))\n",
        "            \n",
        "        print(\"Running Validation...\")\n",
        "\n",
        "        t0 = time.time()\n",
        "        model.eval()\n",
        "\n",
        "        eval_loss, eval_accuracy = 0, 0\n",
        "        nb_eval_steps, nb_eval_examples = 0, 0\n",
        "\n",
        "        # Evaluate data for one epoch\n",
        "        for batch in validation_dataloader:\n",
        "            batch = tuple(t.to(device) for t in batch)\n",
        "            b_input_ids, b_input_w2v, b_input_mask, b_labels = batch\n",
        "            \n",
        "            with torch.no_grad():        \n",
        "                # Forward pass, calculate logit predictions.\n",
        "                # This will return the logits rather than the loss because we have\n",
        "                # not provided labels.\n",
        "                # token_type_ids is the same as the \"segment ids\", which \n",
        "                # differentiates sentence 1 and 2 in 2-sentence tasks.\n",
        "                outputs = model(\n",
        "                    input_ids=b_input_ids, \n",
        "                    w2v_embeds = b_input_w2v,\n",
        "                    attention_mask=b_input_mask\n",
        "                )\n",
        "            \n",
        "            # Get the \"logits\" output by the model. The \"logits\" are the output\n",
        "            # values prior to applying an activation function like the softmax.\n",
        "            logits = outputs[0]\n",
        "            # Move logits and labels to CPU\n",
        "            logits = logits.detach().cpu().numpy()\n",
        "            label_ids = b_labels.to('cpu').numpy()\n",
        "            # Calculate the accuracy for this batch of test sentences.\n",
        "            tmp_eval_accuracy = flat_accuracy(logits, label_ids)\n",
        "            # Accumulate the total accuracy.\n",
        "            eval_accuracy += tmp_eval_accuracy\n",
        "            # Track the number of batches\n",
        "            nb_eval_steps += 1\n",
        "\n",
        "        avg_eval_acc = eval_accuracy/nb_eval_steps\n",
        "        print(\"  * Accuracy: {0:.2f}\".format(avg_eval_acc))\n",
        "        print(\"  * Validation took: {:}\".format(format_time(time.time() - t0)))\n",
        "        eval_accs.append(avg_eval_acc)\n",
        "\n",
        "        print(f\"PREVIOUS BEST EVAL:{curr_max}\")\n",
        "        # save max eval model\n",
        "        if max(avg_eval_acc, curr_max) == avg_eval_acc:\n",
        "          curr_max = avg_eval_acc\n",
        "          try:\n",
        "            os.makedirs(\"./weights/\")\n",
        "          except:\n",
        "            print(\"dir exists\")\n",
        "          print(\"Saving Weights...\")\n",
        "          model.save_pretrained(\"./weights/curr\")\n",
        "        \n",
        "\n",
        "    print(\"Training complete!\")\n",
        "    return loss_values, eval_accs"
      ]
    },
    {
      "cell_type": "code",
      "execution_count": 21,
      "metadata": {
        "colab": {
          "base_uri": "https://localhost:8080/"
        },
        "id": "-8yMCazi28l7",
        "outputId": "0302c22b-7b7b-4e0d-8a11-93971c5c5785"
      },
      "outputs": [
        {
          "output_type": "stream",
          "name": "stderr",
          "text": [
            "Training (epoch 1): 100%|██████████| 45/45 [00:31<00:00,  1.43batch/s]\n"
          ]
        },
        {
          "output_type": "stream",
          "name": "stdout",
          "text": [
            "  * Average training loss: 1.10\n",
            "  * Training epoch took: 0:00:31\n",
            "Running Validation...\n",
            "  * Accuracy: 0.42\n",
            "  * Validation took: 0:00:03\n",
            "PREVIOUS BEST EVAL:0\n",
            "Saving Weights...\n"
          ]
        },
        {
          "output_type": "stream",
          "name": "stderr",
          "text": [
            "Training (epoch 2): 100%|██████████| 45/45 [00:31<00:00,  1.43batch/s]\n"
          ]
        },
        {
          "output_type": "stream",
          "name": "stdout",
          "text": [
            "  * Average training loss: 1.09\n",
            "  * Training epoch took: 0:00:31\n",
            "Running Validation...\n",
            "  * Accuracy: 0.44\n",
            "  * Validation took: 0:00:03\n",
            "PREVIOUS BEST EVAL:0.4230769230769231\n",
            "dir exists\n",
            "Saving Weights...\n"
          ]
        },
        {
          "output_type": "stream",
          "name": "stderr",
          "text": [
            "Training (epoch 3): 100%|██████████| 45/45 [00:31<00:00,  1.44batch/s]\n"
          ]
        },
        {
          "output_type": "stream",
          "name": "stdout",
          "text": [
            "  * Average training loss: 1.08\n",
            "  * Training epoch took: 0:00:31\n",
            "Running Validation...\n",
            "  * Accuracy: 0.44\n",
            "  * Validation took: 0:00:03\n",
            "PREVIOUS BEST EVAL:0.43509615384615385\n",
            "dir exists\n",
            "Saving Weights...\n"
          ]
        },
        {
          "output_type": "stream",
          "name": "stderr",
          "text": [
            "Training (epoch 4): 100%|██████████| 45/45 [00:31<00:00,  1.44batch/s]\n"
          ]
        },
        {
          "output_type": "stream",
          "name": "stdout",
          "text": [
            "  * Average training loss: 1.07\n",
            "  * Training epoch took: 0:00:31\n",
            "Running Validation...\n",
            "  * Accuracy: 0.44\n",
            "  * Validation took: 0:00:03\n",
            "PREVIOUS BEST EVAL:0.43509615384615385\n",
            "dir exists\n",
            "Saving Weights...\n"
          ]
        },
        {
          "output_type": "stream",
          "name": "stderr",
          "text": [
            "Training (epoch 5): 100%|██████████| 45/45 [00:31<00:00,  1.44batch/s]\n"
          ]
        },
        {
          "output_type": "stream",
          "name": "stdout",
          "text": [
            "  * Average training loss: 1.04\n",
            "  * Training epoch took: 0:00:31\n",
            "Running Validation...\n",
            "  * Accuracy: 0.36\n",
            "  * Validation took: 0:00:03\n",
            "PREVIOUS BEST EVAL:0.43509615384615385\n"
          ]
        },
        {
          "output_type": "stream",
          "name": "stderr",
          "text": [
            "Training (epoch 6): 100%|██████████| 45/45 [00:31<00:00,  1.44batch/s]\n"
          ]
        },
        {
          "output_type": "stream",
          "name": "stdout",
          "text": [
            "  * Average training loss: 1.00\n",
            "  * Training epoch took: 0:00:31\n",
            "Running Validation...\n",
            "  * Accuracy: 0.54\n",
            "  * Validation took: 0:00:03\n",
            "PREVIOUS BEST EVAL:0.43509615384615385\n",
            "dir exists\n",
            "Saving Weights...\n"
          ]
        },
        {
          "output_type": "stream",
          "name": "stderr",
          "text": [
            "Training (epoch 7): 100%|██████████| 45/45 [00:31<00:00,  1.44batch/s]\n"
          ]
        },
        {
          "output_type": "stream",
          "name": "stdout",
          "text": [
            "  * Average training loss: 0.94\n",
            "  * Training epoch took: 0:00:31\n",
            "Running Validation...\n",
            "  * Accuracy: 0.58\n",
            "  * Validation took: 0:00:03\n",
            "PREVIOUS BEST EVAL:0.5408653846153846\n",
            "dir exists\n",
            "Saving Weights...\n"
          ]
        },
        {
          "output_type": "stream",
          "name": "stderr",
          "text": [
            "Training (epoch 8): 100%|██████████| 45/45 [00:31<00:00,  1.44batch/s]\n"
          ]
        },
        {
          "output_type": "stream",
          "name": "stdout",
          "text": [
            "  * Average training loss: 0.89\n",
            "  * Training epoch took: 0:00:31\n",
            "Running Validation...\n",
            "  * Accuracy: 0.59\n",
            "  * Validation took: 0:00:03\n",
            "PREVIOUS BEST EVAL:0.5817307692307693\n",
            "dir exists\n",
            "Saving Weights...\n"
          ]
        },
        {
          "output_type": "stream",
          "name": "stderr",
          "text": [
            "Training (epoch 9): 100%|██████████| 45/45 [00:31<00:00,  1.44batch/s]\n"
          ]
        },
        {
          "output_type": "stream",
          "name": "stdout",
          "text": [
            "  * Average training loss: 0.83\n",
            "  * Training epoch took: 0:00:31\n",
            "Running Validation...\n",
            "  * Accuracy: 0.58\n",
            "  * Validation took: 0:00:03\n",
            "PREVIOUS BEST EVAL:0.5865384615384616\n"
          ]
        },
        {
          "output_type": "stream",
          "name": "stderr",
          "text": [
            "Training (epoch 10): 100%|██████████| 45/45 [00:31<00:00,  1.44batch/s]\n"
          ]
        },
        {
          "output_type": "stream",
          "name": "stdout",
          "text": [
            "  * Average training loss: 0.75\n",
            "  * Training epoch took: 0:00:31\n",
            "Running Validation...\n",
            "  * Accuracy: 0.51\n",
            "  * Validation took: 0:00:03\n",
            "PREVIOUS BEST EVAL:0.5865384615384616\n"
          ]
        },
        {
          "output_type": "stream",
          "name": "stderr",
          "text": [
            "Training (epoch 11): 100%|██████████| 45/45 [00:31<00:00,  1.44batch/s]\n"
          ]
        },
        {
          "output_type": "stream",
          "name": "stdout",
          "text": [
            "  * Average training loss: 0.70\n",
            "  * Training epoch took: 0:00:31\n",
            "Running Validation...\n",
            "  * Accuracy: 0.60\n",
            "  * Validation took: 0:00:03\n",
            "PREVIOUS BEST EVAL:0.5865384615384616\n",
            "dir exists\n",
            "Saving Weights...\n"
          ]
        },
        {
          "output_type": "stream",
          "name": "stderr",
          "text": [
            "Training (epoch 12): 100%|██████████| 45/45 [00:31<00:00,  1.44batch/s]\n"
          ]
        },
        {
          "output_type": "stream",
          "name": "stdout",
          "text": [
            "  * Average training loss: 0.65\n",
            "  * Training epoch took: 0:00:31\n",
            "Running Validation...\n",
            "  * Accuracy: 0.58\n",
            "  * Validation took: 0:00:03\n",
            "PREVIOUS BEST EVAL:0.6033653846153846\n"
          ]
        },
        {
          "output_type": "stream",
          "name": "stderr",
          "text": [
            "Training (epoch 13): 100%|██████████| 45/45 [00:31<00:00,  1.44batch/s]\n"
          ]
        },
        {
          "output_type": "stream",
          "name": "stdout",
          "text": [
            "  * Average training loss: 0.62\n",
            "  * Training epoch took: 0:00:31\n",
            "Running Validation...\n",
            "  * Accuracy: 0.62\n",
            "  * Validation took: 0:00:03\n",
            "PREVIOUS BEST EVAL:0.6033653846153846\n",
            "dir exists\n",
            "Saving Weights...\n"
          ]
        },
        {
          "output_type": "stream",
          "name": "stderr",
          "text": [
            "Training (epoch 14): 100%|██████████| 45/45 [00:31<00:00,  1.44batch/s]\n"
          ]
        },
        {
          "output_type": "stream",
          "name": "stdout",
          "text": [
            "  * Average training loss: 0.57\n",
            "  * Training epoch took: 0:00:31\n",
            "Running Validation...\n",
            "  * Accuracy: 0.62\n",
            "  * Validation took: 0:00:03\n",
            "PREVIOUS BEST EVAL:0.6177884615384616\n"
          ]
        },
        {
          "output_type": "stream",
          "name": "stderr",
          "text": [
            "Training (epoch 15): 100%|██████████| 45/45 [00:31<00:00,  1.44batch/s]\n"
          ]
        },
        {
          "output_type": "stream",
          "name": "stdout",
          "text": [
            "  * Average training loss: 0.51\n",
            "  * Training epoch took: 0:00:31\n",
            "Running Validation...\n",
            "  * Accuracy: 0.59\n",
            "  * Validation took: 0:00:03\n",
            "PREVIOUS BEST EVAL:0.6177884615384616\n"
          ]
        },
        {
          "output_type": "stream",
          "name": "stderr",
          "text": [
            "Training (epoch 16): 100%|██████████| 45/45 [00:31<00:00,  1.44batch/s]\n"
          ]
        },
        {
          "output_type": "stream",
          "name": "stdout",
          "text": [
            "  * Average training loss: 0.46\n",
            "  * Training epoch took: 0:00:31\n",
            "Running Validation...\n",
            "  * Accuracy: 0.58\n",
            "  * Validation took: 0:00:03\n",
            "PREVIOUS BEST EVAL:0.6177884615384616\n"
          ]
        },
        {
          "output_type": "stream",
          "name": "stderr",
          "text": [
            "Training (epoch 17): 100%|██████████| 45/45 [00:31<00:00,  1.44batch/s]\n"
          ]
        },
        {
          "output_type": "stream",
          "name": "stdout",
          "text": [
            "  * Average training loss: 0.43\n",
            "  * Training epoch took: 0:00:31\n",
            "Running Validation...\n",
            "  * Accuracy: 0.60\n",
            "  * Validation took: 0:00:03\n",
            "PREVIOUS BEST EVAL:0.6177884615384616\n"
          ]
        },
        {
          "output_type": "stream",
          "name": "stderr",
          "text": [
            "Training (epoch 18): 100%|██████████| 45/45 [00:31<00:00,  1.44batch/s]\n"
          ]
        },
        {
          "output_type": "stream",
          "name": "stdout",
          "text": [
            "  * Average training loss: 0.39\n",
            "  * Training epoch took: 0:00:31\n",
            "Running Validation...\n",
            "  * Accuracy: 0.59\n",
            "  * Validation took: 0:00:03\n",
            "PREVIOUS BEST EVAL:0.6177884615384616\n"
          ]
        },
        {
          "output_type": "stream",
          "name": "stderr",
          "text": [
            "Training (epoch 19): 100%|██████████| 45/45 [00:31<00:00,  1.44batch/s]\n"
          ]
        },
        {
          "output_type": "stream",
          "name": "stdout",
          "text": [
            "  * Average training loss: 0.35\n",
            "  * Training epoch took: 0:00:31\n",
            "Running Validation...\n",
            "  * Accuracy: 0.61\n",
            "  * Validation took: 0:00:03\n",
            "PREVIOUS BEST EVAL:0.6177884615384616\n"
          ]
        },
        {
          "output_type": "stream",
          "name": "stderr",
          "text": [
            "Training (epoch 20): 100%|██████████| 45/45 [00:31<00:00,  1.44batch/s]\n"
          ]
        },
        {
          "output_type": "stream",
          "name": "stdout",
          "text": [
            "  * Average training loss: 0.32\n",
            "  * Training epoch took: 0:00:31\n",
            "Running Validation...\n",
            "  * Accuracy: 0.59\n",
            "  * Validation took: 0:00:03\n",
            "PREVIOUS BEST EVAL:0.6177884615384616\n"
          ]
        },
        {
          "output_type": "stream",
          "name": "stderr",
          "text": [
            "Training (epoch 21): 100%|██████████| 45/45 [00:31<00:00,  1.44batch/s]\n"
          ]
        },
        {
          "output_type": "stream",
          "name": "stdout",
          "text": [
            "  * Average training loss: 0.28\n",
            "  * Training epoch took: 0:00:31\n",
            "Running Validation...\n",
            "  * Accuracy: 0.62\n",
            "  * Validation took: 0:00:03\n",
            "PREVIOUS BEST EVAL:0.6177884615384616\n"
          ]
        },
        {
          "output_type": "stream",
          "name": "stderr",
          "text": [
            "Training (epoch 22): 100%|██████████| 45/45 [00:31<00:00,  1.44batch/s]\n"
          ]
        },
        {
          "output_type": "stream",
          "name": "stdout",
          "text": [
            "  * Average training loss: 0.27\n",
            "  * Training epoch took: 0:00:31\n",
            "Running Validation...\n",
            "  * Accuracy: 0.60\n",
            "  * Validation took: 0:00:03\n",
            "PREVIOUS BEST EVAL:0.6177884615384616\n"
          ]
        },
        {
          "output_type": "stream",
          "name": "stderr",
          "text": [
            "Training (epoch 23): 100%|██████████| 45/45 [00:31<00:00,  1.44batch/s]\n"
          ]
        },
        {
          "output_type": "stream",
          "name": "stdout",
          "text": [
            "  * Average training loss: 0.25\n",
            "  * Training epoch took: 0:00:31\n",
            "Running Validation...\n",
            "  * Accuracy: 0.61\n",
            "  * Validation took: 0:00:03\n",
            "PREVIOUS BEST EVAL:0.6177884615384616\n"
          ]
        },
        {
          "output_type": "stream",
          "name": "stderr",
          "text": [
            "Training (epoch 24): 100%|██████████| 45/45 [00:31<00:00,  1.44batch/s]\n"
          ]
        },
        {
          "output_type": "stream",
          "name": "stdout",
          "text": [
            "  * Average training loss: 0.22\n",
            "  * Training epoch took: 0:00:31\n",
            "Running Validation...\n",
            "  * Accuracy: 0.60\n",
            "  * Validation took: 0:00:03\n",
            "PREVIOUS BEST EVAL:0.6177884615384616\n"
          ]
        },
        {
          "output_type": "stream",
          "name": "stderr",
          "text": [
            "Training (epoch 25): 100%|██████████| 45/45 [00:31<00:00,  1.44batch/s]\n"
          ]
        },
        {
          "output_type": "stream",
          "name": "stdout",
          "text": [
            "  * Average training loss: 0.21\n",
            "  * Training epoch took: 0:00:31\n",
            "Running Validation...\n",
            "  * Accuracy: 0.60\n",
            "  * Validation took: 0:00:03\n",
            "PREVIOUS BEST EVAL:0.6177884615384616\n"
          ]
        },
        {
          "output_type": "stream",
          "name": "stderr",
          "text": [
            "Training (epoch 26): 100%|██████████| 45/45 [00:31<00:00,  1.44batch/s]\n"
          ]
        },
        {
          "output_type": "stream",
          "name": "stdout",
          "text": [
            "  * Average training loss: 0.19\n",
            "  * Training epoch took: 0:00:31\n",
            "Running Validation...\n",
            "  * Accuracy: 0.62\n",
            "  * Validation took: 0:00:03\n",
            "PREVIOUS BEST EVAL:0.6177884615384616\n",
            "dir exists\n",
            "Saving Weights...\n"
          ]
        },
        {
          "output_type": "stream",
          "name": "stderr",
          "text": [
            "Training (epoch 27): 100%|██████████| 45/45 [00:31<00:00,  1.44batch/s]\n"
          ]
        },
        {
          "output_type": "stream",
          "name": "stdout",
          "text": [
            "  * Average training loss: 0.18\n",
            "  * Training epoch took: 0:00:31\n",
            "Running Validation...\n",
            "  * Accuracy: 0.61\n",
            "  * Validation took: 0:00:03\n",
            "PREVIOUS BEST EVAL:0.6201923076923077\n"
          ]
        },
        {
          "output_type": "stream",
          "name": "stderr",
          "text": [
            "Training (epoch 28): 100%|██████████| 45/45 [00:31<00:00,  1.44batch/s]\n"
          ]
        },
        {
          "output_type": "stream",
          "name": "stdout",
          "text": [
            "  * Average training loss: 0.17\n",
            "  * Training epoch took: 0:00:31\n",
            "Running Validation...\n",
            "  * Accuracy: 0.60\n",
            "  * Validation took: 0:00:03\n",
            "PREVIOUS BEST EVAL:0.6201923076923077\n"
          ]
        },
        {
          "output_type": "stream",
          "name": "stderr",
          "text": [
            "Training (epoch 29): 100%|██████████| 45/45 [00:31<00:00,  1.44batch/s]\n"
          ]
        },
        {
          "output_type": "stream",
          "name": "stdout",
          "text": [
            "  * Average training loss: 0.15\n",
            "  * Training epoch took: 0:00:31\n",
            "Running Validation...\n",
            "  * Accuracy: 0.59\n",
            "  * Validation took: 0:00:03\n",
            "PREVIOUS BEST EVAL:0.6201923076923077\n"
          ]
        },
        {
          "output_type": "stream",
          "name": "stderr",
          "text": [
            "Training (epoch 30): 100%|██████████| 45/45 [00:31<00:00,  1.44batch/s]\n"
          ]
        },
        {
          "output_type": "stream",
          "name": "stdout",
          "text": [
            "  * Average training loss: 0.15\n",
            "  * Training epoch took: 0:00:31\n",
            "Running Validation...\n",
            "  * Accuracy: 0.60\n",
            "  * Validation took: 0:00:03\n",
            "PREVIOUS BEST EVAL:0.6201923076923077\n"
          ]
        },
        {
          "output_type": "stream",
          "name": "stderr",
          "text": [
            "Training (epoch 31): 100%|██████████| 45/45 [00:31<00:00,  1.44batch/s]\n"
          ]
        },
        {
          "output_type": "stream",
          "name": "stdout",
          "text": [
            "  * Average training loss: 0.13\n",
            "  * Training epoch took: 0:00:31\n",
            "Running Validation...\n",
            "  * Accuracy: 0.60\n",
            "  * Validation took: 0:00:03\n",
            "PREVIOUS BEST EVAL:0.6201923076923077\n"
          ]
        },
        {
          "output_type": "stream",
          "name": "stderr",
          "text": [
            "Training (epoch 32): 100%|██████████| 45/45 [00:31<00:00,  1.44batch/s]\n"
          ]
        },
        {
          "output_type": "stream",
          "name": "stdout",
          "text": [
            "  * Average training loss: 0.12\n",
            "  * Training epoch took: 0:00:31\n",
            "Running Validation...\n",
            "  * Accuracy: 0.59\n",
            "  * Validation took: 0:00:03\n",
            "PREVIOUS BEST EVAL:0.6201923076923077\n"
          ]
        },
        {
          "output_type": "stream",
          "name": "stderr",
          "text": [
            "Training (epoch 33): 100%|██████████| 45/45 [00:31<00:00,  1.44batch/s]\n"
          ]
        },
        {
          "output_type": "stream",
          "name": "stdout",
          "text": [
            "  * Average training loss: 0.12\n",
            "  * Training epoch took: 0:00:31\n",
            "Running Validation...\n",
            "  * Accuracy: 0.57\n",
            "  * Validation took: 0:00:03\n",
            "PREVIOUS BEST EVAL:0.6201923076923077\n"
          ]
        },
        {
          "output_type": "stream",
          "name": "stderr",
          "text": [
            "Training (epoch 34): 100%|██████████| 45/45 [00:31<00:00,  1.44batch/s]\n"
          ]
        },
        {
          "output_type": "stream",
          "name": "stdout",
          "text": [
            "  * Average training loss: 0.11\n",
            "  * Training epoch took: 0:00:31\n",
            "Running Validation...\n",
            "  * Accuracy: 0.60\n",
            "  * Validation took: 0:00:03\n",
            "PREVIOUS BEST EVAL:0.6201923076923077\n"
          ]
        },
        {
          "output_type": "stream",
          "name": "stderr",
          "text": [
            "Training (epoch 35): 100%|██████████| 45/45 [00:31<00:00,  1.44batch/s]\n"
          ]
        },
        {
          "output_type": "stream",
          "name": "stdout",
          "text": [
            "  * Average training loss: 0.10\n",
            "  * Training epoch took: 0:00:31\n",
            "Running Validation...\n",
            "  * Accuracy: 0.59\n",
            "  * Validation took: 0:00:03\n",
            "PREVIOUS BEST EVAL:0.6201923076923077\n"
          ]
        },
        {
          "output_type": "stream",
          "name": "stderr",
          "text": [
            "Training (epoch 36): 100%|██████████| 45/45 [00:31<00:00,  1.44batch/s]\n"
          ]
        },
        {
          "output_type": "stream",
          "name": "stdout",
          "text": [
            "  * Average training loss: 0.10\n",
            "  * Training epoch took: 0:00:31\n",
            "Running Validation...\n",
            "  * Accuracy: 0.59\n",
            "  * Validation took: 0:00:03\n",
            "PREVIOUS BEST EVAL:0.6201923076923077\n"
          ]
        },
        {
          "output_type": "stream",
          "name": "stderr",
          "text": [
            "Training (epoch 37): 100%|██████████| 45/45 [00:31<00:00,  1.44batch/s]\n"
          ]
        },
        {
          "output_type": "stream",
          "name": "stdout",
          "text": [
            "  * Average training loss: 0.09\n",
            "  * Training epoch took: 0:00:31\n",
            "Running Validation...\n",
            "  * Accuracy: 0.60\n",
            "  * Validation took: 0:00:03\n",
            "PREVIOUS BEST EVAL:0.6201923076923077\n"
          ]
        },
        {
          "output_type": "stream",
          "name": "stderr",
          "text": [
            "Training (epoch 38): 100%|██████████| 45/45 [00:31<00:00,  1.44batch/s]\n"
          ]
        },
        {
          "output_type": "stream",
          "name": "stdout",
          "text": [
            "  * Average training loss: 0.10\n",
            "  * Training epoch took: 0:00:31\n",
            "Running Validation...\n",
            "  * Accuracy: 0.58\n",
            "  * Validation took: 0:00:03\n",
            "PREVIOUS BEST EVAL:0.6201923076923077\n"
          ]
        },
        {
          "output_type": "stream",
          "name": "stderr",
          "text": [
            "Training (epoch 39): 100%|██████████| 45/45 [00:31<00:00,  1.44batch/s]\n"
          ]
        },
        {
          "output_type": "stream",
          "name": "stdout",
          "text": [
            "  * Average training loss: 0.09\n",
            "  * Training epoch took: 0:00:31\n",
            "Running Validation...\n",
            "  * Accuracy: 0.59\n",
            "  * Validation took: 0:00:03\n",
            "PREVIOUS BEST EVAL:0.6201923076923077\n"
          ]
        },
        {
          "output_type": "stream",
          "name": "stderr",
          "text": [
            "Training (epoch 40): 100%|██████████| 45/45 [00:31<00:00,  1.44batch/s]\n"
          ]
        },
        {
          "output_type": "stream",
          "name": "stdout",
          "text": [
            "  * Average training loss: 0.09\n",
            "  * Training epoch took: 0:00:31\n",
            "Running Validation...\n",
            "  * Accuracy: 0.59\n",
            "  * Validation took: 0:00:03\n",
            "PREVIOUS BEST EVAL:0.6201923076923077\n"
          ]
        },
        {
          "output_type": "stream",
          "name": "stderr",
          "text": [
            "Training (epoch 41): 100%|██████████| 45/45 [00:31<00:00,  1.44batch/s]\n"
          ]
        },
        {
          "output_type": "stream",
          "name": "stdout",
          "text": [
            "  * Average training loss: 0.08\n",
            "  * Training epoch took: 0:00:31\n",
            "Running Validation...\n",
            "  * Accuracy: 0.59\n",
            "  * Validation took: 0:00:03\n",
            "PREVIOUS BEST EVAL:0.6201923076923077\n"
          ]
        },
        {
          "output_type": "stream",
          "name": "stderr",
          "text": [
            "Training (epoch 42): 100%|██████████| 45/45 [00:31<00:00,  1.44batch/s]\n"
          ]
        },
        {
          "output_type": "stream",
          "name": "stdout",
          "text": [
            "  * Average training loss: 0.08\n",
            "  * Training epoch took: 0:00:31\n",
            "Running Validation...\n",
            "  * Accuracy: 0.58\n",
            "  * Validation took: 0:00:03\n",
            "PREVIOUS BEST EVAL:0.6201923076923077\n"
          ]
        },
        {
          "output_type": "stream",
          "name": "stderr",
          "text": [
            "Training (epoch 43): 100%|██████████| 45/45 [00:31<00:00,  1.44batch/s]\n"
          ]
        },
        {
          "output_type": "stream",
          "name": "stdout",
          "text": [
            "  * Average training loss: 0.08\n",
            "  * Training epoch took: 0:00:31\n",
            "Running Validation...\n",
            "  * Accuracy: 0.58\n",
            "  * Validation took: 0:00:03\n",
            "PREVIOUS BEST EVAL:0.6201923076923077\n"
          ]
        },
        {
          "output_type": "stream",
          "name": "stderr",
          "text": [
            "Training (epoch 44): 100%|██████████| 45/45 [00:31<00:00,  1.44batch/s]\n"
          ]
        },
        {
          "output_type": "stream",
          "name": "stdout",
          "text": [
            "  * Average training loss: 0.08\n",
            "  * Training epoch took: 0:00:31\n",
            "Running Validation...\n",
            "  * Accuracy: 0.59\n",
            "  * Validation took: 0:00:03\n",
            "PREVIOUS BEST EVAL:0.6201923076923077\n"
          ]
        },
        {
          "output_type": "stream",
          "name": "stderr",
          "text": [
            "Training (epoch 45): 100%|██████████| 45/45 [00:31<00:00,  1.44batch/s]\n"
          ]
        },
        {
          "output_type": "stream",
          "name": "stdout",
          "text": [
            "  * Average training loss: 0.07\n",
            "  * Training epoch took: 0:00:31\n",
            "Running Validation...\n",
            "  * Accuracy: 0.59\n",
            "  * Validation took: 0:00:03\n",
            "PREVIOUS BEST EVAL:0.6201923076923077\n"
          ]
        },
        {
          "output_type": "stream",
          "name": "stderr",
          "text": [
            "Training (epoch 46): 100%|██████████| 45/45 [00:31<00:00,  1.44batch/s]\n"
          ]
        },
        {
          "output_type": "stream",
          "name": "stdout",
          "text": [
            "  * Average training loss: 0.07\n",
            "  * Training epoch took: 0:00:31\n",
            "Running Validation...\n",
            "  * Accuracy: 0.59\n",
            "  * Validation took: 0:00:03\n",
            "PREVIOUS BEST EVAL:0.6201923076923077\n"
          ]
        },
        {
          "output_type": "stream",
          "name": "stderr",
          "text": [
            "Training (epoch 47): 100%|██████████| 45/45 [00:31<00:00,  1.43batch/s]\n"
          ]
        },
        {
          "output_type": "stream",
          "name": "stdout",
          "text": [
            "  * Average training loss: 0.07\n",
            "  * Training epoch took: 0:00:31\n",
            "Running Validation...\n",
            "  * Accuracy: 0.58\n",
            "  * Validation took: 0:00:03\n",
            "PREVIOUS BEST EVAL:0.6201923076923077\n"
          ]
        },
        {
          "output_type": "stream",
          "name": "stderr",
          "text": [
            "Training (epoch 48): 100%|██████████| 45/45 [00:31<00:00,  1.43batch/s]\n"
          ]
        },
        {
          "output_type": "stream",
          "name": "stdout",
          "text": [
            "  * Average training loss: 0.07\n",
            "  * Training epoch took: 0:00:32\n",
            "Running Validation...\n",
            "  * Accuracy: 0.58\n",
            "  * Validation took: 0:00:03\n",
            "PREVIOUS BEST EVAL:0.6201923076923077\n"
          ]
        },
        {
          "output_type": "stream",
          "name": "stderr",
          "text": [
            "Training (epoch 49): 100%|██████████| 45/45 [00:31<00:00,  1.44batch/s]\n"
          ]
        },
        {
          "output_type": "stream",
          "name": "stdout",
          "text": [
            "  * Average training loss: 0.07\n",
            "  * Training epoch took: 0:00:31\n",
            "Running Validation...\n",
            "  * Accuracy: 0.58\n",
            "  * Validation took: 0:00:03\n",
            "PREVIOUS BEST EVAL:0.6201923076923077\n"
          ]
        },
        {
          "output_type": "stream",
          "name": "stderr",
          "text": [
            "Training (epoch 50): 100%|██████████| 45/45 [00:31<00:00,  1.44batch/s]\n"
          ]
        },
        {
          "output_type": "stream",
          "name": "stdout",
          "text": [
            "  * Average training loss: 0.07\n",
            "  * Training epoch took: 0:00:31\n",
            "Running Validation...\n",
            "  * Accuracy: 0.58\n",
            "  * Validation took: 0:00:03\n",
            "PREVIOUS BEST EVAL:0.6201923076923077\n",
            "Training complete!\n"
          ]
        }
      ],
      "source": [
        "# About 2-3 seconds per epoch using GPU\n",
        "model_loss_vals, model_eval_accs = train_model(\n",
        "    model=model,\n",
        "    epochs=50,\n",
        "    train_dataloader=bert_train_dataloader,\n",
        "    validation_dataloader=bert_validation_dataloader\n",
        ")"
      ]
    },
    {
      "cell_type": "markdown",
      "source": [
        "### Training Plots"
      ],
      "metadata": {
        "id": "SXKg9FIEqXEf"
      }
    },
    {
      "cell_type": "code",
      "execution_count": 22,
      "metadata": {
        "id": "j-zghlV928l8"
      },
      "outputs": [],
      "source": [
        "%matplotlib inline\n",
        "import matplotlib.pyplot as plt\n",
        "import seaborn as sns\n",
        "\n",
        "def plot_loss_and_acc(loss_vals, eval_accs):\n",
        "    sns.set(style='darkgrid')\n",
        "    sns.set(font_scale=1.5)\n",
        "    plt.rcParams[\"figure.figsize\"] = (12,6)\n",
        "    fig, ax1 = plt.subplots(1,1)\n",
        "    ax1.plot(loss_vals, 'b-o', label = 'training loss')\n",
        "    ax2 = ax1.twinx()\n",
        "    ax2.plot(eval_accs, 'y-o', label = 'validation accuracy')\n",
        "    ax2.set_title(\"Training loss and validation accuracy\")\n",
        "    ax2.set_xlabel(\"Epoch\")\n",
        "    ax1.set_ylabel(\"Loss\", color='b')\n",
        "    ax2.set_ylabel(\"Accuracy\", color='y')\n",
        "    ax1.tick_params(axis='y', rotation=0, labelcolor='b' )\n",
        "    ax2.tick_params(axis='y', rotation=0, labelcolor='y' )\n",
        "    plt.show()"
      ]
    },
    {
      "cell_type": "code",
      "execution_count": 23,
      "metadata": {
        "id": "vSZOHRrb28l8",
        "colab": {
          "base_uri": "https://localhost:8080/",
          "height": 405
        },
        "outputId": "59f30f72-85fd-4e62-fa6f-e5cc6346ee5f"
      },
      "outputs": [
        {
          "output_type": "display_data",
          "data": {
            "text/plain": [
              "<Figure size 864x432 with 2 Axes>"
            ],
            "image/png": "[encoded data removed]"
          },
          "metadata": {}
        }
      ],
      "source": [
        "plot_loss_and_acc(model_loss_vals, model_eval_accs)"
      ]
    },
    {
      "cell_type": "markdown",
      "source": [
        "## Model Predictions"
      ],
      "metadata": {
        "id": "LEp0my0_qbDp"
      }
    },
    {
      "cell_type": "code",
      "source": [
        "import torch \n",
        "import torch.nn as nn\n",
        "from transformers import AutoTokenizer\n",
        "from gensim.models import Word2Vec\n",
        "pretrained = \"bert-base-cased\"\n",
        "bert_tokenizer = AutoTokenizer.from_pretrained(pretrained)\n"
      ],
      "metadata": {
        "id": "oVzJCENkWZlY"
      },
      "execution_count": null,
      "outputs": []
    },
    {
      "cell_type": "code",
      "execution_count": null,
      "metadata": {
        "id": "dliLwY3L28l9"
      },
      "outputs": [],
      "source": [
        "def predict(inputs, inputs_w2v, tokenizer, model):\n",
        "  with torch.no_grad():\n",
        "    max_len = max([len(tokenizer(datapoint)['input_ids']) for datapoint in inputs])\n",
        "    tokenized_inputs = tokenizer(\n",
        "      inputs.tolist(),          # Input text\n",
        "      add_special_tokens=True,  # add '[CLS]' and '[SEP]'\n",
        "      padding='max_length',     # pad to a length specified by the max_length\n",
        "      max_length=max_len,       # truncate all sentences longer than max_length\n",
        "      return_tensors='pt',      # return everything we need as PyTorch tensors\n",
        "    )\n",
        "    output = model(input_ids = tokenized_inputs['input_ids'],\n",
        "                   w2v_embeds = inputs_w2v)\n",
        "    output = nn.functional.softmax(output[0], dim = 1).detach().numpy()\n",
        "    output = output.argmax(axis = 1)\n",
        "  return output"
      ]
    },
    {
      "cell_type": "code",
      "source": [
        "# data\n",
        "df = pd.DataFrame({\n",
        "    'msgs' : [\"gachiBASS Clap gachiBASS Clap gachiBASS Clap gachiBASS Clap\", \"i actually hate you FeelsBadMan\", \"OMEGALUL SO BAD\", \"test input test wow\", \"new wowowei\"]\n",
        "})\n",
        "\n",
        "# load and train w2v then get embeds\n",
        "#w2v_model = Word2Vec.load('w2v_labeled.model')\n",
        "messages_w2v = [message.split(' ') for message in df.msgs] \n",
        "w2v_model.build_vocab(messages_w2v, update = True) # update w2v vocab\n",
        "w2v_model.train(messages_w2v, total_examples = len(messages_w2v), epochs = w2v_model.epochs)\n",
        "messages_w2v = torch.Tensor([w2v_model.wv[message].sum(axis = 0) for message in messages_w2v])\n",
        "\n",
        "# prediction\n",
        "model.to(\"cpu\")\n",
        "pred = predict(df.msgs, messages_w2v, bert_tokenizer, model)"
      ],
      "metadata": {
        "id": "_ew_AqJyKqCl"
      },
      "execution_count": null,
      "outputs": []
    },
    {
      "cell_type": "code",
      "source": [
        "pred"
      ],
      "metadata": {
        "colab": {
          "base_uri": "https://localhost:8080/"
        },
        "id": "4MppJUY3Z_sX",
        "outputId": "dacc8996-a4d0-4daa-eaec-1adc3208eb54"
      },
      "execution_count": null,
      "outputs": [
        {
          "output_type": "execute_result",
          "data": {
            "text/plain": [
              "array([2, 0, 0, 1, 2])"
            ]
          },
          "metadata": {},
          "execution_count": 33
        }
      ]
    },
    {
      "cell_type": "code",
      "source": [
        "# If predict script included\n",
        "!python3 predict.py bert-base-cased .\\\\weights\\\\curr w2v_labeled.model \"S OMEGALUL BAD\""
      ],
      "metadata": {
        "id": "9PTKNccoYdsI",
        "colab": {
          "base_uri": "https://localhost:8080/"
        },
        "outputId": "de447649-0b65-47fb-b4d1-1d21a6d7cb5e"
      },
      "execution_count": null,
      "outputs": [
        {
          "output_type": "stream",
          "name": "stdout",
          "text": [
            "predict.py:77: UserWarning: Creating a tensor from a list of numpy.ndarrays is extremely slow. Please consider converting the list to a single numpy.ndarray with numpy.array() before converting to a tensor. (Triggered internally at  ../torch/csrc/utils/tensor_new.cpp:201.)\n",
            "  messages_w2v = torch.Tensor([w2v_model.wv[message].sum(axis = 0) for message in messages_w2v]) # get w2v embeds\n",
            "Negative\n"
          ]
        }
      ]
    },
    {
      "cell_type": "code",
      "source": [
        ""
      ],
      "metadata": {
        "id": "CcZ-dTuIbVU3"
      },
      "execution_count": null,
      "outputs": []
    }
  ],
  "metadata": {
    "accelerator": "GPU",
    "colab": {
      "collapsed_sections": [
        "ZLiBRjrQoWd7",
        "theChbVuozv6",
        "FMcqdeeBo6KA",
        "5ltDAQqrpFuZ",
        "YWq-FLlfqC_L",
        "LEp0my0_qbDp"
      ],
      "name": "BERT-W2V-Augmentation.ipynb",
      "provenance": []
    },
    "kernelspec": {
      "display_name": "Python 3",
      "language": "python",
      "name": "python3"
    },
    "language_info": {
      "codemirror_mode": {
        "name": "ipython",
        "version": 3
      },
      "file_extension": ".py",
      "mimetype": "text/x-python",
      "name": "python",
      "nbconvert_exporter": "python",
      "pygments_lexer": "ipython3",
      "version": "3.8.5"
    },
    "widgets": {
      "application/vnd.jupyter.widget-state+json": {
        "f2b3aa08a8854ee09db450e223e496fd": {
          "model_module": "@jupyter-widgets/controls",
          "model_name": "HBoxModel",
          "model_module_version": "1.5.0",
          "state": {
            "_dom_classes": [],
            "_model_module": "@jupyter-widgets/controls",
            "_model_module_version": "1.5.0",
            "_model_name": "HBoxModel",
            "_view_count": null,
            "_view_module": "@jupyter-widgets/controls",
            "_view_module_version": "1.5.0",
            "_view_name": "HBoxView",
            "box_style": "",
            "children": [
              "IPY_MODEL_4b20bb80b5224c7dbe02f0c1cf725329",
              "IPY_MODEL_4041a143b7b444e69b2a5bfdc47435f1",
              "IPY_MODEL_d062820eb4264d0184e12b95eeeac220"
            ],
            "layout": "IPY_MODEL_0520d39644764481832b996242b6a1ef"
          }
        },
        "4b20bb80b5224c7dbe02f0c1cf725329": {
          "model_module": "@jupyter-widgets/controls",
          "model_name": "HTMLModel",
          "model_module_version": "1.5.0",
          "state": {
            "_dom_classes": [],
            "_model_module": "@jupyter-widgets/controls",
            "_model_module_version": "1.5.0",
            "_model_name": "HTMLModel",
            "_view_count": null,
            "_view_module": "@jupyter-widgets/controls",
            "_view_module_version": "1.5.0",
            "_view_name": "HTMLView",
            "description": "",
            "description_tooltip": null,
            "layout": "IPY_MODEL_60c184b577884d50906051ea8cbf3275",
            "placeholder": "​",
            "style": "IPY_MODEL_13b38c493b634367b850bacfb7ed6a11",
            "value": "Downloading: 100%"
          }
        },
        "4041a143b7b444e69b2a5bfdc47435f1": {
          "model_module": "@jupyter-widgets/controls",
          "model_name": "FloatProgressModel",
          "model_module_version": "1.5.0",
          "state": {
            "_dom_classes": [],
            "_model_module": "@jupyter-widgets/controls",
            "_model_module_version": "1.5.0",
            "_model_name": "FloatProgressModel",
            "_view_count": null,
            "_view_module": "@jupyter-widgets/controls",
            "_view_module_version": "1.5.0",
            "_view_name": "ProgressView",
            "bar_style": "success",
            "description": "",
            "description_tooltip": null,
            "layout": "IPY_MODEL_ad5d99db8c064393a05455641fb0a134",
            "max": 29,
            "min": 0,
            "orientation": "horizontal",
            "style": "IPY_MODEL_b2870ada0a5042cd9b78871a78d17aa2",
            "value": 29
          }
        },
        "d062820eb4264d0184e12b95eeeac220": {
          "model_module": "@jupyter-widgets/controls",
          "model_name": "HTMLModel",
          "model_module_version": "1.5.0",
          "state": {
            "_dom_classes": [],
            "_model_module": "@jupyter-widgets/controls",
            "_model_module_version": "1.5.0",
            "_model_name": "HTMLModel",
            "_view_count": null,
            "_view_module": "@jupyter-widgets/controls",
            "_view_module_version": "1.5.0",
            "_view_name": "HTMLView",
            "description": "",
            "description_tooltip": null,
            "layout": "IPY_MODEL_e5cf06c5a88c400da0acf1808f8da9f0",
            "placeholder": "​",
            "style": "IPY_MODEL_19009de493204054b8d4c3bac0a6c183",
            "value": " 29.0/29.0 [00:00&lt;00:00, 809B/s]"
          }
        },
        "0520d39644764481832b996242b6a1ef": {
          "model_module": "@jupyter-widgets/base",
          "model_name": "LayoutModel",
          "model_module_version": "1.2.0",
          "state": {
            "_model_module": "@jupyter-widgets/base",
            "_model_module_version": "1.2.0",
            "_model_name": "LayoutModel",
            "_view_count": null,
            "_view_module": "@jupyter-widgets/base",
            "_view_module_version": "1.2.0",
            "_view_name": "LayoutView",
            "align_content": null,
            "align_items": null,
            "align_self": null,
            "border": null,
            "bottom": null,
            "display": null,
            "flex": null,
            "flex_flow": null,
            "grid_area": null,
            "grid_auto_columns": null,
            "grid_auto_flow": null,
            "grid_auto_rows": null,
            "grid_column": null,
            "grid_gap": null,
            "grid_row": null,
            "grid_template_areas": null,
            "grid_template_columns": null,
            "grid_template_rows": null,
            "height": null,
            "justify_content": null,
            "justify_items": null,
            "left": null,
            "margin": null,
            "max_height": null,
            "max_width": null,
            "min_height": null,
            "min_width": null,
            "object_fit": null,
            "object_position": null,
            "order": null,
            "overflow": null,
            "overflow_x": null,
            "overflow_y": null,
            "padding": null,
            "right": null,
            "top": null,
            "visibility": null,
            "width": null
          }
        },
        "60c184b577884d50906051ea8cbf3275": {
          "model_module": "@jupyter-widgets/base",
          "model_name": "LayoutModel",
          "model_module_version": "1.2.0",
          "state": {
            "_model_module": "@jupyter-widgets/base",
            "_model_module_version": "1.2.0",
            "_model_name": "LayoutModel",
            "_view_count": null,
            "_view_module": "@jupyter-widgets/base",
            "_view_module_version": "1.2.0",
            "_view_name": "LayoutView",
            "align_content": null,
            "align_items": null,
            "align_self": null,
            "border": null,
            "bottom": null,
            "display": null,
            "flex": null,
            "flex_flow": null,
            "grid_area": null,
            "grid_auto_columns": null,
            "grid_auto_flow": null,
            "grid_auto_rows": null,
            "grid_column": null,
            "grid_gap": null,
            "grid_row": null,
            "grid_template_areas": null,
            "grid_template_columns": null,
            "grid_template_rows": null,
            "height": null,
            "justify_content": null,
            "justify_items": null,
            "left": null,
            "margin": null,
            "max_height": null,
            "max_width": null,
            "min_height": null,
            "min_width": null,
            "object_fit": null,
            "object_position": null,
            "order": null,
            "overflow": null,
            "overflow_x": null,
            "overflow_y": null,
            "padding": null,
            "right": null,
            "top": null,
            "visibility": null,
            "width": null
          }
        },
        "13b38c493b634367b850bacfb7ed6a11": {
          "model_module": "@jupyter-widgets/controls",
          "model_name": "DescriptionStyleModel",
          "model_module_version": "1.5.0",
          "state": {
            "_model_module": "@jupyter-widgets/controls",
            "_model_module_version": "1.5.0",
            "_model_name": "DescriptionStyleModel",
            "_view_count": null,
            "_view_module": "@jupyter-widgets/base",
            "_view_module_version": "1.2.0",
            "_view_name": "StyleView",
            "description_width": ""
          }
        },
        "ad5d99db8c064393a05455641fb0a134": {
          "model_module": "@jupyter-widgets/base",
          "model_name": "LayoutModel",
          "model_module_version": "1.2.0",
          "state": {
            "_model_module": "@jupyter-widgets/base",
            "_model_module_version": "1.2.0",
            "_model_name": "LayoutModel",
            "_view_count": null,
            "_view_module": "@jupyter-widgets/base",
            "_view_module_version": "1.2.0",
            "_view_name": "LayoutView",
            "align_content": null,
            "align_items": null,
            "align_self": null,
            "border": null,
            "bottom": null,
            "display": null,
            "flex": null,
            "flex_flow": null,
            "grid_area": null,
            "grid_auto_columns": null,
            "grid_auto_flow": null,
            "grid_auto_rows": null,
            "grid_column": null,
            "grid_gap": null,
            "grid_row": null,
            "grid_template_areas": null,
            "grid_template_columns": null,
            "grid_template_rows": null,
            "height": null,
            "justify_content": null,
            "justify_items": null,
            "left": null,
            "margin": null,
            "max_height": null,
            "max_width": null,
            "min_height": null,
            "min_width": null,
            "object_fit": null,
            "object_position": null,
            "order": null,
            "overflow": null,
            "overflow_x": null,
            "overflow_y": null,
            "padding": null,
            "right": null,
            "top": null,
            "visibility": null,
            "width": null
          }
        },
        "b2870ada0a5042cd9b78871a78d17aa2": {
          "model_module": "@jupyter-widgets/controls",
          "model_name": "ProgressStyleModel",
          "model_module_version": "1.5.0",
          "state": {
            "_model_module": "@jupyter-widgets/controls",
            "_model_module_version": "1.5.0",
            "_model_name": "ProgressStyleModel",
            "_view_count": null,
            "_view_module": "@jupyter-widgets/base",
            "_view_module_version": "1.2.0",
            "_view_name": "StyleView",
            "bar_color": null,
            "description_width": ""
          }
        },
        "e5cf06c5a88c400da0acf1808f8da9f0": {
          "model_module": "@jupyter-widgets/base",
          "model_name": "LayoutModel",
          "model_module_version": "1.2.0",
          "state": {
            "_model_module": "@jupyter-widgets/base",
            "_model_module_version": "1.2.0",
            "_model_name": "LayoutModel",
            "_view_count": null,
            "_view_module": "@jupyter-widgets/base",
            "_view_module_version": "1.2.0",
            "_view_name": "LayoutView",
            "align_content": null,
            "align_items": null,
            "align_self": null,
            "border": null,
            "bottom": null,
            "display": null,
            "flex": null,
            "flex_flow": null,
            "grid_area": null,
            "grid_auto_columns": null,
            "grid_auto_flow": null,
            "grid_auto_rows": null,
            "grid_column": null,
            "grid_gap": null,
            "grid_row": null,
            "grid_template_areas": null,
            "grid_template_columns": null,
            "grid_template_rows": null,
            "height": null,
            "justify_content": null,
            "justify_items": null,
            "left": null,
            "margin": null,
            "max_height": null,
            "max_width": null,
            "min_height": null,
            "min_width": null,
            "object_fit": null,
            "object_position": null,
            "order": null,
            "overflow": null,
            "overflow_x": null,
            "overflow_y": null,
            "padding": null,
            "right": null,
            "top": null,
            "visibility": null,
            "width": null
          }
        },
        "19009de493204054b8d4c3bac0a6c183": {
          "model_module": "@jupyter-widgets/controls",
          "model_name": "DescriptionStyleModel",
          "model_module_version": "1.5.0",
          "state": {
            "_model_module": "@jupyter-widgets/controls",
            "_model_module_version": "1.5.0",
            "_model_name": "DescriptionStyleModel",
            "_view_count": null,
            "_view_module": "@jupyter-widgets/base",
            "_view_module_version": "1.2.0",
            "_view_name": "StyleView",
            "description_width": ""
          }
        },
        "11bc5901eeb0447297d4bd1a61befcbd": {
          "model_module": "@jupyter-widgets/controls",
          "model_name": "HBoxModel",
          "model_module_version": "1.5.0",
          "state": {
            "_dom_classes": [],
            "_model_module": "@jupyter-widgets/controls",
            "_model_module_version": "1.5.0",
            "_model_name": "HBoxModel",
            "_view_count": null,
            "_view_module": "@jupyter-widgets/controls",
            "_view_module_version": "1.5.0",
            "_view_name": "HBoxView",
            "box_style": "",
            "children": [
              "IPY_MODEL_1e257d0d93cc4670a2d2619ec55788d8",
              "IPY_MODEL_ac695347125c4adfb9b3397a07a7ed99",
              "IPY_MODEL_66021f4497c04f3daa8e02f4b56a8ff3"
            ],
            "layout": "IPY_MODEL_d3c9ea5d023d4683a7a61164dd777ffd"
          }
        },
        "1e257d0d93cc4670a2d2619ec55788d8": {
          "model_module": "@jupyter-widgets/controls",
          "model_name": "HTMLModel",
          "model_module_version": "1.5.0",
          "state": {
            "_dom_classes": [],
            "_model_module": "@jupyter-widgets/controls",
            "_model_module_version": "1.5.0",
            "_model_name": "HTMLModel",
            "_view_count": null,
            "_view_module": "@jupyter-widgets/controls",
            "_view_module_version": "1.5.0",
            "_view_name": "HTMLView",
            "description": "",
            "description_tooltip": null,
            "layout": "IPY_MODEL_07c935dfd1c347789ad76246ec3f475f",
            "placeholder": "​",
            "style": "IPY_MODEL_8cf6b694bc9e454fabb7ecb87395e6ab",
            "value": "Downloading: 100%"
          }
        },
        "ac695347125c4adfb9b3397a07a7ed99": {
          "model_module": "@jupyter-widgets/controls",
          "model_name": "FloatProgressModel",
          "model_module_version": "1.5.0",
          "state": {
            "_dom_classes": [],
            "_model_module": "@jupyter-widgets/controls",
            "_model_module_version": "1.5.0",
            "_model_name": "FloatProgressModel",
            "_view_count": null,
            "_view_module": "@jupyter-widgets/controls",
            "_view_module_version": "1.5.0",
            "_view_name": "ProgressView",
            "bar_style": "success",
            "description": "",
            "description_tooltip": null,
            "layout": "IPY_MODEL_1204f053ac3540ea8bc7176a582cd270",
            "max": 570,
            "min": 0,
            "orientation": "horizontal",
            "style": "IPY_MODEL_3c816a0251d94d7c9d0e2497e5c95584",
            "value": 570
          }
        },
        "66021f4497c04f3daa8e02f4b56a8ff3": {
          "model_module": "@jupyter-widgets/controls",
          "model_name": "HTMLModel",
          "model_module_version": "1.5.0",
          "state": {
            "_dom_classes": [],
            "_model_module": "@jupyter-widgets/controls",
            "_model_module_version": "1.5.0",
            "_model_name": "HTMLModel",
            "_view_count": null,
            "_view_module": "@jupyter-widgets/controls",
            "_view_module_version": "1.5.0",
            "_view_name": "HTMLView",
            "description": "",
            "description_tooltip": null,
            "layout": "IPY_MODEL_0506c96f4cfe49bcadc79d71ecf079cc",
            "placeholder": "​",
            "style": "IPY_MODEL_1e915ff9ad144fde85c574712094e97d",
            "value": " 570/570 [00:00&lt;00:00, 6.84kB/s]"
          }
        },
        "d3c9ea5d023d4683a7a61164dd777ffd": {
          "model_module": "@jupyter-widgets/base",
          "model_name": "LayoutModel",
          "model_module_version": "1.2.0",
          "state": {
            "_model_module": "@jupyter-widgets/base",
            "_model_module_version": "1.2.0",
            "_model_name": "LayoutModel",
            "_view_count": null,
            "_view_module": "@jupyter-widgets/base",
            "_view_module_version": "1.2.0",
            "_view_name": "LayoutView",
            "align_content": null,
            "align_items": null,
            "align_self": null,
            "border": null,
            "bottom": null,
            "display": null,
            "flex": null,
            "flex_flow": null,
            "grid_area": null,
            "grid_auto_columns": null,
            "grid_auto_flow": null,
            "grid_auto_rows": null,
            "grid_column": null,
            "grid_gap": null,
            "grid_row": null,
            "grid_template_areas": null,
            "grid_template_columns": null,
            "grid_template_rows": null,
            "height": null,
            "justify_content": null,
            "justify_items": null,
            "left": null,
            "margin": null,
            "max_height": null,
            "max_width": null,
            "min_height": null,
            "min_width": null,
            "object_fit": null,
            "object_position": null,
            "order": null,
            "overflow": null,
            "overflow_x": null,
            "overflow_y": null,
            "padding": null,
            "right": null,
            "top": null,
            "visibility": null,
            "width": null
          }
        },
        "07c935dfd1c347789ad76246ec3f475f": {
          "model_module": "@jupyter-widgets/base",
          "model_name": "LayoutModel",
          "model_module_version": "1.2.0",
          "state": {
            "_model_module": "@jupyter-widgets/base",
            "_model_module_version": "1.2.0",
            "_model_name": "LayoutModel",
            "_view_count": null,
            "_view_module": "@jupyter-widgets/base",
            "_view_module_version": "1.2.0",
            "_view_name": "LayoutView",
            "align_content": null,
            "align_items": null,
            "align_self": null,
            "border": null,
            "bottom": null,
            "display": null,
            "flex": null,
            "flex_flow": null,
            "grid_area": null,
            "grid_auto_columns": null,
            "grid_auto_flow": null,
            "grid_auto_rows": null,
            "grid_column": null,
            "grid_gap": null,
            "grid_row": null,
            "grid_template_areas": null,
            "grid_template_columns": null,
            "grid_template_rows": null,
            "height": null,
            "justify_content": null,
            "justify_items": null,
            "left": null,
            "margin": null,
            "max_height": null,
            "max_width": null,
            "min_height": null,
            "min_width": null,
            "object_fit": null,
            "object_position": null,
            "order": null,
            "overflow": null,
            "overflow_x": null,
            "overflow_y": null,
            "padding": null,
            "right": null,
            "top": null,
            "visibility": null,
            "width": null
          }
        },
        "8cf6b694bc9e454fabb7ecb87395e6ab": {
          "model_module": "@jupyter-widgets/controls",
          "model_name": "DescriptionStyleModel",
          "model_module_version": "1.5.0",
          "state": {
            "_model_module": "@jupyter-widgets/controls",
            "_model_module_version": "1.5.0",
            "_model_name": "DescriptionStyleModel",
            "_view_count": null,
            "_view_module": "@jupyter-widgets/base",
            "_view_module_version": "1.2.0",
            "_view_name": "StyleView",
            "description_width": ""
          }
        },
        "1204f053ac3540ea8bc7176a582cd270": {
          "model_module": "@jupyter-widgets/base",
          "model_name": "LayoutModel",
          "model_module_version": "1.2.0",
          "state": {
            "_model_module": "@jupyter-widgets/base",
            "_model_module_version": "1.2.0",
            "_model_name": "LayoutModel",
            "_view_count": null,
            "_view_module": "@jupyter-widgets/base",
            "_view_module_version": "1.2.0",
            "_view_name": "LayoutView",
            "align_content": null,
            "align_items": null,
            "align_self": null,
            "border": null,
            "bottom": null,
            "display": null,
            "flex": null,
            "flex_flow": null,
            "grid_area": null,
            "grid_auto_columns": null,
            "grid_auto_flow": null,
            "grid_auto_rows": null,
            "grid_column": null,
            "grid_gap": null,
            "grid_row": null,
            "grid_template_areas": null,
            "grid_template_columns": null,
            "grid_template_rows": null,
            "height": null,
            "justify_content": null,
            "justify_items": null,
            "left": null,
            "margin": null,
            "max_height": null,
            "max_width": null,
            "min_height": null,
            "min_width": null,
            "object_fit": null,
            "object_position": null,
            "order": null,
            "overflow": null,
            "overflow_x": null,
            "overflow_y": null,
            "padding": null,
            "right": null,
            "top": null,
            "visibility": null,
            "width": null
          }
        },
        "3c816a0251d94d7c9d0e2497e5c95584": {
          "model_module": "@jupyter-widgets/controls",
          "model_name": "ProgressStyleModel",
          "model_module_version": "1.5.0",
          "state": {
            "_model_module": "@jupyter-widgets/controls",
            "_model_module_version": "1.5.0",
            "_model_name": "ProgressStyleModel",
            "_view_count": null,
            "_view_module": "@jupyter-widgets/base",
            "_view_module_version": "1.2.0",
            "_view_name": "StyleView",
            "bar_color": null,
            "description_width": ""
          }
        },
        "0506c96f4cfe49bcadc79d71ecf079cc": {
          "model_module": "@jupyter-widgets/base",
          "model_name": "LayoutModel",
          "model_module_version": "1.2.0",
          "state": {
            "_model_module": "@jupyter-widgets/base",
            "_model_module_version": "1.2.0",
            "_model_name": "LayoutModel",
            "_view_count": null,
            "_view_module": "@jupyter-widgets/base",
            "_view_module_version": "1.2.0",
            "_view_name": "LayoutView",
            "align_content": null,
            "align_items": null,
            "align_self": null,
            "border": null,
            "bottom": null,
            "display": null,
            "flex": null,
            "flex_flow": null,
            "grid_area": null,
            "grid_auto_columns": null,
            "grid_auto_flow": null,
            "grid_auto_rows": null,
            "grid_column": null,
            "grid_gap": null,
            "grid_row": null,
            "grid_template_areas": null,
            "grid_template_columns": null,
            "grid_template_rows": null,
            "height": null,
            "justify_content": null,
            "justify_items": null,
            "left": null,
            "margin": null,
            "max_height": null,
            "max_width": null,
            "min_height": null,
            "min_width": null,
            "object_fit": null,
            "object_position": null,
            "order": null,
            "overflow": null,
            "overflow_x": null,
            "overflow_y": null,
            "padding": null,
            "right": null,
            "top": null,
            "visibility": null,
            "width": null
          }
        },
        "1e915ff9ad144fde85c574712094e97d": {
          "model_module": "@jupyter-widgets/controls",
          "model_name": "DescriptionStyleModel",
          "model_module_version": "1.5.0",
          "state": {
            "_model_module": "@jupyter-widgets/controls",
            "_model_module_version": "1.5.0",
            "_model_name": "DescriptionStyleModel",
            "_view_count": null,
            "_view_module": "@jupyter-widgets/base",
            "_view_module_version": "1.2.0",
            "_view_name": "StyleView",
            "description_width": ""
          }
        },
        "4dc4d7da30d04820a0e63d3ee52bf132": {
          "model_module": "@jupyter-widgets/controls",
          "model_name": "HBoxModel",
          "model_module_version": "1.5.0",
          "state": {
            "_dom_classes": [],
            "_model_module": "@jupyter-widgets/controls",
            "_model_module_version": "1.5.0",
            "_model_name": "HBoxModel",
            "_view_count": null,
            "_view_module": "@jupyter-widgets/controls",
            "_view_module_version": "1.5.0",
            "_view_name": "HBoxView",
            "box_style": "",
            "children": [
              "IPY_MODEL_60e0d778ff3c498a9a6819ae5ae970ef",
              "IPY_MODEL_8d4feb02976146da980d2fdd4de9d3e0",
              "IPY_MODEL_d60de88097ba46b58528f7f4ab5fcc59"
            ],
            "layout": "IPY_MODEL_d6a25534ab824887beca7d292e7e5c59"
          }
        },
        "60e0d778ff3c498a9a6819ae5ae970ef": {
          "model_module": "@jupyter-widgets/controls",
          "model_name": "HTMLModel",
          "model_module_version": "1.5.0",
          "state": {
            "_dom_classes": [],
            "_model_module": "@jupyter-widgets/controls",
            "_model_module_version": "1.5.0",
            "_model_name": "HTMLModel",
            "_view_count": null,
            "_view_module": "@jupyter-widgets/controls",
            "_view_module_version": "1.5.0",
            "_view_name": "HTMLView",
            "description": "",
            "description_tooltip": null,
            "layout": "IPY_MODEL_8aad0ec5cf2e4d43b906b35915c66a1a",
            "placeholder": "​",
            "style": "IPY_MODEL_b9c88884b7b143bfa777cb405c520575",
            "value": "Downloading: 100%"
          }
        },
        "8d4feb02976146da980d2fdd4de9d3e0": {
          "model_module": "@jupyter-widgets/controls",
          "model_name": "FloatProgressModel",
          "model_module_version": "1.5.0",
          "state": {
            "_dom_classes": [],
            "_model_module": "@jupyter-widgets/controls",
            "_model_module_version": "1.5.0",
            "_model_name": "FloatProgressModel",
            "_view_count": null,
            "_view_module": "@jupyter-widgets/controls",
            "_view_module_version": "1.5.0",
            "_view_name": "ProgressView",
            "bar_style": "success",
            "description": "",
            "description_tooltip": null,
            "layout": "IPY_MODEL_ea092b3c74e047ac97ea4cc12afb7b61",
            "max": 213450,
            "min": 0,
            "orientation": "horizontal",
            "style": "IPY_MODEL_ae3bfe6c8a1e4239ae91b535d74dda4c",
            "value": 213450
          }
        },
        "d60de88097ba46b58528f7f4ab5fcc59": {
          "model_module": "@jupyter-widgets/controls",
          "model_name": "HTMLModel",
          "model_module_version": "1.5.0",
          "state": {
            "_dom_classes": [],
            "_model_module": "@jupyter-widgets/controls",
            "_model_module_version": "1.5.0",
            "_model_name": "HTMLModel",
            "_view_count": null,
            "_view_module": "@jupyter-widgets/controls",
            "_view_module_version": "1.5.0",
            "_view_name": "HTMLView",
            "description": "",
            "description_tooltip": null,
            "layout": "IPY_MODEL_1c985b06f74040778e55e51eff77955e",
            "placeholder": "​",
            "style": "IPY_MODEL_f81985161af94789ba65fb61e1e748ec",
            "value": " 208k/208k [00:00&lt;00:00, 493kB/s]"
          }
        },
        "d6a25534ab824887beca7d292e7e5c59": {
          "model_module": "@jupyter-widgets/base",
          "model_name": "LayoutModel",
          "model_module_version": "1.2.0",
          "state": {
            "_model_module": "@jupyter-widgets/base",
            "_model_module_version": "1.2.0",
            "_model_name": "LayoutModel",
            "_view_count": null,
            "_view_module": "@jupyter-widgets/base",
            "_view_module_version": "1.2.0",
            "_view_name": "LayoutView",
            "align_content": null,
            "align_items": null,
            "align_self": null,
            "border": null,
            "bottom": null,
            "display": null,
            "flex": null,
            "flex_flow": null,
            "grid_area": null,
            "grid_auto_columns": null,
            "grid_auto_flow": null,
            "grid_auto_rows": null,
            "grid_column": null,
            "grid_gap": null,
            "grid_row": null,
            "grid_template_areas": null,
            "grid_template_columns": null,
            "grid_template_rows": null,
            "height": null,
            "justify_content": null,
            "justify_items": null,
            "left": null,
            "margin": null,
            "max_height": null,
            "max_width": null,
            "min_height": null,
            "min_width": null,
            "object_fit": null,
            "object_position": null,
            "order": null,
            "overflow": null,
            "overflow_x": null,
            "overflow_y": null,
            "padding": null,
            "right": null,
            "top": null,
            "visibility": null,
            "width": null
          }
        },
        "8aad0ec5cf2e4d43b906b35915c66a1a": {
          "model_module": "@jupyter-widgets/base",
          "model_name": "LayoutModel",
          "model_module_version": "1.2.0",
          "state": {
            "_model_module": "@jupyter-widgets/base",
            "_model_module_version": "1.2.0",
            "_model_name": "LayoutModel",
            "_view_count": null,
            "_view_module": "@jupyter-widgets/base",
            "_view_module_version": "1.2.0",
            "_view_name": "LayoutView",
            "align_content": null,
            "align_items": null,
            "align_self": null,
            "border": null,
            "bottom": null,
            "display": null,
            "flex": null,
            "flex_flow": null,
            "grid_area": null,
            "grid_auto_columns": null,
            "grid_auto_flow": null,
            "grid_auto_rows": null,
            "grid_column": null,
            "grid_gap": null,
            "grid_row": null,
            "grid_template_areas": null,
            "grid_template_columns": null,
            "grid_template_rows": null,
            "height": null,
            "justify_content": null,
            "justify_items": null,
            "left": null,
            "margin": null,
            "max_height": null,
            "max_width": null,
            "min_height": null,
            "min_width": null,
            "object_fit": null,
            "object_position": null,
            "order": null,
            "overflow": null,
            "overflow_x": null,
            "overflow_y": null,
            "padding": null,
            "right": null,
            "top": null,
            "visibility": null,
            "width": null
          }
        },
        "b9c88884b7b143bfa777cb405c520575": {
          "model_module": "@jupyter-widgets/controls",
          "model_name": "DescriptionStyleModel",
          "model_module_version": "1.5.0",
          "state": {
            "_model_module": "@jupyter-widgets/controls",
            "_model_module_version": "1.5.0",
            "_model_name": "DescriptionStyleModel",
            "_view_count": null,
            "_view_module": "@jupyter-widgets/base",
            "_view_module_version": "1.2.0",
            "_view_name": "StyleView",
            "description_width": ""
          }
        },
        "ea092b3c74e047ac97ea4cc12afb7b61": {
          "model_module": "@jupyter-widgets/base",
          "model_name": "LayoutModel",
          "model_module_version": "1.2.0",
          "state": {
            "_model_module": "@jupyter-widgets/base",
            "_model_module_version": "1.2.0",
            "_model_name": "LayoutModel",
            "_view_count": null,
            "_view_module": "@jupyter-widgets/base",
            "_view_module_version": "1.2.0",
            "_view_name": "LayoutView",
            "align_content": null,
            "align_items": null,
            "align_self": null,
            "border": null,
            "bottom": null,
            "display": null,
            "flex": null,
            "flex_flow": null,
            "grid_area": null,
            "grid_auto_columns": null,
            "grid_auto_flow": null,
            "grid_auto_rows": null,
            "grid_column": null,
            "grid_gap": null,
            "grid_row": null,
            "grid_template_areas": null,
            "grid_template_columns": null,
            "grid_template_rows": null,
            "height": null,
            "justify_content": null,
            "justify_items": null,
            "left": null,
            "margin": null,
            "max_height": null,
            "max_width": null,
            "min_height": null,
            "min_width": null,
            "object_fit": null,
            "object_position": null,
            "order": null,
            "overflow": null,
            "overflow_x": null,
            "overflow_y": null,
            "padding": null,
            "right": null,
            "top": null,
            "visibility": null,
            "width": null
          }
        },
        "ae3bfe6c8a1e4239ae91b535d74dda4c": {
          "model_module": "@jupyter-widgets/controls",
          "model_name": "ProgressStyleModel",
          "model_module_version": "1.5.0",
          "state": {
            "_model_module": "@jupyter-widgets/controls",
            "_model_module_version": "1.5.0",
            "_model_name": "ProgressStyleModel",
            "_view_count": null,
            "_view_module": "@jupyter-widgets/base",
            "_view_module_version": "1.2.0",
            "_view_name": "StyleView",
            "bar_color": null,
            "description_width": ""
          }
        },
        "1c985b06f74040778e55e51eff77955e": {
          "model_module": "@jupyter-widgets/base",
          "model_name": "LayoutModel",
          "model_module_version": "1.2.0",
          "state": {
            "_model_module": "@jupyter-widgets/base",
            "_model_module_version": "1.2.0",
            "_model_name": "LayoutModel",
            "_view_count": null,
            "_view_module": "@jupyter-widgets/base",
            "_view_module_version": "1.2.0",
            "_view_name": "LayoutView",
            "align_content": null,
            "align_items": null,
            "align_self": null,
            "border": null,
            "bottom": null,
            "display": null,
            "flex": null,
            "flex_flow": null,
            "grid_area": null,
            "grid_auto_columns": null,
            "grid_auto_flow": null,
            "grid_auto_rows": null,
            "grid_column": null,
            "grid_gap": null,
            "grid_row": null,
            "grid_template_areas": null,
            "grid_template_columns": null,
            "grid_template_rows": null,
            "height": null,
            "justify_content": null,
            "justify_items": null,
            "left": null,
            "margin": null,
            "max_height": null,
            "max_width": null,
            "min_height": null,
            "min_width": null,
            "object_fit": null,
            "object_position": null,
            "order": null,
            "overflow": null,
            "overflow_x": null,
            "overflow_y": null,
            "padding": null,
            "right": null,
            "top": null,
            "visibility": null,
            "width": null
          }
        },
        "f81985161af94789ba65fb61e1e748ec": {
          "model_module": "@jupyter-widgets/controls",
          "model_name": "DescriptionStyleModel",
          "model_module_version": "1.5.0",
          "state": {
            "_model_module": "@jupyter-widgets/controls",
            "_model_module_version": "1.5.0",
            "_model_name": "DescriptionStyleModel",
            "_view_count": null,
            "_view_module": "@jupyter-widgets/base",
            "_view_module_version": "1.2.0",
            "_view_name": "StyleView",
            "description_width": ""
          }
        },
        "486e614278c3434ea1ef6683af642d57": {
          "model_module": "@jupyter-widgets/controls",
          "model_name": "HBoxModel",
          "model_module_version": "1.5.0",
          "state": {
            "_dom_classes": [],
            "_model_module": "@jupyter-widgets/controls",
            "_model_module_version": "1.5.0",
            "_model_name": "HBoxModel",
            "_view_count": null,
            "_view_module": "@jupyter-widgets/controls",
            "_view_module_version": "1.5.0",
            "_view_name": "HBoxView",
            "box_style": "",
            "children": [
              "IPY_MODEL_f41ee17e9cac4826a8e0574cc65a18ef",
              "IPY_MODEL_079bf6cb07944892bb0c4219b8c840af",
              "IPY_MODEL_28eee8b15ee640e19581b047753e3a41"
            ],
            "layout": "IPY_MODEL_c52e5069d3044c599137863b02ca4559"
          }
        },
        "f41ee17e9cac4826a8e0574cc65a18ef": {
          "model_module": "@jupyter-widgets/controls",
          "model_name": "HTMLModel",
          "model_module_version": "1.5.0",
          "state": {
            "_dom_classes": [],
            "_model_module": "@jupyter-widgets/controls",
            "_model_module_version": "1.5.0",
            "_model_name": "HTMLModel",
            "_view_count": null,
            "_view_module": "@jupyter-widgets/controls",
            "_view_module_version": "1.5.0",
            "_view_name": "HTMLView",
            "description": "",
            "description_tooltip": null,
            "layout": "IPY_MODEL_a1376e9a3c8e40469b08c92bb689bc8c",
            "placeholder": "​",
            "style": "IPY_MODEL_7f188d733199469a8c739d89274adebd",
            "value": "Downloading: 100%"
          }
        },
        "079bf6cb07944892bb0c4219b8c840af": {
          "model_module": "@jupyter-widgets/controls",
          "model_name": "FloatProgressModel",
          "model_module_version": "1.5.0",
          "state": {
            "_dom_classes": [],
            "_model_module": "@jupyter-widgets/controls",
            "_model_module_version": "1.5.0",
            "_model_name": "FloatProgressModel",
            "_view_count": null,
            "_view_module": "@jupyter-widgets/controls",
            "_view_module_version": "1.5.0",
            "_view_name": "ProgressView",
            "bar_style": "success",
            "description": "",
            "description_tooltip": null,
            "layout": "IPY_MODEL_9c6240ecbbf343c3a4ce9a7f3a391c82",
            "max": 435797,
            "min": 0,
            "orientation": "horizontal",
            "style": "IPY_MODEL_9617ed8d9f554cd8b669b7f50a452c7d",
            "value": 435797
          }
        },
        "28eee8b15ee640e19581b047753e3a41": {
          "model_module": "@jupyter-widgets/controls",
          "model_name": "HTMLModel",
          "model_module_version": "1.5.0",
          "state": {
            "_dom_classes": [],
            "_model_module": "@jupyter-widgets/controls",
            "_model_module_version": "1.5.0",
            "_model_name": "HTMLModel",
            "_view_count": null,
            "_view_module": "@jupyter-widgets/controls",
            "_view_module_version": "1.5.0",
            "_view_name": "HTMLView",
            "description": "",
            "description_tooltip": null,
            "layout": "IPY_MODEL_da99735276c7469ba88c70b1290b994b",
            "placeholder": "​",
            "style": "IPY_MODEL_09659d31f6734164aba1506b66aa8d1e",
            "value": " 426k/426k [00:00&lt;00:00, 961kB/s]"
          }
        },
        "c52e5069d3044c599137863b02ca4559": {
          "model_module": "@jupyter-widgets/base",
          "model_name": "LayoutModel",
          "model_module_version": "1.2.0",
          "state": {
            "_model_module": "@jupyter-widgets/base",
            "_model_module_version": "1.2.0",
            "_model_name": "LayoutModel",
            "_view_count": null,
            "_view_module": "@jupyter-widgets/base",
            "_view_module_version": "1.2.0",
            "_view_name": "LayoutView",
            "align_content": null,
            "align_items": null,
            "align_self": null,
            "border": null,
            "bottom": null,
            "display": null,
            "flex": null,
            "flex_flow": null,
            "grid_area": null,
            "grid_auto_columns": null,
            "grid_auto_flow": null,
            "grid_auto_rows": null,
            "grid_column": null,
            "grid_gap": null,
            "grid_row": null,
            "grid_template_areas": null,
            "grid_template_columns": null,
            "grid_template_rows": null,
            "height": null,
            "justify_content": null,
            "justify_items": null,
            "left": null,
            "margin": null,
            "max_height": null,
            "max_width": null,
            "min_height": null,
            "min_width": null,
            "object_fit": null,
            "object_position": null,
            "order": null,
            "overflow": null,
            "overflow_x": null,
            "overflow_y": null,
            "padding": null,
            "right": null,
            "top": null,
            "visibility": null,
            "width": null
          }
        },
        "a1376e9a3c8e40469b08c92bb689bc8c": {
          "model_module": "@jupyter-widgets/base",
          "model_name": "LayoutModel",
          "model_module_version": "1.2.0",
          "state": {
            "_model_module": "@jupyter-widgets/base",
            "_model_module_version": "1.2.0",
            "_model_name": "LayoutModel",
            "_view_count": null,
            "_view_module": "@jupyter-widgets/base",
            "_view_module_version": "1.2.0",
            "_view_name": "LayoutView",
            "align_content": null,
            "align_items": null,
            "align_self": null,
            "border": null,
            "bottom": null,
            "display": null,
            "flex": null,
            "flex_flow": null,
            "grid_area": null,
            "grid_auto_columns": null,
            "grid_auto_flow": null,
            "grid_auto_rows": null,
            "grid_column": null,
            "grid_gap": null,
            "grid_row": null,
            "grid_template_areas": null,
            "grid_template_columns": null,
            "grid_template_rows": null,
            "height": null,
            "justify_content": null,
            "justify_items": null,
            "left": null,
            "margin": null,
            "max_height": null,
            "max_width": null,
            "min_height": null,
            "min_width": null,
            "object_fit": null,
            "object_position": null,
            "order": null,
            "overflow": null,
            "overflow_x": null,
            "overflow_y": null,
            "padding": null,
            "right": null,
            "top": null,
            "visibility": null,
            "width": null
          }
        },
        "7f188d733199469a8c739d89274adebd": {
          "model_module": "@jupyter-widgets/controls",
          "model_name": "DescriptionStyleModel",
          "model_module_version": "1.5.0",
          "state": {
            "_model_module": "@jupyter-widgets/controls",
            "_model_module_version": "1.5.0",
            "_model_name": "DescriptionStyleModel",
            "_view_count": null,
            "_view_module": "@jupyter-widgets/base",
            "_view_module_version": "1.2.0",
            "_view_name": "StyleView",
            "description_width": ""
          }
        },
        "9c6240ecbbf343c3a4ce9a7f3a391c82": {
          "model_module": "@jupyter-widgets/base",
          "model_name": "LayoutModel",
          "model_module_version": "1.2.0",
          "state": {
            "_model_module": "@jupyter-widgets/base",
            "_model_module_version": "1.2.0",
            "_model_name": "LayoutModel",
            "_view_count": null,
            "_view_module": "@jupyter-widgets/base",
            "_view_module_version": "1.2.0",
            "_view_name": "LayoutView",
            "align_content": null,
            "align_items": null,
            "align_self": null,
            "border": null,
            "bottom": null,
            "display": null,
            "flex": null,
            "flex_flow": null,
            "grid_area": null,
            "grid_auto_columns": null,
            "grid_auto_flow": null,
            "grid_auto_rows": null,
            "grid_column": null,
            "grid_gap": null,
            "grid_row": null,
            "grid_template_areas": null,
            "grid_template_columns": null,
            "grid_template_rows": null,
            "height": null,
            "justify_content": null,
            "justify_items": null,
            "left": null,
            "margin": null,
            "max_height": null,
            "max_width": null,
            "min_height": null,
            "min_width": null,
            "object_fit": null,
            "object_position": null,
            "order": null,
            "overflow": null,
            "overflow_x": null,
            "overflow_y": null,
            "padding": null,
            "right": null,
            "top": null,
            "visibility": null,
            "width": null
          }
        },
        "9617ed8d9f554cd8b669b7f50a452c7d": {
          "model_module": "@jupyter-widgets/controls",
          "model_name": "ProgressStyleModel",
          "model_module_version": "1.5.0",
          "state": {
            "_model_module": "@jupyter-widgets/controls",
            "_model_module_version": "1.5.0",
            "_model_name": "ProgressStyleModel",
            "_view_count": null,
            "_view_module": "@jupyter-widgets/base",
            "_view_module_version": "1.2.0",
            "_view_name": "StyleView",
            "bar_color": null,
            "description_width": ""
          }
        },
        "da99735276c7469ba88c70b1290b994b": {
          "model_module": "@jupyter-widgets/base",
          "model_name": "LayoutModel",
          "model_module_version": "1.2.0",
          "state": {
            "_model_module": "@jupyter-widgets/base",
            "_model_module_version": "1.2.0",
            "_model_name": "LayoutModel",
            "_view_count": null,
            "_view_module": "@jupyter-widgets/base",
            "_view_module_version": "1.2.0",
            "_view_name": "LayoutView",
            "align_content": null,
            "align_items": null,
            "align_self": null,
            "border": null,
            "bottom": null,
            "display": null,
            "flex": null,
            "flex_flow": null,
            "grid_area": null,
            "grid_auto_columns": null,
            "grid_auto_flow": null,
            "grid_auto_rows": null,
            "grid_column": null,
            "grid_gap": null,
            "grid_row": null,
            "grid_template_areas": null,
            "grid_template_columns": null,
            "grid_template_rows": null,
            "height": null,
            "justify_content": null,
            "justify_items": null,
            "left": null,
            "margin": null,
            "max_height": null,
            "max_width": null,
            "min_height": null,
            "min_width": null,
            "object_fit": null,
            "object_position": null,
            "order": null,
            "overflow": null,
            "overflow_x": null,
            "overflow_y": null,
            "padding": null,
            "right": null,
            "top": null,
            "visibility": null,
            "width": null
          }
        },
        "09659d31f6734164aba1506b66aa8d1e": {
          "model_module": "@jupyter-widgets/controls",
          "model_name": "DescriptionStyleModel",
          "model_module_version": "1.5.0",
          "state": {
            "_model_module": "@jupyter-widgets/controls",
            "_model_module_version": "1.5.0",
            "_model_name": "DescriptionStyleModel",
            "_view_count": null,
            "_view_module": "@jupyter-widgets/base",
            "_view_module_version": "1.2.0",
            "_view_name": "StyleView",
            "description_width": ""
          }
        },
        "c758d0b0abb5493bb849581e11c5e451": {
          "model_module": "@jupyter-widgets/controls",
          "model_name": "HBoxModel",
          "model_module_version": "1.5.0",
          "state": {
            "_dom_classes": [],
            "_model_module": "@jupyter-widgets/controls",
            "_model_module_version": "1.5.0",
            "_model_name": "HBoxModel",
            "_view_count": null,
            "_view_module": "@jupyter-widgets/controls",
            "_view_module_version": "1.5.0",
            "_view_name": "HBoxView",
            "box_style": "",
            "children": [
              "IPY_MODEL_9d4144b51e2d411090c4d679a8ad6f89",
              "IPY_MODEL_4ea3d2ad811342ef83d304f39421fa45",
              "IPY_MODEL_6116a9ba59a84a6482506464bbc92ee9"
            ],
            "layout": "IPY_MODEL_5e15ed7230d14e548584b403230eda24"
          }
        },
        "9d4144b51e2d411090c4d679a8ad6f89": {
          "model_module": "@jupyter-widgets/controls",
          "model_name": "HTMLModel",
          "model_module_version": "1.5.0",
          "state": {
            "_dom_classes": [],
            "_model_module": "@jupyter-widgets/controls",
            "_model_module_version": "1.5.0",
            "_model_name": "HTMLModel",
            "_view_count": null,
            "_view_module": "@jupyter-widgets/controls",
            "_view_module_version": "1.5.0",
            "_view_name": "HTMLView",
            "description": "",
            "description_tooltip": null,
            "layout": "IPY_MODEL_d1264545f1534cb5bba3527126e1c2ef",
            "placeholder": "​",
            "style": "IPY_MODEL_5b21aa34bda54cc9b6590ca3cac6848d",
            "value": "Downloading: 100%"
          }
        },
        "4ea3d2ad811342ef83d304f39421fa45": {
          "model_module": "@jupyter-widgets/controls",
          "model_name": "FloatProgressModel",
          "model_module_version": "1.5.0",
          "state": {
            "_dom_classes": [],
            "_model_module": "@jupyter-widgets/controls",
            "_model_module_version": "1.5.0",
            "_model_name": "FloatProgressModel",
            "_view_count": null,
            "_view_module": "@jupyter-widgets/controls",
            "_view_module_version": "1.5.0",
            "_view_name": "ProgressView",
            "bar_style": "success",
            "description": "",
            "description_tooltip": null,
            "layout": "IPY_MODEL_8b7c046d35ee48cebe2979f6c32119b8",
            "max": 435779157,
            "min": 0,
            "orientation": "horizontal",
            "style": "IPY_MODEL_ef3605d73aff4c5ebc807c041c2ef595",
            "value": 435779157
          }
        },
        "6116a9ba59a84a6482506464bbc92ee9": {
          "model_module": "@jupyter-widgets/controls",
          "model_name": "HTMLModel",
          "model_module_version": "1.5.0",
          "state": {
            "_dom_classes": [],
            "_model_module": "@jupyter-widgets/controls",
            "_model_module_version": "1.5.0",
            "_model_name": "HTMLModel",
            "_view_count": null,
            "_view_module": "@jupyter-widgets/controls",
            "_view_module_version": "1.5.0",
            "_view_name": "HTMLView",
            "description": "",
            "description_tooltip": null,
            "layout": "IPY_MODEL_5c420dd86826436fa81664e413f6b7da",
            "placeholder": "​",
            "style": "IPY_MODEL_74a8fb50b02343f9b55b3796fb649726",
            "value": " 416M/416M [00:12&lt;00:00, 54.8MB/s]"
          }
        },
        "5e15ed7230d14e548584b403230eda24": {
          "model_module": "@jupyter-widgets/base",
          "model_name": "LayoutModel",
          "model_module_version": "1.2.0",
          "state": {
            "_model_module": "@jupyter-widgets/base",
            "_model_module_version": "1.2.0",
            "_model_name": "LayoutModel",
            "_view_count": null,
            "_view_module": "@jupyter-widgets/base",
            "_view_module_version": "1.2.0",
            "_view_name": "LayoutView",
            "align_content": null,
            "align_items": null,
            "align_self": null,
            "border": null,
            "bottom": null,
            "display": null,
            "flex": null,
            "flex_flow": null,
            "grid_area": null,
            "grid_auto_columns": null,
            "grid_auto_flow": null,
            "grid_auto_rows": null,
            "grid_column": null,
            "grid_gap": null,
            "grid_row": null,
            "grid_template_areas": null,
            "grid_template_columns": null,
            "grid_template_rows": null,
            "height": null,
            "justify_content": null,
            "justify_items": null,
            "left": null,
            "margin": null,
            "max_height": null,
            "max_width": null,
            "min_height": null,
            "min_width": null,
            "object_fit": null,
            "object_position": null,
            "order": null,
            "overflow": null,
            "overflow_x": null,
            "overflow_y": null,
            "padding": null,
            "right": null,
            "top": null,
            "visibility": null,
            "width": null
          }
        },
        "d1264545f1534cb5bba3527126e1c2ef": {
          "model_module": "@jupyter-widgets/base",
          "model_name": "LayoutModel",
          "model_module_version": "1.2.0",
          "state": {
            "_model_module": "@jupyter-widgets/base",
            "_model_module_version": "1.2.0",
            "_model_name": "LayoutModel",
            "_view_count": null,
            "_view_module": "@jupyter-widgets/base",
            "_view_module_version": "1.2.0",
            "_view_name": "LayoutView",
            "align_content": null,
            "align_items": null,
            "align_self": null,
            "border": null,
            "bottom": null,
            "display": null,
            "flex": null,
            "flex_flow": null,
            "grid_area": null,
            "grid_auto_columns": null,
            "grid_auto_flow": null,
            "grid_auto_rows": null,
            "grid_column": null,
            "grid_gap": null,
            "grid_row": null,
            "grid_template_areas": null,
            "grid_template_columns": null,
            "grid_template_rows": null,
            "height": null,
            "justify_content": null,
            "justify_items": null,
            "left": null,
            "margin": null,
            "max_height": null,
            "max_width": null,
            "min_height": null,
            "min_width": null,
            "object_fit": null,
            "object_position": null,
            "order": null,
            "overflow": null,
            "overflow_x": null,
            "overflow_y": null,
            "padding": null,
            "right": null,
            "top": null,
            "visibility": null,
            "width": null
          }
        },
        "5b21aa34bda54cc9b6590ca3cac6848d": {
          "model_module": "@jupyter-widgets/controls",
          "model_name": "DescriptionStyleModel",
          "model_module_version": "1.5.0",
          "state": {
            "_model_module": "@jupyter-widgets/controls",
            "_model_module_version": "1.5.0",
            "_model_name": "DescriptionStyleModel",
            "_view_count": null,
            "_view_module": "@jupyter-widgets/base",
            "_view_module_version": "1.2.0",
            "_view_name": "StyleView",
            "description_width": ""
          }
        },
        "8b7c046d35ee48cebe2979f6c32119b8": {
          "model_module": "@jupyter-widgets/base",
          "model_name": "LayoutModel",
          "model_module_version": "1.2.0",
          "state": {
            "_model_module": "@jupyter-widgets/base",
            "_model_module_version": "1.2.0",
            "_model_name": "LayoutModel",
            "_view_count": null,
            "_view_module": "@jupyter-widgets/base",
            "_view_module_version": "1.2.0",
            "_view_name": "LayoutView",
            "align_content": null,
            "align_items": null,
            "align_self": null,
            "border": null,
            "bottom": null,
            "display": null,
            "flex": null,
            "flex_flow": null,
            "grid_area": null,
            "grid_auto_columns": null,
            "grid_auto_flow": null,
            "grid_auto_rows": null,
            "grid_column": null,
            "grid_gap": null,
            "grid_row": null,
            "grid_template_areas": null,
            "grid_template_columns": null,
            "grid_template_rows": null,
            "height": null,
            "justify_content": null,
            "justify_items": null,
            "left": null,
            "margin": null,
            "max_height": null,
            "max_width": null,
            "min_height": null,
            "min_width": null,
            "object_fit": null,
            "object_position": null,
            "order": null,
            "overflow": null,
            "overflow_x": null,
            "overflow_y": null,
            "padding": null,
            "right": null,
            "top": null,
            "visibility": null,
            "width": null
          }
        },
        "ef3605d73aff4c5ebc807c041c2ef595": {
          "model_module": "@jupyter-widgets/controls",
          "model_name": "ProgressStyleModel",
          "model_module_version": "1.5.0",
          "state": {
            "_model_module": "@jupyter-widgets/controls",
            "_model_module_version": "1.5.0",
            "_model_name": "ProgressStyleModel",
            "_view_count": null,
            "_view_module": "@jupyter-widgets/base",
            "_view_module_version": "1.2.0",
            "_view_name": "StyleView",
            "bar_color": null,
            "description_width": ""
          }
        },
        "5c420dd86826436fa81664e413f6b7da": {
          "model_module": "@jupyter-widgets/base",
          "model_name": "LayoutModel",
          "model_module_version": "1.2.0",
          "state": {
            "_model_module": "@jupyter-widgets/base",
            "_model_module_version": "1.2.0",
            "_model_name": "LayoutModel",
            "_view_count": null,
            "_view_module": "@jupyter-widgets/base",
            "_view_module_version": "1.2.0",
            "_view_name": "LayoutView",
            "align_content": null,
            "align_items": null,
            "align_self": null,
            "border": null,
            "bottom": null,
            "display": null,
            "flex": null,
            "flex_flow": null,
            "grid_area": null,
            "grid_auto_columns": null,
            "grid_auto_flow": null,
            "grid_auto_rows": null,
            "grid_column": null,
            "grid_gap": null,
            "grid_row": null,
            "grid_template_areas": null,
            "grid_template_columns": null,
            "grid_template_rows": null,
            "height": null,
            "justify_content": null,
            "justify_items": null,
            "left": null,
            "margin": null,
            "max_height": null,
            "max_width": null,
            "min_height": null,
            "min_width": null,
            "object_fit": null,
            "object_position": null,
            "order": null,
            "overflow": null,
            "overflow_x": null,
            "overflow_y": null,
            "padding": null,
            "right": null,
            "top": null,
            "visibility": null,
            "width": null
          }
        },
        "74a8fb50b02343f9b55b3796fb649726": {
          "model_module": "@jupyter-widgets/controls",
          "model_name": "DescriptionStyleModel",
          "model_module_version": "1.5.0",
          "state": {
            "_model_module": "@jupyter-widgets/controls",
            "_model_module_version": "1.5.0",
            "_model_name": "DescriptionStyleModel",
            "_view_count": null,
            "_view_module": "@jupyter-widgets/base",
            "_view_module_version": "1.2.0",
            "_view_name": "StyleView",
            "description_width": ""
          }
        }
      }
    }
  },
  "nbformat": 4,
  "nbformat_minor": 0
}