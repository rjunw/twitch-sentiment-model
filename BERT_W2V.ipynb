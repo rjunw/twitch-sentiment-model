{
  "cells": [
    {
      "cell_type": "markdown",
      "source": [
        "# **Twitch Sentiment Classification with BERT and Word2Vec**\n",
        "**Authors: Ryan Jun Wang, Feifei Li, Victor Trinh**\n",
        "\n",
        "\n",
        "[*Notebook based on CSC413's 2022 iteration assignment 3*](https://colab.research.google.com/github/uoft-csc413/2022/blob/master/assets/assignments/bert.ipynb)"
      ],
      "metadata": {
        "id": "zgViIwSWog4G"
      }
    },
    {
      "cell_type": "markdown",
      "source": [
        "## Pre-reqs"
      ],
      "metadata": {
        "id": "ZLiBRjrQoWd7"
      }
    },
    {
      "cell_type": "code",
      "source": [
        "!nvidia-smi"
      ],
      "metadata": {
        "colab": {
          "base_uri": "https://localhost:8080/"
        },
        "id": "1FVGNcwsowF-",
        "outputId": "4a48bcae-5e04-4a20-c173-5a38385f2f97"
      },
      "execution_count": 2,
      "outputs": [
        {
          "output_type": "stream",
          "name": "stdout",
          "text": [
            "Tue Apr 19 18:24:07 2022       \n",
            "+-----------------------------------------------------------------------------+\n",
            "| NVIDIA-SMI 460.32.03    Driver Version: 460.32.03    CUDA Version: 11.2     |\n",
            "|-------------------------------+----------------------+----------------------+\n",
            "| GPU  Name        Persistence-M| Bus-Id        Disp.A | Volatile Uncorr. ECC |\n",
            "| Fan  Temp  Perf  Pwr:Usage/Cap|         Memory-Usage | GPU-Util  Compute M. |\n",
            "|                               |                      |               MIG M. |\n",
            "|===============================+======================+======================|\n",
            "|   0  Tesla P100-PCIE...  Off  | 00000000:00:04.0 Off |                    0 |\n",
            "| N/A   32C    P0    27W / 250W |      0MiB / 16280MiB |      0%      Default |\n",
            "|                               |                      |                  N/A |\n",
            "+-------------------------------+----------------------+----------------------+\n",
            "                                                                               \n",
            "+-----------------------------------------------------------------------------+\n",
            "| Processes:                                                                  |\n",
            "|  GPU   GI   CI        PID   Type   Process name                  GPU Memory |\n",
            "|        ID   ID                                                   Usage      |\n",
            "|=============================================================================|\n",
            "|  No running processes found                                                 |\n",
            "+-----------------------------------------------------------------------------+\n"
          ]
        }
      ]
    },
    {
      "cell_type": "code",
      "execution_count": 3,
      "metadata": {
        "colab": {
          "base_uri": "https://localhost:8080/"
        },
        "id": "n4TPVpBZ28ll",
        "outputId": "ff5bd1dc-26c8-4f5d-b6f6-0526fba78d32",
        "scrolled": true
      },
      "outputs": [
        {
          "output_type": "stream",
          "name": "stdout",
          "text": [
            "Collecting transformers\n",
            "  Downloading transformers-4.18.0-py3-none-any.whl (4.0 MB)\n",
            "\u001b[K     |████████████████████████████████| 4.0 MB 3.7 MB/s \n",
            "\u001b[?25hCollecting emoji\n",
            "  Downloading emoji-1.7.0.tar.gz (175 kB)\n",
            "\u001b[K     |████████████████████████████████| 175 kB 55.5 MB/s \n",
            "\u001b[?25hRequirement already satisfied: gensim in /usr/local/lib/python3.7/dist-packages (3.6.0)\n",
            "Collecting gensim\n",
            "  Downloading gensim-4.1.2-cp37-cp37m-manylinux_2_12_x86_64.manylinux2010_x86_64.whl (24.1 MB)\n",
            "\u001b[K     |████████████████████████████████| 24.1 MB 75.8 MB/s \n",
            "\u001b[?25hRequirement already satisfied: importlib-metadata in /usr/local/lib/python3.7/dist-packages (from transformers) (4.11.3)\n",
            "Collecting huggingface-hub<1.0,>=0.1.0\n",
            "  Downloading huggingface_hub-0.5.1-py3-none-any.whl (77 kB)\n",
            "\u001b[K     |████████████████████████████████| 77 kB 6.9 MB/s \n",
            "\u001b[?25hCollecting pyyaml>=5.1\n",
            "  Downloading PyYAML-6.0-cp37-cp37m-manylinux_2_5_x86_64.manylinux1_x86_64.manylinux_2_12_x86_64.manylinux2010_x86_64.whl (596 kB)\n",
            "\u001b[K     |████████████████████████████████| 596 kB 55.9 MB/s \n",
            "\u001b[?25hCollecting sacremoses\n",
            "  Downloading sacremoses-0.0.49-py3-none-any.whl (895 kB)\n",
            "\u001b[K     |████████████████████████████████| 895 kB 50.7 MB/s \n",
            "\u001b[?25hCollecting tokenizers!=0.11.3,<0.13,>=0.11.1\n",
            "  Downloading tokenizers-0.12.1-cp37-cp37m-manylinux_2_12_x86_64.manylinux2010_x86_64.whl (6.6 MB)\n",
            "\u001b[K     |████████████████████████████████| 6.6 MB 47.1 MB/s \n",
            "\u001b[?25hRequirement already satisfied: tqdm>=4.27 in /usr/local/lib/python3.7/dist-packages (from transformers) (4.64.0)\n",
            "Requirement already satisfied: packaging>=20.0 in /usr/local/lib/python3.7/dist-packages (from transformers) (21.3)\n",
            "Requirement already satisfied: requests in /usr/local/lib/python3.7/dist-packages (from transformers) (2.23.0)\n",
            "Requirement already satisfied: filelock in /usr/local/lib/python3.7/dist-packages (from transformers) (3.6.0)\n",
            "Requirement already satisfied: regex!=2019.12.17 in /usr/local/lib/python3.7/dist-packages (from transformers) (2019.12.20)\n",
            "Requirement already satisfied: numpy>=1.17 in /usr/local/lib/python3.7/dist-packages (from transformers) (1.21.6)\n",
            "Requirement already satisfied: typing-extensions>=3.7.4.3 in /usr/local/lib/python3.7/dist-packages (from huggingface-hub<1.0,>=0.1.0->transformers) (4.1.1)\n",
            "Requirement already satisfied: pyparsing!=3.0.5,>=2.0.2 in /usr/local/lib/python3.7/dist-packages (from packaging>=20.0->transformers) (3.0.8)\n",
            "Requirement already satisfied: smart-open>=1.8.1 in /usr/local/lib/python3.7/dist-packages (from gensim) (5.2.1)\n",
            "Requirement already satisfied: scipy>=0.18.1 in /usr/local/lib/python3.7/dist-packages (from gensim) (1.4.1)\n",
            "Requirement already satisfied: zipp>=0.5 in /usr/local/lib/python3.7/dist-packages (from importlib-metadata->transformers) (3.8.0)\n",
            "Requirement already satisfied: certifi>=2017.4.17 in /usr/local/lib/python3.7/dist-packages (from requests->transformers) (2021.10.8)\n",
            "Requirement already satisfied: chardet<4,>=3.0.2 in /usr/local/lib/python3.7/dist-packages (from requests->transformers) (3.0.4)\n",
            "Requirement already satisfied: idna<3,>=2.5 in /usr/local/lib/python3.7/dist-packages (from requests->transformers) (2.10)\n",
            "Requirement already satisfied: urllib3!=1.25.0,!=1.25.1,<1.26,>=1.21.1 in /usr/local/lib/python3.7/dist-packages (from requests->transformers) (1.24.3)\n",
            "Requirement already satisfied: joblib in /usr/local/lib/python3.7/dist-packages (from sacremoses->transformers) (1.1.0)\n",
            "Requirement already satisfied: click in /usr/local/lib/python3.7/dist-packages (from sacremoses->transformers) (7.1.2)\n",
            "Requirement already satisfied: six in /usr/local/lib/python3.7/dist-packages (from sacremoses->transformers) (1.15.0)\n",
            "Building wheels for collected packages: emoji\n",
            "  Building wheel for emoji (setup.py) ... \u001b[?25l\u001b[?25hdone\n",
            "  Created wheel for emoji: filename=emoji-1.7.0-py3-none-any.whl size=171046 sha256=19de3dde37ff90b7122dcce6afc2e61d0274d65b0e3385c208d495b71dea2af2\n",
            "  Stored in directory: /root/.cache/pip/wheels/8a/4e/b6/57b01db010d17ef6ea9b40300af725ef3e210cb1acfb7ac8b6\n",
            "Successfully built emoji\n",
            "Installing collected packages: pyyaml, tokenizers, sacremoses, huggingface-hub, transformers, gensim, emoji\n",
            "  Attempting uninstall: pyyaml\n",
            "    Found existing installation: PyYAML 3.13\n",
            "    Uninstalling PyYAML-3.13:\n",
            "      Successfully uninstalled PyYAML-3.13\n",
            "  Attempting uninstall: gensim\n",
            "    Found existing installation: gensim 3.6.0\n",
            "    Uninstalling gensim-3.6.0:\n",
            "      Successfully uninstalled gensim-3.6.0\n",
            "Successfully installed emoji-1.7.0 gensim-4.1.2 huggingface-hub-0.5.1 pyyaml-6.0 sacremoses-0.0.49 tokenizers-0.12.1 transformers-4.18.0\n"
          ]
        }
      ],
      "source": [
        "!pip install --upgrade transformers emoji gensim\n",
        "# https://huggingface.co/docs/transformers/training and BERT PA3 \n",
        "#!pip install cloud-tpu-client==0.10 torch==1.11.0 https://storage.googleapis.com/tpu-pytorch/wheels/colab/torch_xla-1.11-cp37-cp37m-linux_x86_64.whl"
      ]
    },
    {
      "cell_type": "code",
      "execution_count": 4,
      "metadata": {
        "id": "K18w_NJQ28ls",
        "colab": {
          "base_uri": "https://localhost:8080/"
        },
        "outputId": "a998f041-27bc-4488-d198-d054a5f0b4dc"
      },
      "outputs": [
        {
          "output_type": "stream",
          "name": "stdout",
          "text": [
            "cuda\n"
          ]
        }
      ],
      "source": [
        "import os\n",
        "import random\n",
        "\n",
        "import numpy as np\n",
        "import torch\n",
        "import pandas as pd\n",
        "\n",
        "# imports the torch_xla package\n",
        "# import torch_xla\n",
        "# import torch_xla.core.xla_model as xm\n",
        "# device = xm.xla_device()\n",
        "device = torch.device(\"cuda\" if torch.cuda.is_available() else \"cpu\")\n",
        "print(device)\n",
        "\n",
        "SEED = 42\n",
        "\n",
        "torch.manual_seed(SEED)\n",
        "torch.cuda.manual_seed_all(SEED)\n",
        "torch.backends.cudnn.deterministic = True\n",
        "torch.backends.cudnn.benchmark = False\n",
        "np.random.seed(SEED)\n",
        "random.seed(SEED)\n",
        "os.environ['PYTHONHASHSEED'] = str(SEED)"
      ]
    },
    {
      "cell_type": "markdown",
      "source": [
        "## Data Setup"
      ],
      "metadata": {
        "id": "ucgjD0ynobc3"
      }
    },
    {
      "cell_type": "markdown",
      "source": [
        "### Data Loading"
      ],
      "metadata": {
        "id": "theChbVuozv6"
      }
    },
    {
      "cell_type": "code",
      "execution_count": 6,
      "metadata": {
        "colab": {
          "base_uri": "https://localhost:8080/",
          "height": 633
        },
        "id": "_U9vY1eh28lu",
        "outputId": "e31f543d-b192-46a4-cfd7-861c8381c17b"
      },
      "outputs": [
        {
          "output_type": "stream",
          "name": "stdout",
          "text": [
            "1922 labelled samples\n"
          ]
        },
        {
          "output_type": "execute_result",
          "data": {
            "text/plain": [
              "      sentiment                      date      channel            game  \\\n",
              "1259          0  2018-05-22T03:21:17.481Z        xqcow       Overwatch   \n",
              "1623          1  2018-05-16T19:32:55.000Z       forsen     The Council   \n",
              "611          -1  2018-05-17T16:56:40.391Z  moonmoon_ow  Dark Souls III   \n",
              "514           1  2018-05-03T16:36:44.324Z       forsen             IRL   \n",
              "413           1  2018-05-09T04:59:17.521Z        xqcow        Fortnite   \n",
              "1075          1  2018-05-28T19:40:05.478Z   sodapoppin    Bless Online   \n",
              "538           1  2018-05-23T21:40:22.218Z       forsen            Raft   \n",
              "482           1  2018-05-30T19:02:31.082Z       forsen      Dark Souls   \n",
              "398          -1  2018-05-21T16:26:58.802Z  moonmoon_ow  Dark Souls III   \n",
              "677           0  2018-05-23T21:23:01.103Z       forsen            Raft   \n",
              "\n",
              "         user    mod  subscriber  \\\n",
              "1259  2475329  False       False   \n",
              "1623  2342940  False        True   \n",
              "611    226947  False        True   \n",
              "514      9000  False        True   \n",
              "413    295331  False       False   \n",
              "1075   322720  False        True   \n",
              "538    304456  False        True   \n",
              "482    971480  False       False   \n",
              "398    381748  False        True   \n",
              "677    261172  False       False   \n",
              "\n",
              "                                                message sentiment_relevel  \n",
              "1259                                                POG                 1  \n",
              "1623                                         ALLO ZULUL                 2  \n",
              "611                      I WAS DANCING TO THAT DansGame                 0  \n",
              "514   gachiBASS Clap gachiBASS Clap gachiBASS Clap g...                 2  \n",
              "413                                           gachiBASS                 2  \n",
              "1075  \"Premium Membership (180 Days)\" gives 8 in-gam...                 2  \n",
              "538                                             forsen1                 2  \n",
              "482     CURSED OMEGALUL CURSED OMEGALUL CURSED OMEGALUL                 2  \n",
              "398                                    kill moon moon2N                 0  \n",
              "677   2$ TOP DONATOR OF THE DAY OMEGALUL 2$ TOP DONA...                 1  "
            ],
            "text/html": [
              "\n",
              "  <div id=\"df-4d5c1388-1422-4c2d-b501-181c93e9f892\">\n",
              "    <div class=\"colab-df-container\">\n",
              "      <div>\n",
              "<style scoped>\n",
              "    .dataframe tbody tr th:only-of-type {\n",
              "        vertical-align: middle;\n",
              "    }\n",
              "\n",
              "    .dataframe tbody tr th {\n",
              "        vertical-align: top;\n",
              "    }\n",
              "\n",
              "    .dataframe thead th {\n",
              "        text-align: right;\n",
              "    }\n",
              "</style>\n",
              "<table border=\"1\" class=\"dataframe\">\n",
              "  <thead>\n",
              "    <tr style=\"text-align: right;\">\n",
              "      <th></th>\n",
              "      <th>sentiment</th>\n",
              "      <th>date</th>\n",
              "      <th>channel</th>\n",
              "      <th>game</th>\n",
              "      <th>user</th>\n",
              "      <th>mod</th>\n",
              "      <th>subscriber</th>\n",
              "      <th>message</th>\n",
              "      <th>sentiment_relevel</th>\n",
              "    </tr>\n",
              "  </thead>\n",
              "  <tbody>\n",
              "    <tr>\n",
              "      <th>1259</th>\n",
              "      <td>0</td>\n",
              "      <td>2018-05-22T03:21:17.481Z</td>\n",
              "      <td>xqcow</td>\n",
              "      <td>Overwatch</td>\n",
              "      <td>2475329</td>\n",
              "      <td>False</td>\n",
              "      <td>False</td>\n",
              "      <td>POG</td>\n",
              "      <td>1</td>\n",
              "    </tr>\n",
              "    <tr>\n",
              "      <th>1623</th>\n",
              "      <td>1</td>\n",
              "      <td>2018-05-16T19:32:55.000Z</td>\n",
              "      <td>forsen</td>\n",
              "      <td>The Council</td>\n",
              "      <td>2342940</td>\n",
              "      <td>False</td>\n",
              "      <td>True</td>\n",
              "      <td>ALLO ZULUL</td>\n",
              "      <td>2</td>\n",
              "    </tr>\n",
              "    <tr>\n",
              "      <th>611</th>\n",
              "      <td>-1</td>\n",
              "      <td>2018-05-17T16:56:40.391Z</td>\n",
              "      <td>moonmoon_ow</td>\n",
              "      <td>Dark Souls III</td>\n",
              "      <td>226947</td>\n",
              "      <td>False</td>\n",
              "      <td>True</td>\n",
              "      <td>I WAS DANCING TO THAT DansGame</td>\n",
              "      <td>0</td>\n",
              "    </tr>\n",
              "    <tr>\n",
              "      <th>514</th>\n",
              "      <td>1</td>\n",
              "      <td>2018-05-03T16:36:44.324Z</td>\n",
              "      <td>forsen</td>\n",
              "      <td>IRL</td>\n",
              "      <td>9000</td>\n",
              "      <td>False</td>\n",
              "      <td>True</td>\n",
              "      <td>gachiBASS Clap gachiBASS Clap gachiBASS Clap g...</td>\n",
              "      <td>2</td>\n",
              "    </tr>\n",
              "    <tr>\n",
              "      <th>413</th>\n",
              "      <td>1</td>\n",
              "      <td>2018-05-09T04:59:17.521Z</td>\n",
              "      <td>xqcow</td>\n",
              "      <td>Fortnite</td>\n",
              "      <td>295331</td>\n",
              "      <td>False</td>\n",
              "      <td>False</td>\n",
              "      <td>gachiBASS</td>\n",
              "      <td>2</td>\n",
              "    </tr>\n",
              "    <tr>\n",
              "      <th>1075</th>\n",
              "      <td>1</td>\n",
              "      <td>2018-05-28T19:40:05.478Z</td>\n",
              "      <td>sodapoppin</td>\n",
              "      <td>Bless Online</td>\n",
              "      <td>322720</td>\n",
              "      <td>False</td>\n",
              "      <td>True</td>\n",
              "      <td>\"Premium Membership (180 Days)\" gives 8 in-gam...</td>\n",
              "      <td>2</td>\n",
              "    </tr>\n",
              "    <tr>\n",
              "      <th>538</th>\n",
              "      <td>1</td>\n",
              "      <td>2018-05-23T21:40:22.218Z</td>\n",
              "      <td>forsen</td>\n",
              "      <td>Raft</td>\n",
              "      <td>304456</td>\n",
              "      <td>False</td>\n",
              "      <td>True</td>\n",
              "      <td>forsen1</td>\n",
              "      <td>2</td>\n",
              "    </tr>\n",
              "    <tr>\n",
              "      <th>482</th>\n",
              "      <td>1</td>\n",
              "      <td>2018-05-30T19:02:31.082Z</td>\n",
              "      <td>forsen</td>\n",
              "      <td>Dark Souls</td>\n",
              "      <td>971480</td>\n",
              "      <td>False</td>\n",
              "      <td>False</td>\n",
              "      <td>CURSED OMEGALUL CURSED OMEGALUL CURSED OMEGALUL</td>\n",
              "      <td>2</td>\n",
              "    </tr>\n",
              "    <tr>\n",
              "      <th>398</th>\n",
              "      <td>-1</td>\n",
              "      <td>2018-05-21T16:26:58.802Z</td>\n",
              "      <td>moonmoon_ow</td>\n",
              "      <td>Dark Souls III</td>\n",
              "      <td>381748</td>\n",
              "      <td>False</td>\n",
              "      <td>True</td>\n",
              "      <td>kill moon moon2N</td>\n",
              "      <td>0</td>\n",
              "    </tr>\n",
              "    <tr>\n",
              "      <th>677</th>\n",
              "      <td>0</td>\n",
              "      <td>2018-05-23T21:23:01.103Z</td>\n",
              "      <td>forsen</td>\n",
              "      <td>Raft</td>\n",
              "      <td>261172</td>\n",
              "      <td>False</td>\n",
              "      <td>False</td>\n",
              "      <td>2$ TOP DONATOR OF THE DAY OMEGALUL 2$ TOP DONA...</td>\n",
              "      <td>1</td>\n",
              "    </tr>\n",
              "  </tbody>\n",
              "</table>\n",
              "</div>\n",
              "      <button class=\"colab-df-convert\" onclick=\"convertToInteractive('df-4d5c1388-1422-4c2d-b501-181c93e9f892')\"\n",
              "              title=\"Convert this dataframe to an interactive table.\"\n",
              "              style=\"display:none;\">\n",
              "        \n",
              "  <svg xmlns=\"http://www.w3.org/2000/svg\" height=\"24px\"viewBox=\"0 0 24 24\"\n",
              "       width=\"24px\">\n",
              "    <path d=\"M0 0h24v24H0V0z\" fill=\"none\"/>\n",
              "    <path d=\"M18.56 5.44l.94 2.06.94-2.06 2.06-.94-2.06-.94-.94-2.06-.94 2.06-2.06.94zm-11 1L8.5 8.5l.94-2.06 2.06-.94-2.06-.94L8.5 2.5l-.94 2.06-2.06.94zm10 10l.94 2.06.94-2.06 2.06-.94-2.06-.94-.94-2.06-.94 2.06-2.06.94z\"/><path d=\"M17.41 7.96l-1.37-1.37c-.4-.4-.92-.59-1.43-.59-.52 0-1.04.2-1.43.59L10.3 9.45l-7.72 7.72c-.78.78-.78 2.05 0 2.83L4 21.41c.39.39.9.59 1.41.59.51 0 1.02-.2 1.41-.59l7.78-7.78 2.81-2.81c.8-.78.8-2.07 0-2.86zM5.41 20L4 18.59l7.72-7.72 1.47 1.35L5.41 20z\"/>\n",
              "  </svg>\n",
              "      </button>\n",
              "      \n",
              "  <style>\n",
              "    .colab-df-container {\n",
              "      display:flex;\n",
              "      flex-wrap:wrap;\n",
              "      gap: 12px;\n",
              "    }\n",
              "\n",
              "    .colab-df-convert {\n",
              "      background-color: #E8F0FE;\n",
              "      border: none;\n",
              "      border-radius: 50%;\n",
              "      cursor: pointer;\n",
              "      display: none;\n",
              "      fill: #1967D2;\n",
              "      height: 32px;\n",
              "      padding: 0 0 0 0;\n",
              "      width: 32px;\n",
              "    }\n",
              "\n",
              "    .colab-df-convert:hover {\n",
              "      background-color: #E2EBFA;\n",
              "      box-shadow: 0px 1px 2px rgba(60, 64, 67, 0.3), 0px 1px 3px 1px rgba(60, 64, 67, 0.15);\n",
              "      fill: #174EA6;\n",
              "    }\n",
              "\n",
              "    [theme=dark] .colab-df-convert {\n",
              "      background-color: #3B4455;\n",
              "      fill: #D2E3FC;\n",
              "    }\n",
              "\n",
              "    [theme=dark] .colab-df-convert:hover {\n",
              "      background-color: #434B5C;\n",
              "      box-shadow: 0px 1px 3px 1px rgba(0, 0, 0, 0.15);\n",
              "      filter: drop-shadow(0px 1px 2px rgba(0, 0, 0, 0.3));\n",
              "      fill: #FFFFFF;\n",
              "    }\n",
              "  </style>\n",
              "\n",
              "      <script>\n",
              "        const buttonEl =\n",
              "          document.querySelector('#df-4d5c1388-1422-4c2d-b501-181c93e9f892 button.colab-df-convert');\n",
              "        buttonEl.style.display =\n",
              "          google.colab.kernel.accessAllowed ? 'block' : 'none';\n",
              "\n",
              "        async function convertToInteractive(key) {\n",
              "          const element = document.querySelector('#df-4d5c1388-1422-4c2d-b501-181c93e9f892');\n",
              "          const dataTable =\n",
              "            await google.colab.kernel.invokeFunction('convertToInteractive',\n",
              "                                                     [key], {});\n",
              "          if (!dataTable) return;\n",
              "\n",
              "          const docLinkHtml = 'Like what you see? Visit the ' +\n",
              "            '<a target=\"_blank\" href=https://colab.research.google.com/notebooks/data_table.ipynb>data table notebook</a>'\n",
              "            + ' to learn more about interactive tables.';\n",
              "          element.innerHTML = '';\n",
              "          dataTable['output_type'] = 'display_data';\n",
              "          await google.colab.output.renderOutput(dataTable, element);\n",
              "          const docLink = document.createElement('div');\n",
              "          docLink.innerHTML = docLinkHtml;\n",
              "          element.appendChild(docLink);\n",
              "        }\n",
              "      </script>\n",
              "    </div>\n",
              "  </div>\n",
              "  "
            ]
          },
          "metadata": {},
          "execution_count": 6
        }
      ],
      "source": [
        "df = pd.read_csv(\"./data/labeled_dataset.csv\")\n",
        "print(f\"{df.shape[0]} labelled samples\")\n",
        "df['sentiment_relevel'] = df['sentiment'].astype('category')\n",
        "df['sentiment_relevel'] = df['sentiment_relevel'].cat.rename_categories({-1:0, 0:1, 1:2})\n",
        "df.sample(10)"
      ]
    },
    {
      "cell_type": "code",
      "source": [
        "# # if twitch emotes are provided\n",
        "# labeled_emotes = pd.read_csv(\"./data/emote_average.tsv\",\n",
        "#                              sep    = '\\t',\n",
        "#                              header = 0,\n",
        "#                              names  = [\"word\", \"sentiment\"])"
      ],
      "metadata": {
        "id": "wSMEUTI7rmxH"
      },
      "execution_count": 7,
      "outputs": []
    },
    {
      "cell_type": "markdown",
      "source": [
        "### Tokenizer"
      ],
      "metadata": {
        "id": "FMcqdeeBo6KA"
      }
    },
    {
      "cell_type": "code",
      "execution_count": 8,
      "metadata": {
        "id": "FyPXW7uh28lw",
        "colab": {
          "base_uri": "https://localhost:8080/",
          "height": 145,
          "referenced_widgets": [
            "eba2b72a661d4eda87621cd3ff186d5e",
            "70981547f56847e2b1cd1c240e213874",
            "a994ef24439943d88e9a70607eb93315",
            "adbba4223b3d4ddebcab03a3a08e25ff",
            "3da467c264d34bc6a0fb953ca3b7004a",
            "ee606a9c9c9f44758363573196c0acef",
            "05185ce817494158903d706fd20045ba",
            "a80f8ebfcc5f492092a6225dfe2c5123",
            "442d049fe86044a282efac753ad49d63",
            "add8935c4bf749a08a6e0962c7fd2288",
            "32dc6f2ee2fe4029a66bdcea0f3370d2",
            "128f1a0dd4b14b83b89dcf8563adda2f",
            "f94814aeecb64064a98e5a4b699f8905",
            "8979cd0f49cf48bba457fda346286482",
            "8c555477a380459b9ce9b75119f0778d",
            "4f0031493030435e9342634a7f006f1f",
            "e420818c0e9e4d5f93b5adbd89b39dbd",
            "e9d4542ee38b418e9bf607cf2bdc8bf8",
            "779398f2209f4423b86529c859d40bb2",
            "d8fea8a076c44cbcaa22cfa4cdbed970",
            "6134604d9eb54450b091b939b6c8d71f",
            "e5d1a1b0b6674898b8d04629ffa7df68",
            "5fc9e54fbed04ec78e78ef487bad436a",
            "8fe32dfd07e14f07af0a7eae5d608347",
            "9d0ffbf2a5014642923da0066c128184",
            "4e78d25e4f264f33a233a8c2067c7d43",
            "154411c7e8ff45dd8511e9faba2b9cd7",
            "b6b0141306ab426484f8b414c8740401",
            "c4b1a95a52264ccbbdf623aa72bcfb1b",
            "1113e8e861ca48a49dde0b28187fdc24",
            "48fa7f787a014cac9fe5aa025fd217ca",
            "ae03a6285bf245c8885ba807075e972f",
            "23916deeb13d4222a103dfbf88780954",
            "77fed6719c3e426582cadf85ad145926",
            "43708ec6825e42af901c97a4cf1520f4",
            "8c70b34de22d4ad1aa789c5adf31eb8f",
            "bb6a68e502604418ba694ac9deb3b7a8",
            "1f99c74a5996476ea52e92cb8c19433e",
            "8339b5c5b33e4ea4bd6e3b14d9d89009",
            "f388c31ee3bb47ea8c091154eacca3a4",
            "056dfdf14a6842b698c08b719445c918",
            "95364e9ce585427fab06b086aa553f05",
            "74963ab99bfd4cd1a8214a3beac669eb",
            "2a1afefc04c7496484852a576eeb6762"
          ]
        },
        "outputId": "fc9a107d-5d53-4928-854c-e2d753abca14"
      },
      "outputs": [
        {
          "output_type": "display_data",
          "data": {
            "text/plain": [
              "Downloading:   0%|          | 0.00/29.0 [00:00<?, ?B/s]"
            ],
            "application/vnd.jupyter.widget-view+json": {
              "version_major": 2,
              "version_minor": 0,
              "model_id": "eba2b72a661d4eda87621cd3ff186d5e"
            }
          },
          "metadata": {}
        },
        {
          "output_type": "display_data",
          "data": {
            "text/plain": [
              "Downloading:   0%|          | 0.00/570 [00:00<?, ?B/s]"
            ],
            "application/vnd.jupyter.widget-view+json": {
              "version_major": 2,
              "version_minor": 0,
              "model_id": "128f1a0dd4b14b83b89dcf8563adda2f"
            }
          },
          "metadata": {}
        },
        {
          "output_type": "display_data",
          "data": {
            "text/plain": [
              "Downloading:   0%|          | 0.00/208k [00:00<?, ?B/s]"
            ],
            "application/vnd.jupyter.widget-view+json": {
              "version_major": 2,
              "version_minor": 0,
              "model_id": "5fc9e54fbed04ec78e78ef487bad436a"
            }
          },
          "metadata": {}
        },
        {
          "output_type": "display_data",
          "data": {
            "text/plain": [
              "Downloading:   0%|          | 0.00/426k [00:00<?, ?B/s]"
            ],
            "application/vnd.jupyter.widget-view+json": {
              "version_major": 2,
              "version_minor": 0,
              "model_id": "77fed6719c3e426582cadf85ad145926"
            }
          },
          "metadata": {}
        }
      ],
      "source": [
        "from transformers import AutoTokenizer\n",
        "pretrained = \"bert-base-cased\"\n",
        "bert_tokenizer = AutoTokenizer.from_pretrained(pretrained)"
      ]
    },
    {
      "cell_type": "code",
      "execution_count": 9,
      "metadata": {
        "id": "K0cQdMUI28lx",
        "scrolled": true
      },
      "outputs": [],
      "source": [
        "inputs = df.message.values\n",
        "labels = df.sentiment_relevel.values\n",
        "# sample = inputs[0]\n",
        "\n",
        "# print(\"Train data size \", len(inputs))\n",
        "# print('* Original:  ', sample)\n",
        "# # Print the sentence split into tokens.\n",
        "# print('* Tokenized: ', bert_tokenizer.tokenize(sample))\n",
        "# # Print the sentence mapped to token ids.\n",
        "# print('* Token IDs: ', bert_tokenizer.convert_tokens_to_ids(bert_tokenizer.tokenize(sample)))"
      ]
    },
    {
      "cell_type": "code",
      "execution_count": 10,
      "metadata": {
        "colab": {
          "base_uri": "https://localhost:8080/"
        },
        "id": "k-rcvj_Z28lz",
        "outputId": "8f0034af-6929-4217-c708-95af6be74e48"
      },
      "outputs": [
        {
          "output_type": "stream",
          "name": "stdout",
          "text": [
            "Max length sequence: 197\n",
            "Padding token: \"[PAD]\", ID: 0\n"
          ]
        }
      ],
      "source": [
        "# Set the maximum sequence length.\n",
        "MAX_LEN = max([len(bert_tokenizer(datapoint)['input_ids']) for datapoint in inputs])\n",
        "print(f\"Max length sequence: {MAX_LEN}\")\n",
        "\n",
        "# Print BERTs special PAD token and its index in the vocabulary\n",
        "print(f'Padding token: \"{bert_tokenizer.pad_token}\", ID: {bert_tokenizer.pad_token_id}')"
      ]
    },
    {
      "cell_type": "code",
      "execution_count": 11,
      "metadata": {
        "colab": {
          "base_uri": "https://localhost:8080/"
        },
        "id": "KEfbC0DO28lz",
        "outputId": "e251d8a1-1ed4-4842-c368-94eff7ce3e70"
      },
      "outputs": [
        {
          "output_type": "stream",
          "name": "stdout",
          "text": [
            "Original:  tensor([  101,   152, 14424, 10583,  2162,  2591,  2162,   102,     0,     0,\n",
            "            0,     0,     0,     0,     0,     0,     0,     0,     0,     0,\n",
            "            0,     0,     0,     0,     0,     0,     0,     0,     0,     0,\n",
            "            0,     0,     0,     0,     0,     0,     0,     0,     0,     0,\n",
            "            0,     0,     0,     0,     0,     0,     0,     0,     0,     0,\n",
            "            0,     0,     0,     0,     0,     0,     0,     0,     0,     0,\n",
            "            0,     0,     0,     0,     0,     0,     0,     0,     0,     0,\n",
            "            0,     0,     0,     0,     0,     0,     0,     0,     0,     0,\n",
            "            0,     0,     0,     0,     0,     0,     0,     0,     0,     0,\n",
            "            0,     0,     0,     0,     0,     0,     0,     0,     0,     0,\n",
            "            0,     0,     0,     0,     0,     0,     0,     0,     0,     0,\n",
            "            0,     0,     0,     0,     0,     0,     0,     0,     0,     0,\n",
            "            0,     0,     0,     0,     0,     0,     0,     0,     0,     0,\n",
            "            0,     0,     0,     0,     0,     0,     0,     0,     0,     0,\n",
            "            0,     0,     0,     0,     0,     0,     0,     0,     0,     0,\n",
            "            0,     0,     0,     0,     0,     0,     0,     0,     0,     0,\n",
            "            0,     0,     0,     0,     0,     0,     0,     0,     0,     0,\n",
            "            0,     0,     0,     0,     0,     0,     0,     0,     0,     0,\n",
            "            0,     0,     0,     0,     0,     0,     0,     0,     0,     0,\n",
            "            0,     0,     0,     0,     0,     0,     0])\n",
            "Original Content:  OMEGALUL\n",
            "[152, 14424, 10583, 2162, 2591, 2162]\n",
            "* Token IDs: tensor([1, 1, 1, 1, 1, 1, 1, 1, 0, 0, 0, 0, 0, 0, 0, 0, 0, 0, 0, 0, 0, 0, 0, 0,\n",
            "        0, 0, 0, 0, 0, 0, 0, 0, 0, 0, 0, 0, 0, 0, 0, 0, 0, 0, 0, 0, 0, 0, 0, 0,\n",
            "        0, 0, 0, 0, 0, 0, 0, 0, 0, 0, 0, 0, 0, 0, 0, 0, 0, 0, 0, 0, 0, 0, 0, 0,\n",
            "        0, 0, 0, 0, 0, 0, 0, 0, 0, 0, 0, 0, 0, 0, 0, 0, 0, 0, 0, 0, 0, 0, 0, 0,\n",
            "        0, 0, 0, 0, 0, 0, 0, 0, 0, 0, 0, 0, 0, 0, 0, 0, 0, 0, 0, 0, 0, 0, 0, 0,\n",
            "        0, 0, 0, 0, 0, 0, 0, 0, 0, 0, 0, 0, 0, 0, 0, 0, 0, 0, 0, 0, 0, 0, 0, 0,\n",
            "        0, 0, 0, 0, 0, 0, 0, 0, 0, 0, 0, 0, 0, 0, 0, 0, 0, 0, 0, 0, 0, 0, 0, 0,\n",
            "        0, 0, 0, 0, 0, 0, 0, 0, 0, 0, 0, 0, 0, 0, 0, 0, 0, 0, 0, 0, 0, 0, 0, 0,\n",
            "        0, 0, 0, 0, 0])\n",
            "* Tokenized: [CLS] OMEGALUL [SEP] [PAD] [PAD] [PAD] [PAD] [PAD] [PAD] [PAD] [PAD] [PAD] [PAD] [PAD] [PAD] [PAD] [PAD] [PAD] [PAD] [PAD] [PAD] [PAD] [PAD] [PAD] [PAD] [PAD] [PAD] [PAD] [PAD] [PAD] [PAD] [PAD] [PAD] [PAD] [PAD] [PAD] [PAD] [PAD] [PAD] [PAD] [PAD] [PAD] [PAD] [PAD] [PAD] [PAD] [PAD] [PAD] [PAD] [PAD] [PAD] [PAD] [PAD] [PAD] [PAD] [PAD] [PAD] [PAD] [PAD] [PAD] [PAD] [PAD] [PAD] [PAD] [PAD] [PAD] [PAD] [PAD] [PAD] [PAD] [PAD] [PAD] [PAD] [PAD] [PAD] [PAD] [PAD] [PAD] [PAD] [PAD] [PAD] [PAD] [PAD] [PAD] [PAD] [PAD] [PAD] [PAD] [PAD] [PAD] [PAD] [PAD] [PAD] [PAD] [PAD] [PAD] [PAD] [PAD] [PAD] [PAD] [PAD] [PAD] [PAD] [PAD] [PAD] [PAD] [PAD] [PAD] [PAD] [PAD] [PAD] [PAD] [PAD] [PAD] [PAD] [PAD] [PAD] [PAD] [PAD] [PAD] [PAD] [PAD] [PAD] [PAD] [PAD] [PAD] [PAD] [PAD] [PAD] [PAD] [PAD] [PAD] [PAD] [PAD] [PAD] [PAD] [PAD] [PAD] [PAD] [PAD] [PAD] [PAD] [PAD] [PAD] [PAD] [PAD] [PAD] [PAD] [PAD] [PAD] [PAD] [PAD] [PAD] [PAD] [PAD] [PAD] [PAD] [PAD] [PAD] [PAD] [PAD] [PAD] [PAD] [PAD] [PAD] [PAD] [PAD] [PAD] [PAD] [PAD] [PAD] [PAD] [PAD] [PAD] [PAD] [PAD] [PAD] [PAD] [PAD] [PAD] [PAD] [PAD] [PAD] [PAD] [PAD] [PAD] [PAD] [PAD] [PAD] [PAD] [PAD] [PAD]\n",
            "* Attention_mask tensor([1, 1, 1, 1, 1, 1, 1, 1, 0, 0, 0, 0, 0, 0, 0, 0, 0, 0, 0, 0, 0, 0, 0, 0,\n",
            "        0, 0, 0, 0, 0, 0, 0, 0, 0, 0, 0, 0, 0, 0, 0, 0, 0, 0, 0, 0, 0, 0, 0, 0,\n",
            "        0, 0, 0, 0, 0, 0, 0, 0, 0, 0, 0, 0, 0, 0, 0, 0, 0, 0, 0, 0, 0, 0, 0, 0,\n",
            "        0, 0, 0, 0, 0, 0, 0, 0, 0, 0, 0, 0, 0, 0, 0, 0, 0, 0, 0, 0, 0, 0, 0, 0,\n",
            "        0, 0, 0, 0, 0, 0, 0, 0, 0, 0, 0, 0, 0, 0, 0, 0, 0, 0, 0, 0, 0, 0, 0, 0,\n",
            "        0, 0, 0, 0, 0, 0, 0, 0, 0, 0, 0, 0, 0, 0, 0, 0, 0, 0, 0, 0, 0, 0, 0, 0,\n",
            "        0, 0, 0, 0, 0, 0, 0, 0, 0, 0, 0, 0, 0, 0, 0, 0, 0, 0, 0, 0, 0, 0, 0, 0,\n",
            "        0, 0, 0, 0, 0, 0, 0, 0, 0, 0, 0, 0, 0, 0, 0, 0, 0, 0, 0, 0, 0, 0, 0, 0,\n",
            "        0, 0, 0, 0, 0])\n"
          ]
        }
      ],
      "source": [
        "tokenized_inputs = bert_tokenizer(\n",
        "    inputs.tolist(),          # Input text\n",
        "    add_special_tokens=True,  # add '[CLS]' and '[SEP]'\n",
        "    padding='max_length',     # pad to a length specified by the max_length\n",
        "    max_length=MAX_LEN,       # truncate all sentences longer than max_length\n",
        "    return_tensors='pt',      # return everything we need as PyTorch tensors\n",
        ")\n",
        "\n",
        "input_ids = tokenized_inputs['input_ids']\n",
        "attention_masks = tokenized_inputs['attention_mask']\n",
        "\n",
        "# Print sentence 0, now as a list of IDs.\n",
        "print('Original: ', tokenized_inputs['input_ids'][0])\n",
        "print('Original Content: ', df.message[0])\n",
        "print(bert_tokenizer.convert_tokens_to_ids(bert_tokenizer.tokenize(df.message[0])))\n",
        "print('* Token IDs:', tokenized_inputs['attention_mask'][0])\n",
        "print('* Tokenized:', bert_tokenizer.decode(tokenized_inputs['input_ids'][0]))\n",
        "print('* Attention_mask', tokenized_inputs['attention_mask'][0])"
      ]
    },
    {
      "cell_type": "markdown",
      "source": [
        "### Word2Vec Embeddings"
      ],
      "metadata": {
        "id": "5ltDAQqrpFuZ"
      }
    },
    {
      "cell_type": "code",
      "source": [
        "# get w2v\n",
        "from gensim.models import Word2Vec\n",
        "messages = [message.split(' ') for message in df.message]\n",
        "w2v_model = Word2Vec(sentences = messages, min_count = 1, vector_size = 768, workers = 4, window = 5, sg = 1, seed = SEED) # train further when adding new prediction data\n",
        "w2v_model.save(\"w2v_labeled.model\")\n",
        "#w2v_model = Word2Vec.load(\"w2v_labeled.model\")"
      ],
      "metadata": {
        "id": "yjRihiSXAczi"
      },
      "execution_count": 12,
      "outputs": []
    },
    {
      "cell_type": "code",
      "source": [
        "w2v_model.wv[messages[5]].sum(axis = 0)"
      ],
      "metadata": {
        "colab": {
          "base_uri": "https://localhost:8080/"
        },
        "id": "glIVBaC0Kng2",
        "outputId": "04ed78c4-c7d1-433b-9172-3d667b1073d8"
      },
      "execution_count": 13,
      "outputs": [
        {
          "output_type": "execute_result",
          "data": {
            "text/plain": [
              "array([ 1.03962533e-02, -1.44705074e-02, -1.45390201e-02,  6.23100400e-02,\n",
              "       -1.47673577e-01,  3.66527662e-02, -1.95860788e-02,  3.20156524e-03,\n",
              "       -9.33878496e-03,  6.82232901e-02,  3.84153635e-03,  1.20331384e-01,\n",
              "       -7.50680547e-03, -4.92412075e-02, -3.94572457e-03, -5.51304780e-02,\n",
              "       -7.33726798e-03,  1.58079118e-02,  3.38082947e-02, -8.41854140e-03,\n",
              "        9.67268050e-02,  1.47659304e-02,  1.21771649e-01, -4.04371582e-02,\n",
              "        2.93174163e-02, -2.38749944e-02,  4.87945229e-02,  1.72258597e-02,\n",
              "        3.75768468e-02, -7.10282177e-02, -1.00647993e-01,  7.42369890e-02,\n",
              "       -2.20999289e-02,  6.18278943e-02, -4.27801954e-03,  1.13166615e-01,\n",
              "        1.70777142e-02, -3.36172543e-02, -2.65387334e-02, -2.21272837e-02,\n",
              "       -5.75861335e-03,  6.88514207e-03, -1.00003788e-02, -2.20017903e-03,\n",
              "       -8.19811039e-03,  1.66302100e-02, -4.99092638e-02, -1.99600719e-02,\n",
              "       -6.61851540e-02,  1.21586341e-02, -5.68587892e-03,  1.74222682e-02,\n",
              "       -2.44250074e-02,  4.04233858e-02,  1.32527016e-02, -1.52209932e-02,\n",
              "        5.86701483e-02,  1.28430938e-02,  2.00193767e-02,  3.56633775e-02,\n",
              "        4.05808799e-02,  1.04115745e-02, -4.10241447e-02,  1.03613794e-01,\n",
              "       -3.34041193e-02, -3.64728011e-02,  1.62886623e-02, -3.06630246e-02,\n",
              "        7.24290833e-02, -5.85788935e-02,  1.46289691e-01, -2.08360478e-02,\n",
              "       -5.65624088e-02, -8.66408646e-02,  2.22696345e-02,  3.14144716e-02,\n",
              "        7.17754588e-02, -2.71560182e-03, -3.08428053e-02, -2.94045429e-04,\n",
              "       -4.48870333e-03, -1.89308506e-02,  5.95631562e-02,  1.12994097e-01,\n",
              "       -2.92975083e-02,  4.98028882e-02,  2.59579495e-02, -5.02615757e-02,\n",
              "        1.41933905e-02, -8.55406001e-03,  4.46258262e-02, -1.14174159e-02,\n",
              "       -4.96909991e-02, -4.22119014e-02,  2.72491761e-02,  1.06040910e-01,\n",
              "        2.44910922e-02, -6.49042502e-02, -1.00907959e-01, -5.21670096e-02,\n",
              "       -4.64455858e-02, -1.25306286e-02, -3.68684530e-02, -1.04260130e-03,\n",
              "        3.16911787e-02, -6.13320395e-02, -4.75267582e-02,  3.24274860e-02,\n",
              "       -3.59687433e-02, -1.04129791e-01, -1.34034920e-02, -7.60994572e-03,\n",
              "        1.21373281e-01,  4.26762067e-02,  5.11074718e-03,  3.48958634e-02,\n",
              "       -8.50213990e-02, -1.07913008e-02, -4.02175598e-02, -2.38233618e-02,\n",
              "        8.40504467e-03,  3.66083509e-03,  7.20981210e-02, -6.50424138e-02,\n",
              "        5.32784127e-02,  5.91263473e-02,  2.27255244e-02, -1.42808175e-02,\n",
              "        1.37204723e-02,  8.07198286e-02, -1.26532242e-01,  1.13372291e-02,\n",
              "       -9.24640074e-02,  3.55751254e-02,  3.31531242e-02, -7.32677877e-02,\n",
              "       -5.95911592e-02, -3.80854332e-03,  5.34807369e-02, -8.81868973e-02,\n",
              "        1.74614135e-03, -3.72052006e-02,  6.47908896e-02, -3.87967341e-02,\n",
              "       -1.14239566e-02,  8.24707523e-02, -4.78978967e-03,  4.33962196e-02,\n",
              "        5.71941771e-02, -4.35013883e-03, -4.88996059e-02, -1.73378214e-02,\n",
              "        1.68013483e-01, -9.29512922e-03, -1.63917523e-02, -9.74419415e-02,\n",
              "       -1.58548877e-02,  5.09741195e-02,  1.35520194e-02, -2.44730115e-02,\n",
              "       -4.94993329e-02, -4.42256071e-02,  3.65204625e-02,  7.70418858e-03,\n",
              "       -3.37645486e-02, -2.26377975e-02,  1.88994035e-02, -3.42311226e-02,\n",
              "       -1.61152948e-02,  3.54463421e-02, -1.31543241e-02, -3.53480764e-02,\n",
              "        2.77411416e-02,  7.34661222e-02,  3.79872844e-02, -7.73852691e-02,\n",
              "       -1.97159164e-02, -4.50547859e-02, -2.20951065e-02,  6.66600093e-02,\n",
              "       -9.36636468e-04, -3.72134373e-02, -2.98405327e-02,  1.08433384e-02,\n",
              "        4.48019616e-02, -5.64187691e-02,  3.87621298e-02, -4.50915061e-02,\n",
              "       -7.21681044e-02, -2.80522667e-02, -4.24045511e-02, -2.00826433e-02,\n",
              "        5.83388172e-02,  4.38851491e-02, -4.68558930e-02,  1.02793071e-02,\n",
              "        5.40445372e-02, -2.35330723e-02, -2.14708373e-02,  1.88909639e-02,\n",
              "       -8.17897671e-04,  2.91635189e-02, -5.73974624e-02,  2.17286311e-03,\n",
              "        2.41682753e-02,  5.33797666e-02, -1.74063798e-02,  3.60940285e-02,\n",
              "       -4.46106046e-02,  7.91960657e-02, -2.96426769e-02,  2.58386862e-02,\n",
              "       -2.74181552e-02,  6.88138977e-02, -2.15822384e-02, -2.44783866e-03,\n",
              "       -2.81896070e-02,  3.29869911e-02,  1.74535327e-02,  2.34899707e-02,\n",
              "        7.40780309e-02, -1.02569796e-02,  1.87422168e-02, -2.52064448e-02,\n",
              "       -5.47118438e-03,  3.12742032e-02,  1.38408691e-02, -2.99105793e-02,\n",
              "       -8.25869292e-03, -8.09452683e-02,  5.96449561e-02,  1.47522911e-02,\n",
              "        7.67470524e-03, -8.94284844e-02, -2.89017148e-03, -5.22971451e-02,\n",
              "       -1.28288346e-03,  2.03696173e-02,  2.15670513e-03, -6.49006441e-02,\n",
              "        2.02600136e-02,  5.89538775e-02,  2.14264859e-02,  2.95560081e-02,\n",
              "       -1.56844128e-02, -5.01985103e-02, -7.43916854e-02, -3.25392634e-02,\n",
              "       -6.71617836e-02, -3.29152793e-02,  7.45674893e-02, -7.59824291e-02,\n",
              "       -3.19663472e-02, -4.50461172e-02, -1.23661868e-01, -4.79422659e-02,\n",
              "        3.45309786e-02, -3.76267955e-02,  4.13748361e-02, -8.83369669e-02,\n",
              "        7.66690522e-02,  8.23186710e-02,  2.03913264e-03,  7.62341619e-02,\n",
              "       -5.58408871e-02,  6.72704428e-02,  3.35112996e-02, -5.36270663e-02,\n",
              "        2.17202876e-04,  1.14833694e-02,  6.04604557e-03, -2.72214636e-02,\n",
              "        1.75027829e-03,  4.95945551e-02,  6.26426488e-02, -6.21568318e-03,\n",
              "       -3.71546336e-02, -9.81044918e-02, -5.00652120e-02, -6.96448237e-03,\n",
              "        5.43028563e-02, -9.50131938e-03, -5.21803126e-02,  1.10981781e-02,\n",
              "       -5.73240444e-02, -5.90200946e-02, -2.96913870e-02,  9.30788927e-03,\n",
              "       -2.60326359e-02, -4.69343439e-02, -1.88139640e-02,  1.18587865e-02,\n",
              "        3.61588970e-03,  2.69063562e-02,  3.13981920e-02,  3.54386936e-03,\n",
              "        5.52805699e-03,  2.66564339e-02,  5.53628206e-02,  3.78711224e-02,\n",
              "        3.68386284e-02,  4.13663834e-02,  1.81136169e-02,  1.27835441e-02,\n",
              "        6.41719345e-03, -3.91776413e-02,  8.81258994e-02, -1.93878952e-02,\n",
              "       -2.69767810e-02, -4.28157253e-03,  6.18897378e-02, -6.97739422e-02,\n",
              "        5.93831129e-02, -3.16236285e-04, -7.88687356e-03,  4.36805040e-02,\n",
              "       -3.38002294e-02,  3.70825157e-02, -1.89195164e-02,  7.80816823e-02,\n",
              "        1.41427768e-02, -3.28159928e-02,  4.96792234e-02,  3.69243547e-02,\n",
              "       -3.08845211e-02, -1.73558225e-03, -2.65137479e-02,  2.03179307e-02,\n",
              "       -4.15455736e-03,  1.01781301e-01, -7.64483288e-02, -2.45290771e-02,\n",
              "       -1.17697142e-01,  3.52956057e-02, -2.22661328e-02,  1.05512589e-01,\n",
              "       -4.63989414e-02,  3.91945317e-02,  2.53209714e-02, -1.20755900e-02,\n",
              "       -9.11538824e-02,  6.59827441e-02, -6.00039447e-03,  1.51289664e-02,\n",
              "        8.43523294e-02, -9.86188650e-02,  2.22324906e-03, -5.67954816e-02,\n",
              "       -8.33516568e-03, -8.36721249e-03,  4.65958240e-03,  3.51166539e-02,\n",
              "       -4.89921644e-02, -2.69120615e-02,  3.53129879e-02, -3.29855233e-02,\n",
              "        5.28775640e-02,  1.79411452e-02,  1.54786576e-02,  4.13016044e-02,\n",
              "        2.79159173e-02, -2.15579495e-02, -7.13582635e-02, -1.55622503e-02,\n",
              "        6.11114390e-02,  1.07161470e-01,  1.06204912e-01,  1.86389834e-02,\n",
              "       -8.10143724e-02, -7.94598758e-02,  4.50265929e-02, -2.62284745e-02,\n",
              "        1.20536163e-02, -5.91248367e-03,  5.40503450e-02, -3.77938561e-02,\n",
              "       -2.81637646e-02, -5.84772192e-02,  2.42938101e-02, -3.56545812e-03,\n",
              "        3.57397161e-02,  5.41965812e-02,  2.22275369e-02,  6.47306675e-03,\n",
              "        4.73083630e-02, -3.81738469e-02, -6.27405383e-03, -5.30520789e-02,\n",
              "        5.78888552e-03,  3.13927908e-03,  7.33496062e-03,  6.25047758e-02,\n",
              "       -5.84264733e-02,  1.52758667e-02,  1.68662611e-02,  7.79541628e-03,\n",
              "       -1.62161328e-03,  2.25078128e-03, -6.44683093e-03,  5.08996919e-02,\n",
              "       -2.52614021e-02, -7.07632974e-02, -2.12701280e-02, -7.74927065e-03,\n",
              "       -4.01986875e-02, -2.00402010e-02, -1.59897786e-02,  4.13388833e-02,\n",
              "       -1.04480058e-01,  2.31929477e-02,  1.05323661e-02,  7.56597519e-03,\n",
              "        4.83914744e-03,  7.68664926e-02, -1.48635479e-02, -4.91728783e-02,\n",
              "        6.46885484e-02,  2.52402704e-02,  1.44597813e-02, -5.83963096e-02,\n",
              "       -2.71105692e-02, -1.16651338e-02, -6.06532730e-02, -4.29424271e-02,\n",
              "       -5.79014197e-02, -2.14510243e-02, -7.58132264e-02,  3.15477736e-02,\n",
              "       -3.66404280e-02, -7.06339478e-02,  4.05565947e-02,  1.80235766e-02,\n",
              "        7.83913359e-02, -2.16934551e-03, -2.89486144e-02, -5.78152947e-03,\n",
              "        5.33396006e-02, -4.16339524e-02,  5.85752092e-02,  5.44714369e-02,\n",
              "       -5.53577719e-03,  7.94077143e-02, -7.36044999e-03,  3.19371233e-03,\n",
              "       -3.43891457e-02,  2.28263680e-02,  1.11898184e-02, -1.21593373e-02,\n",
              "        8.16387013e-02,  4.20008861e-02, -1.00180037e-01, -1.31695522e-02,\n",
              "        1.69646945e-02, -1.25909233e-02, -2.54205931e-02, -5.06524406e-02,\n",
              "       -3.74155156e-02, -2.28297934e-02, -9.31367800e-02,  3.44501436e-02,\n",
              "        2.73079667e-02, -6.48057908e-02, -9.14562307e-03,  7.52387345e-02,\n",
              "        6.88594021e-03,  5.69419675e-02,  2.05521341e-02, -6.18427321e-02,\n",
              "       -5.00310659e-02, -1.13582939e-01,  3.04495543e-02, -4.12335210e-02,\n",
              "        5.94650768e-02,  1.07200230e-02, -4.60435748e-02, -5.89216948e-02,\n",
              "       -2.56306492e-03,  7.52087086e-02,  1.84451789e-02,  2.15911120e-02,\n",
              "       -5.99870421e-02, -2.27363445e-02,  4.38329764e-02,  2.37239525e-02,\n",
              "       -1.82188414e-02,  1.15142018e-01,  2.08132807e-02, -3.18794399e-02,\n",
              "       -2.03798544e-02,  2.82390360e-02,  9.32614226e-03, -4.05120701e-02,\n",
              "        7.48694390e-02, -1.49934064e-03,  1.58850439e-02, -1.91862392e-03,\n",
              "        1.13348896e-02, -3.16477120e-02, -5.12160286e-02, -7.30511844e-02,\n",
              "        1.97949260e-02, -5.91373928e-02, -1.76781230e-02,  4.38382402e-02,\n",
              "        9.58809182e-02, -1.39994537e-02,  1.37131801e-03, -5.53274266e-02,\n",
              "        6.72035292e-02,  5.19718826e-02, -2.82259919e-02,  3.75511823e-03,\n",
              "        9.48151872e-02, -7.11383224e-02,  4.43843231e-02,  1.66471358e-02,\n",
              "       -4.20260839e-02,  6.04811730e-03, -5.31876739e-03,  4.45509888e-03,\n",
              "       -6.97120056e-02,  1.48191806e-02, -3.78029570e-02,  2.72525810e-02,\n",
              "       -1.42644430e-02, -6.84577897e-02,  4.42764685e-02, -2.91696973e-02,\n",
              "        1.77506581e-02,  3.24152485e-02, -3.32667157e-02,  9.87311453e-02,\n",
              "        1.27776014e-03, -1.50651457e-02, -1.37131646e-01, -8.68538767e-03,\n",
              "        3.07131410e-02,  3.24906521e-02, -2.12185290e-02,  1.36978300e-02,\n",
              "       -6.22346159e-03, -5.66001236e-02, -1.24057988e-02, -4.89236414e-03,\n",
              "       -4.74327095e-02, -1.08768567e-02,  2.67023351e-02,  4.44220714e-02,\n",
              "        6.99273795e-02, -4.59483489e-02,  1.83736105e-02,  1.53632564e-02,\n",
              "       -1.66135654e-02, -2.20947657e-02, -2.96939574e-02,  1.60155608e-03,\n",
              "       -7.38908425e-02, -8.73974413e-02,  2.75137573e-02, -5.46988379e-03,\n",
              "       -4.23033983e-02, -1.25717316e-02,  6.65302351e-02, -4.39115204e-02,\n",
              "        2.37247627e-02,  7.13062957e-02, -4.79227528e-02,  3.41316424e-02,\n",
              "        2.34911684e-02, -4.24587429e-02, -6.58631441e-04, -1.69490429e-03,\n",
              "        9.03285965e-02,  5.10763526e-02,  5.64828068e-02,  5.06281555e-02,\n",
              "        6.68842997e-03, -4.61254083e-02, -2.14436967e-02,  2.43729893e-02,\n",
              "       -1.64629761e-02, -1.91657450e-02, -3.51453424e-02,  2.32572462e-02,\n",
              "       -8.81851371e-03,  4.11657505e-02,  4.04896028e-02, -4.17381525e-02,\n",
              "        3.78826447e-02,  1.95485912e-03, -2.52467040e-02,  4.51164842e-02,\n",
              "       -1.51114604e-02, -1.69606991e-02, -6.50267750e-02,  1.66674871e-02,\n",
              "        3.83715071e-02, -3.06770392e-02,  2.68752985e-02,  2.95717549e-02,\n",
              "        3.21030952e-02, -5.02417795e-02, -3.80878747e-02, -4.77512479e-02,\n",
              "       -7.04988688e-02,  3.36049050e-02,  5.34603074e-02,  6.60939887e-02,\n",
              "       -6.81171790e-02, -3.56764486e-03, -1.26821361e-02, -5.15209362e-02,\n",
              "        4.65539284e-02,  1.19004287e-02, -4.41099256e-02, -1.44493394e-02,\n",
              "        1.46910232e-02, -1.13491200e-01, -7.96215981e-02,  1.25844963e-07,\n",
              "       -1.38218412e-02, -2.37990618e-02,  1.67620163e-02, -5.71883395e-02,\n",
              "        4.82935309e-02, -6.13101013e-02, -3.06762140e-02,  5.13978601e-02,\n",
              "       -2.06318479e-02,  4.75471579e-02, -2.69080233e-02,  4.53918353e-02,\n",
              "        7.03961961e-03, -9.05540027e-03, -1.70337572e-03, -2.55204067e-02,\n",
              "        7.63563439e-02,  7.03085139e-02, -5.75587489e-02,  5.86886071e-02,\n",
              "        3.42762880e-02, -1.70058273e-02, -3.75382863e-02, -1.32667618e-02,\n",
              "       -4.40692902e-02, -1.82310753e-02, -8.01557377e-02, -5.69104403e-02,\n",
              "        2.40117051e-02,  4.63160872e-03, -4.20765057e-02,  2.99716764e-03,\n",
              "       -2.87248399e-02, -9.07617807e-02, -3.44564505e-02,  7.76452571e-02,\n",
              "        5.44336215e-02, -1.38823809e-02, -4.28911597e-02,  7.15667382e-02,\n",
              "       -5.29113691e-03,  8.09401423e-02, -7.00473860e-02, -4.64459881e-02,\n",
              "       -8.71383175e-02, -1.80505961e-02, -5.03278989e-03, -3.22676301e-02,\n",
              "       -1.51057320e-03,  4.60792258e-02, -4.39268090e-02,  4.50449213e-02,\n",
              "       -1.83342248e-02, -1.80655960e-02,  2.09702849e-02, -1.41186882e-02,\n",
              "       -5.67947514e-02,  2.59607285e-02,  1.75735839e-02, -1.74483173e-02,\n",
              "       -7.34349107e-03,  6.34081545e-04,  2.54749134e-02,  3.62159056e-03,\n",
              "        2.13626190e-03,  1.07545368e-02, -2.97009051e-02, -2.42627393e-02,\n",
              "       -9.48276296e-02, -3.99635397e-02, -2.23452076e-02,  6.09836988e-02,\n",
              "        2.91735400e-03,  7.98652414e-03,  1.02235544e-02, -1.32861463e-02,\n",
              "       -8.81597120e-03,  4.45737503e-02,  5.41650429e-02, -3.99644971e-02,\n",
              "        1.56985018e-02, -4.56270799e-02,  3.51934358e-02, -1.85614899e-02,\n",
              "        3.41515690e-02,  1.17319310e-02, -5.40526547e-02, -2.89793331e-02,\n",
              "       -3.19793411e-02, -3.26209068e-02, -4.43323003e-03,  2.61035922e-04,\n",
              "        5.29153598e-03,  4.12326455e-02,  1.48534784e-02, -1.06928796e-02,\n",
              "       -3.80455554e-02, -7.31878802e-02,  3.22393537e-03, -7.52089247e-02,\n",
              "        4.69685756e-02,  5.43629378e-02,  9.80483135e-04,  8.77874345e-02,\n",
              "       -9.25092846e-02,  2.64892541e-02, -7.28287399e-02, -2.62728967e-02,\n",
              "        6.26009405e-02,  1.29103754e-02, -4.20903377e-02,  3.37573588e-02,\n",
              "       -2.65693236e-02,  1.97230896e-04, -1.59312990e-02, -3.99772599e-02,\n",
              "       -4.41009700e-02, -1.22479722e-03, -1.23540470e-02,  7.71314558e-03,\n",
              "        1.23655982e-02, -8.07207301e-02,  4.70433123e-02, -2.80686859e-02,\n",
              "       -5.90044744e-02,  1.40597433e-01,  1.84703507e-02,  1.72596127e-02,\n",
              "        2.42013503e-02,  2.90080681e-02, -2.00492572e-02,  3.25726494e-02,\n",
              "       -5.46472110e-02,  3.63330804e-02,  2.78811399e-02,  4.79506813e-02,\n",
              "        5.81842884e-02, -3.33781354e-02, -2.16323528e-02, -6.13163635e-02,\n",
              "       -6.52191490e-02, -4.45707329e-02, -4.82120216e-02, -5.36166504e-02,\n",
              "        1.31267365e-02,  1.62709076e-02, -1.12493569e-02,  9.73145813e-02],\n",
              "      dtype=float32)"
            ]
          },
          "metadata": {},
          "execution_count": 13
        }
      ]
    },
    {
      "cell_type": "code",
      "source": [
        "print(input_ids)\n",
        "input_w2v = torch.Tensor([w2v_model.wv[message].sum(axis = 0) for message in messages])\n",
        "print(input_w2v.shape)"
      ],
      "metadata": {
        "colab": {
          "base_uri": "https://localhost:8080/"
        },
        "id": "PMMh8eHuBnkl",
        "outputId": "9ae8022d-040c-4811-b575-fc0541983f59"
      },
      "execution_count": 14,
      "outputs": [
        {
          "output_type": "stream",
          "name": "stdout",
          "text": [
            "tensor([[  101,   152, 14424,  ...,     0,     0,     0],\n",
            "        [  101,   185,  8043,  ...,     0,     0,     0],\n",
            "        [  101,   100,   163,  ...,     0,     0,     0],\n",
            "        ...,\n",
            "        [  101,   106,   187,  ...,     0,     0,     0],\n",
            "        [  101, 23096, 21678,  ...,     0,     0,     0],\n",
            "        [  101,   141, 25810,  ...,     0,     0,     0]])\n",
            "torch.Size([1922, 768])\n"
          ]
        },
        {
          "output_type": "stream",
          "name": "stderr",
          "text": [
            "/usr/local/lib/python3.7/dist-packages/ipykernel_launcher.py:2: UserWarning: Creating a tensor from a list of numpy.ndarrays is extremely slow. Please consider converting the list to a single numpy.ndarray with numpy.array() before converting to a tensor. (Triggered internally at  ../torch/csrc/utils/tensor_new.cpp:201.)\n",
            "  \n"
          ]
        }
      ]
    },
    {
      "cell_type": "markdown",
      "source": [
        "## Helper Functions"
      ],
      "metadata": {
        "id": "q4gPqdTmpLNN"
      }
    },
    {
      "cell_type": "markdown",
      "source": [
        "### Augmentation Functions"
      ],
      "metadata": {
        "id": "YWq-FLlfqC_L"
      }
    },
    {
      "cell_type": "code",
      "source": [
        "# import re\n",
        "\n",
        "# def has_emote_idx(msg_df, emote_df):\n",
        "#     '''\n",
        "#     Usage:\n",
        "#     To get labeled messages that has labeled emotes:\n",
        "#     msg_df.loc[has_emote_idx(msg_df, emote_df), ['sentiment', 'message']]\n",
        "#     To get labeled messages that does not have labeled emotes:\n",
        "#     msg_df.loc[~has_emote_idx(msg_df, emote_df), ['sentiment', 'message']]\n",
        "#     '''\n",
        "#     emotes = list(emote_df.word)\n",
        "#     emotes_reg = r'\\b(?:{})\\b'.format('|'.join(map(re.escape, emotes))) ## regex for searching emote expression\n",
        "#     has_emote = msg_df.message.str.contains(emotes_reg) ## indices of messages that has emotes\n",
        "#     return has_emote"
      ],
      "metadata": {
        "id": "xhuaOtxGsVO6"
      },
      "execution_count": 15,
      "outputs": []
    },
    {
      "cell_type": "code",
      "source": [
        "# def sample_by_sentiment(df, ratio = 0.3):\n",
        "#     '''\n",
        "#     Sample messages with some ratio of initial training data\n",
        "#     from the distribution for sentiments\n",
        "#     '''\n",
        "#     N = df.index.max() + 1\n",
        "#     s_freq = df.sentiment.value_counts(normalize = True)\n",
        "#     pos_s_freq = s_freq[1]\n",
        "#     neu_s_freq = s_freq[0]\n",
        "#     neg_s_freq = s_freq[-1]\n",
        "#     pos_idx = df.index[df.sentiment == 1].tolist()\n",
        "#     neu_idx = df.index[df.sentiment == 0].tolist()\n",
        "#     neg_idx = df.index[df.sentiment == -1].tolist()\n",
        "#     ## sample from sentiment distribution\n",
        "#     pos_sample_size = round(N * ratio * pos_s_freq)\n",
        "#     neu_sample_size = round(N * ratio * neu_s_freq)\n",
        "#     neg_sample_size = round(N * ratio * neg_s_freq)\n",
        "#     ## uniformally sample within sentiment\n",
        "#     samples = list(np.random.choice(pos_idx, size = pos_sample_size, replace = False)) + \\\n",
        "#               list(np.random.choice(neu_idx, size = neu_sample_size, replace = False)) + \\\n",
        "#               list(np.random.choice(neg_idx, size = neg_sample_size, replace = False))\n",
        "\n",
        "#     return samples\n",
        "\n",
        "# ## simple random emote replacement\n",
        "# ## generate emote-augmented messages with the same ratio of sentiment\n",
        "# ## Things to consider:\n",
        "# ## 1. ratio of total training data\n",
        "# ## 2. balancing ratio of sentiment category\n",
        "\n",
        "# def multiple_replace(string, rep_dict):\n",
        "#     '''\n",
        "#     too lazy to write one myself\n",
        "#     source: https://stackoverflow.com/a/15448887/12461512\n",
        "#     '''\n",
        "#     pattern = re.compile(\"|\".join([re.escape(k) for k in sorted(rep_dict,key=len,reverse=True)]), flags=re.DOTALL)\n",
        "#     return pattern.sub(lambda x: rep_dict[x.group(0)], string)\n",
        "\n",
        "\n",
        "# def replace_emotes(msg_df, emote_df, ratio = 0.3):\n",
        "#     '''\n",
        "#     Replace all emotes in a given message with uniformally sampled emotes\n",
        "#     and assign a new sentiment value to the augmented message.\n",
        "#     '''\n",
        "#     sampled_msgs_idx = sample_by_sentiment(msg_df, ratio)\n",
        "#     sampled_data = msg_df.loc[sampled_msgs_idx].to_dict()\n",
        "#     sampled_msgs = sampled_data[\"message\"]\n",
        "#     sampled_sentiment = sampled_data[\"sentiment\"]\n",
        "#     emotes = list(emote_df.word)\n",
        "#     emotes_reg = r'\\b(?:{})\\b'.format('|'.join(map(re.escape, emotes)))\n",
        "#     emotes_row_indices = emote_df.index.tolist() ## used for sampling emotes...\n",
        "#     aug_data = []\n",
        "#     for k in sampled_msgs:\n",
        "#         msg = sampled_msgs[k]\n",
        "#         sentiment = sampled_sentiment[k]\n",
        "#         emote_to_replace = list(set(re.findall(emotes_reg, msg))) # could have more than one emotes\n",
        "#         regex = r'\\b(?:{})\\b'.format('|'.join(map(re.escape, emote_to_replace)))\n",
        "#         emote_idx = emote_df.index[emote_df.word.str.contains(regex)].tolist()\n",
        "#         temp = list(set(emotes_row_indices) - set(emote_idx)) ## exclude emotes being replaced from sampling\n",
        "#         replacement_idx = np.random.choice(temp, size = len(emote_idx), replace = False)\n",
        "#         replacing_emotes = emote_df.loc[replacement_idx, \"word\"].to_list()\n",
        "#         sentiment_change = sum(emote_df.loc[replacement_idx, \"sentiment\"].to_list())\n",
        "#         replace_dict = dict(zip(emote_to_replace, replacing_emotes))\n",
        "#         aug_msg = multiple_replace(msg, replace_dict)\n",
        "#         ## sentiment relabeling rule:\n",
        "#         if (len(re.findall(r'\\w+', msg))) == 1:\n",
        "#             ## message that consists of a single emote\n",
        "#             new_sentiment = np.sign(round(sentiment_change))\n",
        "#         elif (len(re.findall(r'\\w+', msg)) == len(re.findall(regex, msg))):\n",
        "#             ## message that consists of only emotes\n",
        "#             new_sentiment = np.mean(sentiment_change)\n",
        "#         else:\n",
        "#             new_sentiment = sentiment + sentiment_change\n",
        "#         new_data = {\"message\": aug_msg, \"sentiment\": new_sentiment}\n",
        "#         aug_data.append(new_data)\n",
        "    \n",
        "#     aug_data = pd.DataFrame(aug_data)\n",
        "    \n",
        "#     ## sentiment rounding rule:\n",
        "#     aug_data.sentiment = (round(np.tanh(aug_data.sentiment))).astype('int')\n",
        "\n",
        "#     return pd.DataFrame(aug_data)\n",
        "        "
      ],
      "metadata": {
        "id": "5kNTVk2FpTEk"
      },
      "execution_count": 16,
      "outputs": []
    },
    {
      "cell_type": "markdown",
      "source": [
        "### Train Test Split"
      ],
      "metadata": {
        "id": "9JMOUnEtqGa8"
      }
    },
    {
      "cell_type": "code",
      "execution_count": 19,
      "metadata": {
        "id": "dlO6Ywyf28l1"
      },
      "outputs": [],
      "source": [
        "from sklearn.model_selection import train_test_split\n",
        "import torch\n",
        "from torch.utils.data import TensorDataset, DataLoader, RandomSampler, SequentialSampler\n",
        "# from gensim.models import Word2Vec\n",
        "\n",
        "# def augment_split(df, labeled_emotes, labels, bert_tokenizer, batch_size = 32):\n",
        "#     \"\"\"\n",
        "#     input_data is a pd.DataFrame\n",
        "#     labeled_emotes is a pd.DataFrame\n",
        "#     \"\"\"\n",
        "#     train_df, validation_df = train_test_split(df, test_size = 0.2, stratify = labels)\n",
        "\n",
        "#     # Augment training set\n",
        "#     has_emote = has_emote_idx(train_df, labeled_emotes)\n",
        "#     has_emote_msgs = train_df.loc[has_emote, ['sentiment', 'message']]\n",
        "#     no_emote_msgs = train_df.loc[~has_emote, ['sentiment_relevel', 'message']]\n",
        "\n",
        "#     emote_aug_data = replace_emotes(has_emote_msgs, labeled_emotes)\n",
        "#     emote_aug_data[\"sentiment_relevel\"] = (emote_aug_data['sentiment'] + 1).astype('category')\n",
        "#     print(emote_aug_data[['sentiment_relevel', 'message']])\n",
        "\n",
        "#     train_df = pd.concat([no_emote_msgs, emote_aug_data[['sentiment_relevel', 'message']]], ignore_index = True)\n",
        "#     validation_df = validation_df[['sentiment_relevel', 'message']]\n",
        "\n",
        "\n",
        "#     # W2V\n",
        "#     messages = [message.split(' ') for message in pd.concat([train_df, validation_df]).message]\n",
        "#     w2v_model = Word2Vec(sentences = messages, min_count = 1, vector_size = 768, workers = 4, window = 5, sg = 1, seed = SEED) # train further when adding new prediction data\n",
        "#     w2v_model.build_vocab(messages, update = True)\n",
        "#     w2v_model.save(\"w2v_labeled.model\")\n",
        "#     w2v_model = Word2Vec.load(\"w2v_labeled.model\")\n",
        "#     train_w2v = torch.Tensor([w2v_model.wv[message.split(' ')].sum(axis = 0) for message in train_df.message])\n",
        "#     validation_w2v = torch.Tensor([w2v_model.wv[message.split(' ')].sum(axis = 0) for message in validation_df.message])\n",
        "\n",
        "#     # set up DataLoader\n",
        "#     train_labels = torch.tensor(train_df.sentiment_relevel.values)\n",
        "#     validation_labels = torch.tensor(validation_df.sentiment_relevel.values)\n",
        "\n",
        "#     # tokenizer\n",
        "#     MAX_LEN = max([len(bert_tokenizer(datapoint)['input_ids']) for datapoint in (pd.concat([train_df, validation_df]).message.values)])\n",
        "#     ## TRAIN\n",
        "#     train_messages = train_df.message.values\n",
        "#     train_tokenized_inputs = bert_tokenizer(\n",
        "#         train_messages.tolist(),          # Input text\n",
        "#         add_special_tokens=True,  # add '[CLS]' and '[SEP]'\n",
        "#         padding='max_length',     # pad to a length specified by the max_length\n",
        "#         max_length=MAX_LEN,       # truncate all sentences longer than max_length\n",
        "#         return_tensors='pt',      # return everything we need as PyTorch tensors\n",
        "#     )\n",
        "#     train_inputs = train_tokenized_inputs['input_ids']\n",
        "#     train_masks = train_tokenized_inputs['attention_mask']\n",
        "#     ## VALIDATION\n",
        "#     validation_messages = validation_df.message.values\n",
        "#     validation_tokenized_inputs = bert_tokenizer(\n",
        "#         validation_messages.tolist(),          # Input text\n",
        "#         add_special_tokens=True,  # add '[CLS]' and '[SEP]'\n",
        "#         padding='max_length',     # pad to a length specified by the max_length\n",
        "#         max_length=MAX_LEN,       # truncate all sentences longer than max_length\n",
        "#         return_tensors='pt',      # return everything we need as PyTorch tensors\n",
        "#     )\n",
        "#     validation_inputs = validation_tokenized_inputs['input_ids']\n",
        "#     validation_masks = validation_tokenized_inputs['attention_mask']\n",
        "\n",
        "#     # Create the DataLoader for our training set.\n",
        "#     train_data = TensorDataset(train_inputs, train_w2v, train_masks, train_labels)\n",
        "#     train_dataloader = DataLoader(train_data, shuffle=True, batch_size=batch_size)\n",
        "\n",
        "#     # Create the DataLoader for our validation set.\n",
        "#     validation_data = TensorDataset(validation_inputs, validation_w2v, validation_masks, validation_labels)\n",
        "#     validation_dataloader = DataLoader(validation_data, shuffle=False, batch_size=batch_size)\n",
        "\n",
        "#     return train_dataloader, validation_dataloader, w2v_model\n",
        "\n",
        "def train_valid_split(input_ids, input_w2v, attention_masks, labels, batch_size=32, initial_split = 0.2):\n",
        "    \"\"\"\n",
        "    Create DataLoader objects for downstream training\n",
        "    \"\"\"\n",
        "    # Use 60% for training and 40% for validation/test.\n",
        "    train_inputs, validation_inputs, train_w2v, validation_w2v, train_masks, validation_masks, train_labels, validation_labels = train_test_split(\n",
        "        input_ids, input_w2v, attention_masks, labels, random_state=SEED, test_size=initial_split, stratify=labels\n",
        "    )\n",
        "\n",
        "    # validation_inputs, test_inputs, validation_w2v, test_w2v, validation_masks, test_masks, validation_labels, test_labels = train_test_split(\n",
        "    #     validation_inputs, validation_w2v, validation_masks, validation_labels,\n",
        "    #     random_state = SEED, test_size = 0.2, stratify  = validation_labels\n",
        "    # )\n",
        "\n",
        "\n",
        "    print('example train_input:    ', train_inputs[0])\n",
        "    print('example attention_mask: ', train_masks[0])\n",
        "\n",
        "    train_labels = torch.tensor(train_labels)\n",
        "    validation_labels = torch.tensor(validation_labels)\n",
        "    # test_labels = torch.tensor(test_labels)\n",
        "\n",
        "    # Create the DataLoader for our training set.\n",
        "    train_data = TensorDataset(train_inputs, train_w2v, train_masks, train_labels)\n",
        "\n",
        "    train_dataloader = DataLoader(train_data, shuffle=True, batch_size=batch_size)\n",
        "\n",
        "    # Create the DataLoader for our validation set.\n",
        "    validation_data = TensorDataset(validation_inputs, validation_w2v, validation_masks, validation_labels)\n",
        "    validation_dataloader = DataLoader(validation_data, shuffle=False, batch_size=batch_size)\n",
        "\n",
        "    # # Create the DataLoader for our test set\n",
        "    # test_data = TensorDataset(test_inputs, test_w2v, test_masks, test_labels)\n",
        "    # test_dataloader = DataLoader(test_data, shuffle = False, batch_size = batch_size)\n",
        "\n",
        "    return train_dataloader, validation_dataloader"
      ]
    },
    {
      "cell_type": "code",
      "execution_count": 20,
      "metadata": {
        "colab": {
          "base_uri": "https://localhost:8080/"
        },
        "id": "SeRJTqjG28l2",
        "outputId": "44062aaa-d819-4246-9b57-faafd8b1d567"
      },
      "outputs": [
        {
          "output_type": "stream",
          "name": "stdout",
          "text": [
            "example train_input:     tensor([  101,  1851,   152, 17145, 12412,   102,     0,     0,     0,     0,\n",
            "            0,     0,     0,     0,     0,     0,     0,     0,     0,     0,\n",
            "            0,     0,     0,     0,     0,     0,     0,     0,     0,     0,\n",
            "            0,     0,     0,     0,     0,     0,     0,     0,     0,     0,\n",
            "            0,     0,     0,     0,     0,     0,     0,     0,     0,     0,\n",
            "            0,     0,     0,     0,     0,     0,     0,     0,     0,     0,\n",
            "            0,     0,     0,     0,     0,     0,     0,     0,     0,     0,\n",
            "            0,     0,     0,     0,     0,     0,     0,     0,     0,     0,\n",
            "            0,     0,     0,     0,     0,     0,     0,     0,     0,     0,\n",
            "            0,     0,     0,     0,     0,     0,     0,     0,     0,     0,\n",
            "            0,     0,     0,     0,     0,     0,     0,     0,     0,     0,\n",
            "            0,     0,     0,     0,     0,     0,     0,     0,     0,     0,\n",
            "            0,     0,     0,     0,     0,     0,     0,     0,     0,     0,\n",
            "            0,     0,     0,     0,     0,     0,     0,     0,     0,     0,\n",
            "            0,     0,     0,     0,     0,     0,     0,     0,     0,     0,\n",
            "            0,     0,     0,     0,     0,     0,     0,     0,     0,     0,\n",
            "            0,     0,     0,     0,     0,     0,     0,     0,     0,     0,\n",
            "            0,     0,     0,     0,     0,     0,     0,     0,     0,     0,\n",
            "            0,     0,     0,     0,     0,     0,     0,     0,     0,     0,\n",
            "            0,     0,     0,     0,     0,     0,     0])\n",
            "example attention_mask:  tensor([1, 1, 1, 1, 1, 1, 0, 0, 0, 0, 0, 0, 0, 0, 0, 0, 0, 0, 0, 0, 0, 0, 0, 0,\n",
            "        0, 0, 0, 0, 0, 0, 0, 0, 0, 0, 0, 0, 0, 0, 0, 0, 0, 0, 0, 0, 0, 0, 0, 0,\n",
            "        0, 0, 0, 0, 0, 0, 0, 0, 0, 0, 0, 0, 0, 0, 0, 0, 0, 0, 0, 0, 0, 0, 0, 0,\n",
            "        0, 0, 0, 0, 0, 0, 0, 0, 0, 0, 0, 0, 0, 0, 0, 0, 0, 0, 0, 0, 0, 0, 0, 0,\n",
            "        0, 0, 0, 0, 0, 0, 0, 0, 0, 0, 0, 0, 0, 0, 0, 0, 0, 0, 0, 0, 0, 0, 0, 0,\n",
            "        0, 0, 0, 0, 0, 0, 0, 0, 0, 0, 0, 0, 0, 0, 0, 0, 0, 0, 0, 0, 0, 0, 0, 0,\n",
            "        0, 0, 0, 0, 0, 0, 0, 0, 0, 0, 0, 0, 0, 0, 0, 0, 0, 0, 0, 0, 0, 0, 0, 0,\n",
            "        0, 0, 0, 0, 0, 0, 0, 0, 0, 0, 0, 0, 0, 0, 0, 0, 0, 0, 0, 0, 0, 0, 0, 0,\n",
            "        0, 0, 0, 0, 0])\n"
          ]
        }
      ],
      "source": [
        "bert_train_dataloader, bert_validation_dataloader = train_valid_split(\n",
        "    input_ids=input_ids,\n",
        "    attention_masks=attention_masks,\n",
        "    input_w2v=input_w2v,\n",
        "    labels=labels,\n",
        "    initial_split = 0.2,\n",
        "    batch_size=64\n",
        ")\n",
        "# bert_train_dataloader, bert_validation_dataloader, w2v_model = augment_split(\n",
        "#     df=df,\n",
        "#     labeled_emotes = labeled_emotes,\n",
        "#     labels = labels,\n",
        "#     bert_tokenizer = bert_tokenizer,\n",
        "#     batch_size=64\n",
        "# )"
      ]
    },
    {
      "cell_type": "markdown",
      "source": [
        "## BERT + W2V Model"
      ],
      "metadata": {
        "id": "dIVLflIvqNZL"
      }
    },
    {
      "cell_type": "code",
      "execution_count": 21,
      "metadata": {
        "id": "9ThwZA2628l3"
      },
      "outputs": [],
      "source": [
        "from transformers import BertModel\n",
        "import torch.nn as nn\n",
        "\n",
        "class BertForSentenceClassification(BertModel):\n",
        "    def __init__(self, config, use_dropout, embed_size, dropout = 0.5):\n",
        "        super().__init__(config)\n",
        "        \n",
        "        self.dropout = nn.Dropout(p = dropout)\n",
        "        self.l1 = nn.Linear(config.hidden_size, 128) #nn.Linear(config.hidden_size + embed_size, 128)\n",
        "        self.a = nn.SiLU()\n",
        "        self.l2 = nn.Linear(128, config.num_labels)\n",
        "\n",
        "        self.loss = torch.nn.CrossEntropyLoss()\n",
        "        self.use_dropout = use_dropout\n",
        "\n",
        "    def forward(self, labels=None, ext_embed = None, **kwargs):\n",
        "        outputs = super().forward(**kwargs)\n",
        "\n",
        "        cls_token_repr = outputs.pooler_output\n",
        "        if ext_embed is not None:\n",
        "          cls_token_repr = nn.functional.normalize(cls_token_repr) + nn.functional.normalize(ext_embed) #torch.cat((cls_token_repr, w2v_embeds), dim = -1)\n",
        "\n",
        "        # apply dropout\n",
        "        if self.use_dropout:\n",
        "          dropouts = self.dropout(cls_token_repr)\n",
        "        else:\n",
        "          dropouts = cls_token_repr\n",
        "\n",
        "        linear = self.l1(dropouts)\n",
        "        activation = self.a(linear)\n",
        "        logits = self.l2(activation)\n",
        "        if labels is not None:\n",
        "            outputs = (logits, self.loss(logits, labels))\n",
        "        else:\n",
        "            outputs = (logits,)\n",
        "        return outputs\n"
      ]
    },
    {
      "cell_type": "code",
      "execution_count": 22,
      "metadata": {
        "colab": {
          "base_uri": "https://localhost:8080/",
          "height": 156,
          "referenced_widgets": [
            "9e107c5500d94692ac902ceb7a0922f3",
            "81bf4c39b85c4040913a8d5def2fd30a",
            "287af92282634996bf9451c73e01e86e",
            "9ba361b379664f4f9e440cad144f0605",
            "d4f1226ade01483db7509c14c0d40040",
            "1b42a39c3c83460c8bf1807075889e60",
            "20244a46a83944a39143d7bc4b1356e1",
            "a4610e2921654faea8ae9960a2f59ed4",
            "5ef11b81068c4ffabce337b42a55def1",
            "f938587f0c124da9a4d4afbcc1c628e6",
            "c3f41f86a7b14587bb54625cffdbf2b8"
          ]
        },
        "id": "B4gdwWc328l5",
        "outputId": "23030ae2-eeb0-402b-b583-51c849b3ad1d"
      },
      "outputs": [
        {
          "output_type": "display_data",
          "data": {
            "text/plain": [
              "Downloading:   0%|          | 0.00/416M [00:00<?, ?B/s]"
            ],
            "application/vnd.jupyter.widget-view+json": {
              "version_major": 2,
              "version_minor": 0,
              "model_id": "9e107c5500d94692ac902ceb7a0922f3"
            }
          },
          "metadata": {}
        },
        {
          "output_type": "stream",
          "name": "stderr",
          "text": [
            "Some weights of the model checkpoint at bert-base-cased were not used when initializing BertForSentenceClassification: ['cls.predictions.transform.dense.weight', 'cls.predictions.transform.LayerNorm.weight', 'cls.predictions.decoder.weight', 'cls.predictions.transform.dense.bias', 'cls.predictions.bias', 'cls.seq_relationship.weight', 'cls.seq_relationship.bias', 'cls.predictions.transform.LayerNorm.bias']\n",
            "- This IS expected if you are initializing BertForSentenceClassification from the checkpoint of a model trained on another task or with another architecture (e.g. initializing a BertForSequenceClassification model from a BertForPreTraining model).\n",
            "- This IS NOT expected if you are initializing BertForSentenceClassification from the checkpoint of a model that you expect to be exactly identical (initializing a BertForSequenceClassification model from a BertForSequenceClassification model).\n",
            "Some weights of BertForSentenceClassification were not initialized from the model checkpoint at bert-base-cased and are newly initialized: ['bert.l2.bias', 'bert.l1.bias', 'bert.l2.weight', 'bert.l1.weight']\n",
            "You should probably TRAIN this model on a down-stream task to be able to use it for predictions and inference.\n"
          ]
        }
      ],
      "source": [
        "model = BertForSentenceClassification.from_pretrained(\n",
        "    pretrained,\n",
        "    num_labels = 3,\n",
        "    use_dropout = True,\n",
        "    embed_size = 768\n",
        ")"
      ]
    },
    {
      "cell_type": "code",
      "execution_count": 23,
      "metadata": {
        "colab": {
          "base_uri": "https://localhost:8080/"
        },
        "id": "TkrVxHa428l5",
        "outputId": "6f27c87c-70f2-4923-b4d9-81a1c2e8083f"
      },
      "outputs": [
        {
          "output_type": "stream",
          "name": "stdout",
          "text": [
            "The BERT model has 203 different named parameters.\n",
            "\n",
            "==== Embedding Layer ====\n",
            "\n",
            "embeddings.word_embeddings.weight                       (28996, 768)\n",
            "embeddings.position_embeddings.weight                     (512, 768)\n",
            "embeddings.token_type_embeddings.weight                     (2, 768)\n",
            "embeddings.LayerNorm.weight                                   (768,)\n",
            "embeddings.LayerNorm.bias                                     (768,)\n",
            "\n",
            "==== First Transformer Layer ====\n",
            "\n",
            "encoder.layer.0.attention.self.query.weight               (768, 768)\n",
            "encoder.layer.0.attention.self.query.bias                     (768,)\n",
            "encoder.layer.0.attention.self.key.weight                 (768, 768)\n",
            "encoder.layer.0.attention.self.key.bias                       (768,)\n",
            "encoder.layer.0.attention.self.value.weight               (768, 768)\n",
            "encoder.layer.0.attention.self.value.bias                     (768,)\n",
            "encoder.layer.0.attention.output.dense.weight             (768, 768)\n",
            "encoder.layer.0.attention.output.dense.bias                   (768,)\n",
            "encoder.layer.0.attention.output.LayerNorm.weight             (768,)\n",
            "encoder.layer.0.attention.output.LayerNorm.bias               (768,)\n",
            "encoder.layer.0.intermediate.dense.weight                (3072, 768)\n",
            "encoder.layer.0.intermediate.dense.bias                      (3072,)\n",
            "encoder.layer.0.output.dense.weight                      (768, 3072)\n",
            "encoder.layer.0.output.dense.bias                             (768,)\n",
            "encoder.layer.0.output.LayerNorm.weight                       (768,)\n",
            "encoder.layer.0.output.LayerNorm.bias                         (768,)\n",
            "\n",
            "==== Output Layer ====\n",
            "\n",
            "l1.weight                                                 (128, 768)\n",
            "l1.bias                                                       (128,)\n",
            "l2.weight                                                   (3, 128)\n",
            "l2.bias                                                         (3,)\n"
          ]
        }
      ],
      "source": [
        "# Model parameters visualization\n",
        "params = list(model.named_parameters())\n",
        "\n",
        "print('The BERT model has {:} different named parameters.\\n'.format(len(params)))\n",
        "\n",
        "print('==== Embedding Layer ====\\n')\n",
        "\n",
        "for p in params[0:5]:\n",
        "    print(\"{:<55} {:>12}\".format(p[0], str(tuple(p[1].size()))))\n",
        "\n",
        "print('\\n==== First Transformer Layer ====\\n')\n",
        "\n",
        "for p in params[5:21]:\n",
        "    print(\"{:<55} {:>12}\".format(p[0], str(tuple(p[1].size()))))\n",
        "\n",
        "print('\\n==== Output Layer ====\\n')\n",
        "\n",
        "for p in params[-4:]:\n",
        "    print(\"{:<55} {:>12}\".format(p[0], str(tuple(p[1].size()))))"
      ]
    },
    {
      "cell_type": "markdown",
      "source": [
        "### Training Loop"
      ],
      "metadata": {
        "id": "ipzTqhkZqR0I"
      }
    },
    {
      "cell_type": "code",
      "execution_count": 24,
      "metadata": {
        "id": "zPMt8pTt28l6"
      },
      "outputs": [],
      "source": [
        "from torch.optim import AdamW\n",
        "import time\n",
        "import datetime\n",
        "from transformers import get_linear_schedule_with_warmup\n",
        "from tqdm import tqdm\n",
        "from sklearn.metrics import f1_score, recall_score\n",
        "\n",
        "def collect_flat_outputs(preds, labels):\n",
        "    pred_flat = np.argmax(preds, axis=1).flatten()\n",
        "    labels_flat = labels.flatten()\n",
        "    return pred_flat, labels_flat\n",
        "    \n",
        "def flat_accuracy(preds, labels):\n",
        "    pred_flat, labels_flat = collect_flat_outputs(preds, labels)\n",
        "    return np.sum(pred_flat == labels_flat) / len(labels_flat)\n",
        "\n",
        "def format_time(elapsed):\n",
        "    elapsed_rounded = int(round((elapsed)))\n",
        "    return str(datetime.timedelta(seconds=elapsed_rounded))\n",
        "\n",
        "def get_optimizer_and_scheduler(model, total_steps, lr=2e-5, weight_decay=0.01):\n",
        "    # Apply weight decay to all parameters beside the biases or LayerNorm weights\n",
        "    no_decay = ['bias', 'LayerNorm.weight']\n",
        "    optimizer_grouped_parameters = [\n",
        "        {\n",
        "            'params': [p for n, p in model.named_parameters() if not any(nd in n for nd in no_decay)],\n",
        "            'weight_decay': weight_decay},\n",
        "        {\n",
        "            'params': [p for n, p in model.named_parameters() if any(nd in n for nd in no_decay)],\n",
        "            'weight_decay': 0.0\n",
        "        }\n",
        "    ]\n",
        "    optimizer = AdamW(model.parameters(), lr=lr)\n",
        "    scheduler = get_linear_schedule_with_warmup(\n",
        "        optimizer,\n",
        "        # Warmup learning rate for first 10% of training steps\n",
        "        num_warmup_steps=int(0.10 * total_steps), \n",
        "        num_training_steps=total_steps,\n",
        "    )\n",
        "    return optimizer, scheduler\n",
        "\n",
        "def train_model(model, epochs, train_dataloader, validation_dataloader, test_dataloader = None):\n",
        "    # Use GPU, if available\n",
        "    #device = torch.device(\"cuda\" if torch.cuda.is_available() else \"cpu\")\n",
        "    model = model.to(device) # TPU right now\n",
        "\n",
        "    # Setup optimizer and LR scheduler \n",
        "    total_steps = len(train_dataloader) * epochs\n",
        "    optimizer, scheduler = get_optimizer_and_scheduler(\n",
        "        model, total_steps, lr=5e-5, weight_decay=0.01\n",
        "    )\n",
        "\n",
        "    eval_metrics = {\n",
        "            'train_loss': [],\n",
        "            'valid_loss': [],\n",
        "            'test_loss' : [],\n",
        "            'valid_accs': [],\n",
        "            'test_accs' : [],\n",
        "            'valid_f1': [],\n",
        "            'test_f1': [],\n",
        "            'recall': [],\n",
        "            'curr_max' : 0\n",
        "        }\n",
        "\n",
        "    #loss_values = []\n",
        "    #eval_accs = []\n",
        "    curr_max = 0 # current max eval acc\n",
        "\n",
        "    for epoch in range(0, epochs):\n",
        "        t0 = time.time()\n",
        "\n",
        "        total_train_loss = 0\n",
        "        model.train()\n",
        "\n",
        "        # ================== ONE EPOCH TRAINING STARTS =========================\n",
        "        with tqdm(train_dataloader, unit=\"batch\") as train_pbar:\n",
        "            for batch in train_pbar:\n",
        "                train_pbar.set_description(f\"Training (epoch {epoch + 1})\")\n",
        "                b_input_ids = batch[0].to(device)\n",
        "                b_input_ud = batch[1].to(device)\n",
        "                b_input_mask = batch[2].to(device)\n",
        "                b_labels = batch[3].to(device)\n",
        "\n",
        "                model.zero_grad()        \n",
        "\n",
        "                # Perform a forward pass (evaluate the model on this training batch).\n",
        "                # This will return the loss because we have provided the `labels`.\n",
        "                outputs = model(\n",
        "                    input_ids = b_input_ids, \n",
        "                    ext_embed = b_input_ud,\n",
        "                    attention_mask = b_input_mask, \n",
        "                    labels=b_labels\n",
        "                )\n",
        "                \n",
        "                # The call to `model` always returns a tuple, so we need to pull the \n",
        "                # loss value out of the tuple.\n",
        "                _, loss = outputs\n",
        "\n",
        "                # Accumulate the training loss over all of the batches so that we can\n",
        "                # calculate the average loss at the end. `loss` is a Tensor containing a\n",
        "                # single value; the `.item()` function just returns the Python value \n",
        "                # from the tensor.\n",
        "                total_train_loss += loss.item()\n",
        "\n",
        "                # Perform a backward pass to calculate the gradients.\n",
        "                loss.backward()\n",
        "\n",
        "                # Clip the norm of the gradients to 1.0.\n",
        "                # This is to help prevent the \"exploding gradients\" problem.\n",
        "                torch.nn.utils.clip_grad_norm_(model.parameters(), 1.0)\n",
        "\n",
        "                # Update parameters and take a step using the computed gradient.\n",
        "                # The optimizer dictates the \"update rule\"--how the parameters are\n",
        "                # modified based on their gradients, the learning rate, etc.\n",
        "                optimizer.step()\n",
        "\n",
        "                # Update the learning rate.\n",
        "                scheduler.step()\n",
        "        # =================== ONE EPOCH TRAINING ENDS ==========================\n",
        "\n",
        "        # Calculate the average loss over the training data.\n",
        "        avg_train_loss = total_train_loss / len(train_dataloader)            \n",
        "        \n",
        "        # Store the loss value for plotting the learning curve.\n",
        "        eval_metrics[\"train_loss\"].append(avg_train_loss)\n",
        "\n",
        "        print(\"  * Average training loss: {0:.2f}\".format(avg_train_loss))\n",
        "        print(\"  * Training epoch took: {:}\".format(format_time(time.time() - t0)))\n",
        "            \n",
        "        print(\"Running Validation...\")\n",
        "\n",
        "        t0 = time.time()\n",
        "        model.eval()\n",
        "\n",
        "        eval_loss, eval_accuracy = 0, 0\n",
        "        nb_eval_steps, nb_eval_examples = 0, 0\n",
        "        f1 = 0\n",
        "        epoch_preds, epoch_labels = [], []\n",
        "\n",
        "        # Evaluate data for one epoch\n",
        "        # ================== ONE EPOCH VALIDATING STARTS =======================\n",
        "        for batch in validation_dataloader:\n",
        "            batch = tuple(t.to(device) for t in batch)\n",
        "            b_input_ids, b_input_ud, b_input_mask, b_labels = batch\n",
        "            \n",
        "            with torch.no_grad():        \n",
        "                # Forward pass, calculate logit predictions.\n",
        "                # This will return the logits rather than the loss because we have\n",
        "                # not provided labels.\n",
        "                # token_type_ids is the same as the \"segment ids\", which \n",
        "                # differentiates sentence 1 and 2 in 2-sentence tasks.\n",
        "                outputs = model(\n",
        "                    input_ids = b_input_ids, \n",
        "                    ext_embed = b_input_ud,\n",
        "                    attention_mask = b_input_mask,\n",
        "                    labels = b_labels\n",
        "                )\n",
        "            \n",
        "            # Get the \"logits\" output by the model. The \"logits\" are the output\n",
        "            # values prior to applying an activation function like the softmax.\n",
        "            logits, loss = outputs\n",
        "            # Move logits and labels to CPU\n",
        "            logits = logits.detach().cpu().numpy()\n",
        "            label_ids = b_labels.to('cpu').numpy()\n",
        "            # Calculate the accuracy for this batch of test sentences.\n",
        "            tmp_eval_accuracy = flat_accuracy(logits, label_ids)\n",
        "            # Collect predictions and labels from each validation batch\n",
        "            batch_preds, batch_labels = collect_flat_outputs(logits, label_ids)\n",
        "            epoch_preds.append(batch_preds)\n",
        "            epoch_labels.append(batch_labels)\n",
        "            # Accumulate the total accuracy.\n",
        "            eval_accuracy += tmp_eval_accuracy\n",
        "            # Accumulate the total loss.\n",
        "            eval_loss += loss.item()\n",
        "            # Track the number of batches\n",
        "            nb_eval_steps += 1\n",
        "        # =================== ONE EPOCH VALIDATING ENDS ========================\n",
        "\n",
        "        epoch_preds  = np.concatenate(epoch_preds)\n",
        "        epoch_labels = np.concatenate(epoch_labels)\n",
        "        f1 = f1_score(epoch_preds, epoch_labels, average = 'macro')\n",
        "        recall = recall_score(epoch_preds, epoch_labels, average = 'macro')\n",
        "        avg_eval_acc  = eval_accuracy / nb_eval_steps\n",
        "        avg_eval_loss = eval_loss / nb_eval_steps ## average valid. loss over batches\n",
        "        print(\"  * Validation Accuracy: {0:.2f}\".format(avg_eval_acc))\n",
        "        print(\"  * Validation loss: {0:.2f}\".format(avg_eval_loss))\n",
        "        print(\"  * Validation F1 score: {0:.2f}\".format(f1))\n",
        "        print(\"  * Validation took: {:}\".format(format_time(time.time() - t0)))\n",
        "        eval_metrics[\"valid_accs\"].append(avg_eval_acc)\n",
        "        eval_metrics[\"valid_loss\"].append(avg_eval_loss)\n",
        "        eval_metrics['valid_f1'].append(f1)\n",
        "\n",
        "        print(f\"PREVIOUS BEST EVAL:{curr_max}\")\n",
        "        # save max eval model\n",
        "        if max(avg_eval_acc, curr_max) == avg_eval_acc:\n",
        "          curr_max = avg_eval_acc\n",
        "          eval_metrics[\"curr_max\"] = curr_max\n",
        "          try:\n",
        "            os.makedirs(\"./weights/\")\n",
        "          except:\n",
        "            print(\"dir exists\")\n",
        "          print(\"Saving Weights...\")\n",
        "          model.save_pretrained(\"./weights/curr\")\n",
        "        if test_dataloader:\n",
        "          print(\"Running Test...\")\n",
        "\n",
        "          t0 = time.time()\n",
        "          model.eval()\n",
        "\n",
        "          eval_loss, eval_accuracy = 0, 0\n",
        "          nb_eval_steps, nb_eval_examples = 0, 0\n",
        "          f1 = 0\n",
        "          epoch_preds, epoch_labels = [], []\n",
        "          # ================== ONE EPOCH TEST STARTS =======================\n",
        "          for batch in test_dataloader:\n",
        "              batch = tuple(t.to(device) for t in batch)\n",
        "              b_input_ids, b_input_ud, b_input_mask, b_labels = batch\n",
        "              \n",
        "              with torch.no_grad():        \n",
        "                  # Forward pass, calculate logit predictions.\n",
        "                  # This will return the logits rather than the loss because we have\n",
        "                  # not provided labels.\n",
        "                  # token_type_ids is the same as the \"segment ids\", which \n",
        "                  # differentiates sentence 1 and 2 in 2-sentence tasks.\n",
        "                  outputs = model(\n",
        "                      input_ids = b_input_ids, \n",
        "                      ext_embed = b_input_ud,\n",
        "                      attention_mask = b_input_mask,\n",
        "                      labels = b_labels\n",
        "                  )\n",
        "              \n",
        "              # Get the \"logits\" output by the model. The \"logits\" are the output\n",
        "              # values prior to applying an activation function like the softmax.\n",
        "              logits, loss = outputs\n",
        "              # Move logits and labels to CPU\n",
        "              logits = logits.detach().cpu().numpy()\n",
        "              label_ids = b_labels.to('cpu').numpy()\n",
        "              # Calculate the accuracy for this batch of test sentences.\n",
        "              tmp_eval_accuracy = flat_accuracy(logits, label_ids)\n",
        "              # Collect predictions and labels from each validation batch\n",
        "              batch_preds, batch_labels = collect_flat_outputs(logits, label_ids)\n",
        "              epoch_preds.append(batch_preds)\n",
        "              epoch_labels.append(batch_labels)\n",
        "              # Accumulate the total accuracy.\n",
        "              eval_accuracy += tmp_eval_accuracy\n",
        "              # Accumulate the total loss.\n",
        "              eval_loss += loss.item()\n",
        "              # Track the number of batches\n",
        "              nb_eval_steps += 1\n",
        "          # =================== ONE EPOCH TEST ENDS ========================\n",
        "          epoch_preds  = np.concatenate(epoch_preds)\n",
        "          epoch_labels = np.concatenate(epoch_labels)\n",
        "          f1 = f1_score(epoch_preds, epoch_labels, average = 'macro')\n",
        "          recall = recall_score(epoch_preds, epoch_labels, average = 'macro')\n",
        "          avg_eval_acc  = eval_accuracy / nb_eval_steps\n",
        "          avg_eval_loss = eval_loss / nb_eval_steps ## average valid. loss over batches\n",
        "          print(\"  * Test Accuracy: {0:.2f}\".format(avg_eval_acc))\n",
        "          print(\"  * Test loss: {0:.2f}\".format(avg_eval_loss))\n",
        "          print(\"  * Test F1 score: {0:.2f}\".format(f1))\n",
        "          print(\"  * Test took: {:}\".format(format_time(time.time() - t0)))\n",
        "          eval_metrics[\"test_accs\"].append(avg_eval_acc)\n",
        "          eval_metrics[\"test_loss\"].append(avg_eval_loss)\n",
        "          eval_metrics['test_f1'].append(f1)\n",
        "        \n",
        "\n",
        "    print(\"Training complete!\")\n",
        "    return eval_metrics"
      ]
    },
    {
      "cell_type": "code",
      "execution_count": 25,
      "metadata": {
        "colab": {
          "base_uri": "https://localhost:8080/"
        },
        "id": "-8yMCazi28l7",
        "outputId": "3f49c30d-20de-42ad-9f46-9f6d4586f0f6"
      },
      "outputs": [
        {
          "output_type": "stream",
          "name": "stderr",
          "text": [
            "Training (epoch 1): 100%|██████████| 25/25 [00:28<00:00,  1.12s/batch]\n"
          ]
        },
        {
          "output_type": "stream",
          "name": "stdout",
          "text": [
            "  * Average training loss: 1.10\n",
            "  * Training epoch took: 0:00:28\n",
            "Running Validation...\n"
          ]
        },
        {
          "output_type": "stream",
          "name": "stderr",
          "text": [
            "/usr/local/lib/python3.7/dist-packages/sklearn/metrics/_classification.py:1318: UndefinedMetricWarning: Recall is ill-defined and being set to 0.0 in labels with no true samples. Use `zero_division` parameter to control this behavior.\n",
            "  _warn_prf(average, modifier, msg_start, len(result))\n"
          ]
        },
        {
          "output_type": "stream",
          "name": "stdout",
          "text": [
            "  * Validation Accuracy: 0.46\n",
            "  * Validation loss: 1.10\n",
            "  * Validation F1 score: 0.24\n",
            "  * Validation took: 0:00:02\n",
            "PREVIOUS BEST EVAL:0\n",
            "Saving Weights...\n"
          ]
        },
        {
          "output_type": "stream",
          "name": "stderr",
          "text": [
            "Training (epoch 2): 100%|██████████| 25/25 [00:27<00:00,  1.12s/batch]\n"
          ]
        },
        {
          "output_type": "stream",
          "name": "stdout",
          "text": [
            "  * Average training loss: 1.10\n",
            "  * Training epoch took: 0:00:28\n",
            "Running Validation...\n"
          ]
        },
        {
          "output_type": "stream",
          "name": "stderr",
          "text": [
            "/usr/local/lib/python3.7/dist-packages/sklearn/metrics/_classification.py:1318: UndefinedMetricWarning: Recall is ill-defined and being set to 0.0 in labels with no true samples. Use `zero_division` parameter to control this behavior.\n",
            "  _warn_prf(average, modifier, msg_start, len(result))\n"
          ]
        },
        {
          "output_type": "stream",
          "name": "stdout",
          "text": [
            "  * Validation Accuracy: 0.52\n",
            "  * Validation loss: 1.09\n",
            "  * Validation F1 score: 0.29\n",
            "  * Validation took: 0:00:02\n",
            "PREVIOUS BEST EVAL:0.46205357142857145\n",
            "dir exists\n",
            "Saving Weights...\n"
          ]
        },
        {
          "output_type": "stream",
          "name": "stderr",
          "text": [
            "Training (epoch 3): 100%|██████████| 25/25 [00:27<00:00,  1.12s/batch]\n"
          ]
        },
        {
          "output_type": "stream",
          "name": "stdout",
          "text": [
            "  * Average training loss: 1.09\n",
            "  * Training epoch took: 0:00:28\n",
            "Running Validation...\n",
            "  * Validation Accuracy: 0.47\n",
            "  * Validation loss: 1.09\n",
            "  * Validation F1 score: 0.43\n",
            "  * Validation took: 0:00:02\n",
            "PREVIOUS BEST EVAL:0.5178571428571429\n"
          ]
        },
        {
          "output_type": "stream",
          "name": "stderr",
          "text": [
            "Training (epoch 4): 100%|██████████| 25/25 [00:27<00:00,  1.12s/batch]\n"
          ]
        },
        {
          "output_type": "stream",
          "name": "stdout",
          "text": [
            "  * Average training loss: 1.09\n",
            "  * Training epoch took: 0:00:28\n",
            "Running Validation...\n",
            "  * Validation Accuracy: 0.52\n",
            "  * Validation loss: 1.08\n",
            "  * Validation F1 score: 0.53\n",
            "  * Validation took: 0:00:02\n",
            "PREVIOUS BEST EVAL:0.5178571428571429\n",
            "dir exists\n",
            "Saving Weights...\n"
          ]
        },
        {
          "output_type": "stream",
          "name": "stderr",
          "text": [
            "Training (epoch 5): 100%|██████████| 25/25 [00:28<00:00,  1.14s/batch]\n"
          ]
        },
        {
          "output_type": "stream",
          "name": "stdout",
          "text": [
            "  * Average training loss: 1.07\n",
            "  * Training epoch took: 0:00:29\n",
            "Running Validation...\n",
            "  * Validation Accuracy: 0.71\n",
            "  * Validation loss: 1.06\n",
            "  * Validation F1 score: 0.64\n",
            "  * Validation took: 0:00:02\n",
            "PREVIOUS BEST EVAL:0.5178571428571429\n",
            "dir exists\n",
            "Saving Weights...\n"
          ]
        },
        {
          "output_type": "stream",
          "name": "stderr",
          "text": [
            "Training (epoch 6): 100%|██████████| 25/25 [00:27<00:00,  1.11s/batch]\n"
          ]
        },
        {
          "output_type": "stream",
          "name": "stdout",
          "text": [
            "  * Average training loss: 1.05\n",
            "  * Training epoch took: 0:00:28\n",
            "Running Validation...\n",
            "  * Validation Accuracy: 0.54\n",
            "  * Validation loss: 1.05\n",
            "  * Validation F1 score: 0.61\n",
            "  * Validation took: 0:00:02\n",
            "PREVIOUS BEST EVAL:0.7098214285714286\n"
          ]
        },
        {
          "output_type": "stream",
          "name": "stderr",
          "text": [
            "Training (epoch 7): 100%|██████████| 25/25 [00:28<00:00,  1.13s/batch]\n"
          ]
        },
        {
          "output_type": "stream",
          "name": "stdout",
          "text": [
            "  * Average training loss: 1.01\n",
            "  * Training epoch took: 0:00:28\n",
            "Running Validation...\n",
            "  * Validation Accuracy: 0.72\n",
            "  * Validation loss: 1.01\n",
            "  * Validation F1 score: 0.64\n",
            "  * Validation took: 0:00:02\n",
            "PREVIOUS BEST EVAL:0.7098214285714286\n",
            "dir exists\n",
            "Saving Weights...\n"
          ]
        },
        {
          "output_type": "stream",
          "name": "stderr",
          "text": [
            "Training (epoch 8): 100%|██████████| 25/25 [00:27<00:00,  1.12s/batch]\n"
          ]
        },
        {
          "output_type": "stream",
          "name": "stdout",
          "text": [
            "  * Average training loss: 0.98\n",
            "  * Training epoch took: 0:00:28\n",
            "Running Validation...\n",
            "  * Validation Accuracy: 0.69\n",
            "  * Validation loss: 0.99\n",
            "  * Validation F1 score: 0.62\n",
            "  * Validation took: 0:00:02\n",
            "PREVIOUS BEST EVAL:0.71875\n"
          ]
        },
        {
          "output_type": "stream",
          "name": "stderr",
          "text": [
            "Training (epoch 9): 100%|██████████| 25/25 [00:27<00:00,  1.12s/batch]\n"
          ]
        },
        {
          "output_type": "stream",
          "name": "stdout",
          "text": [
            "  * Average training loss: 0.93\n",
            "  * Training epoch took: 0:00:28\n",
            "Running Validation...\n",
            "  * Validation Accuracy: 0.71\n",
            "  * Validation loss: 0.96\n",
            "  * Validation F1 score: 0.63\n",
            "  * Validation took: 0:00:02\n",
            "PREVIOUS BEST EVAL:0.71875\n"
          ]
        },
        {
          "output_type": "stream",
          "name": "stderr",
          "text": [
            "Training (epoch 10): 100%|██████████| 25/25 [00:27<00:00,  1.12s/batch]\n"
          ]
        },
        {
          "output_type": "stream",
          "name": "stdout",
          "text": [
            "  * Average training loss: 0.89\n",
            "  * Training epoch took: 0:00:28\n",
            "Running Validation...\n",
            "  * Validation Accuracy: 0.73\n",
            "  * Validation loss: 0.93\n",
            "  * Validation F1 score: 0.64\n",
            "  * Validation took: 0:00:02\n",
            "PREVIOUS BEST EVAL:0.71875\n",
            "dir exists\n",
            "Saving Weights...\n"
          ]
        },
        {
          "output_type": "stream",
          "name": "stderr",
          "text": [
            "Training (epoch 11): 100%|██████████| 25/25 [00:27<00:00,  1.12s/batch]\n"
          ]
        },
        {
          "output_type": "stream",
          "name": "stdout",
          "text": [
            "  * Average training loss: 0.86\n",
            "  * Training epoch took: 0:00:28\n",
            "Running Validation...\n",
            "  * Validation Accuracy: 0.70\n",
            "  * Validation loss: 0.91\n",
            "  * Validation F1 score: 0.63\n",
            "  * Validation took: 0:00:02\n",
            "PREVIOUS BEST EVAL:0.7299107142857143\n"
          ]
        },
        {
          "output_type": "stream",
          "name": "stderr",
          "text": [
            "Training (epoch 12): 100%|██████████| 25/25 [00:27<00:00,  1.12s/batch]\n"
          ]
        },
        {
          "output_type": "stream",
          "name": "stdout",
          "text": [
            "  * Average training loss: 0.82\n",
            "  * Training epoch took: 0:00:28\n",
            "Running Validation...\n",
            "  * Validation Accuracy: 0.73\n",
            "  * Validation loss: 0.87\n",
            "  * Validation F1 score: 0.65\n",
            "  * Validation took: 0:00:02\n",
            "PREVIOUS BEST EVAL:0.7299107142857143\n",
            "dir exists\n",
            "Saving Weights...\n"
          ]
        },
        {
          "output_type": "stream",
          "name": "stderr",
          "text": [
            "Training (epoch 13): 100%|██████████| 25/25 [00:27<00:00,  1.12s/batch]\n"
          ]
        },
        {
          "output_type": "stream",
          "name": "stdout",
          "text": [
            "  * Average training loss: 0.78\n",
            "  * Training epoch took: 0:00:28\n",
            "Running Validation...\n",
            "  * Validation Accuracy: 0.73\n",
            "  * Validation loss: 0.85\n",
            "  * Validation F1 score: 0.66\n",
            "  * Validation took: 0:00:02\n",
            "PREVIOUS BEST EVAL:0.7321428571428571\n"
          ]
        },
        {
          "output_type": "stream",
          "name": "stderr",
          "text": [
            "Training (epoch 14): 100%|██████████| 25/25 [00:27<00:00,  1.12s/batch]\n"
          ]
        },
        {
          "output_type": "stream",
          "name": "stdout",
          "text": [
            "  * Average training loss: 0.74\n",
            "  * Training epoch took: 0:00:28\n",
            "Running Validation...\n",
            "  * Validation Accuracy: 0.74\n",
            "  * Validation loss: 0.83\n",
            "  * Validation F1 score: 0.67\n",
            "  * Validation took: 0:00:02\n",
            "PREVIOUS BEST EVAL:0.7321428571428571\n",
            "dir exists\n",
            "Saving Weights...\n"
          ]
        },
        {
          "output_type": "stream",
          "name": "stderr",
          "text": [
            "Training (epoch 15): 100%|██████████| 25/25 [00:27<00:00,  1.12s/batch]\n"
          ]
        },
        {
          "output_type": "stream",
          "name": "stdout",
          "text": [
            "  * Average training loss: 0.69\n",
            "  * Training epoch took: 0:00:28\n",
            "Running Validation...\n",
            "  * Validation Accuracy: 0.74\n",
            "  * Validation loss: 0.80\n",
            "  * Validation F1 score: 0.68\n",
            "  * Validation took: 0:00:02\n",
            "PREVIOUS BEST EVAL:0.7388392857142857\n",
            "dir exists\n",
            "Saving Weights...\n"
          ]
        },
        {
          "output_type": "stream",
          "name": "stderr",
          "text": [
            "Training (epoch 16): 100%|██████████| 25/25 [00:27<00:00,  1.12s/batch]\n"
          ]
        },
        {
          "output_type": "stream",
          "name": "stdout",
          "text": [
            "  * Average training loss: 0.65\n",
            "  * Training epoch took: 0:00:28\n",
            "Running Validation...\n",
            "  * Validation Accuracy: 0.73\n",
            "  * Validation loss: 0.80\n",
            "  * Validation F1 score: 0.66\n",
            "  * Validation took: 0:00:02\n",
            "PREVIOUS BEST EVAL:0.7433035714285714\n"
          ]
        },
        {
          "output_type": "stream",
          "name": "stderr",
          "text": [
            "Training (epoch 17): 100%|██████████| 25/25 [00:27<00:00,  1.12s/batch]\n"
          ]
        },
        {
          "output_type": "stream",
          "name": "stdout",
          "text": [
            "  * Average training loss: 0.62\n",
            "  * Training epoch took: 0:00:28\n",
            "Running Validation...\n",
            "  * Validation Accuracy: 0.71\n",
            "  * Validation loss: 0.82\n",
            "  * Validation F1 score: 0.63\n",
            "  * Validation took: 0:00:02\n",
            "PREVIOUS BEST EVAL:0.7433035714285714\n"
          ]
        },
        {
          "output_type": "stream",
          "name": "stderr",
          "text": [
            "Training (epoch 18): 100%|██████████| 25/25 [00:27<00:00,  1.12s/batch]\n"
          ]
        },
        {
          "output_type": "stream",
          "name": "stdout",
          "text": [
            "  * Average training loss: 0.58\n",
            "  * Training epoch took: 0:00:28\n",
            "Running Validation...\n",
            "  * Validation Accuracy: 0.74\n",
            "  * Validation loss: 0.77\n",
            "  * Validation F1 score: 0.67\n",
            "  * Validation took: 0:00:02\n",
            "PREVIOUS BEST EVAL:0.7433035714285714\n"
          ]
        },
        {
          "output_type": "stream",
          "name": "stderr",
          "text": [
            "Training (epoch 19): 100%|██████████| 25/25 [00:27<00:00,  1.12s/batch]\n"
          ]
        },
        {
          "output_type": "stream",
          "name": "stdout",
          "text": [
            "  * Average training loss: 0.57\n",
            "  * Training epoch took: 0:00:28\n",
            "Running Validation...\n",
            "  * Validation Accuracy: 0.73\n",
            "  * Validation loss: 0.77\n",
            "  * Validation F1 score: 0.66\n",
            "  * Validation took: 0:00:02\n",
            "PREVIOUS BEST EVAL:0.7433035714285714\n"
          ]
        },
        {
          "output_type": "stream",
          "name": "stderr",
          "text": [
            "Training (epoch 20): 100%|██████████| 25/25 [00:27<00:00,  1.12s/batch]\n"
          ]
        },
        {
          "output_type": "stream",
          "name": "stdout",
          "text": [
            "  * Average training loss: 0.53\n",
            "  * Training epoch took: 0:00:28\n",
            "Running Validation...\n",
            "  * Validation Accuracy: 0.58\n",
            "  * Validation loss: 0.84\n",
            "  * Validation F1 score: 0.66\n",
            "  * Validation took: 0:00:02\n",
            "PREVIOUS BEST EVAL:0.7433035714285714\n"
          ]
        },
        {
          "output_type": "stream",
          "name": "stderr",
          "text": [
            "Training (epoch 21): 100%|██████████| 25/25 [00:27<00:00,  1.12s/batch]\n"
          ]
        },
        {
          "output_type": "stream",
          "name": "stdout",
          "text": [
            "  * Average training loss: 0.50\n",
            "  * Training epoch took: 0:00:28\n",
            "Running Validation...\n",
            "  * Validation Accuracy: 0.59\n",
            "  * Validation loss: 0.93\n",
            "  * Validation F1 score: 0.66\n",
            "  * Validation took: 0:00:02\n",
            "PREVIOUS BEST EVAL:0.7433035714285714\n"
          ]
        },
        {
          "output_type": "stream",
          "name": "stderr",
          "text": [
            "Training (epoch 22): 100%|██████████| 25/25 [00:27<00:00,  1.12s/batch]\n"
          ]
        },
        {
          "output_type": "stream",
          "name": "stdout",
          "text": [
            "  * Average training loss: 0.49\n",
            "  * Training epoch took: 0:00:28\n",
            "Running Validation...\n",
            "  * Validation Accuracy: 0.59\n",
            "  * Validation loss: 0.95\n",
            "  * Validation F1 score: 0.66\n",
            "  * Validation took: 0:00:02\n",
            "PREVIOUS BEST EVAL:0.7433035714285714\n"
          ]
        },
        {
          "output_type": "stream",
          "name": "stderr",
          "text": [
            "Training (epoch 23): 100%|██████████| 25/25 [00:27<00:00,  1.12s/batch]\n"
          ]
        },
        {
          "output_type": "stream",
          "name": "stdout",
          "text": [
            "  * Average training loss: 0.45\n",
            "  * Training epoch took: 0:00:28\n",
            "Running Validation...\n",
            "  * Validation Accuracy: 0.60\n",
            "  * Validation loss: 0.96\n",
            "  * Validation F1 score: 0.66\n",
            "  * Validation took: 0:00:02\n",
            "PREVIOUS BEST EVAL:0.7433035714285714\n"
          ]
        },
        {
          "output_type": "stream",
          "name": "stderr",
          "text": [
            "Training (epoch 24): 100%|██████████| 25/25 [00:27<00:00,  1.12s/batch]\n"
          ]
        },
        {
          "output_type": "stream",
          "name": "stdout",
          "text": [
            "  * Average training loss: 0.45\n",
            "  * Training epoch took: 0:00:28\n",
            "Running Validation...\n",
            "  * Validation Accuracy: 0.57\n",
            "  * Validation loss: 1.02\n",
            "  * Validation F1 score: 0.65\n",
            "  * Validation took: 0:00:02\n",
            "PREVIOUS BEST EVAL:0.7433035714285714\n"
          ]
        },
        {
          "output_type": "stream",
          "name": "stderr",
          "text": [
            "Training (epoch 25): 100%|██████████| 25/25 [00:27<00:00,  1.12s/batch]\n"
          ]
        },
        {
          "output_type": "stream",
          "name": "stdout",
          "text": [
            "  * Average training loss: 0.41\n",
            "  * Training epoch took: 0:00:28\n",
            "Running Validation...\n",
            "  * Validation Accuracy: 0.60\n",
            "  * Validation loss: 1.00\n",
            "  * Validation F1 score: 0.67\n",
            "  * Validation took: 0:00:02\n",
            "PREVIOUS BEST EVAL:0.7433035714285714\n"
          ]
        },
        {
          "output_type": "stream",
          "name": "stderr",
          "text": [
            "Training (epoch 26): 100%|██████████| 25/25 [00:27<00:00,  1.12s/batch]\n"
          ]
        },
        {
          "output_type": "stream",
          "name": "stdout",
          "text": [
            "  * Average training loss: 0.39\n",
            "  * Training epoch took: 0:00:28\n",
            "Running Validation...\n",
            "  * Validation Accuracy: 0.58\n",
            "  * Validation loss: 1.05\n",
            "  * Validation F1 score: 0.66\n",
            "  * Validation took: 0:00:02\n",
            "PREVIOUS BEST EVAL:0.7433035714285714\n"
          ]
        },
        {
          "output_type": "stream",
          "name": "stderr",
          "text": [
            "Training (epoch 27): 100%|██████████| 25/25 [00:27<00:00,  1.12s/batch]\n"
          ]
        },
        {
          "output_type": "stream",
          "name": "stdout",
          "text": [
            "  * Average training loss: 0.38\n",
            "  * Training epoch took: 0:00:28\n",
            "Running Validation...\n",
            "  * Validation Accuracy: 0.59\n",
            "  * Validation loss: 1.02\n",
            "  * Validation F1 score: 0.67\n",
            "  * Validation took: 0:00:02\n",
            "PREVIOUS BEST EVAL:0.7433035714285714\n"
          ]
        },
        {
          "output_type": "stream",
          "name": "stderr",
          "text": [
            "Training (epoch 28): 100%|██████████| 25/25 [00:27<00:00,  1.12s/batch]\n"
          ]
        },
        {
          "output_type": "stream",
          "name": "stdout",
          "text": [
            "  * Average training loss: 0.36\n",
            "  * Training epoch took: 0:00:28\n",
            "Running Validation...\n",
            "  * Validation Accuracy: 0.59\n",
            "  * Validation loss: 1.05\n",
            "  * Validation F1 score: 0.67\n",
            "  * Validation took: 0:00:02\n",
            "PREVIOUS BEST EVAL:0.7433035714285714\n"
          ]
        },
        {
          "output_type": "stream",
          "name": "stderr",
          "text": [
            "Training (epoch 29): 100%|██████████| 25/25 [00:27<00:00,  1.12s/batch]\n"
          ]
        },
        {
          "output_type": "stream",
          "name": "stdout",
          "text": [
            "  * Average training loss: 0.34\n",
            "  * Training epoch took: 0:00:28\n",
            "Running Validation...\n",
            "  * Validation Accuracy: 0.59\n",
            "  * Validation loss: 1.08\n",
            "  * Validation F1 score: 0.67\n",
            "  * Validation took: 0:00:02\n",
            "PREVIOUS BEST EVAL:0.7433035714285714\n"
          ]
        },
        {
          "output_type": "stream",
          "name": "stderr",
          "text": [
            "Training (epoch 30): 100%|██████████| 25/25 [00:27<00:00,  1.12s/batch]\n"
          ]
        },
        {
          "output_type": "stream",
          "name": "stdout",
          "text": [
            "  * Average training loss: 0.34\n",
            "  * Training epoch took: 0:00:28\n",
            "Running Validation...\n",
            "  * Validation Accuracy: 0.58\n",
            "  * Validation loss: 1.10\n",
            "  * Validation F1 score: 0.66\n",
            "  * Validation took: 0:00:02\n",
            "PREVIOUS BEST EVAL:0.7433035714285714\n"
          ]
        },
        {
          "output_type": "stream",
          "name": "stderr",
          "text": [
            "Training (epoch 31): 100%|██████████| 25/25 [00:27<00:00,  1.12s/batch]\n"
          ]
        },
        {
          "output_type": "stream",
          "name": "stdout",
          "text": [
            "  * Average training loss: 0.32\n",
            "  * Training epoch took: 0:00:28\n",
            "Running Validation...\n",
            "  * Validation Accuracy: 0.57\n",
            "  * Validation loss: 1.14\n",
            "  * Validation F1 score: 0.65\n",
            "  * Validation took: 0:00:02\n",
            "PREVIOUS BEST EVAL:0.7433035714285714\n"
          ]
        },
        {
          "output_type": "stream",
          "name": "stderr",
          "text": [
            "Training (epoch 32): 100%|██████████| 25/25 [00:27<00:00,  1.12s/batch]\n"
          ]
        },
        {
          "output_type": "stream",
          "name": "stdout",
          "text": [
            "  * Average training loss: 0.32\n",
            "  * Training epoch took: 0:00:28\n",
            "Running Validation...\n",
            "  * Validation Accuracy: 0.57\n",
            "  * Validation loss: 1.13\n",
            "  * Validation F1 score: 0.65\n",
            "  * Validation took: 0:00:02\n",
            "PREVIOUS BEST EVAL:0.7433035714285714\n"
          ]
        },
        {
          "output_type": "stream",
          "name": "stderr",
          "text": [
            "Training (epoch 33): 100%|██████████| 25/25 [00:27<00:00,  1.12s/batch]\n"
          ]
        },
        {
          "output_type": "stream",
          "name": "stdout",
          "text": [
            "  * Average training loss: 0.31\n",
            "  * Training epoch took: 0:00:28\n",
            "Running Validation...\n",
            "  * Validation Accuracy: 0.58\n",
            "  * Validation loss: 1.13\n",
            "  * Validation F1 score: 0.65\n",
            "  * Validation took: 0:00:02\n",
            "PREVIOUS BEST EVAL:0.7433035714285714\n"
          ]
        },
        {
          "output_type": "stream",
          "name": "stderr",
          "text": [
            "Training (epoch 34): 100%|██████████| 25/25 [00:27<00:00,  1.12s/batch]\n"
          ]
        },
        {
          "output_type": "stream",
          "name": "stdout",
          "text": [
            "  * Average training loss: 0.28\n",
            "  * Training epoch took: 0:00:28\n",
            "Running Validation...\n",
            "  * Validation Accuracy: 0.58\n",
            "  * Validation loss: 1.13\n",
            "  * Validation F1 score: 0.65\n",
            "  * Validation took: 0:00:02\n",
            "PREVIOUS BEST EVAL:0.7433035714285714\n"
          ]
        },
        {
          "output_type": "stream",
          "name": "stderr",
          "text": [
            "Training (epoch 35): 100%|██████████| 25/25 [00:27<00:00,  1.12s/batch]\n"
          ]
        },
        {
          "output_type": "stream",
          "name": "stdout",
          "text": [
            "  * Average training loss: 0.27\n",
            "  * Training epoch took: 0:00:28\n",
            "Running Validation...\n",
            "  * Validation Accuracy: 0.58\n",
            "  * Validation loss: 1.13\n",
            "  * Validation F1 score: 0.66\n",
            "  * Validation took: 0:00:02\n",
            "PREVIOUS BEST EVAL:0.7433035714285714\n"
          ]
        },
        {
          "output_type": "stream",
          "name": "stderr",
          "text": [
            "Training (epoch 36): 100%|██████████| 25/25 [00:27<00:00,  1.12s/batch]\n"
          ]
        },
        {
          "output_type": "stream",
          "name": "stdout",
          "text": [
            "  * Average training loss: 0.27\n",
            "  * Training epoch took: 0:00:28\n",
            "Running Validation...\n",
            "  * Validation Accuracy: 0.59\n",
            "  * Validation loss: 1.14\n",
            "  * Validation F1 score: 0.67\n",
            "  * Validation took: 0:00:02\n",
            "PREVIOUS BEST EVAL:0.7433035714285714\n"
          ]
        },
        {
          "output_type": "stream",
          "name": "stderr",
          "text": [
            "Training (epoch 37): 100%|██████████| 25/25 [00:27<00:00,  1.12s/batch]\n"
          ]
        },
        {
          "output_type": "stream",
          "name": "stdout",
          "text": [
            "  * Average training loss: 0.26\n",
            "  * Training epoch took: 0:00:28\n",
            "Running Validation...\n",
            "  * Validation Accuracy: 0.59\n",
            "  * Validation loss: 1.16\n",
            "  * Validation F1 score: 0.67\n",
            "  * Validation took: 0:00:02\n",
            "PREVIOUS BEST EVAL:0.7433035714285714\n"
          ]
        },
        {
          "output_type": "stream",
          "name": "stderr",
          "text": [
            "Training (epoch 38): 100%|██████████| 25/25 [00:27<00:00,  1.12s/batch]\n"
          ]
        },
        {
          "output_type": "stream",
          "name": "stdout",
          "text": [
            "  * Average training loss: 0.25\n",
            "  * Training epoch took: 0:00:28\n",
            "Running Validation...\n",
            "  * Validation Accuracy: 0.59\n",
            "  * Validation loss: 1.16\n",
            "  * Validation F1 score: 0.67\n",
            "  * Validation took: 0:00:02\n",
            "PREVIOUS BEST EVAL:0.7433035714285714\n"
          ]
        },
        {
          "output_type": "stream",
          "name": "stderr",
          "text": [
            "Training (epoch 39): 100%|██████████| 25/25 [00:27<00:00,  1.12s/batch]\n"
          ]
        },
        {
          "output_type": "stream",
          "name": "stdout",
          "text": [
            "  * Average training loss: 0.25\n",
            "  * Training epoch took: 0:00:28\n",
            "Running Validation...\n",
            "  * Validation Accuracy: 0.58\n",
            "  * Validation loss: 1.19\n",
            "  * Validation F1 score: 0.66\n",
            "  * Validation took: 0:00:02\n",
            "PREVIOUS BEST EVAL:0.7433035714285714\n"
          ]
        },
        {
          "output_type": "stream",
          "name": "stderr",
          "text": [
            "Training (epoch 40): 100%|██████████| 25/25 [00:27<00:00,  1.12s/batch]\n"
          ]
        },
        {
          "output_type": "stream",
          "name": "stdout",
          "text": [
            "  * Average training loss: 0.29\n",
            "  * Training epoch took: 0:00:28\n",
            "Running Validation...\n",
            "  * Validation Accuracy: 0.58\n",
            "  * Validation loss: 1.20\n",
            "  * Validation F1 score: 0.66\n",
            "  * Validation took: 0:00:02\n",
            "PREVIOUS BEST EVAL:0.7433035714285714\n"
          ]
        },
        {
          "output_type": "stream",
          "name": "stderr",
          "text": [
            "Training (epoch 41): 100%|██████████| 25/25 [00:27<00:00,  1.12s/batch]\n"
          ]
        },
        {
          "output_type": "stream",
          "name": "stdout",
          "text": [
            "  * Average training loss: 0.24\n",
            "  * Training epoch took: 0:00:28\n",
            "Running Validation...\n",
            "  * Validation Accuracy: 0.58\n",
            "  * Validation loss: 1.21\n",
            "  * Validation F1 score: 0.65\n",
            "  * Validation took: 0:00:02\n",
            "PREVIOUS BEST EVAL:0.7433035714285714\n"
          ]
        },
        {
          "output_type": "stream",
          "name": "stderr",
          "text": [
            "Training (epoch 42): 100%|██████████| 25/25 [00:27<00:00,  1.12s/batch]\n"
          ]
        },
        {
          "output_type": "stream",
          "name": "stdout",
          "text": [
            "  * Average training loss: 0.23\n",
            "  * Training epoch took: 0:00:28\n",
            "Running Validation...\n",
            "  * Validation Accuracy: 0.58\n",
            "  * Validation loss: 1.22\n",
            "  * Validation F1 score: 0.65\n",
            "  * Validation took: 0:00:02\n",
            "PREVIOUS BEST EVAL:0.7433035714285714\n"
          ]
        },
        {
          "output_type": "stream",
          "name": "stderr",
          "text": [
            "Training (epoch 43): 100%|██████████| 25/25 [00:27<00:00,  1.12s/batch]\n"
          ]
        },
        {
          "output_type": "stream",
          "name": "stdout",
          "text": [
            "  * Average training loss: 0.25\n",
            "  * Training epoch took: 0:00:28\n",
            "Running Validation...\n",
            "  * Validation Accuracy: 0.58\n",
            "  * Validation loss: 1.23\n",
            "  * Validation F1 score: 0.65\n",
            "  * Validation took: 0:00:02\n",
            "PREVIOUS BEST EVAL:0.7433035714285714\n"
          ]
        },
        {
          "output_type": "stream",
          "name": "stderr",
          "text": [
            "Training (epoch 44): 100%|██████████| 25/25 [00:27<00:00,  1.12s/batch]\n"
          ]
        },
        {
          "output_type": "stream",
          "name": "stdout",
          "text": [
            "  * Average training loss: 0.22\n",
            "  * Training epoch took: 0:00:28\n",
            "Running Validation...\n",
            "  * Validation Accuracy: 0.57\n",
            "  * Validation loss: 1.24\n",
            "  * Validation F1 score: 0.64\n",
            "  * Validation took: 0:00:02\n",
            "PREVIOUS BEST EVAL:0.7433035714285714\n"
          ]
        },
        {
          "output_type": "stream",
          "name": "stderr",
          "text": [
            "Training (epoch 45): 100%|██████████| 25/25 [00:27<00:00,  1.12s/batch]\n"
          ]
        },
        {
          "output_type": "stream",
          "name": "stdout",
          "text": [
            "  * Average training loss: 0.22\n",
            "  * Training epoch took: 0:00:28\n",
            "Running Validation...\n",
            "  * Validation Accuracy: 0.58\n",
            "  * Validation loss: 1.24\n",
            "  * Validation F1 score: 0.65\n",
            "  * Validation took: 0:00:02\n",
            "PREVIOUS BEST EVAL:0.7433035714285714\n"
          ]
        },
        {
          "output_type": "stream",
          "name": "stderr",
          "text": [
            "Training (epoch 46): 100%|██████████| 25/25 [00:27<00:00,  1.12s/batch]\n"
          ]
        },
        {
          "output_type": "stream",
          "name": "stdout",
          "text": [
            "  * Average training loss: 0.22\n",
            "  * Training epoch took: 0:00:28\n",
            "Running Validation...\n",
            "  * Validation Accuracy: 0.57\n",
            "  * Validation loss: 1.24\n",
            "  * Validation F1 score: 0.65\n",
            "  * Validation took: 0:00:02\n",
            "PREVIOUS BEST EVAL:0.7433035714285714\n"
          ]
        },
        {
          "output_type": "stream",
          "name": "stderr",
          "text": [
            "Training (epoch 47): 100%|██████████| 25/25 [00:27<00:00,  1.12s/batch]\n"
          ]
        },
        {
          "output_type": "stream",
          "name": "stdout",
          "text": [
            "  * Average training loss: 0.23\n",
            "  * Training epoch took: 0:00:28\n",
            "Running Validation...\n",
            "  * Validation Accuracy: 0.57\n",
            "  * Validation loss: 1.25\n",
            "  * Validation F1 score: 0.65\n",
            "  * Validation took: 0:00:02\n",
            "PREVIOUS BEST EVAL:0.7433035714285714\n"
          ]
        },
        {
          "output_type": "stream",
          "name": "stderr",
          "text": [
            "Training (epoch 48): 100%|██████████| 25/25 [00:27<00:00,  1.12s/batch]\n"
          ]
        },
        {
          "output_type": "stream",
          "name": "stdout",
          "text": [
            "  * Average training loss: 0.22\n",
            "  * Training epoch took: 0:00:28\n",
            "Running Validation...\n",
            "  * Validation Accuracy: 0.57\n",
            "  * Validation loss: 1.25\n",
            "  * Validation F1 score: 0.65\n",
            "  * Validation took: 0:00:02\n",
            "PREVIOUS BEST EVAL:0.7433035714285714\n"
          ]
        },
        {
          "output_type": "stream",
          "name": "stderr",
          "text": [
            "Training (epoch 49): 100%|██████████| 25/25 [00:27<00:00,  1.12s/batch]\n"
          ]
        },
        {
          "output_type": "stream",
          "name": "stdout",
          "text": [
            "  * Average training loss: 0.22\n",
            "  * Training epoch took: 0:00:28\n",
            "Running Validation...\n",
            "  * Validation Accuracy: 0.57\n",
            "  * Validation loss: 1.25\n",
            "  * Validation F1 score: 0.65\n",
            "  * Validation took: 0:00:02\n",
            "PREVIOUS BEST EVAL:0.7433035714285714\n"
          ]
        },
        {
          "output_type": "stream",
          "name": "stderr",
          "text": [
            "Training (epoch 50): 100%|██████████| 25/25 [00:28<00:00,  1.12s/batch]\n"
          ]
        },
        {
          "output_type": "stream",
          "name": "stdout",
          "text": [
            "  * Average training loss: 0.21\n",
            "  * Training epoch took: 0:00:28\n",
            "Running Validation...\n",
            "  * Validation Accuracy: 0.57\n",
            "  * Validation loss: 1.25\n",
            "  * Validation F1 score: 0.65\n",
            "  * Validation took: 0:00:02\n",
            "PREVIOUS BEST EVAL:0.7433035714285714\n",
            "Training complete!\n"
          ]
        }
      ],
      "source": [
        "# About 2-3 seconds per epoch using GPU\n",
        "model_eval = train_model(\n",
        "    model  = model,\n",
        "    epochs = 50,\n",
        "    train_dataloader = bert_train_dataloader,\n",
        "    validation_dataloader = bert_validation_dataloader\n",
        ")"
      ]
    },
    {
      "cell_type": "markdown",
      "source": [
        "### Training Plots"
      ],
      "metadata": {
        "id": "SXKg9FIEqXEf"
      }
    },
    {
      "cell_type": "code",
      "execution_count": 26,
      "metadata": {
        "id": "j-zghlV928l8"
      },
      "outputs": [],
      "source": [
        "%matplotlib inline\n",
        "import matplotlib.pyplot as plt\n",
        "import seaborn as sns\n",
        "\n",
        "def plot_loss_and_acc(loss_vals, eval_accs):\n",
        "    sns.set(style='darkgrid')\n",
        "    sns.set(font_scale=1.5)\n",
        "    plt.rcParams[\"figure.figsize\"] = (12,6)\n",
        "    fig, ax1 = plt.subplots(1,1)\n",
        "    ax1.plot(loss_vals, 'b-o', label = 'training loss')\n",
        "    ax2 = ax1.twinx()\n",
        "    ax2.plot(eval_accs, 'y-o', label = 'validation accuracy')\n",
        "    ax2.set_title(\"Training loss and validation accuracy\")\n",
        "    ax2.set_xlabel(\"Epoch\")\n",
        "    ax1.set_ylabel(\"Loss\", color='b')\n",
        "    ax2.set_ylabel(\"Accuracy\", color='y')\n",
        "    ax1.tick_params(axis='y', rotation=0, labelcolor='b' )\n",
        "    ax2.tick_params(axis='y', rotation=0, labelcolor='y' )\n",
        "    plt.show()\n",
        "\n",
        "def plot_loss(train_loss, valid_loss):\n",
        "    # Use plot styling from seaborn.\n",
        "    sns.set(style='darkgrid')\n",
        "    sns.set(font_scale=1.5)\n",
        "    plt.rcParams[\"figure.figsize\"] = (12,6)\n",
        "    plt.plot(train_loss, 'b-o', label=\"Training\")\n",
        "    plt.plot(valid_loss, 'g-o', label=\"Validation\")\n",
        "    plt.title(\"Training & Validation Loss\")\n",
        "    plt.xlabel(\"Epoch\")\n",
        "    plt.ylabel(\"Loss\")\n",
        "    plt.legend()\n",
        "    plt.show()\n",
        "\n",
        "def plot_acc_and_f1(eval_accs, f1):\n",
        "    sns.set(style='darkgrid')\n",
        "    sns.set(font_scale=1.5)\n",
        "    plt.rcParams[\"figure.figsize\"] = (12,6)\n",
        "    fig, ax1 = plt.subplots(1,1)\n",
        "    ax1.plot(f1, 'g-o', label = 'training loss')\n",
        "    ax2 = ax1.twinx()\n",
        "    ax2.plot(eval_accs, 'k-o', label = 'validation accuracy')\n",
        "    ax2.set_title(\"F1 score and Validation accuracy\")\n",
        "    ax2.set_xlabel(\"Epoch\")\n",
        "    ax1.set_ylabel(\"F1 score\", color='g')\n",
        "    ax2.set_ylabel(\"Accuracy\", color='k')\n",
        "    ax1.tick_params(axis='y', rotation=0, labelcolor='g' )\n",
        "    ax2.tick_params(axis='y', rotation=0, labelcolor='k' )\n",
        "    plt.show()\n"
      ]
    },
    {
      "cell_type": "code",
      "execution_count": 27,
      "metadata": {
        "id": "vSZOHRrb28l8",
        "colab": {
          "base_uri": "https://localhost:8080/",
          "height": 405
        },
        "outputId": "a62ed270-c76e-4c52-b3c8-61f5d7484183"
      },
      "outputs": [
        {
          "output_type": "display_data",
          "data": {
            "text/plain": [
              "<Figure size 864x432 with 2 Axes>"
            ],
            "image/png": "[encoded data removed]"
          },
          "metadata": {}
        }
      ],
      "source": [
        "plot_loss_and_acc(model_eval[\"train_loss\"], model_eval[\"valid_accs\"])"
      ]
    },
    {
      "cell_type": "code",
      "source": [
        "plot_loss(model_eval[\"train_loss\"], model_eval[\"valid_loss\"])"
      ],
      "metadata": {
        "colab": {
          "base_uri": "https://localhost:8080/",
          "height": 427
        },
        "id": "uUB-l4V-TpJh",
        "outputId": "8e43332e-1aab-4aa1-9c6c-12cb35e17980"
      },
      "execution_count": 28,
      "outputs": [
        {
          "output_type": "display_data",
          "data": {
            "text/plain": [
              "<Figure size 864x432 with 1 Axes>"
            ],
            "image/png": "[encoded data removed]"
          },
          "metadata": {}
        }
      ]
    },
    {
      "cell_type": "code",
      "source": [
        "plot_acc_and_f1(model_eval[\"valid_accs\"], model_eval[\"f1\"])"
      ],
      "metadata": {
        "colab": {
          "base_uri": "https://localhost:8080/",
          "height": 165
        },
        "id": "Z4dZbQ63Tqh_",
        "outputId": "ddac7b39-45f9-40c4-d47a-09625b07bd24"
      },
      "execution_count": 29,
      "outputs": [
        {
          "output_type": "error",
          "ename": "KeyError",
          "evalue": "ignored",
          "traceback": [
            "\u001b[0;31m---------------------------------------------------------------------------\u001b[0m",
            "\u001b[0;31mKeyError\u001b[0m                                  Traceback (most recent call last)",
            "\u001b[0;32m<ipython-input-29-2021ae2931f5>\u001b[0m in \u001b[0;36m<module>\u001b[0;34m()\u001b[0m\n\u001b[0;32m----> 1\u001b[0;31m \u001b[0mplot_acc_and_f1\u001b[0m\u001b[0;34m(\u001b[0m\u001b[0mmodel_eval\u001b[0m\u001b[0;34m[\u001b[0m\u001b[0;34m\"valid_accs\"\u001b[0m\u001b[0;34m]\u001b[0m\u001b[0;34m,\u001b[0m \u001b[0mmodel_eval\u001b[0m\u001b[0;34m[\u001b[0m\u001b[0;34m\"f1\"\u001b[0m\u001b[0;34m]\u001b[0m\u001b[0;34m)\u001b[0m\u001b[0;34m\u001b[0m\u001b[0;34m\u001b[0m\u001b[0m\n\u001b[0m",
            "\u001b[0;31mKeyError\u001b[0m: 'f1'"
          ]
        }
      ]
    },
    {
      "cell_type": "code",
      "source": [
        "import json\n",
        "with open('BERT-W2V-metrics.json', 'w') as f:\n",
        "  json.dump(model_eval, f)"
      ],
      "metadata": {
        "id": "WbVeyragOqWD"
      },
      "execution_count": null,
      "outputs": []
    },
    {
      "cell_type": "markdown",
      "source": [
        "## Model Predictions"
      ],
      "metadata": {
        "id": "LEp0my0_qbDp"
      }
    },
    {
      "cell_type": "code",
      "source": [
        "import torch \n",
        "import torch.nn as nn\n",
        "from transformers import AutoTokenizer\n",
        "from gensim.models import Word2Vec\n",
        "pretrained = \"bert-base-cased\"\n",
        "bert_tokenizer = AutoTokenizer.from_pretrained(pretrained)\n"
      ],
      "metadata": {
        "id": "oVzJCENkWZlY"
      },
      "execution_count": null,
      "outputs": []
    },
    {
      "cell_type": "code",
      "execution_count": null,
      "metadata": {
        "id": "dliLwY3L28l9"
      },
      "outputs": [],
      "source": [
        "def predict(inputs, inputs_w2v, tokenizer, model):\n",
        "  with torch.no_grad():\n",
        "    max_len = max([len(tokenizer(datapoint)['input_ids']) for datapoint in inputs])\n",
        "    tokenized_inputs = tokenizer(\n",
        "      inputs.tolist(),          # Input text\n",
        "      add_special_tokens=True,  # add '[CLS]' and '[SEP]'\n",
        "      padding='max_length',     # pad to a length specified by the max_length\n",
        "      max_length=max_len,       # truncate all sentences longer than max_length\n",
        "      return_tensors='pt',      # return everything we need as PyTorch tensors\n",
        "    )\n",
        "    output = model(input_ids = tokenized_inputs['input_ids'],\n",
        "                   w2v_embeds = inputs_w2v)\n",
        "    output = nn.functional.softmax(output[0], dim = 1).detach().numpy()\n",
        "    output = output.argmax(axis = 1)\n",
        "  return output"
      ]
    },
    {
      "cell_type": "code",
      "source": [
        "# data\n",
        "df = pd.DataFrame({\n",
        "    'msgs' : [\"gachiBASS Clap gachiBASS Clap gachiBASS Clap gachiBASS Clap\", \"i actually hate you FeelsBadMan\", \"OMEGALUL SO BAD\", \"test input test wow\", \"new wowowei\"]\n",
        "})\n",
        "\n",
        "# load and train w2v then get embeds\n",
        "#w2v_model = Word2Vec.load('w2v_labeled.model')\n",
        "messages_w2v = [message.split(' ') for message in df.msgs] \n",
        "w2v_model.build_vocab(messages_w2v, update = True) # update w2v vocab\n",
        "w2v_model.train(messages_w2v, total_examples = len(messages_w2v), epochs = w2v_model.epochs)\n",
        "messages_w2v = torch.Tensor([w2v_model.wv[message].sum(axis = 0) for message in messages_w2v])\n",
        "\n",
        "# prediction\n",
        "model.to(\"cpu\")\n",
        "pred = predict(df.msgs, messages_w2v, bert_tokenizer, model)"
      ],
      "metadata": {
        "id": "_ew_AqJyKqCl"
      },
      "execution_count": null,
      "outputs": []
    },
    {
      "cell_type": "code",
      "source": [
        "pred"
      ],
      "metadata": {
        "colab": {
          "base_uri": "https://localhost:8080/"
        },
        "id": "4MppJUY3Z_sX",
        "outputId": "dacc8996-a4d0-4daa-eaec-1adc3208eb54"
      },
      "execution_count": null,
      "outputs": [
        {
          "output_type": "execute_result",
          "data": {
            "text/plain": [
              "array([2, 0, 0, 1, 2])"
            ]
          },
          "metadata": {},
          "execution_count": 33
        }
      ]
    },
    {
      "cell_type": "code",
      "source": [
        "# If predict script included\n",
        "!python3 predict.py bert-base-cased .\\\\weights\\\\curr w2v_labeled.model \"S OMEGALUL BAD\""
      ],
      "metadata": {
        "id": "9PTKNccoYdsI",
        "colab": {
          "base_uri": "https://localhost:8080/"
        },
        "outputId": "de447649-0b65-47fb-b4d1-1d21a6d7cb5e"
      },
      "execution_count": null,
      "outputs": [
        {
          "output_type": "stream",
          "name": "stdout",
          "text": [
            "predict.py:77: UserWarning: Creating a tensor from a list of numpy.ndarrays is extremely slow. Please consider converting the list to a single numpy.ndarray with numpy.array() before converting to a tensor. (Triggered internally at  ../torch/csrc/utils/tensor_new.cpp:201.)\n",
            "  messages_w2v = torch.Tensor([w2v_model.wv[message].sum(axis = 0) for message in messages_w2v]) # get w2v embeds\n",
            "Negative\n"
          ]
        }
      ]
    },
    {
      "cell_type": "code",
      "source": [
        ""
      ],
      "metadata": {
        "id": "CcZ-dTuIbVU3"
      },
      "execution_count": null,
      "outputs": []
    }
  ],
  "metadata": {
    "accelerator": "GPU",
    "colab": {
      "collapsed_sections": [],
      "name": "BERT-W2V-Augmentation.ipynb",
      "provenance": []
    },
    "kernelspec": {
      "display_name": "Python 3",
      "language": "python",
      "name": "python3"
    },
    "language_info": {
      "codemirror_mode": {
        "name": "ipython",
        "version": 3
      },
      "file_extension": ".py",
      "mimetype": "text/x-python",
      "name": "python",
      "nbconvert_exporter": "python",
      "pygments_lexer": "ipython3",
      "version": "3.8.5"
    },
    "widgets": {
      "application/vnd.jupyter.widget-state+json": {
        "eba2b72a661d4eda87621cd3ff186d5e": {
          "model_module": "@jupyter-widgets/controls",
          "model_name": "HBoxModel",
          "model_module_version": "1.5.0",
          "state": {
            "_dom_classes": [],
            "_model_module": "@jupyter-widgets/controls",
            "_model_module_version": "1.5.0",
            "_model_name": "HBoxModel",
            "_view_count": null,
            "_view_module": "@jupyter-widgets/controls",
            "_view_module_version": "1.5.0",
            "_view_name": "HBoxView",
            "box_style": "",
            "children": [
              "IPY_MODEL_70981547f56847e2b1cd1c240e213874",
              "IPY_MODEL_a994ef24439943d88e9a70607eb93315",
              "IPY_MODEL_adbba4223b3d4ddebcab03a3a08e25ff"
            ],
            "layout": "IPY_MODEL_3da467c264d34bc6a0fb953ca3b7004a"
          }
        },
        "70981547f56847e2b1cd1c240e213874": {
          "model_module": "@jupyter-widgets/controls",
          "model_name": "HTMLModel",
          "model_module_version": "1.5.0",
          "state": {
            "_dom_classes": [],
            "_model_module": "@jupyter-widgets/controls",
            "_model_module_version": "1.5.0",
            "_model_name": "HTMLModel",
            "_view_count": null,
            "_view_module": "@jupyter-widgets/controls",
            "_view_module_version": "1.5.0",
            "_view_name": "HTMLView",
            "description": "",
            "description_tooltip": null,
            "layout": "IPY_MODEL_ee606a9c9c9f44758363573196c0acef",
            "placeholder": "​",
            "style": "IPY_MODEL_05185ce817494158903d706fd20045ba",
            "value": "Downloading: 100%"
          }
        },
        "a994ef24439943d88e9a70607eb93315": {
          "model_module": "@jupyter-widgets/controls",
          "model_name": "FloatProgressModel",
          "model_module_version": "1.5.0",
          "state": {
            "_dom_classes": [],
            "_model_module": "@jupyter-widgets/controls",
            "_model_module_version": "1.5.0",
            "_model_name": "FloatProgressModel",
            "_view_count": null,
            "_view_module": "@jupyter-widgets/controls",
            "_view_module_version": "1.5.0",
            "_view_name": "ProgressView",
            "bar_style": "success",
            "description": "",
            "description_tooltip": null,
            "layout": "IPY_MODEL_a80f8ebfcc5f492092a6225dfe2c5123",
            "max": 29,
            "min": 0,
            "orientation": "horizontal",
            "style": "IPY_MODEL_442d049fe86044a282efac753ad49d63",
            "value": 29
          }
        },
        "adbba4223b3d4ddebcab03a3a08e25ff": {
          "model_module": "@jupyter-widgets/controls",
          "model_name": "HTMLModel",
          "model_module_version": "1.5.0",
          "state": {
            "_dom_classes": [],
            "_model_module": "@jupyter-widgets/controls",
            "_model_module_version": "1.5.0",
            "_model_name": "HTMLModel",
            "_view_count": null,
            "_view_module": "@jupyter-widgets/controls",
            "_view_module_version": "1.5.0",
            "_view_name": "HTMLView",
            "description": "",
            "description_tooltip": null,
            "layout": "IPY_MODEL_add8935c4bf749a08a6e0962c7fd2288",
            "placeholder": "​",
            "style": "IPY_MODEL_32dc6f2ee2fe4029a66bdcea0f3370d2",
            "value": " 29.0/29.0 [00:00&lt;00:00, 781B/s]"
          }
        },
        "3da467c264d34bc6a0fb953ca3b7004a": {
          "model_module": "@jupyter-widgets/base",
          "model_name": "LayoutModel",
          "model_module_version": "1.2.0",
          "state": {
            "_model_module": "@jupyter-widgets/base",
            "_model_module_version": "1.2.0",
            "_model_name": "LayoutModel",
            "_view_count": null,
            "_view_module": "@jupyter-widgets/base",
            "_view_module_version": "1.2.0",
            "_view_name": "LayoutView",
            "align_content": null,
            "align_items": null,
            "align_self": null,
            "border": null,
            "bottom": null,
            "display": null,
            "flex": null,
            "flex_flow": null,
            "grid_area": null,
            "grid_auto_columns": null,
            "grid_auto_flow": null,
            "grid_auto_rows": null,
            "grid_column": null,
            "grid_gap": null,
            "grid_row": null,
            "grid_template_areas": null,
            "grid_template_columns": null,
            "grid_template_rows": null,
            "height": null,
            "justify_content": null,
            "justify_items": null,
            "left": null,
            "margin": null,
            "max_height": null,
            "max_width": null,
            "min_height": null,
            "min_width": null,
            "object_fit": null,
            "object_position": null,
            "order": null,
            "overflow": null,
            "overflow_x": null,
            "overflow_y": null,
            "padding": null,
            "right": null,
            "top": null,
            "visibility": null,
            "width": null
          }
        },
        "ee606a9c9c9f44758363573196c0acef": {
          "model_module": "@jupyter-widgets/base",
          "model_name": "LayoutModel",
          "model_module_version": "1.2.0",
          "state": {
            "_model_module": "@jupyter-widgets/base",
            "_model_module_version": "1.2.0",
            "_model_name": "LayoutModel",
            "_view_count": null,
            "_view_module": "@jupyter-widgets/base",
            "_view_module_version": "1.2.0",
            "_view_name": "LayoutView",
            "align_content": null,
            "align_items": null,
            "align_self": null,
            "border": null,
            "bottom": null,
            "display": null,
            "flex": null,
            "flex_flow": null,
            "grid_area": null,
            "grid_auto_columns": null,
            "grid_auto_flow": null,
            "grid_auto_rows": null,
            "grid_column": null,
            "grid_gap": null,
            "grid_row": null,
            "grid_template_areas": null,
            "grid_template_columns": null,
            "grid_template_rows": null,
            "height": null,
            "justify_content": null,
            "justify_items": null,
            "left": null,
            "margin": null,
            "max_height": null,
            "max_width": null,
            "min_height": null,
            "min_width": null,
            "object_fit": null,
            "object_position": null,
            "order": null,
            "overflow": null,
            "overflow_x": null,
            "overflow_y": null,
            "padding": null,
            "right": null,
            "top": null,
            "visibility": null,
            "width": null
          }
        },
        "05185ce817494158903d706fd20045ba": {
          "model_module": "@jupyter-widgets/controls",
          "model_name": "DescriptionStyleModel",
          "model_module_version": "1.5.0",
          "state": {
            "_model_module": "@jupyter-widgets/controls",
            "_model_module_version": "1.5.0",
            "_model_name": "DescriptionStyleModel",
            "_view_count": null,
            "_view_module": "@jupyter-widgets/base",
            "_view_module_version": "1.2.0",
            "_view_name": "StyleView",
            "description_width": ""
          }
        },
        "a80f8ebfcc5f492092a6225dfe2c5123": {
          "model_module": "@jupyter-widgets/base",
          "model_name": "LayoutModel",
          "model_module_version": "1.2.0",
          "state": {
            "_model_module": "@jupyter-widgets/base",
            "_model_module_version": "1.2.0",
            "_model_name": "LayoutModel",
            "_view_count": null,
            "_view_module": "@jupyter-widgets/base",
            "_view_module_version": "1.2.0",
            "_view_name": "LayoutView",
            "align_content": null,
            "align_items": null,
            "align_self": null,
            "border": null,
            "bottom": null,
            "display": null,
            "flex": null,
            "flex_flow": null,
            "grid_area": null,
            "grid_auto_columns": null,
            "grid_auto_flow": null,
            "grid_auto_rows": null,
            "grid_column": null,
            "grid_gap": null,
            "grid_row": null,
            "grid_template_areas": null,
            "grid_template_columns": null,
            "grid_template_rows": null,
            "height": null,
            "justify_content": null,
            "justify_items": null,
            "left": null,
            "margin": null,
            "max_height": null,
            "max_width": null,
            "min_height": null,
            "min_width": null,
            "object_fit": null,
            "object_position": null,
            "order": null,
            "overflow": null,
            "overflow_x": null,
            "overflow_y": null,
            "padding": null,
            "right": null,
            "top": null,
            "visibility": null,
            "width": null
          }
        },
        "442d049fe86044a282efac753ad49d63": {
          "model_module": "@jupyter-widgets/controls",
          "model_name": "ProgressStyleModel",
          "model_module_version": "1.5.0",
          "state": {
            "_model_module": "@jupyter-widgets/controls",
            "_model_module_version": "1.5.0",
            "_model_name": "ProgressStyleModel",
            "_view_count": null,
            "_view_module": "@jupyter-widgets/base",
            "_view_module_version": "1.2.0",
            "_view_name": "StyleView",
            "bar_color": null,
            "description_width": ""
          }
        },
        "add8935c4bf749a08a6e0962c7fd2288": {
          "model_module": "@jupyter-widgets/base",
          "model_name": "LayoutModel",
          "model_module_version": "1.2.0",
          "state": {
            "_model_module": "@jupyter-widgets/base",
            "_model_module_version": "1.2.0",
            "_model_name": "LayoutModel",
            "_view_count": null,
            "_view_module": "@jupyter-widgets/base",
            "_view_module_version": "1.2.0",
            "_view_name": "LayoutView",
            "align_content": null,
            "align_items": null,
            "align_self": null,
            "border": null,
            "bottom": null,
            "display": null,
            "flex": null,
            "flex_flow": null,
            "grid_area": null,
            "grid_auto_columns": null,
            "grid_auto_flow": null,
            "grid_auto_rows": null,
            "grid_column": null,
            "grid_gap": null,
            "grid_row": null,
            "grid_template_areas": null,
            "grid_template_columns": null,
            "grid_template_rows": null,
            "height": null,
            "justify_content": null,
            "justify_items": null,
            "left": null,
            "margin": null,
            "max_height": null,
            "max_width": null,
            "min_height": null,
            "min_width": null,
            "object_fit": null,
            "object_position": null,
            "order": null,
            "overflow": null,
            "overflow_x": null,
            "overflow_y": null,
            "padding": null,
            "right": null,
            "top": null,
            "visibility": null,
            "width": null
          }
        },
        "32dc6f2ee2fe4029a66bdcea0f3370d2": {
          "model_module": "@jupyter-widgets/controls",
          "model_name": "DescriptionStyleModel",
          "model_module_version": "1.5.0",
          "state": {
            "_model_module": "@jupyter-widgets/controls",
            "_model_module_version": "1.5.0",
            "_model_name": "DescriptionStyleModel",
            "_view_count": null,
            "_view_module": "@jupyter-widgets/base",
            "_view_module_version": "1.2.0",
            "_view_name": "StyleView",
            "description_width": ""
          }
        },
        "128f1a0dd4b14b83b89dcf8563adda2f": {
          "model_module": "@jupyter-widgets/controls",
          "model_name": "HBoxModel",
          "model_module_version": "1.5.0",
          "state": {
            "_dom_classes": [],
            "_model_module": "@jupyter-widgets/controls",
            "_model_module_version": "1.5.0",
            "_model_name": "HBoxModel",
            "_view_count": null,
            "_view_module": "@jupyter-widgets/controls",
            "_view_module_version": "1.5.0",
            "_view_name": "HBoxView",
            "box_style": "",
            "children": [
              "IPY_MODEL_f94814aeecb64064a98e5a4b699f8905",
              "IPY_MODEL_8979cd0f49cf48bba457fda346286482",
              "IPY_MODEL_8c555477a380459b9ce9b75119f0778d"
            ],
            "layout": "IPY_MODEL_4f0031493030435e9342634a7f006f1f"
          }
        },
        "f94814aeecb64064a98e5a4b699f8905": {
          "model_module": "@jupyter-widgets/controls",
          "model_name": "HTMLModel",
          "model_module_version": "1.5.0",
          "state": {
            "_dom_classes": [],
            "_model_module": "@jupyter-widgets/controls",
            "_model_module_version": "1.5.0",
            "_model_name": "HTMLModel",
            "_view_count": null,
            "_view_module": "@jupyter-widgets/controls",
            "_view_module_version": "1.5.0",
            "_view_name": "HTMLView",
            "description": "",
            "description_tooltip": null,
            "layout": "IPY_MODEL_e420818c0e9e4d5f93b5adbd89b39dbd",
            "placeholder": "​",
            "style": "IPY_MODEL_e9d4542ee38b418e9bf607cf2bdc8bf8",
            "value": "Downloading: 100%"
          }
        },
        "8979cd0f49cf48bba457fda346286482": {
          "model_module": "@jupyter-widgets/controls",
          "model_name": "FloatProgressModel",
          "model_module_version": "1.5.0",
          "state": {
            "_dom_classes": [],
            "_model_module": "@jupyter-widgets/controls",
            "_model_module_version": "1.5.0",
            "_model_name": "FloatProgressModel",
            "_view_count": null,
            "_view_module": "@jupyter-widgets/controls",
            "_view_module_version": "1.5.0",
            "_view_name": "ProgressView",
            "bar_style": "success",
            "description": "",
            "description_tooltip": null,
            "layout": "IPY_MODEL_779398f2209f4423b86529c859d40bb2",
            "max": 570,
            "min": 0,
            "orientation": "horizontal",
            "style": "IPY_MODEL_d8fea8a076c44cbcaa22cfa4cdbed970",
            "value": 570
          }
        },
        "8c555477a380459b9ce9b75119f0778d": {
          "model_module": "@jupyter-widgets/controls",
          "model_name": "HTMLModel",
          "model_module_version": "1.5.0",
          "state": {
            "_dom_classes": [],
            "_model_module": "@jupyter-widgets/controls",
            "_model_module_version": "1.5.0",
            "_model_name": "HTMLModel",
            "_view_count": null,
            "_view_module": "@jupyter-widgets/controls",
            "_view_module_version": "1.5.0",
            "_view_name": "HTMLView",
            "description": "",
            "description_tooltip": null,
            "layout": "IPY_MODEL_6134604d9eb54450b091b939b6c8d71f",
            "placeholder": "​",
            "style": "IPY_MODEL_e5d1a1b0b6674898b8d04629ffa7df68",
            "value": " 570/570 [00:00&lt;00:00, 17.6kB/s]"
          }
        },
        "4f0031493030435e9342634a7f006f1f": {
          "model_module": "@jupyter-widgets/base",
          "model_name": "LayoutModel",
          "model_module_version": "1.2.0",
          "state": {
            "_model_module": "@jupyter-widgets/base",
            "_model_module_version": "1.2.0",
            "_model_name": "LayoutModel",
            "_view_count": null,
            "_view_module": "@jupyter-widgets/base",
            "_view_module_version": "1.2.0",
            "_view_name": "LayoutView",
            "align_content": null,
            "align_items": null,
            "align_self": null,
            "border": null,
            "bottom": null,
            "display": null,
            "flex": null,
            "flex_flow": null,
            "grid_area": null,
            "grid_auto_columns": null,
            "grid_auto_flow": null,
            "grid_auto_rows": null,
            "grid_column": null,
            "grid_gap": null,
            "grid_row": null,
            "grid_template_areas": null,
            "grid_template_columns": null,
            "grid_template_rows": null,
            "height": null,
            "justify_content": null,
            "justify_items": null,
            "left": null,
            "margin": null,
            "max_height": null,
            "max_width": null,
            "min_height": null,
            "min_width": null,
            "object_fit": null,
            "object_position": null,
            "order": null,
            "overflow": null,
            "overflow_x": null,
            "overflow_y": null,
            "padding": null,
            "right": null,
            "top": null,
            "visibility": null,
            "width": null
          }
        },
        "e420818c0e9e4d5f93b5adbd89b39dbd": {
          "model_module": "@jupyter-widgets/base",
          "model_name": "LayoutModel",
          "model_module_version": "1.2.0",
          "state": {
            "_model_module": "@jupyter-widgets/base",
            "_model_module_version": "1.2.0",
            "_model_name": "LayoutModel",
            "_view_count": null,
            "_view_module": "@jupyter-widgets/base",
            "_view_module_version": "1.2.0",
            "_view_name": "LayoutView",
            "align_content": null,
            "align_items": null,
            "align_self": null,
            "border": null,
            "bottom": null,
            "display": null,
            "flex": null,
            "flex_flow": null,
            "grid_area": null,
            "grid_auto_columns": null,
            "grid_auto_flow": null,
            "grid_auto_rows": null,
            "grid_column": null,
            "grid_gap": null,
            "grid_row": null,
            "grid_template_areas": null,
            "grid_template_columns": null,
            "grid_template_rows": null,
            "height": null,
            "justify_content": null,
            "justify_items": null,
            "left": null,
            "margin": null,
            "max_height": null,
            "max_width": null,
            "min_height": null,
            "min_width": null,
            "object_fit": null,
            "object_position": null,
            "order": null,
            "overflow": null,
            "overflow_x": null,
            "overflow_y": null,
            "padding": null,
            "right": null,
            "top": null,
            "visibility": null,
            "width": null
          }
        },
        "e9d4542ee38b418e9bf607cf2bdc8bf8": {
          "model_module": "@jupyter-widgets/controls",
          "model_name": "DescriptionStyleModel",
          "model_module_version": "1.5.0",
          "state": {
            "_model_module": "@jupyter-widgets/controls",
            "_model_module_version": "1.5.0",
            "_model_name": "DescriptionStyleModel",
            "_view_count": null,
            "_view_module": "@jupyter-widgets/base",
            "_view_module_version": "1.2.0",
            "_view_name": "StyleView",
            "description_width": ""
          }
        },
        "779398f2209f4423b86529c859d40bb2": {
          "model_module": "@jupyter-widgets/base",
          "model_name": "LayoutModel",
          "model_module_version": "1.2.0",
          "state": {
            "_model_module": "@jupyter-widgets/base",
            "_model_module_version": "1.2.0",
            "_model_name": "LayoutModel",
            "_view_count": null,
            "_view_module": "@jupyter-widgets/base",
            "_view_module_version": "1.2.0",
            "_view_name": "LayoutView",
            "align_content": null,
            "align_items": null,
            "align_self": null,
            "border": null,
            "bottom": null,
            "display": null,
            "flex": null,
            "flex_flow": null,
            "grid_area": null,
            "grid_auto_columns": null,
            "grid_auto_flow": null,
            "grid_auto_rows": null,
            "grid_column": null,
            "grid_gap": null,
            "grid_row": null,
            "grid_template_areas": null,
            "grid_template_columns": null,
            "grid_template_rows": null,
            "height": null,
            "justify_content": null,
            "justify_items": null,
            "left": null,
            "margin": null,
            "max_height": null,
            "max_width": null,
            "min_height": null,
            "min_width": null,
            "object_fit": null,
            "object_position": null,
            "order": null,
            "overflow": null,
            "overflow_x": null,
            "overflow_y": null,
            "padding": null,
            "right": null,
            "top": null,
            "visibility": null,
            "width": null
          }
        },
        "d8fea8a076c44cbcaa22cfa4cdbed970": {
          "model_module": "@jupyter-widgets/controls",
          "model_name": "ProgressStyleModel",
          "model_module_version": "1.5.0",
          "state": {
            "_model_module": "@jupyter-widgets/controls",
            "_model_module_version": "1.5.0",
            "_model_name": "ProgressStyleModel",
            "_view_count": null,
            "_view_module": "@jupyter-widgets/base",
            "_view_module_version": "1.2.0",
            "_view_name": "StyleView",
            "bar_color": null,
            "description_width": ""
          }
        },
        "6134604d9eb54450b091b939b6c8d71f": {
          "model_module": "@jupyter-widgets/base",
          "model_name": "LayoutModel",
          "model_module_version": "1.2.0",
          "state": {
            "_model_module": "@jupyter-widgets/base",
            "_model_module_version": "1.2.0",
            "_model_name": "LayoutModel",
            "_view_count": null,
            "_view_module": "@jupyter-widgets/base",
            "_view_module_version": "1.2.0",
            "_view_name": "LayoutView",
            "align_content": null,
            "align_items": null,
            "align_self": null,
            "border": null,
            "bottom": null,
            "display": null,
            "flex": null,
            "flex_flow": null,
            "grid_area": null,
            "grid_auto_columns": null,
            "grid_auto_flow": null,
            "grid_auto_rows": null,
            "grid_column": null,
            "grid_gap": null,
            "grid_row": null,
            "grid_template_areas": null,
            "grid_template_columns": null,
            "grid_template_rows": null,
            "height": null,
            "justify_content": null,
            "justify_items": null,
            "left": null,
            "margin": null,
            "max_height": null,
            "max_width": null,
            "min_height": null,
            "min_width": null,
            "object_fit": null,
            "object_position": null,
            "order": null,
            "overflow": null,
            "overflow_x": null,
            "overflow_y": null,
            "padding": null,
            "right": null,
            "top": null,
            "visibility": null,
            "width": null
          }
        },
        "e5d1a1b0b6674898b8d04629ffa7df68": {
          "model_module": "@jupyter-widgets/controls",
          "model_name": "DescriptionStyleModel",
          "model_module_version": "1.5.0",
          "state": {
            "_model_module": "@jupyter-widgets/controls",
            "_model_module_version": "1.5.0",
            "_model_name": "DescriptionStyleModel",
            "_view_count": null,
            "_view_module": "@jupyter-widgets/base",
            "_view_module_version": "1.2.0",
            "_view_name": "StyleView",
            "description_width": ""
          }
        },
        "5fc9e54fbed04ec78e78ef487bad436a": {
          "model_module": "@jupyter-widgets/controls",
          "model_name": "HBoxModel",
          "model_module_version": "1.5.0",
          "state": {
            "_dom_classes": [],
            "_model_module": "@jupyter-widgets/controls",
            "_model_module_version": "1.5.0",
            "_model_name": "HBoxModel",
            "_view_count": null,
            "_view_module": "@jupyter-widgets/controls",
            "_view_module_version": "1.5.0",
            "_view_name": "HBoxView",
            "box_style": "",
            "children": [
              "IPY_MODEL_8fe32dfd07e14f07af0a7eae5d608347",
              "IPY_MODEL_9d0ffbf2a5014642923da0066c128184",
              "IPY_MODEL_4e78d25e4f264f33a233a8c2067c7d43"
            ],
            "layout": "IPY_MODEL_154411c7e8ff45dd8511e9faba2b9cd7"
          }
        },
        "8fe32dfd07e14f07af0a7eae5d608347": {
          "model_module": "@jupyter-widgets/controls",
          "model_name": "HTMLModel",
          "model_module_version": "1.5.0",
          "state": {
            "_dom_classes": [],
            "_model_module": "@jupyter-widgets/controls",
            "_model_module_version": "1.5.0",
            "_model_name": "HTMLModel",
            "_view_count": null,
            "_view_module": "@jupyter-widgets/controls",
            "_view_module_version": "1.5.0",
            "_view_name": "HTMLView",
            "description": "",
            "description_tooltip": null,
            "layout": "IPY_MODEL_b6b0141306ab426484f8b414c8740401",
            "placeholder": "​",
            "style": "IPY_MODEL_c4b1a95a52264ccbbdf623aa72bcfb1b",
            "value": "Downloading: 100%"
          }
        },
        "9d0ffbf2a5014642923da0066c128184": {
          "model_module": "@jupyter-widgets/controls",
          "model_name": "FloatProgressModel",
          "model_module_version": "1.5.0",
          "state": {
            "_dom_classes": [],
            "_model_module": "@jupyter-widgets/controls",
            "_model_module_version": "1.5.0",
            "_model_name": "FloatProgressModel",
            "_view_count": null,
            "_view_module": "@jupyter-widgets/controls",
            "_view_module_version": "1.5.0",
            "_view_name": "ProgressView",
            "bar_style": "success",
            "description": "",
            "description_tooltip": null,
            "layout": "IPY_MODEL_1113e8e861ca48a49dde0b28187fdc24",
            "max": 213450,
            "min": 0,
            "orientation": "horizontal",
            "style": "IPY_MODEL_48fa7f787a014cac9fe5aa025fd217ca",
            "value": 213450
          }
        },
        "4e78d25e4f264f33a233a8c2067c7d43": {
          "model_module": "@jupyter-widgets/controls",
          "model_name": "HTMLModel",
          "model_module_version": "1.5.0",
          "state": {
            "_dom_classes": [],
            "_model_module": "@jupyter-widgets/controls",
            "_model_module_version": "1.5.0",
            "_model_name": "HTMLModel",
            "_view_count": null,
            "_view_module": "@jupyter-widgets/controls",
            "_view_module_version": "1.5.0",
            "_view_name": "HTMLView",
            "description": "",
            "description_tooltip": null,
            "layout": "IPY_MODEL_ae03a6285bf245c8885ba807075e972f",
            "placeholder": "​",
            "style": "IPY_MODEL_23916deeb13d4222a103dfbf88780954",
            "value": " 208k/208k [00:00&lt;00:00, 323kB/s]"
          }
        },
        "154411c7e8ff45dd8511e9faba2b9cd7": {
          "model_module": "@jupyter-widgets/base",
          "model_name": "LayoutModel",
          "model_module_version": "1.2.0",
          "state": {
            "_model_module": "@jupyter-widgets/base",
            "_model_module_version": "1.2.0",
            "_model_name": "LayoutModel",
            "_view_count": null,
            "_view_module": "@jupyter-widgets/base",
            "_view_module_version": "1.2.0",
            "_view_name": "LayoutView",
            "align_content": null,
            "align_items": null,
            "align_self": null,
            "border": null,
            "bottom": null,
            "display": null,
            "flex": null,
            "flex_flow": null,
            "grid_area": null,
            "grid_auto_columns": null,
            "grid_auto_flow": null,
            "grid_auto_rows": null,
            "grid_column": null,
            "grid_gap": null,
            "grid_row": null,
            "grid_template_areas": null,
            "grid_template_columns": null,
            "grid_template_rows": null,
            "height": null,
            "justify_content": null,
            "justify_items": null,
            "left": null,
            "margin": null,
            "max_height": null,
            "max_width": null,
            "min_height": null,
            "min_width": null,
            "object_fit": null,
            "object_position": null,
            "order": null,
            "overflow": null,
            "overflow_x": null,
            "overflow_y": null,
            "padding": null,
            "right": null,
            "top": null,
            "visibility": null,
            "width": null
          }
        },
        "b6b0141306ab426484f8b414c8740401": {
          "model_module": "@jupyter-widgets/base",
          "model_name": "LayoutModel",
          "model_module_version": "1.2.0",
          "state": {
            "_model_module": "@jupyter-widgets/base",
            "_model_module_version": "1.2.0",
            "_model_name": "LayoutModel",
            "_view_count": null,
            "_view_module": "@jupyter-widgets/base",
            "_view_module_version": "1.2.0",
            "_view_name": "LayoutView",
            "align_content": null,
            "align_items": null,
            "align_self": null,
            "border": null,
            "bottom": null,
            "display": null,
            "flex": null,
            "flex_flow": null,
            "grid_area": null,
            "grid_auto_columns": null,
            "grid_auto_flow": null,
            "grid_auto_rows": null,
            "grid_column": null,
            "grid_gap": null,
            "grid_row": null,
            "grid_template_areas": null,
            "grid_template_columns": null,
            "grid_template_rows": null,
            "height": null,
            "justify_content": null,
            "justify_items": null,
            "left": null,
            "margin": null,
            "max_height": null,
            "max_width": null,
            "min_height": null,
            "min_width": null,
            "object_fit": null,
            "object_position": null,
            "order": null,
            "overflow": null,
            "overflow_x": null,
            "overflow_y": null,
            "padding": null,
            "right": null,
            "top": null,
            "visibility": null,
            "width": null
          }
        },
        "c4b1a95a52264ccbbdf623aa72bcfb1b": {
          "model_module": "@jupyter-widgets/controls",
          "model_name": "DescriptionStyleModel",
          "model_module_version": "1.5.0",
          "state": {
            "_model_module": "@jupyter-widgets/controls",
            "_model_module_version": "1.5.0",
            "_model_name": "DescriptionStyleModel",
            "_view_count": null,
            "_view_module": "@jupyter-widgets/base",
            "_view_module_version": "1.2.0",
            "_view_name": "StyleView",
            "description_width": ""
          }
        },
        "1113e8e861ca48a49dde0b28187fdc24": {
          "model_module": "@jupyter-widgets/base",
          "model_name": "LayoutModel",
          "model_module_version": "1.2.0",
          "state": {
            "_model_module": "@jupyter-widgets/base",
            "_model_module_version": "1.2.0",
            "_model_name": "LayoutModel",
            "_view_count": null,
            "_view_module": "@jupyter-widgets/base",
            "_view_module_version": "1.2.0",
            "_view_name": "LayoutView",
            "align_content": null,
            "align_items": null,
            "align_self": null,
            "border": null,
            "bottom": null,
            "display": null,
            "flex": null,
            "flex_flow": null,
            "grid_area": null,
            "grid_auto_columns": null,
            "grid_auto_flow": null,
            "grid_auto_rows": null,
            "grid_column": null,
            "grid_gap": null,
            "grid_row": null,
            "grid_template_areas": null,
            "grid_template_columns": null,
            "grid_template_rows": null,
            "height": null,
            "justify_content": null,
            "justify_items": null,
            "left": null,
            "margin": null,
            "max_height": null,
            "max_width": null,
            "min_height": null,
            "min_width": null,
            "object_fit": null,
            "object_position": null,
            "order": null,
            "overflow": null,
            "overflow_x": null,
            "overflow_y": null,
            "padding": null,
            "right": null,
            "top": null,
            "visibility": null,
            "width": null
          }
        },
        "48fa7f787a014cac9fe5aa025fd217ca": {
          "model_module": "@jupyter-widgets/controls",
          "model_name": "ProgressStyleModel",
          "model_module_version": "1.5.0",
          "state": {
            "_model_module": "@jupyter-widgets/controls",
            "_model_module_version": "1.5.0",
            "_model_name": "ProgressStyleModel",
            "_view_count": null,
            "_view_module": "@jupyter-widgets/base",
            "_view_module_version": "1.2.0",
            "_view_name": "StyleView",
            "bar_color": null,
            "description_width": ""
          }
        },
        "ae03a6285bf245c8885ba807075e972f": {
          "model_module": "@jupyter-widgets/base",
          "model_name": "LayoutModel",
          "model_module_version": "1.2.0",
          "state": {
            "_model_module": "@jupyter-widgets/base",
            "_model_module_version": "1.2.0",
            "_model_name": "LayoutModel",
            "_view_count": null,
            "_view_module": "@jupyter-widgets/base",
            "_view_module_version": "1.2.0",
            "_view_name": "LayoutView",
            "align_content": null,
            "align_items": null,
            "align_self": null,
            "border": null,
            "bottom": null,
            "display": null,
            "flex": null,
            "flex_flow": null,
            "grid_area": null,
            "grid_auto_columns": null,
            "grid_auto_flow": null,
            "grid_auto_rows": null,
            "grid_column": null,
            "grid_gap": null,
            "grid_row": null,
            "grid_template_areas": null,
            "grid_template_columns": null,
            "grid_template_rows": null,
            "height": null,
            "justify_content": null,
            "justify_items": null,
            "left": null,
            "margin": null,
            "max_height": null,
            "max_width": null,
            "min_height": null,
            "min_width": null,
            "object_fit": null,
            "object_position": null,
            "order": null,
            "overflow": null,
            "overflow_x": null,
            "overflow_y": null,
            "padding": null,
            "right": null,
            "top": null,
            "visibility": null,
            "width": null
          }
        },
        "23916deeb13d4222a103dfbf88780954": {
          "model_module": "@jupyter-widgets/controls",
          "model_name": "DescriptionStyleModel",
          "model_module_version": "1.5.0",
          "state": {
            "_model_module": "@jupyter-widgets/controls",
            "_model_module_version": "1.5.0",
            "_model_name": "DescriptionStyleModel",
            "_view_count": null,
            "_view_module": "@jupyter-widgets/base",
            "_view_module_version": "1.2.0",
            "_view_name": "StyleView",
            "description_width": ""
          }
        },
        "77fed6719c3e426582cadf85ad145926": {
          "model_module": "@jupyter-widgets/controls",
          "model_name": "HBoxModel",
          "model_module_version": "1.5.0",
          "state": {
            "_dom_classes": [],
            "_model_module": "@jupyter-widgets/controls",
            "_model_module_version": "1.5.0",
            "_model_name": "HBoxModel",
            "_view_count": null,
            "_view_module": "@jupyter-widgets/controls",
            "_view_module_version": "1.5.0",
            "_view_name": "HBoxView",
            "box_style": "",
            "children": [
              "IPY_MODEL_43708ec6825e42af901c97a4cf1520f4",
              "IPY_MODEL_8c70b34de22d4ad1aa789c5adf31eb8f",
              "IPY_MODEL_bb6a68e502604418ba694ac9deb3b7a8"
            ],
            "layout": "IPY_MODEL_1f99c74a5996476ea52e92cb8c19433e"
          }
        },
        "43708ec6825e42af901c97a4cf1520f4": {
          "model_module": "@jupyter-widgets/controls",
          "model_name": "HTMLModel",
          "model_module_version": "1.5.0",
          "state": {
            "_dom_classes": [],
            "_model_module": "@jupyter-widgets/controls",
            "_model_module_version": "1.5.0",
            "_model_name": "HTMLModel",
            "_view_count": null,
            "_view_module": "@jupyter-widgets/controls",
            "_view_module_version": "1.5.0",
            "_view_name": "HTMLView",
            "description": "",
            "description_tooltip": null,
            "layout": "IPY_MODEL_8339b5c5b33e4ea4bd6e3b14d9d89009",
            "placeholder": "​",
            "style": "IPY_MODEL_f388c31ee3bb47ea8c091154eacca3a4",
            "value": "Downloading: 100%"
          }
        },
        "8c70b34de22d4ad1aa789c5adf31eb8f": {
          "model_module": "@jupyter-widgets/controls",
          "model_name": "FloatProgressModel",
          "model_module_version": "1.5.0",
          "state": {
            "_dom_classes": [],
            "_model_module": "@jupyter-widgets/controls",
            "_model_module_version": "1.5.0",
            "_model_name": "FloatProgressModel",
            "_view_count": null,
            "_view_module": "@jupyter-widgets/controls",
            "_view_module_version": "1.5.0",
            "_view_name": "ProgressView",
            "bar_style": "success",
            "description": "",
            "description_tooltip": null,
            "layout": "IPY_MODEL_056dfdf14a6842b698c08b719445c918",
            "max": 435797,
            "min": 0,
            "orientation": "horizontal",
            "style": "IPY_MODEL_95364e9ce585427fab06b086aa553f05",
            "value": 435797
          }
        },
        "bb6a68e502604418ba694ac9deb3b7a8": {
          "model_module": "@jupyter-widgets/controls",
          "model_name": "HTMLModel",
          "model_module_version": "1.5.0",
          "state": {
            "_dom_classes": [],
            "_model_module": "@jupyter-widgets/controls",
            "_model_module_version": "1.5.0",
            "_model_name": "HTMLModel",
            "_view_count": null,
            "_view_module": "@jupyter-widgets/controls",
            "_view_module_version": "1.5.0",
            "_view_name": "HTMLView",
            "description": "",
            "description_tooltip": null,
            "layout": "IPY_MODEL_74963ab99bfd4cd1a8214a3beac669eb",
            "placeholder": "​",
            "style": "IPY_MODEL_2a1afefc04c7496484852a576eeb6762",
            "value": " 426k/426k [00:00&lt;00:00, 376kB/s]"
          }
        },
        "1f99c74a5996476ea52e92cb8c19433e": {
          "model_module": "@jupyter-widgets/base",
          "model_name": "LayoutModel",
          "model_module_version": "1.2.0",
          "state": {
            "_model_module": "@jupyter-widgets/base",
            "_model_module_version": "1.2.0",
            "_model_name": "LayoutModel",
            "_view_count": null,
            "_view_module": "@jupyter-widgets/base",
            "_view_module_version": "1.2.0",
            "_view_name": "LayoutView",
            "align_content": null,
            "align_items": null,
            "align_self": null,
            "border": null,
            "bottom": null,
            "display": null,
            "flex": null,
            "flex_flow": null,
            "grid_area": null,
            "grid_auto_columns": null,
            "grid_auto_flow": null,
            "grid_auto_rows": null,
            "grid_column": null,
            "grid_gap": null,
            "grid_row": null,
            "grid_template_areas": null,
            "grid_template_columns": null,
            "grid_template_rows": null,
            "height": null,
            "justify_content": null,
            "justify_items": null,
            "left": null,
            "margin": null,
            "max_height": null,
            "max_width": null,
            "min_height": null,
            "min_width": null,
            "object_fit": null,
            "object_position": null,
            "order": null,
            "overflow": null,
            "overflow_x": null,
            "overflow_y": null,
            "padding": null,
            "right": null,
            "top": null,
            "visibility": null,
            "width": null
          }
        },
        "8339b5c5b33e4ea4bd6e3b14d9d89009": {
          "model_module": "@jupyter-widgets/base",
          "model_name": "LayoutModel",
          "model_module_version": "1.2.0",
          "state": {
            "_model_module": "@jupyter-widgets/base",
            "_model_module_version": "1.2.0",
            "_model_name": "LayoutModel",
            "_view_count": null,
            "_view_module": "@jupyter-widgets/base",
            "_view_module_version": "1.2.0",
            "_view_name": "LayoutView",
            "align_content": null,
            "align_items": null,
            "align_self": null,
            "border": null,
            "bottom": null,
            "display": null,
            "flex": null,
            "flex_flow": null,
            "grid_area": null,
            "grid_auto_columns": null,
            "grid_auto_flow": null,
            "grid_auto_rows": null,
            "grid_column": null,
            "grid_gap": null,
            "grid_row": null,
            "grid_template_areas": null,
            "grid_template_columns": null,
            "grid_template_rows": null,
            "height": null,
            "justify_content": null,
            "justify_items": null,
            "left": null,
            "margin": null,
            "max_height": null,
            "max_width": null,
            "min_height": null,
            "min_width": null,
            "object_fit": null,
            "object_position": null,
            "order": null,
            "overflow": null,
            "overflow_x": null,
            "overflow_y": null,
            "padding": null,
            "right": null,
            "top": null,
            "visibility": null,
            "width": null
          }
        },
        "f388c31ee3bb47ea8c091154eacca3a4": {
          "model_module": "@jupyter-widgets/controls",
          "model_name": "DescriptionStyleModel",
          "model_module_version": "1.5.0",
          "state": {
            "_model_module": "@jupyter-widgets/controls",
            "_model_module_version": "1.5.0",
            "_model_name": "DescriptionStyleModel",
            "_view_count": null,
            "_view_module": "@jupyter-widgets/base",
            "_view_module_version": "1.2.0",
            "_view_name": "StyleView",
            "description_width": ""
          }
        },
        "056dfdf14a6842b698c08b719445c918": {
          "model_module": "@jupyter-widgets/base",
          "model_name": "LayoutModel",
          "model_module_version": "1.2.0",
          "state": {
            "_model_module": "@jupyter-widgets/base",
            "_model_module_version": "1.2.0",
            "_model_name": "LayoutModel",
            "_view_count": null,
            "_view_module": "@jupyter-widgets/base",
            "_view_module_version": "1.2.0",
            "_view_name": "LayoutView",
            "align_content": null,
            "align_items": null,
            "align_self": null,
            "border": null,
            "bottom": null,
            "display": null,
            "flex": null,
            "flex_flow": null,
            "grid_area": null,
            "grid_auto_columns": null,
            "grid_auto_flow": null,
            "grid_auto_rows": null,
            "grid_column": null,
            "grid_gap": null,
            "grid_row": null,
            "grid_template_areas": null,
            "grid_template_columns": null,
            "grid_template_rows": null,
            "height": null,
            "justify_content": null,
            "justify_items": null,
            "left": null,
            "margin": null,
            "max_height": null,
            "max_width": null,
            "min_height": null,
            "min_width": null,
            "object_fit": null,
            "object_position": null,
            "order": null,
            "overflow": null,
            "overflow_x": null,
            "overflow_y": null,
            "padding": null,
            "right": null,
            "top": null,
            "visibility": null,
            "width": null
          }
        },
        "95364e9ce585427fab06b086aa553f05": {
          "model_module": "@jupyter-widgets/controls",
          "model_name": "ProgressStyleModel",
          "model_module_version": "1.5.0",
          "state": {
            "_model_module": "@jupyter-widgets/controls",
            "_model_module_version": "1.5.0",
            "_model_name": "ProgressStyleModel",
            "_view_count": null,
            "_view_module": "@jupyter-widgets/base",
            "_view_module_version": "1.2.0",
            "_view_name": "StyleView",
            "bar_color": null,
            "description_width": ""
          }
        },
        "74963ab99bfd4cd1a8214a3beac669eb": {
          "model_module": "@jupyter-widgets/base",
          "model_name": "LayoutModel",
          "model_module_version": "1.2.0",
          "state": {
            "_model_module": "@jupyter-widgets/base",
            "_model_module_version": "1.2.0",
            "_model_name": "LayoutModel",
            "_view_count": null,
            "_view_module": "@jupyter-widgets/base",
            "_view_module_version": "1.2.0",
            "_view_name": "LayoutView",
            "align_content": null,
            "align_items": null,
            "align_self": null,
            "border": null,
            "bottom": null,
            "display": null,
            "flex": null,
            "flex_flow": null,
            "grid_area": null,
            "grid_auto_columns": null,
            "grid_auto_flow": null,
            "grid_auto_rows": null,
            "grid_column": null,
            "grid_gap": null,
            "grid_row": null,
            "grid_template_areas": null,
            "grid_template_columns": null,
            "grid_template_rows": null,
            "height": null,
            "justify_content": null,
            "justify_items": null,
            "left": null,
            "margin": null,
            "max_height": null,
            "max_width": null,
            "min_height": null,
            "min_width": null,
            "object_fit": null,
            "object_position": null,
            "order": null,
            "overflow": null,
            "overflow_x": null,
            "overflow_y": null,
            "padding": null,
            "right": null,
            "top": null,
            "visibility": null,
            "width": null
          }
        },
        "2a1afefc04c7496484852a576eeb6762": {
          "model_module": "@jupyter-widgets/controls",
          "model_name": "DescriptionStyleModel",
          "model_module_version": "1.5.0",
          "state": {
            "_model_module": "@jupyter-widgets/controls",
            "_model_module_version": "1.5.0",
            "_model_name": "DescriptionStyleModel",
            "_view_count": null,
            "_view_module": "@jupyter-widgets/base",
            "_view_module_version": "1.2.0",
            "_view_name": "StyleView",
            "description_width": ""
          }
        },
        "9e107c5500d94692ac902ceb7a0922f3": {
          "model_module": "@jupyter-widgets/controls",
          "model_name": "HBoxModel",
          "model_module_version": "1.5.0",
          "state": {
            "_dom_classes": [],
            "_model_module": "@jupyter-widgets/controls",
            "_model_module_version": "1.5.0",
            "_model_name": "HBoxModel",
            "_view_count": null,
            "_view_module": "@jupyter-widgets/controls",
            "_view_module_version": "1.5.0",
            "_view_name": "HBoxView",
            "box_style": "",
            "children": [
              "IPY_MODEL_81bf4c39b85c4040913a8d5def2fd30a",
              "IPY_MODEL_287af92282634996bf9451c73e01e86e",
              "IPY_MODEL_9ba361b379664f4f9e440cad144f0605"
            ],
            "layout": "IPY_MODEL_d4f1226ade01483db7509c14c0d40040"
          }
        },
        "81bf4c39b85c4040913a8d5def2fd30a": {
          "model_module": "@jupyter-widgets/controls",
          "model_name": "HTMLModel",
          "model_module_version": "1.5.0",
          "state": {
            "_dom_classes": [],
            "_model_module": "@jupyter-widgets/controls",
            "_model_module_version": "1.5.0",
            "_model_name": "HTMLModel",
            "_view_count": null,
            "_view_module": "@jupyter-widgets/controls",
            "_view_module_version": "1.5.0",
            "_view_name": "HTMLView",
            "description": "",
            "description_tooltip": null,
            "layout": "IPY_MODEL_1b42a39c3c83460c8bf1807075889e60",
            "placeholder": "​",
            "style": "IPY_MODEL_20244a46a83944a39143d7bc4b1356e1",
            "value": "Downloading: 100%"
          }
        },
        "287af92282634996bf9451c73e01e86e": {
          "model_module": "@jupyter-widgets/controls",
          "model_name": "FloatProgressModel",
          "model_module_version": "1.5.0",
          "state": {
            "_dom_classes": [],
            "_model_module": "@jupyter-widgets/controls",
            "_model_module_version": "1.5.0",
            "_model_name": "FloatProgressModel",
            "_view_count": null,
            "_view_module": "@jupyter-widgets/controls",
            "_view_module_version": "1.5.0",
            "_view_name": "ProgressView",
            "bar_style": "success",
            "description": "",
            "description_tooltip": null,
            "layout": "IPY_MODEL_a4610e2921654faea8ae9960a2f59ed4",
            "max": 435779157,
            "min": 0,
            "orientation": "horizontal",
            "style": "IPY_MODEL_5ef11b81068c4ffabce337b42a55def1",
            "value": 435779157
          }
        },
        "9ba361b379664f4f9e440cad144f0605": {
          "model_module": "@jupyter-widgets/controls",
          "model_name": "HTMLModel",
          "model_module_version": "1.5.0",
          "state": {
            "_dom_classes": [],
            "_model_module": "@jupyter-widgets/controls",
            "_model_module_version": "1.5.0",
            "_model_name": "HTMLModel",
            "_view_count": null,
            "_view_module": "@jupyter-widgets/controls",
            "_view_module_version": "1.5.0",
            "_view_name": "HTMLView",
            "description": "",
            "description_tooltip": null,
            "layout": "IPY_MODEL_f938587f0c124da9a4d4afbcc1c628e6",
            "placeholder": "​",
            "style": "IPY_MODEL_c3f41f86a7b14587bb54625cffdbf2b8",
            "value": " 416M/416M [00:09&lt;00:00, 54.7MB/s]"
          }
        },
        "d4f1226ade01483db7509c14c0d40040": {
          "model_module": "@jupyter-widgets/base",
          "model_name": "LayoutModel",
          "model_module_version": "1.2.0",
          "state": {
            "_model_module": "@jupyter-widgets/base",
            "_model_module_version": "1.2.0",
            "_model_name": "LayoutModel",
            "_view_count": null,
            "_view_module": "@jupyter-widgets/base",
            "_view_module_version": "1.2.0",
            "_view_name": "LayoutView",
            "align_content": null,
            "align_items": null,
            "align_self": null,
            "border": null,
            "bottom": null,
            "display": null,
            "flex": null,
            "flex_flow": null,
            "grid_area": null,
            "grid_auto_columns": null,
            "grid_auto_flow": null,
            "grid_auto_rows": null,
            "grid_column": null,
            "grid_gap": null,
            "grid_row": null,
            "grid_template_areas": null,
            "grid_template_columns": null,
            "grid_template_rows": null,
            "height": null,
            "justify_content": null,
            "justify_items": null,
            "left": null,
            "margin": null,
            "max_height": null,
            "max_width": null,
            "min_height": null,
            "min_width": null,
            "object_fit": null,
            "object_position": null,
            "order": null,
            "overflow": null,
            "overflow_x": null,
            "overflow_y": null,
            "padding": null,
            "right": null,
            "top": null,
            "visibility": null,
            "width": null
          }
        },
        "1b42a39c3c83460c8bf1807075889e60": {
          "model_module": "@jupyter-widgets/base",
          "model_name": "LayoutModel",
          "model_module_version": "1.2.0",
          "state": {
            "_model_module": "@jupyter-widgets/base",
            "_model_module_version": "1.2.0",
            "_model_name": "LayoutModel",
            "_view_count": null,
            "_view_module": "@jupyter-widgets/base",
            "_view_module_version": "1.2.0",
            "_view_name": "LayoutView",
            "align_content": null,
            "align_items": null,
            "align_self": null,
            "border": null,
            "bottom": null,
            "display": null,
            "flex": null,
            "flex_flow": null,
            "grid_area": null,
            "grid_auto_columns": null,
            "grid_auto_flow": null,
            "grid_auto_rows": null,
            "grid_column": null,
            "grid_gap": null,
            "grid_row": null,
            "grid_template_areas": null,
            "grid_template_columns": null,
            "grid_template_rows": null,
            "height": null,
            "justify_content": null,
            "justify_items": null,
            "left": null,
            "margin": null,
            "max_height": null,
            "max_width": null,
            "min_height": null,
            "min_width": null,
            "object_fit": null,
            "object_position": null,
            "order": null,
            "overflow": null,
            "overflow_x": null,
            "overflow_y": null,
            "padding": null,
            "right": null,
            "top": null,
            "visibility": null,
            "width": null
          }
        },
        "20244a46a83944a39143d7bc4b1356e1": {
          "model_module": "@jupyter-widgets/controls",
          "model_name": "DescriptionStyleModel",
          "model_module_version": "1.5.0",
          "state": {
            "_model_module": "@jupyter-widgets/controls",
            "_model_module_version": "1.5.0",
            "_model_name": "DescriptionStyleModel",
            "_view_count": null,
            "_view_module": "@jupyter-widgets/base",
            "_view_module_version": "1.2.0",
            "_view_name": "StyleView",
            "description_width": ""
          }
        },
        "a4610e2921654faea8ae9960a2f59ed4": {
          "model_module": "@jupyter-widgets/base",
          "model_name": "LayoutModel",
          "model_module_version": "1.2.0",
          "state": {
            "_model_module": "@jupyter-widgets/base",
            "_model_module_version": "1.2.0",
            "_model_name": "LayoutModel",
            "_view_count": null,
            "_view_module": "@jupyter-widgets/base",
            "_view_module_version": "1.2.0",
            "_view_name": "LayoutView",
            "align_content": null,
            "align_items": null,
            "align_self": null,
            "border": null,
            "bottom": null,
            "display": null,
            "flex": null,
            "flex_flow": null,
            "grid_area": null,
            "grid_auto_columns": null,
            "grid_auto_flow": null,
            "grid_auto_rows": null,
            "grid_column": null,
            "grid_gap": null,
            "grid_row": null,
            "grid_template_areas": null,
            "grid_template_columns": null,
            "grid_template_rows": null,
            "height": null,
            "justify_content": null,
            "justify_items": null,
            "left": null,
            "margin": null,
            "max_height": null,
            "max_width": null,
            "min_height": null,
            "min_width": null,
            "object_fit": null,
            "object_position": null,
            "order": null,
            "overflow": null,
            "overflow_x": null,
            "overflow_y": null,
            "padding": null,
            "right": null,
            "top": null,
            "visibility": null,
            "width": null
          }
        },
        "5ef11b81068c4ffabce337b42a55def1": {
          "model_module": "@jupyter-widgets/controls",
          "model_name": "ProgressStyleModel",
          "model_module_version": "1.5.0",
          "state": {
            "_model_module": "@jupyter-widgets/controls",
            "_model_module_version": "1.5.0",
            "_model_name": "ProgressStyleModel",
            "_view_count": null,
            "_view_module": "@jupyter-widgets/base",
            "_view_module_version": "1.2.0",
            "_view_name": "StyleView",
            "bar_color": null,
            "description_width": ""
          }
        },
        "f938587f0c124da9a4d4afbcc1c628e6": {
          "model_module": "@jupyter-widgets/base",
          "model_name": "LayoutModel",
          "model_module_version": "1.2.0",
          "state": {
            "_model_module": "@jupyter-widgets/base",
            "_model_module_version": "1.2.0",
            "_model_name": "LayoutModel",
            "_view_count": null,
            "_view_module": "@jupyter-widgets/base",
            "_view_module_version": "1.2.0",
            "_view_name": "LayoutView",
            "align_content": null,
            "align_items": null,
            "align_self": null,
            "border": null,
            "bottom": null,
            "display": null,
            "flex": null,
            "flex_flow": null,
            "grid_area": null,
            "grid_auto_columns": null,
            "grid_auto_flow": null,
            "grid_auto_rows": null,
            "grid_column": null,
            "grid_gap": null,
            "grid_row": null,
            "grid_template_areas": null,
            "grid_template_columns": null,
            "grid_template_rows": null,
            "height": null,
            "justify_content": null,
            "justify_items": null,
            "left": null,
            "margin": null,
            "max_height": null,
            "max_width": null,
            "min_height": null,
            "min_width": null,
            "object_fit": null,
            "object_position": null,
            "order": null,
            "overflow": null,
            "overflow_x": null,
            "overflow_y": null,
            "padding": null,
            "right": null,
            "top": null,
            "visibility": null,
            "width": null
          }
        },
        "c3f41f86a7b14587bb54625cffdbf2b8": {
          "model_module": "@jupyter-widgets/controls",
          "model_name": "DescriptionStyleModel",
          "model_module_version": "1.5.0",
          "state": {
            "_model_module": "@jupyter-widgets/controls",
            "_model_module_version": "1.5.0",
            "_model_name": "DescriptionStyleModel",
            "_view_count": null,
            "_view_module": "@jupyter-widgets/base",
            "_view_module_version": "1.2.0",
            "_view_name": "StyleView",
            "description_width": ""
          }
        }
      }
    }
  },
  "nbformat": 4,
  "nbformat_minor": 0
}