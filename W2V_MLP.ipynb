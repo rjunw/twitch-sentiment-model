{
  "cells": [
    {
      "cell_type": "markdown",
      "metadata": {
        "id": "00GDvCJucnpv"
      },
      "source": [
        "# Install HuggingFace Transformers package with the pretrained BERT models\n",
        "\n"
      ]
    },
    {
      "cell_type": "code",
      "execution_count": null,
      "metadata": {
        "id": "7AIe26NRcuYZ"
      },
      "outputs": [],
      "source": [
        "!pip install --upgrade transformers emoji datasets gensim\n",
        "!pip install wget"
      ]
    },
    {
      "cell_type": "markdown",
      "metadata": {
        "id": "Ntdi6Jep44G2"
      },
      "source": [
        "# Import necessary packages"
      ]
    },
    {
      "cell_type": "code",
      "execution_count": null,
      "metadata": {
        "id": "D3rE2WMH5-oB"
      },
      "outputs": [],
      "source": [
        "import sys\n",
        "import os\n",
        "import pandas as pd\n",
        "import numpy as np\n",
        "import random\n",
        "import torch \n",
        "import torch.nn as nn"
      ]
    },
    {
      "cell_type": "markdown",
      "metadata": {
        "id": "4PFUHtDp6FMu"
      },
      "source": [
        "# Runtime environment setup"
      ]
    },
    {
      "cell_type": "code",
      "execution_count": null,
      "metadata": {
        "colab": {
          "base_uri": "https://localhost:8080/"
        },
        "id": "bkGc79g2c3DL",
        "outputId": "6112fbb5-b0ca-4c04-d884-72c895fb2f23"
      },
      "outputs": [
        {
          "name": "stdout",
          "output_type": "stream",
          "text": [
            "cuda\n"
          ]
        }
      ],
      "source": [
        "SEED = 42\n",
        "\n",
        "torch.manual_seed(SEED)\n",
        "torch.cuda.manual_seed_all(SEED)\n",
        "torch.backends.cudnn.deterministic = True\n",
        "torch.backends.cudnn.benchmark = False\n",
        "np.random.seed(SEED)\n",
        "random.seed(SEED)\n",
        "os.environ['PYTHONHASHSEED'] = str(SEED)\n",
        "\n",
        "device = torch.device(\"cuda\" if torch.cuda.is_available() else \"cpu\")\n",
        "print(device)"
      ]
    },
    {
      "cell_type": "markdown",
      "metadata": {
        "id": "McMxFa1MQi_Y"
      },
      "source": [
        "# Utility functions"
      ]
    },
    {
      "cell_type": "markdown",
      "metadata": {
        "id": "uowKTzkr6pkj"
      },
      "source": [
        "# Loading Twitch dataset"
      ]
    },
    {
      "cell_type": "code",
      "execution_count": null,
      "metadata": {
        "id": "dlO6Ywyf28l1"
      },
      "outputs": [],
      "source": [
        "from sklearn.model_selection import train_test_split\n",
        "import torch\n",
        "from torch.utils.data import TensorDataset, DataLoader, RandomSampler, SequentialSampler\n",
        "from gensim.models import Word2Vec\n",
        "\n",
        "def train_valid_split_w2v(input_ids, input_w2v, attention_masks, labels, batch_size=32):\n",
        "    \"\"\"\n",
        "    Create DataLoader objects for downstream training\n",
        "    \"\"\"\n",
        "    # Use 80% for training and 20% for validation.\n",
        "    train_inputs, validation_inputs, train_w2v, validation_w2v, train_masks, validation_masks, train_labels, validation_labels = train_test_split(\n",
        "        input_ids, input_w2v, attention_masks, labels, random_state=SEED, test_size=0.2, stratify=labels\n",
        "    )\n",
        "\n",
        "    print('example train_input:    ', train_inputs[0])\n",
        "    print('example attention_mask: ', train_masks[0])\n",
        "\n",
        "    train_labels = torch.tensor(train_labels)\n",
        "    validation_labels = torch.tensor(validation_labels)\n",
        "\n",
        "    # Create the DataLoader for our training set.\n",
        "    train_data = TensorDataset(train_inputs, train_w2v, train_masks, train_labels)\n",
        "\n",
        "    train_dataloader = DataLoader(train_data, shuffle=True, batch_size=batch_size)\n",
        "\n",
        "    # Create the DataLoader for our validation set.\n",
        "    validation_data = TensorDataset(validation_inputs, validation_w2v, validation_masks, validation_labels)\n",
        "    validation_dataloader = DataLoader(validation_data, shuffle = False, batch_size=batch_size)\n",
        "\n",
        "    return train_dataloader, validation_dataloader\n",
        "\n",
        "\n",
        "def train_valid_split_w2v_mlp(input_w2v, labels, batch_size=64):\n",
        "    \"\"\"\n",
        "    Create DataLoader objects for MLP baseline\n",
        "    \"\"\"\n",
        "    # Use 80% for training and 20% for validation.\n",
        "    train_w2v, validation_w2v, train_labels, validation_labels = train_test_split(\n",
        "        input_w2v, labels, random_state=SEED, test_size=0.2, stratify=labels\n",
        "    )\n",
        "\n",
        "    print('example train w2v input:    ', train_w2v[0])\n",
        "    print('example label: ', train_labels[0])\n",
        "\n",
        "    train_labels = torch.tensor(train_labels)\n",
        "    validation_labels = torch.tensor(validation_labels)\n",
        "\n",
        "    # Create the DataLoader for our training set.\n",
        "    train_data = TensorDataset(train_w2v, train_labels)\n",
        "\n",
        "    train_dataloader = DataLoader(train_data, shuffle = True, batch_size=batch_size)\n",
        "\n",
        "    # Create the DataLoader for our validation set.\n",
        "    validation_data = TensorDataset(validation_w2v, validation_labels)\n",
        "    validation_dataloader = DataLoader(validation_data, shuffle = False, batch_size=batch_size)\n",
        "\n",
        "    return train_dataloader, validation_dataloader\n",
        "\n",
        "\n",
        "def train_valid_split_w2v_ext(input_ids, input_w2v, ext_w2v, attention_masks, labels, batch_size=32):\n",
        "    \"\"\"\n",
        "    Create DataLoader objects for downstream training\n",
        "    \"\"\"\n",
        "    # Use 80% for training and 20% for validation.\n",
        "    train_inputs, validation_inputs, train_w2v, validation_w2v, train_ext, validation_ext, train_masks, validation_masks, train_labels, validation_labels = train_test_split(\n",
        "        input_ids, input_w2v, ext_w2v, attention_masks, labels, random_state=SEED, test_size=0.2, stratify=labels\n",
        "    )\n",
        "\n",
        "    print('example train_input:    ', train_inputs[0])\n",
        "    print('example attention_mask: ', train_masks[0])\n",
        "\n",
        "    train_labels = torch.tensor(train_labels)\n",
        "    validation_labels = torch.tensor(validation_labels)\n",
        "\n",
        "    # Create the DataLoader for our training set.\n",
        "    train_data = TensorDataset(train_inputs, train_w2v, train_ext, train_masks, train_labels)\n",
        "\n",
        "    train_dataloader = DataLoader(train_data, shuffle=True, batch_size=batch_size)\n",
        "\n",
        "    # Create the DataLoader for our validation set.\n",
        "    validation_data = TensorDataset(validation_inputs, validation_w2v, validation_ext, validation_masks, validation_labels)\n",
        "    validation_dataloader = DataLoader(validation_data, shuffle=False, batch_size=batch_size)\n",
        "\n",
        "    return train_dataloader, validation_dataloader\n",
        "\n",
        "def train_valid_split_ext(input_ids, input_ext, attention_masks, labels, seed, batch_size=32):\n",
        "    \"\"\"\n",
        "    Create DataLoader objects for downstream training\n",
        "    input_ext: any additional embeddings\n",
        "    \"\"\"\n",
        "    # Use 80% for training and 20% for validation.\n",
        "    train_inputs, validation_inputs, train_ext, validation_ext, train_masks, validation_masks, train_labels, validation_labels = train_test_split(\n",
        "        input_ids, input_ext, attention_masks, labels, random_state=seed, test_size=0.2, stratify=labels\n",
        "    )\n",
        "\n",
        "    print('example train_input:    ', train_inputs[0])\n",
        "    print('example attention_mask: ', train_masks[0])\n",
        "\n",
        "    train_labels = torch.tensor(train_labels)\n",
        "    validation_labels = torch.tensor(validation_labels)\n",
        "\n",
        "    # Create the DataLoader for our training set.\n",
        "    train_data = TensorDataset(train_inputs, train_ext, train_masks, train_labels)\n",
        "\n",
        "    train_dataloader = DataLoader(train_data, shuffle=True, batch_size=batch_size)\n",
        "\n",
        "    # Create the DataLoader for our validation set.\n",
        "    validation_data = TensorDataset(validation_inputs, validation_ext, validation_masks, validation_labels)\n",
        "    validation_dataloader = DataLoader(validation_data, shuffle=False, batch_size=batch_size)\n",
        "\n",
        "    return train_dataloader, validation_dataloader\n",
        "\n",
        "\n",
        "def train_valid_split(input_ids, attention_masks, labels, batch_size=32):\n",
        "    # Use 80% for training and 20% for validation.\n",
        "    train_inputs, validation_inputs,  train_masks, validation_masks, train_labels, validation_labels = train_test_split(\n",
        "        input_ids, attention_masks, labels, random_state=SEED, test_size=0.2, stratify=labels\n",
        "    )\n",
        "\n",
        "    print('example train_input:    ', train_inputs[0])\n",
        "    print('example attention_mask: ', train_masks[0])\n",
        "\n",
        "    train_labels = torch.tensor(train_labels)\n",
        "    validation_labels = torch.tensor(validation_labels)\n",
        "\n",
        "    # Create the DataLoader for our training set.\n",
        "    train_data = TensorDataset(train_inputs, train_masks, train_labels)\n",
        "    train_dataloader = DataLoader(train_data, shuffle=True, batch_size=batch_size)\n",
        "\n",
        "    # Create the DataLoader for our validation set.\n",
        "    validation_data = TensorDataset(validation_inputs, validation_masks, validation_labels)\n",
        "    validation_dataloader = DataLoader(validation_data, shuffle=False, batch_size=batch_size)\n",
        "\n",
        "    return train_dataloader, validation_dataloader"
      ]
    },
    {
      "cell_type": "markdown",
      "metadata": {
        "id": "TOWWv7C7Jo0H"
      },
      "source": [
        "# Training functions"
      ]
    },
    {
      "cell_type": "code",
      "execution_count": null,
      "metadata": {
        "id": "QEe1oy0AJdKC"
      },
      "outputs": [],
      "source": [
        "from torch.optim import AdamW\n",
        "import time\n",
        "import datetime\n",
        "from transformers import get_linear_schedule_with_warmup\n",
        "from tqdm import tqdm\n",
        "from sklearn.metrics import f1_score, recall_score\n",
        "\n",
        "def collect_flat_outputs(preds, labels):\n",
        "    pred_flat = np.argmax(preds, axis=1).flatten()\n",
        "    labels_flat = labels.flatten()\n",
        "    return pred_flat, labels_flat\n",
        "    \n",
        "def flat_accuracy(preds, labels):\n",
        "    pred_flat, labels_flat = collect_flat_outputs(preds, labels)\n",
        "    return np.sum(pred_flat == labels_flat) / len(labels_flat)\n",
        "\n",
        "def format_time(elapsed):\n",
        "    elapsed_rounded = int(round((elapsed)))\n",
        "    return str(datetime.timedelta(seconds=elapsed_rounded))\n",
        "\n",
        "def get_optimizer_and_scheduler(model, total_steps, lr=2e-5, weight_decay=0.01):\n",
        "    # Apply weight decay to all parameters beside the biases or LayerNorm weights\n",
        "    no_decay = ['bias', 'LayerNorm.weight']\n",
        "    optimizer_grouped_parameters = [\n",
        "        {\n",
        "            'params': [p for n, p in model.named_parameters() if not any(nd in n for nd in no_decay)],\n",
        "            'weight_decay': weight_decay},\n",
        "        {\n",
        "            'params': [p for n, p in model.named_parameters() if any(nd in n for nd in no_decay)],\n",
        "            'weight_decay': 0.0\n",
        "        }\n",
        "    ]\n",
        "    optimizer = AdamW(model.parameters(), lr=lr)\n",
        "    scheduler = get_linear_schedule_with_warmup(\n",
        "        optimizer,\n",
        "        # Warmup learning rate for first 10% of training steps\n",
        "        num_warmup_steps=int(0.10 * total_steps), \n",
        "        num_training_steps=total_steps,\n",
        "    )\n",
        "    return optimizer, scheduler\n",
        "\n",
        "def train_model(model,\n",
        "                epochs,\n",
        "                train_dataloader,\n",
        "                validation_dataloader,\n",
        "                early_stopping_patience = 10):\n",
        "    # Use GPU, if available\n",
        "    #device = torch.device(\"cuda\" if torch.cuda.is_available() else \"cpu\")\n",
        "    model = model.to(device) # TPU right now\n",
        "\n",
        "    # Setup optimizer and LR scheduler \n",
        "    total_steps = len(train_dataloader) * epochs\n",
        "    optimizer, scheduler = get_optimizer_and_scheduler(\n",
        "        model, total_steps, lr = 2e-5, weight_decay = 0.1\n",
        "    )\n",
        "\n",
        "    eval_metrics = {\n",
        "            'train_loss': [],\n",
        "            'valid_loss': [],\n",
        "            'valid_accs': [],\n",
        "            'f1': [],\n",
        "            'recall': [],\n",
        "            'curr_max' : 0\n",
        "        }\n",
        "\n",
        "    #loss_values = []\n",
        "    #eval_accs = []\n",
        "    curr_max = 0 # current max eval acc\n",
        "    early_stopping_counter = 0\n",
        "\n",
        "    for epoch in range(0, epochs):\n",
        "        t0 = time.time()\n",
        "\n",
        "        total_train_loss = 0\n",
        "        model.train()\n",
        "\n",
        "        # ================== ONE EPOCH TRAINING STARTS =========================\n",
        "        with tqdm(train_dataloader, unit=\"batch\") as train_pbar:\n",
        "            for batch in train_pbar:\n",
        "                train_pbar.set_description(f\"Training (epoch {epoch + 1})\")\n",
        "                b_input_w2v = batch[0].to(device)\n",
        "                b_labels    = batch[1].to(device)\n",
        "                outputs = model(\n",
        "                    input  = b_input_w2v,\n",
        "                    labels = b_labels\n",
        "                )\n",
        "\n",
        "                # The call to `model` always returns a tuple, so we need to pull the \n",
        "                # loss value out of the tuple.\n",
        "                _, loss = outputs\n",
        "\n",
        "                # Accumulate the training loss over all of the batches so that we can\n",
        "                # calculate the average loss at the end. `loss` is a Tensor containing a\n",
        "                # single value; the `.item()` function just returns the Python value \n",
        "                # from the tensor.\n",
        "                total_train_loss += loss.item()\n",
        "\n",
        "                # Perform a backward pass to calculate the gradients.\n",
        "                loss.backward()\n",
        "\n",
        "                # Clip the norm of the gradients to 1.0.\n",
        "                # This is to help prevent the \"exploding gradients\" problem.\n",
        "                torch.nn.utils.clip_grad_norm_(model.parameters(), 1.0)\n",
        "\n",
        "                # Update parameters and take a step using the computed gradient.\n",
        "                # The optimizer dictates the \"update rule\"--how the parameters are\n",
        "                # modified based on their gradients, the learning rate, etc.\n",
        "                optimizer.step()\n",
        "\n",
        "                # Update the learning rate.\n",
        "                scheduler.step()\n",
        "        # =================== ONE EPOCH TRAINING ENDS ==========================\n",
        "\n",
        "        # Calculate the average loss over the training data.\n",
        "        avg_train_loss = total_train_loss / len(train_dataloader)            \n",
        "        \n",
        "        # Store the loss value for plotting the learning curve.\n",
        "        eval_metrics[\"train_loss\"].append(avg_train_loss)\n",
        "\n",
        "        print(\"  * Average training loss: {0:.2f}\".format(avg_train_loss))\n",
        "        print(\"  * Training epoch took: {:}\".format(format_time(time.time() - t0)))\n",
        "            \n",
        "        print(\"Running Validation...\")\n",
        "\n",
        "        t0 = time.time()\n",
        "        model.eval()\n",
        "\n",
        "        eval_loss, eval_accuracy = 0, 0\n",
        "        nb_eval_steps, nb_eval_examples = 0, 0\n",
        "        f1 = 0\n",
        "        epoch_preds, epoch_labels = [], []\n",
        "\n",
        "        # Evaluate data for one epoch\n",
        "        # ================== ONE EPOCH VALIDATING STARTS =======================\n",
        "        for batch in validation_dataloader:\n",
        "            batch = tuple(t.to(device) for t in batch)\n",
        "            b_input_w2v = batch[0]\n",
        "            b_labels    = batch[1]\n",
        "            with torch.no_grad():        \n",
        "                outputs = model(\n",
        "                    input  = b_input_w2v,\n",
        "                    labels = b_labels\n",
        "                )\n",
        "            \n",
        "            # Get the \"logits\" output by the model. The \"logits\" are the output\n",
        "            # values prior to applying an activation function like the softmax.\n",
        "            logits, loss = outputs\n",
        "            # Move logits and labels to CPU\n",
        "            logits = logits.detach().cpu().numpy()\n",
        "            label_ids = b_labels.to('cpu').numpy()\n",
        "            # Calculate the accuracy for this batch of test sentences.\n",
        "            tmp_eval_accuracy = flat_accuracy(logits, label_ids)\n",
        "            # Collect predictions and labels from each validation batch\n",
        "            batch_preds, batch_labels = collect_flat_outputs(logits, label_ids)\n",
        "            epoch_preds.append(batch_preds)\n",
        "            epoch_labels.append(batch_labels)\n",
        "            # Accumulate the total accuracy.\n",
        "            eval_accuracy += tmp_eval_accuracy\n",
        "            # Accumulate the total loss.\n",
        "            eval_loss += loss.item()\n",
        "            # Track the number of batches\n",
        "            nb_eval_steps += 1\n",
        "        # =================== ONE EPOCH VALIDATING ENDS ========================\n",
        "        epoch_preds  = np.concatenate(epoch_preds)\n",
        "        epoch_labels = np.concatenate(epoch_labels)\n",
        "        f1 = f1_score(epoch_preds, epoch_labels, average = 'macro')\n",
        "        recall = recall_score(epoch_preds, epoch_labels, average = 'macro')\n",
        "        avg_eval_acc  = eval_accuracy / nb_eval_steps\n",
        "        avg_eval_loss = eval_loss / nb_eval_steps ## average valid. loss over batches\n",
        "        print(\"  * Accuracy: {0:.2f}\".format(avg_eval_acc))\n",
        "        print(\"  * Averaged validation loss: {0:.2f}\".format(avg_eval_loss))\n",
        "        print(\"  * F1 score: {0:.2f}\".format(f1))\n",
        "        print(\"  * Validation took: {:}\".format(format_time(time.time() - t0)))\n",
        "        eval_metrics[\"valid_accs\"].append(avg_eval_acc)\n",
        "        eval_metrics[\"valid_loss\"].append(avg_eval_loss)\n",
        "        eval_metrics['f1'].append(f1)\n",
        "\n",
        "        print(f\"PREVIOUS BEST EVAL:{curr_max}\")\n",
        "        if avg_eval_acc < curr_max:\n",
        "          early_stopping_counter += 1\n",
        "        else:\n",
        "          curr_max = avg_eval_acc\n",
        "          early_stopping_counter = 0\n",
        "        if early_stopping_counter > early_stopping_patience:\n",
        "            print(\n",
        "                \"Validation accuracy has not improved in {} epochs, stopping early\".format(\n",
        "                    early_stopping_patience\n",
        "                )\n",
        "            )\n",
        "            print(\"Obtained highest validation accuracy of: {}\".format(curr_max))\n",
        "            return eval_metrics\n",
        "        # save max eval model\n",
        "        if max(avg_eval_acc, curr_max) == avg_eval_acc:\n",
        "          curr_max = avg_eval_acc\n",
        "          eval_metrics[\"curr_max\"] = curr_max\n",
        "          try:\n",
        "            os.makedirs(\"./weights/\")\n",
        "          except:\n",
        "            print(\"dir exists\")\n",
        "\n",
        "    print(\"Training complete!\")\n",
        "    return eval_metrics"
      ]
    },
    {
      "cell_type": "markdown",
      "metadata": {
        "id": "a_-x6PsL8SZt"
      },
      "source": [
        "## Download Twitch data"
      ]
    },
    {
      "cell_type": "code",
      "execution_count": null,
      "metadata": {
        "colab": {
          "base_uri": "https://localhost:8080/"
        },
        "id": "43pTspoR6tPJ",
        "outputId": "0dade85e-c3e3-4a47-8708-e9e5e413b046"
      },
      "outputs": [
        {
          "name": "stdout",
          "output_type": "stream",
          "text": [
            "Requirement already satisfied: gitpython in /usr/local/lib/python3.7/dist-packages (3.1.27)\n",
            "Requirement already satisfied: typing-extensions>=3.7.4.3 in /usr/local/lib/python3.7/dist-packages (from gitpython) (4.1.1)\n",
            "Requirement already satisfied: gitdb<5,>=4.0.1 in /usr/local/lib/python3.7/dist-packages (from gitpython) (4.0.9)\n",
            "Requirement already satisfied: smmap<6,>=3.0.1 in /usr/local/lib/python3.7/dist-packages (from gitdb<5,>=4.0.1->gitpython) (5.0.0)\n"
          ]
        }
      ],
      "source": [
        "!pip install gitpython\n",
        "import git"
      ]
    },
    {
      "cell_type": "code",
      "execution_count": null,
      "metadata": {
        "colab": {
          "base_uri": "https://localhost:8080/"
        },
        "id": "uN77phG-f3DY",
        "outputId": "91b6152a-ba86-42ea-c64e-5ecd4c960764"
      },
      "outputs": [
        {
          "name": "stdout",
          "output_type": "stream",
          "text": [
            "Already downloaded training data\n"
          ]
        }
      ],
      "source": [
        "# The URL for data Github repo.\n",
        "url = 'https://github.com/konstantinkobs/emote-controlled.git'\n",
        "\n",
        "# Download the file (if we haven't already)\n",
        "if os.path.exists('./emote-controlled'):\n",
        "    print('Already downloaded training data')\n",
        "else:\n",
        "    git.Git(\"./\").clone(url)\n",
        "    print('Done downloading training data')\n"
      ]
    },
    {
      "cell_type": "markdown",
      "metadata": {
        "id": "oc-bxjzI-81h"
      },
      "source": [
        "## Load labeled Twitch messages"
      ]
    },
    {
      "cell_type": "code",
      "execution_count": null,
      "metadata": {
        "colab": {
          "base_uri": "https://localhost:8080/",
          "height": 599
        },
        "id": "ovSDN8kBf_zF",
        "outputId": "4c974373-1c66-4bb9-8562-2e82fb2571aa"
      },
      "outputs": [
        {
          "name": "stdout",
          "output_type": "stream",
          "text": [
            "Number of labeled messages:  1922\n"
          ]
        },
        {
          "data": {
            "text/html": [
              "\n",
              "  <div id=\"df-4996fd73-eeef-428a-86dc-137575a81439\">\n",
              "    <div class=\"colab-df-container\">\n",
              "      <div>\n",
              "<style scoped>\n",
              "    .dataframe tbody tr th:only-of-type {\n",
              "        vertical-align: middle;\n",
              "    }\n",
              "\n",
              "    .dataframe tbody tr th {\n",
              "        vertical-align: top;\n",
              "    }\n",
              "\n",
              "    .dataframe thead th {\n",
              "        text-align: right;\n",
              "    }\n",
              "</style>\n",
              "<table border=\"1\" class=\"dataframe\">\n",
              "  <thead>\n",
              "    <tr style=\"text-align: right;\">\n",
              "      <th></th>\n",
              "      <th>sentiment</th>\n",
              "      <th>date</th>\n",
              "      <th>channel</th>\n",
              "      <th>game</th>\n",
              "      <th>user</th>\n",
              "      <th>mod</th>\n",
              "      <th>subscriber</th>\n",
              "      <th>message</th>\n",
              "      <th>sentiment_relevel</th>\n",
              "      <th>message_uncased</th>\n",
              "    </tr>\n",
              "  </thead>\n",
              "  <tbody>\n",
              "    <tr>\n",
              "      <th>1259</th>\n",
              "      <td>0</td>\n",
              "      <td>2018-05-22T03:21:17.481Z</td>\n",
              "      <td>xqcow</td>\n",
              "      <td>Overwatch</td>\n",
              "      <td>2475329</td>\n",
              "      <td>False</td>\n",
              "      <td>False</td>\n",
              "      <td>POG</td>\n",
              "      <td>1</td>\n",
              "      <td>pog</td>\n",
              "    </tr>\n",
              "    <tr>\n",
              "      <th>1623</th>\n",
              "      <td>1</td>\n",
              "      <td>2018-05-16T19:32:55.000Z</td>\n",
              "      <td>forsen</td>\n",
              "      <td>The Council</td>\n",
              "      <td>2342940</td>\n",
              "      <td>False</td>\n",
              "      <td>True</td>\n",
              "      <td>ALLO ZULUL</td>\n",
              "      <td>2</td>\n",
              "      <td>allo zulul</td>\n",
              "    </tr>\n",
              "    <tr>\n",
              "      <th>611</th>\n",
              "      <td>-1</td>\n",
              "      <td>2018-05-17T16:56:40.391Z</td>\n",
              "      <td>moonmoon_ow</td>\n",
              "      <td>Dark Souls III</td>\n",
              "      <td>226947</td>\n",
              "      <td>False</td>\n",
              "      <td>True</td>\n",
              "      <td>I WAS DANCING TO THAT DansGame</td>\n",
              "      <td>0</td>\n",
              "      <td>i was dancing to that dansgame</td>\n",
              "    </tr>\n",
              "    <tr>\n",
              "      <th>514</th>\n",
              "      <td>1</td>\n",
              "      <td>2018-05-03T16:36:44.324Z</td>\n",
              "      <td>forsen</td>\n",
              "      <td>IRL</td>\n",
              "      <td>9000</td>\n",
              "      <td>False</td>\n",
              "      <td>True</td>\n",
              "      <td>gachiBASS Clap gachiBASS Clap gachiBASS Clap g...</td>\n",
              "      <td>2</td>\n",
              "      <td>gachibass clap gachibass clap gachibass clap g...</td>\n",
              "    </tr>\n",
              "    <tr>\n",
              "      <th>413</th>\n",
              "      <td>1</td>\n",
              "      <td>2018-05-09T04:59:17.521Z</td>\n",
              "      <td>xqcow</td>\n",
              "      <td>Fortnite</td>\n",
              "      <td>295331</td>\n",
              "      <td>False</td>\n",
              "      <td>False</td>\n",
              "      <td>gachiBASS</td>\n",
              "      <td>2</td>\n",
              "      <td>gachibass</td>\n",
              "    </tr>\n",
              "    <tr>\n",
              "      <th>1075</th>\n",
              "      <td>1</td>\n",
              "      <td>2018-05-28T19:40:05.478Z</td>\n",
              "      <td>sodapoppin</td>\n",
              "      <td>Bless Online</td>\n",
              "      <td>322720</td>\n",
              "      <td>False</td>\n",
              "      <td>True</td>\n",
              "      <td>\"Premium Membership (180 Days)\" gives 8 in-gam...</td>\n",
              "      <td>2</td>\n",
              "      <td>\"premium membership (180 days)\" gives 8 in-gam...</td>\n",
              "    </tr>\n",
              "    <tr>\n",
              "      <th>538</th>\n",
              "      <td>1</td>\n",
              "      <td>2018-05-23T21:40:22.218Z</td>\n",
              "      <td>forsen</td>\n",
              "      <td>Raft</td>\n",
              "      <td>304456</td>\n",
              "      <td>False</td>\n",
              "      <td>True</td>\n",
              "      <td>forsen1</td>\n",
              "      <td>2</td>\n",
              "      <td>forsen1</td>\n",
              "    </tr>\n",
              "    <tr>\n",
              "      <th>482</th>\n",
              "      <td>1</td>\n",
              "      <td>2018-05-30T19:02:31.082Z</td>\n",
              "      <td>forsen</td>\n",
              "      <td>Dark Souls</td>\n",
              "      <td>971480</td>\n",
              "      <td>False</td>\n",
              "      <td>False</td>\n",
              "      <td>CURSED OMEGALUL CURSED OMEGALUL CURSED OMEGALUL</td>\n",
              "      <td>2</td>\n",
              "      <td>cursed omegalul cursed omegalul cursed omegalul</td>\n",
              "    </tr>\n",
              "    <tr>\n",
              "      <th>398</th>\n",
              "      <td>-1</td>\n",
              "      <td>2018-05-21T16:26:58.802Z</td>\n",
              "      <td>moonmoon_ow</td>\n",
              "      <td>Dark Souls III</td>\n",
              "      <td>381748</td>\n",
              "      <td>False</td>\n",
              "      <td>True</td>\n",
              "      <td>kill moon moon2N</td>\n",
              "      <td>0</td>\n",
              "      <td>kill moon moon2n</td>\n",
              "    </tr>\n",
              "    <tr>\n",
              "      <th>677</th>\n",
              "      <td>0</td>\n",
              "      <td>2018-05-23T21:23:01.103Z</td>\n",
              "      <td>forsen</td>\n",
              "      <td>Raft</td>\n",
              "      <td>261172</td>\n",
              "      <td>False</td>\n",
              "      <td>False</td>\n",
              "      <td>2$ TOP DONATOR OF THE DAY OMEGALUL 2$ TOP DONA...</td>\n",
              "      <td>1</td>\n",
              "      <td>2$ top donator of the day omegalul 2$ top dona...</td>\n",
              "    </tr>\n",
              "  </tbody>\n",
              "</table>\n",
              "</div>\n",
              "      <button class=\"colab-df-convert\" onclick=\"convertToInteractive('df-4996fd73-eeef-428a-86dc-137575a81439')\"\n",
              "              title=\"Convert this dataframe to an interactive table.\"\n",
              "              style=\"display:none;\">\n",
              "        \n",
              "  <svg xmlns=\"http://www.w3.org/2000/svg\" height=\"24px\"viewBox=\"0 0 24 24\"\n",
              "       width=\"24px\">\n",
              "    <path d=\"M0 0h24v24H0V0z\" fill=\"none\"/>\n",
              "    <path d=\"M18.56 5.44l.94 2.06.94-2.06 2.06-.94-2.06-.94-.94-2.06-.94 2.06-2.06.94zm-11 1L8.5 8.5l.94-2.06 2.06-.94-2.06-.94L8.5 2.5l-.94 2.06-2.06.94zm10 10l.94 2.06.94-2.06 2.06-.94-2.06-.94-.94-2.06-.94 2.06-2.06.94z\"/><path d=\"M17.41 7.96l-1.37-1.37c-.4-.4-.92-.59-1.43-.59-.52 0-1.04.2-1.43.59L10.3 9.45l-7.72 7.72c-.78.78-.78 2.05 0 2.83L4 21.41c.39.39.9.59 1.41.59.51 0 1.02-.2 1.41-.59l7.78-7.78 2.81-2.81c.8-.78.8-2.07 0-2.86zM5.41 20L4 18.59l7.72-7.72 1.47 1.35L5.41 20z\"/>\n",
              "  </svg>\n",
              "      </button>\n",
              "      \n",
              "  <style>\n",
              "    .colab-df-container {\n",
              "      display:flex;\n",
              "      flex-wrap:wrap;\n",
              "      gap: 12px;\n",
              "    }\n",
              "\n",
              "    .colab-df-convert {\n",
              "      background-color: #E8F0FE;\n",
              "      border: none;\n",
              "      border-radius: 50%;\n",
              "      cursor: pointer;\n",
              "      display: none;\n",
              "      fill: #1967D2;\n",
              "      height: 32px;\n",
              "      padding: 0 0 0 0;\n",
              "      width: 32px;\n",
              "    }\n",
              "\n",
              "    .colab-df-convert:hover {\n",
              "      background-color: #E2EBFA;\n",
              "      box-shadow: 0px 1px 2px rgba(60, 64, 67, 0.3), 0px 1px 3px 1px rgba(60, 64, 67, 0.15);\n",
              "      fill: #174EA6;\n",
              "    }\n",
              "\n",
              "    [theme=dark] .colab-df-convert {\n",
              "      background-color: #3B4455;\n",
              "      fill: #D2E3FC;\n",
              "    }\n",
              "\n",
              "    [theme=dark] .colab-df-convert:hover {\n",
              "      background-color: #434B5C;\n",
              "      box-shadow: 0px 1px 3px 1px rgba(0, 0, 0, 0.15);\n",
              "      filter: drop-shadow(0px 1px 2px rgba(0, 0, 0, 0.3));\n",
              "      fill: #FFFFFF;\n",
              "    }\n",
              "  </style>\n",
              "\n",
              "      <script>\n",
              "        const buttonEl =\n",
              "          document.querySelector('#df-4996fd73-eeef-428a-86dc-137575a81439 button.colab-df-convert');\n",
              "        buttonEl.style.display =\n",
              "          google.colab.kernel.accessAllowed ? 'block' : 'none';\n",
              "\n",
              "        async function convertToInteractive(key) {\n",
              "          const element = document.querySelector('#df-4996fd73-eeef-428a-86dc-137575a81439');\n",
              "          const dataTable =\n",
              "            await google.colab.kernel.invokeFunction('convertToInteractive',\n",
              "                                                     [key], {});\n",
              "          if (!dataTable) return;\n",
              "\n",
              "          const docLinkHtml = 'Like what you see? Visit the ' +\n",
              "            '<a target=\"_blank\" href=https://colab.research.google.com/notebooks/data_table.ipynb>data table notebook</a>'\n",
              "            + ' to learn more about interactive tables.';\n",
              "          element.innerHTML = '';\n",
              "          dataTable['output_type'] = 'display_data';\n",
              "          await google.colab.output.renderOutput(dataTable, element);\n",
              "          const docLink = document.createElement('div');\n",
              "          docLink.innerHTML = docLinkHtml;\n",
              "          element.appendChild(docLink);\n",
              "        }\n",
              "      </script>\n",
              "    </div>\n",
              "  </div>\n",
              "  "
            ],
            "text/plain": [
              "      sentiment                      date      channel            game  \\\n",
              "1259          0  2018-05-22T03:21:17.481Z        xqcow       Overwatch   \n",
              "1623          1  2018-05-16T19:32:55.000Z       forsen     The Council   \n",
              "611          -1  2018-05-17T16:56:40.391Z  moonmoon_ow  Dark Souls III   \n",
              "514           1  2018-05-03T16:36:44.324Z       forsen             IRL   \n",
              "413           1  2018-05-09T04:59:17.521Z        xqcow        Fortnite   \n",
              "1075          1  2018-05-28T19:40:05.478Z   sodapoppin    Bless Online   \n",
              "538           1  2018-05-23T21:40:22.218Z       forsen            Raft   \n",
              "482           1  2018-05-30T19:02:31.082Z       forsen      Dark Souls   \n",
              "398          -1  2018-05-21T16:26:58.802Z  moonmoon_ow  Dark Souls III   \n",
              "677           0  2018-05-23T21:23:01.103Z       forsen            Raft   \n",
              "\n",
              "         user    mod  subscriber  \\\n",
              "1259  2475329  False       False   \n",
              "1623  2342940  False        True   \n",
              "611    226947  False        True   \n",
              "514      9000  False        True   \n",
              "413    295331  False       False   \n",
              "1075   322720  False        True   \n",
              "538    304456  False        True   \n",
              "482    971480  False       False   \n",
              "398    381748  False        True   \n",
              "677    261172  False       False   \n",
              "\n",
              "                                                message sentiment_relevel  \\\n",
              "1259                                                POG                 1   \n",
              "1623                                         ALLO ZULUL                 2   \n",
              "611                      I WAS DANCING TO THAT DansGame                 0   \n",
              "514   gachiBASS Clap gachiBASS Clap gachiBASS Clap g...                 2   \n",
              "413                                           gachiBASS                 2   \n",
              "1075  \"Premium Membership (180 Days)\" gives 8 in-gam...                 2   \n",
              "538                                             forsen1                 2   \n",
              "482     CURSED OMEGALUL CURSED OMEGALUL CURSED OMEGALUL                 2   \n",
              "398                                    kill moon moon2N                 0   \n",
              "677   2$ TOP DONATOR OF THE DAY OMEGALUL 2$ TOP DONA...                 1   \n",
              "\n",
              "                                        message_uncased  \n",
              "1259                                                pog  \n",
              "1623                                         allo zulul  \n",
              "611                      i was dancing to that dansgame  \n",
              "514   gachibass clap gachibass clap gachibass clap g...  \n",
              "413                                           gachibass  \n",
              "1075  \"premium membership (180 days)\" gives 8 in-gam...  \n",
              "538                                             forsen1  \n",
              "482     cursed omegalul cursed omegalul cursed omegalul  \n",
              "398                                    kill moon moon2n  \n",
              "677   2$ top donator of the day omegalul 2$ top dona...  "
            ]
          },
          "execution_count": 8,
          "metadata": {},
          "output_type": "execute_result"
        }
      ],
      "source": [
        "labeled_msgs = pd.read_csv(\"./emote-controlled/data/labeled_dataset.csv\",\n",
        "                           header = 0,\n",
        "                           names  = [\"sentiment\",\n",
        "                                     \"date\",\n",
        "                                     \"channel\",\n",
        "                                     \"game\",\n",
        "                                     \"user\",\n",
        "                                     \"mod\", \t\n",
        "                                     \"subscriber\",\n",
        "                                     \"message\"])\n",
        "labeled_msgs['sentiment_relevel'] = (labeled_msgs['sentiment'] + 1).astype('category')\n",
        "labeled_msgs['message_uncased'] = labeled_msgs.message.str.lower()\n",
        "print(\"Number of labeled messages: \", labeled_msgs.shape[0])\n",
        "# Display 5 random rows from the data.\n",
        "labeled_msgs.sample(10)"
      ]
    },
    {
      "cell_type": "markdown",
      "metadata": {
        "id": "BNj2M39oDOQT"
      },
      "source": [
        "# Load labeled Twitch emotes"
      ]
    },
    {
      "cell_type": "code",
      "execution_count": null,
      "metadata": {
        "colab": {
          "base_uri": "https://localhost:8080/",
          "height": 381
        },
        "id": "DuTi6hufDUnW",
        "outputId": "964430b2-273c-41bb-b1b7-9c39b75f18eb"
      },
      "outputs": [
        {
          "name": "stdout",
          "output_type": "stream",
          "text": [
            "Number of labeled emotes:  100\n"
          ]
        },
        {
          "data": {
            "text/html": [
              "\n",
              "  <div id=\"df-f8e8de02-4b23-4848-b383-6552c38a0b32\">\n",
              "    <div class=\"colab-df-container\">\n",
              "      <div>\n",
              "<style scoped>\n",
              "    .dataframe tbody tr th:only-of-type {\n",
              "        vertical-align: middle;\n",
              "    }\n",
              "\n",
              "    .dataframe tbody tr th {\n",
              "        vertical-align: top;\n",
              "    }\n",
              "\n",
              "    .dataframe thead th {\n",
              "        text-align: right;\n",
              "    }\n",
              "</style>\n",
              "<table border=\"1\" class=\"dataframe\">\n",
              "  <thead>\n",
              "    <tr style=\"text-align: right;\">\n",
              "      <th></th>\n",
              "      <th>word</th>\n",
              "      <th>sentiment</th>\n",
              "      <th>word_uncased</th>\n",
              "    </tr>\n",
              "  </thead>\n",
              "  <tbody>\n",
              "    <tr>\n",
              "      <th>91</th>\n",
              "      <td>gachiBASS</td>\n",
              "      <td>0.38</td>\n",
              "      <td>gachibass</td>\n",
              "    </tr>\n",
              "    <tr>\n",
              "      <th>54</th>\n",
              "      <td>OMEGALUL</td>\n",
              "      <td>0.43</td>\n",
              "      <td>omegalul</td>\n",
              "    </tr>\n",
              "    <tr>\n",
              "      <th>58</th>\n",
              "      <td>POGGERS</td>\n",
              "      <td>0.80</td>\n",
              "      <td>poggers</td>\n",
              "    </tr>\n",
              "    <tr>\n",
              "      <th>6</th>\n",
              "      <td>:o</td>\n",
              "      <td>0.06</td>\n",
              "      <td>:o</td>\n",
              "    </tr>\n",
              "    <tr>\n",
              "      <th>82</th>\n",
              "      <td>TwitchUnity</td>\n",
              "      <td>0.60</td>\n",
              "      <td>twitchunity</td>\n",
              "    </tr>\n",
              "    <tr>\n",
              "      <th>53</th>\n",
              "      <td>NotLikeThis</td>\n",
              "      <td>-0.49</td>\n",
              "      <td>notlikethis</td>\n",
              "    </tr>\n",
              "    <tr>\n",
              "      <th>23</th>\n",
              "      <td>DoritosChip</td>\n",
              "      <td>0.01</td>\n",
              "      <td>doritoschip</td>\n",
              "    </tr>\n",
              "    <tr>\n",
              "      <th>24</th>\n",
              "      <td>EZ</td>\n",
              "      <td>0.58</td>\n",
              "      <td>ez</td>\n",
              "    </tr>\n",
              "    <tr>\n",
              "      <th>3</th>\n",
              "      <td>:D</td>\n",
              "      <td>0.87</td>\n",
              "      <td>:d</td>\n",
              "    </tr>\n",
              "    <tr>\n",
              "      <th>45</th>\n",
              "      <td>Kreygasm</td>\n",
              "      <td>0.81</td>\n",
              "      <td>kreygasm</td>\n",
              "    </tr>\n",
              "  </tbody>\n",
              "</table>\n",
              "</div>\n",
              "      <button class=\"colab-df-convert\" onclick=\"convertToInteractive('df-f8e8de02-4b23-4848-b383-6552c38a0b32')\"\n",
              "              title=\"Convert this dataframe to an interactive table.\"\n",
              "              style=\"display:none;\">\n",
              "        \n",
              "  <svg xmlns=\"http://www.w3.org/2000/svg\" height=\"24px\"viewBox=\"0 0 24 24\"\n",
              "       width=\"24px\">\n",
              "    <path d=\"M0 0h24v24H0V0z\" fill=\"none\"/>\n",
              "    <path d=\"M18.56 5.44l.94 2.06.94-2.06 2.06-.94-2.06-.94-.94-2.06-.94 2.06-2.06.94zm-11 1L8.5 8.5l.94-2.06 2.06-.94-2.06-.94L8.5 2.5l-.94 2.06-2.06.94zm10 10l.94 2.06.94-2.06 2.06-.94-2.06-.94-.94-2.06-.94 2.06-2.06.94z\"/><path d=\"M17.41 7.96l-1.37-1.37c-.4-.4-.92-.59-1.43-.59-.52 0-1.04.2-1.43.59L10.3 9.45l-7.72 7.72c-.78.78-.78 2.05 0 2.83L4 21.41c.39.39.9.59 1.41.59.51 0 1.02-.2 1.41-.59l7.78-7.78 2.81-2.81c.8-.78.8-2.07 0-2.86zM5.41 20L4 18.59l7.72-7.72 1.47 1.35L5.41 20z\"/>\n",
              "  </svg>\n",
              "      </button>\n",
              "      \n",
              "  <style>\n",
              "    .colab-df-container {\n",
              "      display:flex;\n",
              "      flex-wrap:wrap;\n",
              "      gap: 12px;\n",
              "    }\n",
              "\n",
              "    .colab-df-convert {\n",
              "      background-color: #E8F0FE;\n",
              "      border: none;\n",
              "      border-radius: 50%;\n",
              "      cursor: pointer;\n",
              "      display: none;\n",
              "      fill: #1967D2;\n",
              "      height: 32px;\n",
              "      padding: 0 0 0 0;\n",
              "      width: 32px;\n",
              "    }\n",
              "\n",
              "    .colab-df-convert:hover {\n",
              "      background-color: #E2EBFA;\n",
              "      box-shadow: 0px 1px 2px rgba(60, 64, 67, 0.3), 0px 1px 3px 1px rgba(60, 64, 67, 0.15);\n",
              "      fill: #174EA6;\n",
              "    }\n",
              "\n",
              "    [theme=dark] .colab-df-convert {\n",
              "      background-color: #3B4455;\n",
              "      fill: #D2E3FC;\n",
              "    }\n",
              "\n",
              "    [theme=dark] .colab-df-convert:hover {\n",
              "      background-color: #434B5C;\n",
              "      box-shadow: 0px 1px 3px 1px rgba(0, 0, 0, 0.15);\n",
              "      filter: drop-shadow(0px 1px 2px rgba(0, 0, 0, 0.3));\n",
              "      fill: #FFFFFF;\n",
              "    }\n",
              "  </style>\n",
              "\n",
              "      <script>\n",
              "        const buttonEl =\n",
              "          document.querySelector('#df-f8e8de02-4b23-4848-b383-6552c38a0b32 button.colab-df-convert');\n",
              "        buttonEl.style.display =\n",
              "          google.colab.kernel.accessAllowed ? 'block' : 'none';\n",
              "\n",
              "        async function convertToInteractive(key) {\n",
              "          const element = document.querySelector('#df-f8e8de02-4b23-4848-b383-6552c38a0b32');\n",
              "          const dataTable =\n",
              "            await google.colab.kernel.invokeFunction('convertToInteractive',\n",
              "                                                     [key], {});\n",
              "          if (!dataTable) return;\n",
              "\n",
              "          const docLinkHtml = 'Like what you see? Visit the ' +\n",
              "            '<a target=\"_blank\" href=https://colab.research.google.com/notebooks/data_table.ipynb>data table notebook</a>'\n",
              "            + ' to learn more about interactive tables.';\n",
              "          element.innerHTML = '';\n",
              "          dataTable['output_type'] = 'display_data';\n",
              "          await google.colab.output.renderOutput(dataTable, element);\n",
              "          const docLink = document.createElement('div');\n",
              "          docLink.innerHTML = docLinkHtml;\n",
              "          element.appendChild(docLink);\n",
              "        }\n",
              "      </script>\n",
              "    </div>\n",
              "  </div>\n",
              "  "
            ],
            "text/plain": [
              "           word  sentiment word_uncased\n",
              "91    gachiBASS       0.38    gachibass\n",
              "54     OMEGALUL       0.43     omegalul\n",
              "58      POGGERS       0.80      poggers\n",
              "6            :o       0.06           :o\n",
              "82  TwitchUnity       0.60  twitchunity\n",
              "53  NotLikeThis      -0.49  notlikethis\n",
              "23  DoritosChip       0.01  doritoschip\n",
              "24           EZ       0.58           ez\n",
              "3            :D       0.87           :d\n",
              "45     Kreygasm       0.81     kreygasm"
            ]
          },
          "execution_count": 9,
          "metadata": {},
          "output_type": "execute_result"
        }
      ],
      "source": [
        "labeled_emotes = pd.read_csv(\"./emote-controlled/lexica/emote_average.tsv\",\n",
        "                             sep    = '\\t',\n",
        "                             header = 0,\n",
        "                             names  = [\"word\", \"sentiment\"])\n",
        "\n",
        "labeled_emotes[\"word_uncased\"] = labeled_emotes.word.str.lower()\n",
        "print(\"Number of labeled emotes: \", labeled_emotes.shape[0])\n",
        "# Display 10 random rows from the data.\n",
        "labeled_emotes.sample(10)"
      ]
    },
    {
      "cell_type": "markdown",
      "metadata": {
        "id": "0rsV2Latwr8_"
      },
      "source": [
        "# W2V-MLP Model"
      ]
    },
    {
      "cell_type": "code",
      "execution_count": null,
      "metadata": {
        "id": "Vuecnv7ywwiH"
      },
      "outputs": [],
      "source": [
        "class W2V_MLP(nn.Module):\n",
        "    def __init__(self,\n",
        "                 use_dropout = True,\n",
        "                 dropout = 0.5):\n",
        "        super().__init__()\n",
        "\n",
        "        self.add_dense = nn.Sequential(\n",
        "                nn.Linear(in_features = 768, out_features = 768),\n",
        "                nn.LayerNorm(768),\n",
        "                nn.GELU()\n",
        "        )\n",
        "\n",
        "        self.dropout = nn.Dropout(dropout)\n",
        "\n",
        "        self.l1 = nn.Linear(768, 256)\n",
        "\n",
        "        self.layer_norm1 = nn.LayerNorm(256)\n",
        "\n",
        "        self.a1 = nn.SiLU() ## nn.GELU() ##nn.ReLU()\n",
        "        self.l2 = nn.Linear(256, 128)\n",
        "\n",
        "        self.layer_norm2 = nn.LayerNorm(128)\n",
        "\n",
        "        self.a2 = nn.SiLU() #nn.GELU() ##nn.ReLU()\n",
        "        self.l3 = nn.Linear(128, 3)\n",
        "\n",
        "        self.loss = torch.nn.CrossEntropyLoss()\n",
        "        self.use_dropout = use_dropout\n",
        "        \n",
        "        self.loss = torch.nn.CrossEntropyLoss()\n",
        "\n",
        "    def forward(self, input, labels):\n",
        "\n",
        "        out_add = self.add_dense(input)\n",
        "\n",
        "        # apply dropout\n",
        "        if self.use_dropout:\n",
        "          dropouts = self.dropout(out_add)\n",
        "        else:\n",
        "          dropouts = out_add\n",
        "\n",
        "        linear     = self.layer_norm1(self.l1(dropouts))\n",
        "        activation = self.a1(linear)\n",
        "        linear     = self.layer_norm2(self.l2(activation))\n",
        "        activation = self.a2(linear)\n",
        "        logits     = self.l3(activation)\n",
        "        if labels is not None:\n",
        "            outputs = (logits, self.loss(logits, labels))\n",
        "        else:\n",
        "            outputs = (logits,)\n",
        "        return outputs"
      ]
    },
    {
      "cell_type": "markdown",
      "metadata": {
        "id": "qn9H7kxho3dI"
      },
      "source": [
        "## Prepare inputs"
      ]
    },
    {
      "cell_type": "code",
      "execution_count": null,
      "metadata": {
        "colab": {
          "base_uri": "https://localhost:8080/"
        },
        "id": "rcZFS1IeUFX3",
        "outputId": "3efecc22-1bd1-40c3-fb0e-0ffb23578f99"
      },
      "outputs": [
        {
          "name": "stderr",
          "output_type": "stream",
          "text": [
            "/usr/local/lib/python3.7/dist-packages/ipykernel_launcher.py:11: UserWarning: Creating a tensor from a list of numpy.ndarrays is extremely slow. Please consider converting the list to a single numpy.ndarray with numpy.array() before converting to a tensor. (Triggered internally at  ../torch/csrc/utils/tensor_new.cpp:201.)\n",
            "  # This is added back by InteractiveShellApp.init_path()\n"
          ]
        }
      ],
      "source": [
        "labels = labeled_msgs.sentiment_relevel.values\n",
        "messages = [message.split(' ') for message in labeled_msgs.message]\n",
        "w2vmodel = Word2Vec(sentences = messages,\n",
        "                    min_count = 1,\n",
        "                    vector_size = 768,\n",
        "                    workers = 4,\n",
        "                    window = 5,\n",
        "                    sg = 1,\n",
        "                    seed = SEED) # train further when adding new prediction data\n",
        "input_w2v = torch.Tensor(\n",
        "    [w2vmodel.wv[message].sum(axis = 0) for message in messages]\n",
        "    )"
      ]
    },
    {
      "cell_type": "markdown",
      "metadata": {
        "id": "CHhOVofjo9b-"
      },
      "source": [
        "## Split dataset"
      ]
    },
    {
      "cell_type": "code",
      "execution_count": null,
      "metadata": {
        "colab": {
          "base_uri": "https://localhost:8080/"
        },
        "id": "H4JQL-GfPoHe",
        "outputId": "5d961c50-2df0-42f2-b491-f9cbb7a3bc72"
      },
      "outputs": [
        {
          "name": "stdout",
          "output_type": "stream",
          "text": [
            "example train w2v input:     tensor([-1.5497e-03,  1.5818e-03, -2.0773e-03, -6.6391e-04,  8.3257e-05,\n",
            "         9.2863e-04, -7.7774e-04,  6.3314e-04,  2.4022e-04,  1.3259e-03,\n",
            "         1.2594e-03,  1.1212e-03, -1.1901e-03,  9.8841e-04, -2.0537e-04,\n",
            "         6.3291e-04,  4.1999e-04,  6.8164e-04,  2.4716e-04, -3.0995e-04,\n",
            "         5.0299e-04, -1.6745e-03,  1.7035e-03, -1.7626e-03, -1.6339e-03,\n",
            "        -6.2529e-04,  1.6251e-03,  2.2266e-05, -8.9052e-05,  1.1603e-03,\n",
            "         3.8498e-04,  7.6650e-05, -1.1621e-04,  1.6165e-03, -6.1741e-04,\n",
            "         1.8964e-03,  8.1723e-04, -8.6317e-04, -1.6254e-03, -5.6581e-04,\n",
            "        -3.8040e-04,  1.6588e-03,  2.0451e-03, -4.6662e-05,  1.1673e-04,\n",
            "         1.5643e-03,  5.8855e-04,  8.5442e-04, -1.9535e-03,  9.9062e-04,\n",
            "        -3.3662e-05, -1.1494e-03, -1.9395e-04,  3.7561e-04,  6.7287e-05,\n",
            "         4.8371e-04,  8.3354e-04,  3.0325e-04, -1.0759e-03,  2.5390e-03,\n",
            "        -6.3586e-04,  4.0581e-04,  9.0224e-04,  2.6332e-03, -2.6504e-03,\n",
            "         6.6837e-04, -3.5405e-04,  2.8224e-04, -3.8417e-04, -6.8576e-04,\n",
            "        -2.6359e-04, -2.5835e-03,  1.5348e-03, -1.6042e-03, -1.6177e-03,\n",
            "         1.6495e-03,  7.2016e-04, -9.4935e-04,  4.6042e-04,  1.6066e-04,\n",
            "         9.1517e-04, -4.3646e-04, -1.7579e-03,  8.1079e-04, -5.9625e-04,\n",
            "        -6.1650e-05,  8.0294e-04,  8.8715e-04, -4.1187e-04, -2.2804e-03,\n",
            "        -1.0334e-03, -1.5448e-03, -8.5882e-04, -5.0772e-04, -5.4279e-04,\n",
            "         1.9825e-03, -4.0396e-04,  3.7695e-04, -1.7833e-03, -1.4321e-03,\n",
            "        -2.8591e-05,  6.5710e-04,  2.2720e-03,  1.8793e-04, -4.8706e-05,\n",
            "         3.8452e-04, -1.2084e-03, -2.5904e-04, -1.0251e-03, -1.3308e-03,\n",
            "         1.9301e-03, -7.3401e-04,  2.7080e-03, -8.8976e-04, -2.7475e-04,\n",
            "        -1.6269e-03, -3.6226e-04, -6.9344e-04, -1.3092e-03,  1.1093e-03,\n",
            "        -1.8146e-03,  6.9725e-04,  7.5281e-04, -1.7898e-04,  6.3723e-04,\n",
            "        -6.2511e-05,  7.8568e-04, -3.8468e-04,  1.1838e-04,  3.0521e-04,\n",
            "        -6.1066e-04,  1.0494e-03, -2.0531e-03, -1.7827e-04,  2.0472e-03,\n",
            "        -1.8576e-03,  3.7362e-04, -1.3464e-03,  7.1689e-04, -8.6588e-04,\n",
            "         7.6463e-04,  1.7875e-03,  1.6633e-03, -2.6808e-03, -1.4681e-03,\n",
            "         1.2286e-03, -1.2969e-03,  7.2920e-04,  1.2667e-03, -2.0473e-04,\n",
            "         3.4583e-04, -1.7654e-03,  1.2213e-03,  8.5548e-04,  2.0369e-03,\n",
            "        -8.7624e-04,  4.1815e-04, -1.4005e-03, -4.3590e-04, -6.1058e-04,\n",
            "         6.0528e-04,  2.1877e-04,  8.9421e-04, -9.1221e-04,  3.3238e-04,\n",
            "         1.0415e-03,  1.3066e-03, -8.0025e-04, -1.0209e-03,  8.0902e-04,\n",
            "         1.7755e-03,  1.3388e-03, -1.7044e-03,  2.9421e-04, -1.2169e-03,\n",
            "         8.5398e-04,  1.1049e-03, -1.6645e-03, -2.5535e-03, -6.0664e-04,\n",
            "         3.3782e-04,  1.3419e-03,  1.0531e-03, -7.5268e-04,  2.3890e-03,\n",
            "         1.8692e-03,  1.2784e-03,  1.5629e-03, -1.9920e-03, -1.1723e-04,\n",
            "        -4.4186e-04, -7.4775e-04, -1.1493e-04, -9.8440e-05, -2.2716e-03,\n",
            "        -4.0567e-04,  7.2965e-04,  1.4529e-03, -4.1941e-04,  3.8481e-06,\n",
            "         1.1004e-04,  8.2821e-04, -2.1396e-03, -1.0802e-03, -2.6731e-04,\n",
            "        -5.1531e-04, -1.0932e-03, -4.9738e-04, -1.2165e-03,  6.5992e-04,\n",
            "         2.2112e-04, -1.7433e-04,  2.3889e-04, -3.0171e-04, -7.9586e-04,\n",
            "        -1.1474e-03,  4.8411e-04,  9.9909e-04, -1.2995e-03, -1.3188e-03,\n",
            "         1.0036e-03,  1.8184e-04, -1.1894e-04,  2.3199e-04,  1.6453e-03,\n",
            "        -2.4056e-05,  1.3439e-03, -4.0170e-04, -1.3144e-04, -1.4494e-03,\n",
            "         1.0120e-03,  1.6124e-04,  2.1593e-03,  6.4856e-04, -1.4891e-03,\n",
            "        -2.4387e-04, -1.5565e-03, -1.9808e-04,  3.8803e-05, -8.8140e-05,\n",
            "         1.3977e-03, -4.5344e-04, -3.3871e-04, -6.4487e-04, -2.4996e-04,\n",
            "         1.2076e-03, -1.3143e-03,  1.0899e-03, -8.4541e-04,  1.8749e-03,\n",
            "         1.2751e-04, -9.1930e-04, -1.1260e-03, -6.4309e-04, -1.5684e-03,\n",
            "         2.4697e-04, -8.4052e-05,  3.1030e-04,  3.5273e-05,  1.4533e-04,\n",
            "         1.3382e-03, -5.6304e-04, -1.6601e-05,  3.8889e-04, -1.3960e-03,\n",
            "         6.9746e-05, -5.6840e-04, -2.1002e-03,  2.3930e-04, -1.5019e-03,\n",
            "         1.2211e-03, -3.4863e-04,  4.6884e-04, -6.5317e-04,  2.5136e-03,\n",
            "         1.8785e-04,  2.7884e-04, -2.1976e-03, -8.0130e-04,  1.7546e-03,\n",
            "         1.4178e-03, -1.0211e-03, -1.4689e-03, -1.5772e-03, -4.2510e-04,\n",
            "         1.2731e-03, -4.5258e-04,  1.3306e-04,  4.8980e-05, -5.1446e-04,\n",
            "         2.1674e-03,  1.9328e-03, -1.1606e-03,  9.9183e-04, -3.1078e-04,\n",
            "        -3.8082e-04, -1.8202e-03,  4.8288e-04,  9.8866e-04,  3.0539e-04,\n",
            "        -1.5374e-03,  6.5724e-04, -1.0593e-03,  1.5184e-03, -3.4101e-04,\n",
            "        -7.4412e-05,  1.8567e-03,  1.1246e-05, -1.7255e-03, -2.7866e-04,\n",
            "         2.6662e-03,  1.2884e-03,  6.2670e-05,  7.8141e-05, -1.5087e-03,\n",
            "         5.1865e-04,  1.5003e-03,  1.8980e-04,  1.2720e-03,  1.7780e-03,\n",
            "        -5.8013e-04, -2.0447e-04,  9.0534e-04,  1.7787e-03, -8.4005e-04,\n",
            "        -1.8996e-04, -9.4796e-04, -9.6007e-04,  9.6701e-04,  8.6617e-05,\n",
            "         6.2052e-04, -1.7850e-03, -1.7418e-03,  1.2462e-04, -1.2898e-03,\n",
            "         1.8832e-03,  7.4592e-04,  2.1851e-03,  6.4315e-04,  4.6737e-04,\n",
            "        -9.8140e-04,  1.3608e-03, -1.1471e-03, -3.0764e-04,  2.7474e-04,\n",
            "        -9.3289e-04, -2.3581e-03, -3.4731e-04,  3.1788e-04, -3.4056e-04,\n",
            "         1.9144e-03, -1.1743e-03, -1.9624e-03,  6.6127e-05,  1.6975e-03,\n",
            "        -1.5185e-03,  7.5056e-04,  5.1429e-05, -6.7275e-04,  1.9844e-03,\n",
            "        -1.9689e-03, -2.1567e-04, -9.9678e-04, -5.9935e-04,  7.3638e-04,\n",
            "        -1.1737e-04,  1.1645e-03, -9.2706e-04, -1.7339e-03, -7.4683e-04,\n",
            "         1.5985e-03, -2.5426e-03,  3.4153e-04,  8.7358e-04, -3.0993e-04,\n",
            "         3.9713e-05,  3.8729e-05,  1.3562e-04,  5.3298e-04,  5.7391e-04,\n",
            "         1.5324e-03, -5.3959e-05,  4.7725e-04, -3.9446e-04,  1.3431e-03,\n",
            "         5.8416e-04,  3.1627e-04, -7.5043e-04,  4.9036e-04, -1.2084e-03,\n",
            "         1.8730e-04,  1.3483e-03, -1.1051e-03, -8.1671e-04, -2.0007e-03,\n",
            "         8.0599e-04, -1.9923e-03,  9.2832e-04,  6.1069e-04,  5.9637e-04,\n",
            "         3.0541e-04,  8.3766e-04, -1.1151e-03,  5.0101e-04, -1.1062e-03,\n",
            "         1.4748e-04, -1.3478e-03, -6.8839e-04, -3.9959e-04,  2.2532e-03,\n",
            "         1.3016e-03, -2.8755e-04,  6.3928e-04,  1.7183e-03, -1.1263e-03,\n",
            "        -2.4337e-03,  7.6063e-04,  8.5592e-04, -5.8859e-04,  3.7018e-05,\n",
            "        -1.1944e-03, -2.0854e-03,  5.5818e-05,  1.0594e-03,  6.8691e-04,\n",
            "        -1.8437e-04, -5.9528e-04,  2.0615e-03,  1.8449e-04, -1.0114e-03,\n",
            "         4.0618e-04,  1.8510e-03,  1.0819e-03,  2.3745e-03, -1.1364e-03,\n",
            "        -2.1245e-03,  8.0235e-04, -1.0997e-03,  1.5188e-04,  8.8094e-04,\n",
            "         6.5763e-04,  4.7179e-04,  2.1781e-04,  3.6446e-05,  4.9157e-04,\n",
            "        -1.2647e-03, -4.8890e-04, -6.4780e-04, -4.4583e-04,  1.5740e-03,\n",
            "        -1.5892e-03,  7.8963e-04,  3.2841e-04,  1.3218e-03, -3.4402e-04,\n",
            "        -1.8875e-03,  1.0597e-03, -1.2102e-03, -5.8643e-04, -2.4508e-04,\n",
            "        -9.8107e-04, -1.6673e-03, -5.0551e-05,  1.9279e-03, -1.1445e-03,\n",
            "         1.0487e-03,  3.8920e-04,  1.3125e-04, -1.3232e-03, -1.2170e-03,\n",
            "        -4.9238e-04, -1.2680e-04,  1.1105e-03, -5.5212e-05,  6.9584e-05,\n",
            "        -2.2000e-03, -8.0137e-04, -3.2142e-04, -4.1147e-04,  1.4185e-03,\n",
            "        -5.8942e-04, -9.3075e-05,  2.4518e-03, -1.1740e-04,  9.3274e-04,\n",
            "         5.7032e-04, -1.1161e-03,  1.7988e-03,  3.9509e-04,  4.0153e-04,\n",
            "         6.5524e-05, -3.8643e-04,  1.2468e-03, -2.3773e-03, -3.2050e-05,\n",
            "         3.1876e-04,  2.6407e-04,  7.4936e-04,  7.2749e-04, -8.1870e-05,\n",
            "        -7.3557e-04, -9.6169e-04, -1.0516e-03,  1.7781e-03,  1.1326e-03,\n",
            "        -1.7326e-03, -1.9543e-03,  4.7497e-05,  1.3646e-03,  3.6788e-04,\n",
            "        -3.6718e-04,  1.3530e-04,  3.8344e-04, -3.8918e-04,  5.0092e-04,\n",
            "        -7.8204e-04,  3.7031e-05,  1.5028e-03,  3.2745e-05,  1.7475e-03,\n",
            "         6.0689e-04,  1.1364e-03,  9.5718e-04,  1.8342e-03,  1.2946e-03,\n",
            "        -9.9104e-04, -2.5054e-04, -1.2973e-03,  1.4266e-03,  3.7104e-04,\n",
            "        -1.3691e-03, -1.7817e-04, -6.4728e-06, -7.4858e-04, -1.8512e-03,\n",
            "         1.8024e-03, -1.0007e-03,  2.3132e-03, -1.8496e-04, -1.0432e-03,\n",
            "         6.7820e-04, -1.1163e-04, -7.0361e-04,  9.4211e-04, -2.3491e-05,\n",
            "        -1.6724e-03,  4.0434e-04,  3.2060e-04,  2.5324e-03,  6.8045e-04,\n",
            "        -2.5034e-04, -8.2826e-05, -5.5847e-04, -3.8494e-05,  5.7292e-04,\n",
            "        -5.9255e-04,  1.7440e-04, -2.6095e-03, -6.0738e-04,  6.5476e-05,\n",
            "         3.2525e-05, -9.7683e-04, -3.2795e-04,  1.5863e-03,  1.7122e-03,\n",
            "        -1.0663e-03, -1.4675e-03,  1.3187e-03, -1.3816e-03,  1.0492e-03,\n",
            "         5.5191e-04, -1.8741e-04,  1.6551e-04,  8.8821e-04, -1.2354e-03,\n",
            "        -1.0441e-03, -3.7859e-04, -6.1640e-05,  6.1136e-04,  1.0196e-03,\n",
            "        -6.0042e-04, -4.5034e-04, -9.4958e-04,  2.4846e-05,  5.3495e-04,\n",
            "        -7.0490e-04,  1.9940e-04,  7.1540e-04, -4.3231e-04, -1.6426e-03,\n",
            "         7.0036e-04, -4.4462e-04,  3.5789e-04, -1.0821e-03,  1.5647e-04,\n",
            "        -3.9513e-04, -5.1520e-04, -2.7594e-04, -1.9701e-05, -5.1843e-04,\n",
            "         7.9912e-05, -5.8235e-04, -1.9511e-03, -6.1422e-04, -2.5399e-04,\n",
            "        -1.9663e-03, -2.2577e-04, -1.0706e-04,  1.4364e-04,  6.2611e-04,\n",
            "         8.7390e-04, -1.1218e-03, -9.1629e-04,  6.8117e-04, -2.6286e-04,\n",
            "        -1.6282e-03,  1.2251e-03, -1.9163e-03, -1.4837e-03, -1.1219e-03,\n",
            "        -1.8903e-03, -2.4265e-03,  1.4635e-03, -3.3521e-04,  1.0960e-04,\n",
            "        -9.0812e-04, -3.7990e-04,  9.6194e-04,  8.3888e-04,  1.8367e-03,\n",
            "         1.4935e-03, -1.2497e-03,  7.5697e-04,  1.9144e-03,  2.3074e-04,\n",
            "        -2.0774e-04,  1.7814e-03,  1.1079e-03, -7.6380e-04,  3.5109e-04,\n",
            "         1.3739e-03,  7.8914e-04,  5.8583e-05, -5.9875e-04,  9.7973e-05,\n",
            "         7.8834e-05,  3.9237e-04, -1.8529e-03,  2.0174e-03,  2.4163e-03,\n",
            "        -1.6333e-03, -6.0312e-04, -3.8526e-04,  7.2257e-04, -7.9869e-04,\n",
            "        -1.4750e-03,  2.5161e-04, -3.0490e-04, -5.7324e-06,  4.6914e-04,\n",
            "         7.8884e-04, -5.9582e-04, -1.0391e-03, -1.5338e-03, -2.8613e-04,\n",
            "         9.3807e-04,  1.5318e-03, -3.8173e-04,  5.9660e-04, -5.9521e-04,\n",
            "        -8.2121e-04,  2.3216e-04,  2.7771e-04,  8.0337e-04,  3.1142e-04,\n",
            "        -9.5000e-04, -1.5864e-03,  3.1221e-04,  5.5104e-04,  1.3093e-03,\n",
            "         2.8882e-04,  3.9817e-04, -1.0005e-03,  5.1001e-05, -1.0350e-03,\n",
            "         1.7484e-03, -2.4173e-03, -4.2857e-04,  1.7052e-04, -1.8521e-03,\n",
            "        -1.5362e-03,  3.0264e-04, -1.6987e-03, -2.1825e-04, -7.4906e-04,\n",
            "        -6.5041e-04, -2.1432e-04, -6.1743e-04,  5.9875e-04, -2.7974e-04,\n",
            "        -8.8048e-04, -1.5919e-03,  2.8608e-04,  9.2051e-04, -1.1801e-03,\n",
            "        -1.0513e-03, -3.2990e-04,  1.5135e-03, -1.7122e-03,  1.0527e-03,\n",
            "         1.9796e-03, -6.1511e-04, -1.0700e-04,  6.1377e-04, -1.2584e-03,\n",
            "        -9.5672e-04, -8.7826e-04,  8.8785e-04,  1.0293e-03,  3.0627e-04,\n",
            "         1.2674e-03,  7.6249e-04, -1.1507e-04,  2.4742e-03,  3.6015e-04,\n",
            "         1.1720e-03, -1.1052e-03,  4.3820e-04,  8.1183e-04,  1.8930e-03,\n",
            "         1.6469e-03,  1.0985e-03, -1.3626e-03,  1.0433e-03, -8.3645e-04,\n",
            "         4.4529e-04,  1.4155e-03,  1.3043e-03, -8.9074e-04, -5.3615e-04,\n",
            "        -1.3661e-03, -7.6519e-05, -5.9362e-04,  1.0848e-04, -3.5951e-04,\n",
            "         1.8487e-03,  1.5091e-03,  4.1876e-05,  1.1237e-03,  9.6548e-04,\n",
            "        -1.6423e-03,  1.2352e-03, -2.0065e-03,  1.9001e-03,  3.5856e-04,\n",
            "         1.8375e-03,  2.3495e-04, -1.3322e-03, -2.1747e-04, -5.3487e-04,\n",
            "         6.7436e-05, -2.0995e-05, -1.9493e-03, -2.1906e-03,  1.8446e-04,\n",
            "         1.3208e-03, -5.0854e-04,  2.2668e-03])\n",
            "example label:  1\n"
          ]
        }
      ],
      "source": [
        "mlp_train_dataloader, mlp_validation_dataloader = train_valid_split_w2v_mlp(\n",
        "    input_w2v       = input_w2v,\n",
        "    labels          = labels,\n",
        "    batch_size      = 64 \n",
        ")"
      ]
    },
    {
      "cell_type": "markdown",
      "metadata": {
        "id": "k2f1B0ZnQeJS"
      },
      "source": [
        "## Load W2V-MLP"
      ]
    },
    {
      "cell_type": "code",
      "execution_count": null,
      "metadata": {
        "id": "x8NXxIPF6364"
      },
      "outputs": [],
      "source": [
        "model = W2V_MLP(\n",
        "    use_dropout = True,\n",
        "    dropout = 0.5\n",
        ")"
      ]
    },
    {
      "cell_type": "markdown",
      "metadata": {
        "id": "OzTZp9neEkDh"
      },
      "source": [
        "# Training"
      ]
    },
    {
      "cell_type": "code",
      "execution_count": null,
      "metadata": {
        "colab": {
          "base_uri": "https://localhost:8080/"
        },
        "id": "-8yMCazi28l7",
        "outputId": "f5734e97-2e5a-436b-9f31-978306833192"
      },
      "outputs": [
        {
          "name": "stderr",
          "output_type": "stream",
          "text": [
            "Training (epoch 1): 100%|██████████| 25/25 [00:00<00:00, 115.30batch/s]\n"
          ]
        },
        {
          "name": "stdout",
          "output_type": "stream",
          "text": [
            "  * Average training loss: 1.12\n",
            "  * Training epoch took: 0:00:00\n",
            "Running Validation...\n",
            "  * Accuracy: 0.22\n",
            "  * Averaged validation loss: 1.10\n",
            "  * F1 score: 0.21\n",
            "  * Validation took: 0:00:00\n",
            "PREVIOUS BEST EVAL:0\n",
            "dir exists\n"
          ]
        },
        {
          "name": "stderr",
          "output_type": "stream",
          "text": [
            "Training (epoch 2): 100%|██████████| 25/25 [00:00<00:00, 116.05batch/s]\n",
            "/usr/local/lib/python3.7/dist-packages/sklearn/metrics/_classification.py:1318: UndefinedMetricWarning: Recall is ill-defined and being set to 0.0 in labels with no true samples. Use `zero_division` parameter to control this behavior.\n",
            "  _warn_prf(average, modifier, msg_start, len(result))\n"
          ]
        },
        {
          "name": "stdout",
          "output_type": "stream",
          "text": [
            "  * Average training loss: 1.10\n",
            "  * Training epoch took: 0:00:00\n",
            "Running Validation...\n",
            "  * Accuracy: 0.49\n",
            "  * Averaged validation loss: 1.06\n",
            "  * F1 score: 0.27\n",
            "  * Validation took: 0:00:00\n",
            "PREVIOUS BEST EVAL:0.21875\n",
            "dir exists\n"
          ]
        },
        {
          "name": "stderr",
          "output_type": "stream",
          "text": [
            "Training (epoch 3): 100%|██████████| 25/25 [00:00<00:00, 107.44batch/s]\n",
            "/usr/local/lib/python3.7/dist-packages/sklearn/metrics/_classification.py:1318: UndefinedMetricWarning: Recall is ill-defined and being set to 0.0 in labels with no true samples. Use `zero_division` parameter to control this behavior.\n",
            "  _warn_prf(average, modifier, msg_start, len(result))\n"
          ]
        },
        {
          "name": "stdout",
          "output_type": "stream",
          "text": [
            "  * Average training loss: 1.06\n",
            "  * Training epoch took: 0:00:00\n",
            "Running Validation...\n",
            "  * Accuracy: 0.52\n",
            "  * Averaged validation loss: 1.02\n",
            "  * F1 score: 0.32\n",
            "  * Validation took: 0:00:00\n",
            "PREVIOUS BEST EVAL:0.49107142857142855\n",
            "dir exists\n"
          ]
        },
        {
          "name": "stderr",
          "output_type": "stream",
          "text": [
            "Training (epoch 4): 100%|██████████| 25/25 [00:00<00:00, 127.55batch/s]\n",
            "/usr/local/lib/python3.7/dist-packages/sklearn/metrics/_classification.py:1318: UndefinedMetricWarning: Recall is ill-defined and being set to 0.0 in labels with no true samples. Use `zero_division` parameter to control this behavior.\n",
            "  _warn_prf(average, modifier, msg_start, len(result))\n"
          ]
        },
        {
          "name": "stdout",
          "output_type": "stream",
          "text": [
            "  * Average training loss: 1.06\n",
            "  * Training epoch took: 0:00:00\n",
            "Running Validation...\n",
            "  * Accuracy: 0.53\n",
            "  * Averaged validation loss: 0.98\n",
            "  * F1 score: 0.33\n",
            "  * Validation took: 0:00:00\n",
            "PREVIOUS BEST EVAL:0.5200892857142857\n",
            "dir exists\n"
          ]
        },
        {
          "name": "stderr",
          "output_type": "stream",
          "text": [
            "Training (epoch 5): 100%|██████████| 25/25 [00:00<00:00, 113.43batch/s]\n",
            "/usr/local/lib/python3.7/dist-packages/sklearn/metrics/_classification.py:1318: UndefinedMetricWarning: Recall is ill-defined and being set to 0.0 in labels with no true samples. Use `zero_division` parameter to control this behavior.\n",
            "  _warn_prf(average, modifier, msg_start, len(result))\n"
          ]
        },
        {
          "name": "stdout",
          "output_type": "stream",
          "text": [
            "  * Average training loss: 1.03\n",
            "  * Training epoch took: 0:00:00\n",
            "Running Validation...\n",
            "  * Accuracy: 0.54\n",
            "  * Averaged validation loss: 0.96\n",
            "  * F1 score: 0.34\n",
            "  * Validation took: 0:00:00\n",
            "PREVIOUS BEST EVAL:0.5267857142857143\n",
            "dir exists\n"
          ]
        },
        {
          "name": "stderr",
          "output_type": "stream",
          "text": [
            "Training (epoch 6): 100%|██████████| 25/25 [00:00<00:00, 112.68batch/s]\n",
            "/usr/local/lib/python3.7/dist-packages/sklearn/metrics/_classification.py:1318: UndefinedMetricWarning: Recall is ill-defined and being set to 0.0 in labels with no true samples. Use `zero_division` parameter to control this behavior.\n",
            "  _warn_prf(average, modifier, msg_start, len(result))\n"
          ]
        },
        {
          "name": "stdout",
          "output_type": "stream",
          "text": [
            "  * Average training loss: 1.02\n",
            "  * Training epoch took: 0:00:00\n",
            "Running Validation...\n",
            "  * Accuracy: 0.53\n",
            "  * Averaged validation loss: 0.95\n",
            "  * F1 score: 0.34\n",
            "  * Validation took: 0:00:00\n",
            "PREVIOUS BEST EVAL:0.5379464285714286\n"
          ]
        },
        {
          "name": "stderr",
          "output_type": "stream",
          "text": [
            "Training (epoch 7): 100%|██████████| 25/25 [00:00<00:00, 122.54batch/s]\n"
          ]
        },
        {
          "name": "stdout",
          "output_type": "stream",
          "text": [
            "  * Average training loss: 1.02\n",
            "  * Training epoch took: 0:00:00\n",
            "Running Validation...\n",
            "  * Accuracy: 0.54\n",
            "  * Averaged validation loss: 0.94\n",
            "  * F1 score: 0.35\n",
            "  * Validation took: 0:00:00\n",
            "PREVIOUS BEST EVAL:0.5379464285714286\n"
          ]
        },
        {
          "name": "stderr",
          "output_type": "stream",
          "text": [
            "Training (epoch 8): 100%|██████████| 25/25 [00:00<00:00, 94.20batch/s]\n"
          ]
        },
        {
          "name": "stdout",
          "output_type": "stream",
          "text": [
            "  * Average training loss: 1.00\n",
            "  * Training epoch took: 0:00:00\n",
            "Running Validation...\n",
            "  * Accuracy: 0.58\n",
            "  * Averaged validation loss: 0.94\n",
            "  * F1 score: 0.39\n",
            "  * Validation took: 0:00:00\n",
            "PREVIOUS BEST EVAL:0.5379464285714286\n",
            "dir exists\n"
          ]
        },
        {
          "name": "stderr",
          "output_type": "stream",
          "text": [
            "Training (epoch 9): 100%|██████████| 25/25 [00:00<00:00, 120.72batch/s]\n"
          ]
        },
        {
          "name": "stdout",
          "output_type": "stream",
          "text": [
            "  * Average training loss: 0.98\n",
            "  * Training epoch took: 0:00:00\n",
            "Running Validation...\n",
            "  * Accuracy: 0.59\n",
            "  * Averaged validation loss: 0.94\n",
            "  * F1 score: 0.41\n",
            "  * Validation took: 0:00:00\n",
            "PREVIOUS BEST EVAL:0.5825892857142857\n",
            "dir exists\n"
          ]
        },
        {
          "name": "stderr",
          "output_type": "stream",
          "text": [
            "Training (epoch 10): 100%|██████████| 25/25 [00:00<00:00, 112.38batch/s]\n",
            "/usr/local/lib/python3.7/dist-packages/sklearn/metrics/_classification.py:1318: UndefinedMetricWarning: Recall is ill-defined and being set to 0.0 in labels with no true samples. Use `zero_division` parameter to control this behavior.\n",
            "  _warn_prf(average, modifier, msg_start, len(result))\n"
          ]
        },
        {
          "name": "stdout",
          "output_type": "stream",
          "text": [
            "  * Average training loss: 0.97\n",
            "  * Training epoch took: 0:00:00\n",
            "Running Validation...\n",
            "  * Accuracy: 0.58\n",
            "  * Averaged validation loss: 0.93\n",
            "  * F1 score: 0.38\n",
            "  * Validation took: 0:00:00\n",
            "PREVIOUS BEST EVAL:0.59375\n"
          ]
        },
        {
          "name": "stderr",
          "output_type": "stream",
          "text": [
            "Training (epoch 11): 100%|██████████| 25/25 [00:00<00:00, 115.84batch/s]\n",
            "/usr/local/lib/python3.7/dist-packages/sklearn/metrics/_classification.py:1318: UndefinedMetricWarning: Recall is ill-defined and being set to 0.0 in labels with no true samples. Use `zero_division` parameter to control this behavior.\n",
            "  _warn_prf(average, modifier, msg_start, len(result))\n"
          ]
        },
        {
          "name": "stdout",
          "output_type": "stream",
          "text": [
            "  * Average training loss: 0.98\n",
            "  * Training epoch took: 0:00:00\n",
            "Running Validation...\n",
            "  * Accuracy: 0.59\n",
            "  * Averaged validation loss: 0.93\n",
            "  * F1 score: 0.39\n",
            "  * Validation took: 0:00:00\n",
            "PREVIOUS BEST EVAL:0.59375\n",
            "dir exists\n"
          ]
        },
        {
          "name": "stderr",
          "output_type": "stream",
          "text": [
            "Training (epoch 12): 100%|██████████| 25/25 [00:00<00:00, 116.50batch/s]\n"
          ]
        },
        {
          "name": "stdout",
          "output_type": "stream",
          "text": [
            "  * Average training loss: 0.96\n",
            "  * Training epoch took: 0:00:00\n",
            "Running Validation...\n",
            "  * Accuracy: 0.59\n",
            "  * Averaged validation loss: 0.94\n",
            "  * F1 score: 0.40\n",
            "  * Validation took: 0:00:00\n",
            "PREVIOUS BEST EVAL:0.59375\n",
            "dir exists\n"
          ]
        },
        {
          "name": "stderr",
          "output_type": "stream",
          "text": [
            "Training (epoch 13): 100%|██████████| 25/25 [00:00<00:00, 99.91batch/s] \n"
          ]
        },
        {
          "name": "stdout",
          "output_type": "stream",
          "text": [
            "  * Average training loss: 0.95\n",
            "  * Training epoch took: 0:00:00\n",
            "Running Validation...\n",
            "  * Accuracy: 0.60\n",
            "  * Averaged validation loss: 0.93\n",
            "  * F1 score: 0.44\n",
            "  * Validation took: 0:00:00\n",
            "PREVIOUS BEST EVAL:0.59375\n",
            "dir exists\n"
          ]
        },
        {
          "name": "stderr",
          "output_type": "stream",
          "text": [
            "Training (epoch 14): 100%|██████████| 25/25 [00:00<00:00, 105.37batch/s]\n"
          ]
        },
        {
          "name": "stdout",
          "output_type": "stream",
          "text": [
            "  * Average training loss: 0.99\n",
            "  * Training epoch took: 0:00:00\n",
            "Running Validation...\n",
            "  * Accuracy: 0.46\n",
            "  * Averaged validation loss: 0.94\n",
            "  * F1 score: 0.40\n",
            "  * Validation took: 0:00:00\n",
            "PREVIOUS BEST EVAL:0.6026785714285714\n"
          ]
        },
        {
          "name": "stderr",
          "output_type": "stream",
          "text": [
            "Training (epoch 15): 100%|██████████| 25/25 [00:00<00:00, 94.76batch/s]\n"
          ]
        },
        {
          "name": "stdout",
          "output_type": "stream",
          "text": [
            "  * Average training loss: 0.98\n",
            "  * Training epoch took: 0:00:00\n",
            "Running Validation...\n",
            "  * Accuracy: 0.59\n",
            "  * Averaged validation loss: 0.94\n",
            "  * F1 score: 0.40\n",
            "  * Validation took: 0:00:00\n",
            "PREVIOUS BEST EVAL:0.6026785714285714\n"
          ]
        },
        {
          "name": "stderr",
          "output_type": "stream",
          "text": [
            "Training (epoch 16): 100%|██████████| 25/25 [00:00<00:00, 109.29batch/s]\n"
          ]
        },
        {
          "name": "stdout",
          "output_type": "stream",
          "text": [
            "  * Average training loss: 0.95\n",
            "  * Training epoch took: 0:00:00\n",
            "Running Validation...\n",
            "  * Accuracy: 0.45\n",
            "  * Averaged validation loss: 0.95\n",
            "  * F1 score: 0.39\n",
            "  * Validation took: 0:00:00\n",
            "PREVIOUS BEST EVAL:0.6026785714285714\n"
          ]
        },
        {
          "name": "stderr",
          "output_type": "stream",
          "text": [
            "Training (epoch 17): 100%|██████████| 25/25 [00:00<00:00, 117.80batch/s]\n",
            "/usr/local/lib/python3.7/dist-packages/sklearn/metrics/_classification.py:1318: UndefinedMetricWarning: Recall is ill-defined and being set to 0.0 in labels with no true samples. Use `zero_division` parameter to control this behavior.\n",
            "  _warn_prf(average, modifier, msg_start, len(result))\n"
          ]
        },
        {
          "name": "stdout",
          "output_type": "stream",
          "text": [
            "  * Average training loss: 0.98\n",
            "  * Training epoch took: 0:00:00\n",
            "Running Validation...\n",
            "  * Accuracy: 0.46\n",
            "  * Averaged validation loss: 0.95\n",
            "  * F1 score: 0.40\n",
            "  * Validation took: 0:00:00\n",
            "PREVIOUS BEST EVAL:0.6026785714285714\n"
          ]
        },
        {
          "name": "stderr",
          "output_type": "stream",
          "text": [
            "Training (epoch 18): 100%|██████████| 25/25 [00:00<00:00, 122.04batch/s]\n"
          ]
        },
        {
          "name": "stdout",
          "output_type": "stream",
          "text": [
            "  * Average training loss: 0.94\n",
            "  * Training epoch took: 0:00:00\n",
            "Running Validation...\n",
            "  * Accuracy: 0.46\n",
            "  * Averaged validation loss: 0.96\n",
            "  * F1 score: 0.43\n",
            "  * Validation took: 0:00:00\n",
            "PREVIOUS BEST EVAL:0.6026785714285714\n"
          ]
        },
        {
          "name": "stderr",
          "output_type": "stream",
          "text": [
            "Training (epoch 19): 100%|██████████| 25/25 [00:00<00:00, 128.19batch/s]\n"
          ]
        },
        {
          "name": "stdout",
          "output_type": "stream",
          "text": [
            "  * Average training loss: 0.99\n",
            "  * Training epoch took: 0:00:00\n",
            "Running Validation...\n",
            "  * Accuracy: 0.46\n",
            "  * Averaged validation loss: 0.95\n",
            "  * F1 score: 0.41\n",
            "  * Validation took: 0:00:00\n",
            "PREVIOUS BEST EVAL:0.6026785714285714\n"
          ]
        },
        {
          "name": "stderr",
          "output_type": "stream",
          "text": [
            "Training (epoch 20): 100%|██████████| 25/25 [00:00<00:00, 123.46batch/s]\n"
          ]
        },
        {
          "name": "stdout",
          "output_type": "stream",
          "text": [
            "  * Average training loss: 0.98\n",
            "  * Training epoch took: 0:00:00\n",
            "Running Validation...\n",
            "  * Accuracy: 0.46\n",
            "  * Averaged validation loss: 0.97\n",
            "  * F1 score: 0.44\n",
            "  * Validation took: 0:00:00\n",
            "PREVIOUS BEST EVAL:0.6026785714285714\n"
          ]
        },
        {
          "name": "stderr",
          "output_type": "stream",
          "text": [
            "Training (epoch 21): 100%|██████████| 25/25 [00:00<00:00, 111.01batch/s]\n"
          ]
        },
        {
          "name": "stdout",
          "output_type": "stream",
          "text": [
            "  * Average training loss: 0.94\n",
            "  * Training epoch took: 0:00:00\n",
            "Running Validation...\n",
            "  * Accuracy: 0.48\n",
            "  * Averaged validation loss: 0.96\n",
            "  * F1 score: 0.46\n",
            "  * Validation took: 0:00:00\n",
            "PREVIOUS BEST EVAL:0.6026785714285714\n"
          ]
        },
        {
          "name": "stderr",
          "output_type": "stream",
          "text": [
            "Training (epoch 22): 100%|██████████| 25/25 [00:00<00:00, 121.27batch/s]\n"
          ]
        },
        {
          "name": "stdout",
          "output_type": "stream",
          "text": [
            "  * Average training loss: 0.98\n",
            "  * Training epoch took: 0:00:00\n",
            "Running Validation...\n",
            "  * Accuracy: 0.46\n",
            "  * Averaged validation loss: 0.98\n",
            "  * F1 score: 0.40\n",
            "  * Validation took: 0:00:00\n",
            "PREVIOUS BEST EVAL:0.6026785714285714\n"
          ]
        },
        {
          "name": "stderr",
          "output_type": "stream",
          "text": [
            "Training (epoch 23): 100%|██████████| 25/25 [00:00<00:00, 115.24batch/s]\n",
            "/usr/local/lib/python3.7/dist-packages/sklearn/metrics/_classification.py:1318: UndefinedMetricWarning: Recall is ill-defined and being set to 0.0 in labels with no true samples. Use `zero_division` parameter to control this behavior.\n",
            "  _warn_prf(average, modifier, msg_start, len(result))\n"
          ]
        },
        {
          "name": "stdout",
          "output_type": "stream",
          "text": [
            "  * Average training loss: 0.94\n",
            "  * Training epoch took: 0:00:00\n",
            "Running Validation...\n",
            "  * Accuracy: 0.45\n",
            "  * Averaged validation loss: 0.98\n",
            "  * F1 score: 0.39\n",
            "  * Validation took: 0:00:00\n",
            "PREVIOUS BEST EVAL:0.6026785714285714\n"
          ]
        },
        {
          "name": "stderr",
          "output_type": "stream",
          "text": [
            "Training (epoch 24): 100%|██████████| 25/25 [00:00<00:00, 117.59batch/s]\n"
          ]
        },
        {
          "name": "stdout",
          "output_type": "stream",
          "text": [
            "  * Average training loss: 0.98\n",
            "  * Training epoch took: 0:00:00\n",
            "Running Validation...\n",
            "  * Accuracy: 0.48\n",
            "  * Averaged validation loss: 0.97\n",
            "  * F1 score: 0.45\n",
            "  * Validation took: 0:00:00\n",
            "PREVIOUS BEST EVAL:0.6026785714285714\n"
          ]
        },
        {
          "name": "stderr",
          "output_type": "stream",
          "text": [
            "Training (epoch 25): 100%|██████████| 25/25 [00:00<00:00, 130.91batch/s]\n"
          ]
        },
        {
          "name": "stdout",
          "output_type": "stream",
          "text": [
            "  * Average training loss: 0.94\n",
            "  * Training epoch took: 0:00:00\n",
            "Running Validation...\n",
            "  * Accuracy: 0.45\n",
            "  * Averaged validation loss: 0.99\n",
            "  * F1 score: 0.38\n",
            "  * Validation took: 0:00:00\n",
            "PREVIOUS BEST EVAL:0.6026785714285714\n"
          ]
        },
        {
          "name": "stderr",
          "output_type": "stream",
          "text": [
            "Training (epoch 26): 100%|██████████| 25/25 [00:00<00:00, 127.56batch/s]\n",
            "/usr/local/lib/python3.7/dist-packages/sklearn/metrics/_classification.py:1318: UndefinedMetricWarning: Recall is ill-defined and being set to 0.0 in labels with no true samples. Use `zero_division` parameter to control this behavior.\n",
            "  _warn_prf(average, modifier, msg_start, len(result))\n"
          ]
        },
        {
          "name": "stdout",
          "output_type": "stream",
          "text": [
            "  * Average training loss: 0.93\n",
            "  * Training epoch took: 0:00:00\n",
            "Running Validation...\n",
            "  * Accuracy: 0.47\n",
            "  * Averaged validation loss: 0.97\n",
            "  * F1 score: 0.41\n",
            "  * Validation took: 0:00:00\n",
            "PREVIOUS BEST EVAL:0.6026785714285714\n"
          ]
        },
        {
          "name": "stderr",
          "output_type": "stream",
          "text": [
            "Training (epoch 27): 100%|██████████| 25/25 [00:00<00:00, 116.24batch/s]\n",
            "/usr/local/lib/python3.7/dist-packages/sklearn/metrics/_classification.py:1318: UndefinedMetricWarning: Recall is ill-defined and being set to 0.0 in labels with no true samples. Use `zero_division` parameter to control this behavior.\n",
            "  _warn_prf(average, modifier, msg_start, len(result))\n"
          ]
        },
        {
          "name": "stdout",
          "output_type": "stream",
          "text": [
            "  * Average training loss: 0.96\n",
            "  * Training epoch took: 0:00:00\n",
            "Running Validation...\n",
            "  * Accuracy: 0.47\n",
            "  * Averaged validation loss: 0.97\n",
            "  * F1 score: 0.41\n",
            "  * Validation took: 0:00:00\n",
            "PREVIOUS BEST EVAL:0.6026785714285714\n"
          ]
        },
        {
          "name": "stderr",
          "output_type": "stream",
          "text": [
            "Training (epoch 28): 100%|██████████| 25/25 [00:00<00:00, 85.62batch/s]\n"
          ]
        },
        {
          "name": "stdout",
          "output_type": "stream",
          "text": [
            "  * Average training loss: 0.97\n",
            "  * Training epoch took: 0:00:00\n",
            "Running Validation...\n",
            "  * Accuracy: 0.48\n",
            "  * Averaged validation loss: 0.98\n",
            "  * F1 score: 0.47\n",
            "  * Validation took: 0:00:00\n",
            "PREVIOUS BEST EVAL:0.6026785714285714\n"
          ]
        },
        {
          "name": "stderr",
          "output_type": "stream",
          "text": [
            "Training (epoch 29): 100%|██████████| 25/25 [00:00<00:00, 107.92batch/s]\n",
            "/usr/local/lib/python3.7/dist-packages/sklearn/metrics/_classification.py:1318: UndefinedMetricWarning: Recall is ill-defined and being set to 0.0 in labels with no true samples. Use `zero_division` parameter to control this behavior.\n",
            "  _warn_prf(average, modifier, msg_start, len(result))\n"
          ]
        },
        {
          "name": "stdout",
          "output_type": "stream",
          "text": [
            "  * Average training loss: 0.91\n",
            "  * Training epoch took: 0:00:00\n",
            "Running Validation...\n",
            "  * Accuracy: 0.46\n",
            "  * Averaged validation loss: 0.99\n",
            "  * F1 score: 0.39\n",
            "  * Validation took: 0:00:00\n",
            "PREVIOUS BEST EVAL:0.6026785714285714\n"
          ]
        },
        {
          "name": "stderr",
          "output_type": "stream",
          "text": [
            "Training (epoch 30): 100%|██████████| 25/25 [00:00<00:00, 104.96batch/s]\n",
            "/usr/local/lib/python3.7/dist-packages/sklearn/metrics/_classification.py:1318: UndefinedMetricWarning: Recall is ill-defined and being set to 0.0 in labels with no true samples. Use `zero_division` parameter to control this behavior.\n",
            "  _warn_prf(average, modifier, msg_start, len(result))\n"
          ]
        },
        {
          "name": "stdout",
          "output_type": "stream",
          "text": [
            "  * Average training loss: 0.94\n",
            "  * Training epoch took: 0:00:00\n",
            "Running Validation...\n",
            "  * Accuracy: 0.47\n",
            "  * Averaged validation loss: 0.97\n",
            "  * F1 score: 0.41\n",
            "  * Validation took: 0:00:00\n",
            "PREVIOUS BEST EVAL:0.6026785714285714\n"
          ]
        },
        {
          "name": "stderr",
          "output_type": "stream",
          "text": [
            "Training (epoch 31): 100%|██████████| 25/25 [00:00<00:00, 115.87batch/s]\n"
          ]
        },
        {
          "name": "stdout",
          "output_type": "stream",
          "text": [
            "  * Average training loss: 0.94\n",
            "  * Training epoch took: 0:00:00\n",
            "Running Validation...\n",
            "  * Accuracy: 0.48\n",
            "  * Averaged validation loss: 0.98\n",
            "  * F1 score: 0.44\n",
            "  * Validation took: 0:00:00\n",
            "PREVIOUS BEST EVAL:0.6026785714285714\n"
          ]
        },
        {
          "name": "stderr",
          "output_type": "stream",
          "text": [
            "Training (epoch 32): 100%|██████████| 25/25 [00:00<00:00, 95.06batch/s]\n"
          ]
        },
        {
          "name": "stdout",
          "output_type": "stream",
          "text": [
            "  * Average training loss: 0.94\n",
            "  * Training epoch took: 0:00:00\n",
            "Running Validation...\n",
            "  * Accuracy: 0.45\n",
            "  * Averaged validation loss: 0.98\n",
            "  * F1 score: 0.39\n",
            "  * Validation took: 0:00:00\n",
            "PREVIOUS BEST EVAL:0.6026785714285714\n"
          ]
        },
        {
          "name": "stderr",
          "output_type": "stream",
          "text": [
            "Training (epoch 33): 100%|██████████| 25/25 [00:00<00:00, 102.71batch/s]\n",
            "/usr/local/lib/python3.7/dist-packages/sklearn/metrics/_classification.py:1318: UndefinedMetricWarning: Recall is ill-defined and being set to 0.0 in labels with no true samples. Use `zero_division` parameter to control this behavior.\n",
            "  _warn_prf(average, modifier, msg_start, len(result))\n"
          ]
        },
        {
          "name": "stdout",
          "output_type": "stream",
          "text": [
            "  * Average training loss: 0.96\n",
            "  * Training epoch took: 0:00:00\n",
            "Running Validation...\n",
            "  * Accuracy: 0.45\n",
            "  * Averaged validation loss: 0.99\n",
            "  * F1 score: 0.38\n",
            "  * Validation took: 0:00:00\n",
            "PREVIOUS BEST EVAL:0.6026785714285714\n"
          ]
        },
        {
          "name": "stderr",
          "output_type": "stream",
          "text": [
            "Training (epoch 34): 100%|██████████| 25/25 [00:00<00:00, 122.57batch/s]\n"
          ]
        },
        {
          "name": "stdout",
          "output_type": "stream",
          "text": [
            "  * Average training loss: 0.92\n",
            "  * Training epoch took: 0:00:00\n",
            "Running Validation...\n",
            "  * Accuracy: 0.47\n",
            "  * Averaged validation loss: 0.99\n",
            "  * F1 score: 0.41\n",
            "  * Validation took: 0:00:00\n",
            "PREVIOUS BEST EVAL:0.6026785714285714\n"
          ]
        },
        {
          "name": "stderr",
          "output_type": "stream",
          "text": [
            "Training (epoch 35): 100%|██████████| 25/25 [00:00<00:00, 125.64batch/s]\n"
          ]
        },
        {
          "name": "stdout",
          "output_type": "stream",
          "text": [
            "  * Average training loss: 0.93\n",
            "  * Training epoch took: 0:00:00\n",
            "Running Validation...\n",
            "  * Accuracy: 0.48\n",
            "  * Averaged validation loss: 0.99\n",
            "  * F1 score: 0.43\n",
            "  * Validation took: 0:00:00\n",
            "PREVIOUS BEST EVAL:0.6026785714285714\n"
          ]
        },
        {
          "name": "stderr",
          "output_type": "stream",
          "text": [
            "Training (epoch 36): 100%|██████████| 25/25 [00:00<00:00, 98.75batch/s] \n"
          ]
        },
        {
          "name": "stdout",
          "output_type": "stream",
          "text": [
            "  * Average training loss: 0.95\n",
            "  * Training epoch took: 0:00:00\n",
            "Running Validation...\n",
            "  * Accuracy: 0.45\n",
            "  * Averaged validation loss: 0.99\n",
            "  * F1 score: 0.40\n",
            "  * Validation took: 0:00:00\n",
            "PREVIOUS BEST EVAL:0.6026785714285714\n"
          ]
        },
        {
          "name": "stderr",
          "output_type": "stream",
          "text": [
            "Training (epoch 37): 100%|██████████| 25/25 [00:00<00:00, 80.75batch/s]\n"
          ]
        },
        {
          "name": "stdout",
          "output_type": "stream",
          "text": [
            "  * Average training loss: 0.94\n",
            "  * Training epoch took: 0:00:00\n",
            "Running Validation...\n",
            "  * Accuracy: 0.48\n",
            "  * Averaged validation loss: 0.99\n",
            "  * F1 score: 0.47\n",
            "  * Validation took: 0:00:00\n",
            "PREVIOUS BEST EVAL:0.6026785714285714\n"
          ]
        },
        {
          "name": "stderr",
          "output_type": "stream",
          "text": [
            "Training (epoch 38): 100%|██████████| 25/25 [00:00<00:00, 115.93batch/s]\n"
          ]
        },
        {
          "name": "stdout",
          "output_type": "stream",
          "text": [
            "  * Average training loss: 0.92\n",
            "  * Training epoch took: 0:00:00\n",
            "Running Validation...\n",
            "  * Accuracy: 0.46\n",
            "  * Averaged validation loss: 0.98\n",
            "  * F1 score: 0.40\n",
            "  * Validation took: 0:00:00\n",
            "PREVIOUS BEST EVAL:0.6026785714285714\n"
          ]
        },
        {
          "name": "stderr",
          "output_type": "stream",
          "text": [
            "Training (epoch 39): 100%|██████████| 25/25 [00:00<00:00, 103.79batch/s]\n"
          ]
        },
        {
          "name": "stdout",
          "output_type": "stream",
          "text": [
            "  * Average training loss: 0.93\n",
            "  * Training epoch took: 0:00:00\n",
            "Running Validation...\n",
            "  * Accuracy: 0.46\n",
            "  * Averaged validation loss: 0.99\n",
            "  * F1 score: 0.40\n",
            "  * Validation took: 0:00:00\n",
            "PREVIOUS BEST EVAL:0.6026785714285714\n"
          ]
        },
        {
          "name": "stderr",
          "output_type": "stream",
          "text": [
            "Training (epoch 40): 100%|██████████| 25/25 [00:00<00:00, 131.68batch/s]\n"
          ]
        },
        {
          "name": "stdout",
          "output_type": "stream",
          "text": [
            "  * Average training loss: 0.92\n",
            "  * Training epoch took: 0:00:00\n",
            "Running Validation...\n",
            "  * Accuracy: 0.48\n",
            "  * Averaged validation loss: 0.98\n",
            "  * F1 score: 0.45\n",
            "  * Validation took: 0:00:00\n",
            "PREVIOUS BEST EVAL:0.6026785714285714\n"
          ]
        },
        {
          "name": "stderr",
          "output_type": "stream",
          "text": [
            "Training (epoch 41): 100%|██████████| 25/25 [00:00<00:00, 108.25batch/s]\n"
          ]
        },
        {
          "name": "stdout",
          "output_type": "stream",
          "text": [
            "  * Average training loss: 0.94\n",
            "  * Training epoch took: 0:00:00\n",
            "Running Validation...\n",
            "  * Accuracy: 0.45\n",
            "  * Averaged validation loss: 1.00\n",
            "  * F1 score: 0.40\n",
            "  * Validation took: 0:00:00\n",
            "PREVIOUS BEST EVAL:0.6026785714285714\n"
          ]
        },
        {
          "name": "stderr",
          "output_type": "stream",
          "text": [
            "Training (epoch 42): 100%|██████████| 25/25 [00:00<00:00, 113.62batch/s]\n"
          ]
        },
        {
          "name": "stdout",
          "output_type": "stream",
          "text": [
            "  * Average training loss: 0.92\n",
            "  * Training epoch took: 0:00:00\n",
            "Running Validation...\n",
            "  * Accuracy: 0.48\n",
            "  * Averaged validation loss: 0.98\n",
            "  * F1 score: 0.43\n",
            "  * Validation took: 0:00:00\n",
            "PREVIOUS BEST EVAL:0.6026785714285714\n"
          ]
        },
        {
          "name": "stderr",
          "output_type": "stream",
          "text": [
            "Training (epoch 43): 100%|██████████| 25/25 [00:00<00:00, 122.50batch/s]\n"
          ]
        },
        {
          "name": "stdout",
          "output_type": "stream",
          "text": [
            "  * Average training loss: 0.98\n",
            "  * Training epoch took: 0:00:00\n",
            "Running Validation...\n",
            "  * Accuracy: 0.47\n",
            "  * Averaged validation loss: 0.98\n",
            "  * F1 score: 0.43\n",
            "  * Validation took: 0:00:00\n",
            "PREVIOUS BEST EVAL:0.6026785714285714\n"
          ]
        },
        {
          "name": "stderr",
          "output_type": "stream",
          "text": [
            "Training (epoch 44): 100%|██████████| 25/25 [00:00<00:00, 131.06batch/s]\n"
          ]
        },
        {
          "name": "stdout",
          "output_type": "stream",
          "text": [
            "  * Average training loss: 0.95\n",
            "  * Training epoch took: 0:00:00\n",
            "Running Validation...\n",
            "  * Accuracy: 0.48\n",
            "  * Averaged validation loss: 0.98\n",
            "  * F1 score: 0.46\n",
            "  * Validation took: 0:00:00\n",
            "PREVIOUS BEST EVAL:0.6026785714285714\n"
          ]
        },
        {
          "name": "stderr",
          "output_type": "stream",
          "text": [
            "Training (epoch 45): 100%|██████████| 25/25 [00:00<00:00, 124.11batch/s]\n"
          ]
        },
        {
          "name": "stdout",
          "output_type": "stream",
          "text": [
            "  * Average training loss: 0.91\n",
            "  * Training epoch took: 0:00:00\n",
            "Running Validation...\n",
            "  * Accuracy: 0.47\n",
            "  * Averaged validation loss: 0.99\n",
            "  * F1 score: 0.43\n",
            "  * Validation took: 0:00:00\n",
            "PREVIOUS BEST EVAL:0.6026785714285714\n"
          ]
        },
        {
          "name": "stderr",
          "output_type": "stream",
          "text": [
            "Training (epoch 46): 100%|██████████| 25/25 [00:00<00:00, 105.84batch/s]\n"
          ]
        },
        {
          "name": "stdout",
          "output_type": "stream",
          "text": [
            "  * Average training loss: 0.91\n",
            "  * Training epoch took: 0:00:00\n",
            "Running Validation...\n",
            "  * Accuracy: 0.47\n",
            "  * Averaged validation loss: 0.99\n",
            "  * F1 score: 0.43\n",
            "  * Validation took: 0:00:00\n",
            "PREVIOUS BEST EVAL:0.6026785714285714\n"
          ]
        },
        {
          "name": "stderr",
          "output_type": "stream",
          "text": [
            "Training (epoch 47): 100%|██████████| 25/25 [00:00<00:00, 125.42batch/s]\n"
          ]
        },
        {
          "name": "stdout",
          "output_type": "stream",
          "text": [
            "  * Average training loss: 0.95\n",
            "  * Training epoch took: 0:00:00\n",
            "Running Validation...\n",
            "  * Accuracy: 0.48\n",
            "  * Averaged validation loss: 0.99\n",
            "  * F1 score: 0.46\n",
            "  * Validation took: 0:00:00\n",
            "PREVIOUS BEST EVAL:0.6026785714285714\n"
          ]
        },
        {
          "name": "stderr",
          "output_type": "stream",
          "text": [
            "Training (epoch 48): 100%|██████████| 25/25 [00:00<00:00, 106.32batch/s]\n"
          ]
        },
        {
          "name": "stdout",
          "output_type": "stream",
          "text": [
            "  * Average training loss: 0.94\n",
            "  * Training epoch took: 0:00:00\n",
            "Running Validation...\n",
            "  * Accuracy: 0.47\n",
            "  * Averaged validation loss: 0.98\n",
            "  * F1 score: 0.41\n",
            "  * Validation took: 0:00:00\n",
            "PREVIOUS BEST EVAL:0.6026785714285714\n"
          ]
        },
        {
          "name": "stderr",
          "output_type": "stream",
          "text": [
            "Training (epoch 49): 100%|██████████| 25/25 [00:00<00:00, 169.89batch/s]\n"
          ]
        },
        {
          "name": "stdout",
          "output_type": "stream",
          "text": [
            "  * Average training loss: 0.91\n",
            "  * Training epoch took: 0:00:00\n",
            "Running Validation...\n",
            "  * Accuracy: 0.48\n",
            "  * Averaged validation loss: 0.98\n",
            "  * F1 score: 0.43\n",
            "  * Validation took: 0:00:00\n",
            "PREVIOUS BEST EVAL:0.6026785714285714\n"
          ]
        },
        {
          "name": "stderr",
          "output_type": "stream",
          "text": [
            "Training (epoch 50): 100%|██████████| 25/25 [00:00<00:00, 166.03batch/s]\n"
          ]
        },
        {
          "name": "stdout",
          "output_type": "stream",
          "text": [
            "  * Average training loss: 0.92\n",
            "  * Training epoch took: 0:00:00\n",
            "Running Validation...\n",
            "  * Accuracy: 0.46\n",
            "  * Averaged validation loss: 0.99\n",
            "  * F1 score: 0.41\n",
            "  * Validation took: 0:00:00\n",
            "PREVIOUS BEST EVAL:0.6026785714285714\n"
          ]
        },
        {
          "name": "stderr",
          "output_type": "stream",
          "text": [
            "Training (epoch 51): 100%|██████████| 25/25 [00:00<00:00, 170.19batch/s]\n"
          ]
        },
        {
          "name": "stdout",
          "output_type": "stream",
          "text": [
            "  * Average training loss: 0.92\n",
            "  * Training epoch took: 0:00:00\n",
            "Running Validation...\n",
            "  * Accuracy: 0.48\n",
            "  * Averaged validation loss: 0.98\n",
            "  * F1 score: 0.45\n",
            "  * Validation took: 0:00:00\n",
            "PREVIOUS BEST EVAL:0.6026785714285714\n"
          ]
        },
        {
          "name": "stderr",
          "output_type": "stream",
          "text": [
            "Training (epoch 52): 100%|██████████| 25/25 [00:00<00:00, 164.56batch/s]\n"
          ]
        },
        {
          "name": "stdout",
          "output_type": "stream",
          "text": [
            "  * Average training loss: 0.93\n",
            "  * Training epoch took: 0:00:00\n",
            "Running Validation...\n",
            "  * Accuracy: 0.48\n",
            "  * Averaged validation loss: 0.98\n",
            "  * F1 score: 0.45\n",
            "  * Validation took: 0:00:00\n",
            "PREVIOUS BEST EVAL:0.6026785714285714\n"
          ]
        },
        {
          "name": "stderr",
          "output_type": "stream",
          "text": [
            "Training (epoch 53): 100%|██████████| 25/25 [00:00<00:00, 162.85batch/s]\n"
          ]
        },
        {
          "name": "stdout",
          "output_type": "stream",
          "text": [
            "  * Average training loss: 0.94\n",
            "  * Training epoch took: 0:00:00\n",
            "Running Validation...\n",
            "  * Accuracy: 0.47\n",
            "  * Averaged validation loss: 0.99\n",
            "  * F1 score: 0.47\n",
            "  * Validation took: 0:00:00\n",
            "PREVIOUS BEST EVAL:0.6026785714285714\n"
          ]
        },
        {
          "name": "stderr",
          "output_type": "stream",
          "text": [
            "Training (epoch 54): 100%|██████████| 25/25 [00:00<00:00, 167.86batch/s]\n"
          ]
        },
        {
          "name": "stdout",
          "output_type": "stream",
          "text": [
            "  * Average training loss: 0.90\n",
            "  * Training epoch took: 0:00:00\n",
            "Running Validation...\n",
            "  * Accuracy: 0.48\n",
            "  * Averaged validation loss: 0.98\n",
            "  * F1 score: 0.46\n",
            "  * Validation took: 0:00:00\n",
            "PREVIOUS BEST EVAL:0.6026785714285714\n"
          ]
        },
        {
          "name": "stderr",
          "output_type": "stream",
          "text": [
            "Training (epoch 55): 100%|██████████| 25/25 [00:00<00:00, 168.92batch/s]\n"
          ]
        },
        {
          "name": "stdout",
          "output_type": "stream",
          "text": [
            "  * Average training loss: 0.91\n",
            "  * Training epoch took: 0:00:00\n",
            "Running Validation...\n",
            "  * Accuracy: 0.48\n",
            "  * Averaged validation loss: 0.98\n",
            "  * F1 score: 0.45\n",
            "  * Validation took: 0:00:00\n",
            "PREVIOUS BEST EVAL:0.6026785714285714\n"
          ]
        },
        {
          "name": "stderr",
          "output_type": "stream",
          "text": [
            "Training (epoch 56): 100%|██████████| 25/25 [00:00<00:00, 165.65batch/s]\n"
          ]
        },
        {
          "name": "stdout",
          "output_type": "stream",
          "text": [
            "  * Average training loss: 0.94\n",
            "  * Training epoch took: 0:00:00\n",
            "Running Validation...\n",
            "  * Accuracy: 0.48\n",
            "  * Averaged validation loss: 0.98\n",
            "  * F1 score: 0.45\n",
            "  * Validation took: 0:00:00\n",
            "PREVIOUS BEST EVAL:0.6026785714285714\n"
          ]
        },
        {
          "name": "stderr",
          "output_type": "stream",
          "text": [
            "Training (epoch 57): 100%|██████████| 25/25 [00:00<00:00, 164.82batch/s]\n"
          ]
        },
        {
          "name": "stdout",
          "output_type": "stream",
          "text": [
            "  * Average training loss: 0.92\n",
            "  * Training epoch took: 0:00:00\n",
            "Running Validation...\n",
            "  * Accuracy: 0.49\n",
            "  * Averaged validation loss: 0.98\n",
            "  * F1 score: 0.44\n",
            "  * Validation took: 0:00:00\n",
            "PREVIOUS BEST EVAL:0.6026785714285714\n"
          ]
        },
        {
          "name": "stderr",
          "output_type": "stream",
          "text": [
            "Training (epoch 58): 100%|██████████| 25/25 [00:00<00:00, 164.30batch/s]\n"
          ]
        },
        {
          "name": "stdout",
          "output_type": "stream",
          "text": [
            "  * Average training loss: 0.95\n",
            "  * Training epoch took: 0:00:00\n",
            "Running Validation...\n",
            "  * Accuracy: 0.49\n",
            "  * Averaged validation loss: 0.98\n",
            "  * F1 score: 0.48\n",
            "  * Validation took: 0:00:00\n",
            "PREVIOUS BEST EVAL:0.6026785714285714\n"
          ]
        },
        {
          "name": "stderr",
          "output_type": "stream",
          "text": [
            "Training (epoch 59): 100%|██████████| 25/25 [00:00<00:00, 166.14batch/s]\n"
          ]
        },
        {
          "name": "stdout",
          "output_type": "stream",
          "text": [
            "  * Average training loss: 0.92\n",
            "  * Training epoch took: 0:00:00\n",
            "Running Validation...\n",
            "  * Accuracy: 0.49\n",
            "  * Averaged validation loss: 0.99\n",
            "  * F1 score: 0.46\n",
            "  * Validation took: 0:00:00\n",
            "PREVIOUS BEST EVAL:0.6026785714285714\n"
          ]
        },
        {
          "name": "stderr",
          "output_type": "stream",
          "text": [
            "Training (epoch 60): 100%|██████████| 25/25 [00:00<00:00, 166.91batch/s]\n"
          ]
        },
        {
          "name": "stdout",
          "output_type": "stream",
          "text": [
            "  * Average training loss: 0.89\n",
            "  * Training epoch took: 0:00:00\n",
            "Running Validation...\n",
            "  * Accuracy: 0.49\n",
            "  * Averaged validation loss: 0.98\n",
            "  * F1 score: 0.46\n",
            "  * Validation took: 0:00:00\n",
            "PREVIOUS BEST EVAL:0.6026785714285714\n"
          ]
        },
        {
          "name": "stderr",
          "output_type": "stream",
          "text": [
            "Training (epoch 61): 100%|██████████| 25/25 [00:00<00:00, 165.19batch/s]\n"
          ]
        },
        {
          "name": "stdout",
          "output_type": "stream",
          "text": [
            "  * Average training loss: 0.95\n",
            "  * Training epoch took: 0:00:00\n",
            "Running Validation...\n",
            "  * Accuracy: 0.48\n",
            "  * Averaged validation loss: 0.97\n",
            "  * F1 score: 0.46\n",
            "  * Validation took: 0:00:00\n",
            "PREVIOUS BEST EVAL:0.6026785714285714\n"
          ]
        },
        {
          "name": "stderr",
          "output_type": "stream",
          "text": [
            "Training (epoch 62): 100%|██████████| 25/25 [00:00<00:00, 166.07batch/s]\n"
          ]
        },
        {
          "name": "stdout",
          "output_type": "stream",
          "text": [
            "  * Average training loss: 0.91\n",
            "  * Training epoch took: 0:00:00\n",
            "Running Validation...\n",
            "  * Accuracy: 0.49\n",
            "  * Averaged validation loss: 0.98\n",
            "  * F1 score: 0.48\n",
            "  * Validation took: 0:00:00\n",
            "PREVIOUS BEST EVAL:0.6026785714285714\n"
          ]
        },
        {
          "name": "stderr",
          "output_type": "stream",
          "text": [
            "Training (epoch 63): 100%|██████████| 25/25 [00:00<00:00, 160.03batch/s]\n"
          ]
        },
        {
          "name": "stdout",
          "output_type": "stream",
          "text": [
            "  * Average training loss: 0.91\n",
            "  * Training epoch took: 0:00:00\n",
            "Running Validation...\n",
            "  * Accuracy: 0.48\n",
            "  * Averaged validation loss: 0.98\n",
            "  * F1 score: 0.44\n",
            "  * Validation took: 0:00:00\n",
            "PREVIOUS BEST EVAL:0.6026785714285714\n"
          ]
        },
        {
          "name": "stderr",
          "output_type": "stream",
          "text": [
            "Training (epoch 64): 100%|██████████| 25/25 [00:00<00:00, 164.59batch/s]\n"
          ]
        },
        {
          "name": "stdout",
          "output_type": "stream",
          "text": [
            "  * Average training loss: 0.95\n",
            "  * Training epoch took: 0:00:00\n",
            "Running Validation...\n",
            "  * Accuracy: 0.48\n",
            "  * Averaged validation loss: 0.98\n",
            "  * F1 score: 0.45\n",
            "  * Validation took: 0:00:00\n",
            "PREVIOUS BEST EVAL:0.6026785714285714\n",
            "Validation accuracy has not improved in 50 epochs, stopping early\n",
            "Obtained highest validation accuracy of: 0.6026785714285714\n"
          ]
        }
      ],
      "source": [
        "# About 2-3 seconds per epoch using GPU\n",
        "model_eval = train_model(\n",
        "    model  = model,\n",
        "    epochs = 100,\n",
        "    train_dataloader = mlp_train_dataloader,\n",
        "    validation_dataloader = mlp_validation_dataloader,\n",
        "    early_stopping_patience = 50 \n",
        ")"
      ]
    },
    {
      "cell_type": "code",
      "execution_count": null,
      "metadata": {
        "id": "_AACUU1cjhPp"
      },
      "outputs": [],
      "source": [
        "import json\n",
        "with open('MLP_epoch100_lr2e-5_wd01.json', 'w') as f:\n",
        "  json.dump(model_eval, f)"
      ]
    },
    {
      "cell_type": "code",
      "execution_count": null,
      "metadata": {
        "colab": {
          "base_uri": "https://localhost:8080/"
        },
        "id": "8CYALXjB-Kan",
        "outputId": "10e67127-fa62-4f4b-9ff8-449c56bfd3b7"
      },
      "outputs": [
        {
          "name": "stdout",
          "output_type": "stream",
          "text": [
            "dir exists\n"
          ]
        }
      ],
      "source": [
        "try:\n",
        "  os.makedirs(\"./weights/\")\n",
        "except:\n",
        "  print(\"dir exists\")\n",
        "\n",
        "#model.save_pretrained(\"./weights/curr\")"
      ]
    },
    {
      "cell_type": "code",
      "execution_count": null,
      "metadata": {
        "id": "j-zghlV928l8"
      },
      "outputs": [],
      "source": [
        "%matplotlib inline\n",
        "import matplotlib.pyplot as plt\n",
        "import seaborn as sns\n",
        "\n",
        "def plot_loss_and_acc(loss_vals, eval_accs):\n",
        "    sns.set(style='darkgrid')\n",
        "    sns.set(font_scale=1.5)\n",
        "    plt.rcParams[\"figure.figsize\"] = (12,6)\n",
        "    fig, ax1 = plt.subplots(1,1)\n",
        "    ax1.plot(loss_vals, 'b-o', label = 'training loss')\n",
        "    ax2 = ax1.twinx()\n",
        "    ax2.plot(eval_accs, 'y-o', label = 'validation accuracy')\n",
        "    ax2.set_title(\"Training loss and validation accuracy\")\n",
        "    ax2.set_xlabel(\"Epoch\")\n",
        "    ax1.set_ylabel(\"Loss\", color='b')\n",
        "    ax2.set_ylabel(\"Accuracy\", color='y')\n",
        "    ax1.tick_params(axis='y', rotation=0, labelcolor='b' )\n",
        "    ax2.tick_params(axis='y', rotation=0, labelcolor='y' )\n",
        "    plt.show()\n",
        "\n",
        "def plot_loss(train_loss, valid_loss):\n",
        "    # Use plot styling from seaborn.\n",
        "    sns.set(style='darkgrid')\n",
        "    sns.set(font_scale=1.5)\n",
        "    plt.rcParams[\"figure.figsize\"] = (12,6)\n",
        "    plt.plot(train_loss, 'b-o', label=\"Training\")\n",
        "    plt.plot(valid_loss, 'g-o', label=\"Validation\")\n",
        "    plt.title(\"Training & Validation Loss\")\n",
        "    plt.xlabel(\"Epoch\")\n",
        "    plt.ylabel(\"Loss\")\n",
        "    plt.legend()\n",
        "    plt.show()\n",
        "\n",
        "def plot_acc_and_f1(eval_accs, f1):\n",
        "    sns.set(style='darkgrid')\n",
        "    sns.set(font_scale=1.5)\n",
        "    plt.rcParams[\"figure.figsize\"] = (12,6)\n",
        "    fig, ax1 = plt.subplots(1,1)\n",
        "    ax1.plot(f1, 'g-o', label = 'training loss')\n",
        "    ax2 = ax1.twinx()\n",
        "    ax2.plot(eval_accs, 'k-o', label = 'validation accuracy')\n",
        "    ax2.set_title(\"F1 score and Validation accuracy\")\n",
        "    ax2.set_xlabel(\"Epoch\")\n",
        "    ax1.set_ylabel(\"F1 score\", color='g')\n",
        "    ax2.set_ylabel(\"Accuracy\", color='k')\n",
        "    ax1.tick_params(axis='y', rotation=0, labelcolor='g' )\n",
        "    ax2.tick_params(axis='y', rotation=0, labelcolor='k' )\n",
        "    plt.show()\n"
      ]
    },
    {
      "cell_type": "code",
      "execution_count": null,
      "metadata": {
        "colab": {
          "base_uri": "https://localhost:8080/",
          "height": 405
        },
        "id": "vSZOHRrb28l8",
        "outputId": "7ef23632-41a1-44b8-f266-cc269d4a8d7e"
      },
      "outputs": [
        {
          "data": {
            "image/png": "[encoded data removed]",
            "text/plain": [
              "<Figure size 864x432 with 2 Axes>"
            ]
          },
          "metadata": {},
          "output_type": "display_data"
        }
      ],
      "source": [
        "plot_loss_and_acc(model_eval[\"train_loss\"], model_eval[\"valid_accs\"])"
      ]
    },
    {
      "cell_type": "code",
      "execution_count": null,
      "metadata": {
        "colab": {
          "base_uri": "https://localhost:8080/",
          "height": 427
        },
        "id": "uH9jruByECWM",
        "outputId": "2733a179-9851-4397-ac81-1c23d87ae981"
      },
      "outputs": [
        {
          "data": {
            "image/png": "[encoded data removed]",
            "text/plain": [
              "<Figure size 864x432 with 1 Axes>"
            ]
          },
          "metadata": {},
          "output_type": "display_data"
        }
      ],
      "source": [
        "plot_loss(model_eval[\"train_loss\"], model_eval[\"valid_loss\"])"
      ]
    },
    {
      "cell_type": "code",
      "execution_count": null,
      "metadata": {
        "colab": {
          "base_uri": "https://localhost:8080/",
          "height": 405
        },
        "id": "C1sp5dv1EEOg",
        "outputId": "f7f80fd5-b8d4-4e03-b198-cf4ce8b01476"
      },
      "outputs": [
        {
          "data": {
            "image/png": "[encoded data removed]",
            "text/plain": [
              "<Figure size 864x432 with 2 Axes>"
            ]
          },
          "metadata": {},
          "output_type": "display_data"
        }
      ],
      "source": [
        "plot_acc_and_f1(model_eval[\"valid_accs\"], model_eval[\"f1\"])"
      ]
    },
    {
      "cell_type": "code",
      "execution_count": null,
      "metadata": {
        "id": "dliLwY3L28l9"
      },
      "outputs": [],
      "source": [
        "def predict(inputs, tokenizer, model):\n",
        "  with torch.no_grad():\n",
        "    max_len = max([len(tokenizer(datapoint)['input_ids']) for datapoint in inputs])\n",
        "    tokenized_inputs = tokenizer(\n",
        "      inputs.tolist(),          # Input text\n",
        "      add_special_tokens=True,  # add '[CLS]' and '[SEP]'\n",
        "      padding='max_length',     # pad to a length specified by the max_length\n",
        "      max_length=max_len,       # truncate all sentences longer than max_length\n",
        "      return_tensors='pt',      # return everything we need as PyTorch tensors\n",
        "    )\n",
        "    output = model(input_ids = tokenized_inputs['input_ids'])\n",
        "    output = nn.functional.softmax(output[0]).detach().numpy()\n",
        "    output = output.argmax(axis = 1)\n",
        "  return output\n"
      ]
    }
  ],
  "metadata": {
    "accelerator": "GPU",
    "colab": {
      "collapsed_sections": [],
      "machine_shape": "hm",
      "name": "413_project_Control.ipynb",
      "provenance": []
    },
    "kernelspec": {
      "display_name": "Python 3",
      "name": "python3"
    },
    "language_info": {
      "name": "python"
    }
  },
  "nbformat": 4,
  "nbformat_minor": 0
}
